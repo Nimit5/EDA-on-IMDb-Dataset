{
 "cells": [
  {
   "cell_type": "code",
   "execution_count": null,
   "metadata": {
    "id": "5_zzU2qebjtU"
   },
   "outputs": [],
   "source": [
    "import pandas as pd\n",
    "import numpy as np\n",
    "import matplotlib.pyplot as plt\n",
    "import seaborn as sns\n",
    "import warnings\n",
    "warnings.filterwarnings(\"ignore\")"
   ]
  },
  {
   "cell_type": "code",
   "execution_count": null,
   "metadata": {
    "id": "PsTG5yNpV8Kb"
   },
   "outputs": [],
   "source": [
    "df_India_Budget=pd.read_csv(\"Dataset/India_Budget_Dataset.csv\")"
   ]
  },
  {
   "cell_type": "code",
   "execution_count": null,
   "metadata": {
    "colab": {
     "base_uri": "https://localhost:8080/",
     "height": 1000
    },
    "executionInfo": {
     "elapsed": 39,
     "status": "ok",
     "timestamp": 1636980637008,
     "user": {
      "displayName": "dm project",
      "photoUrl": "https://lh3.googleusercontent.com/a/default-user=s64",
      "userId": "10716541108022634460"
     },
     "user_tz": -330
    },
    "id": "aveiqhmVWTSf",
    "outputId": "ca77961e-772b-46dd-c1c4-f0e6075aa8c2"
   },
   "outputs": [
    {
     "data": {
      "text/html": [
       "<div>\n",
       "<style scoped>\n",
       "    .dataframe tbody tr th:only-of-type {\n",
       "        vertical-align: middle;\n",
       "    }\n",
       "\n",
       "    .dataframe tbody tr th {\n",
       "        vertical-align: top;\n",
       "    }\n",
       "\n",
       "    .dataframe thead th {\n",
       "        text-align: right;\n",
       "    }\n",
       "</style>\n",
       "<table border=\"1\" class=\"dataframe\">\n",
       "  <thead>\n",
       "    <tr style=\"text-align: right;\">\n",
       "      <th></th>\n",
       "      <th>Unnamed: 0</th>\n",
       "      <th>tconst</th>\n",
       "      <th>language</th>\n",
       "      <th>originalTitle</th>\n",
       "      <th>isAdult</th>\n",
       "      <th>startYear</th>\n",
       "      <th>runtimeMinutes</th>\n",
       "      <th>genres_x</th>\n",
       "      <th>averageRating</th>\n",
       "      <th>numVotes</th>\n",
       "      <th>directors</th>\n",
       "      <th>writers</th>\n",
       "      <th>Actors</th>\n",
       "      <th>Actress</th>\n",
       "      <th>Director</th>\n",
       "      <th>adult</th>\n",
       "      <th>belongs_to_collection</th>\n",
       "      <th>budget</th>\n",
       "      <th>overview</th>\n",
       "      <th>popularity</th>\n",
       "      <th>production_companies</th>\n",
       "      <th>release_date</th>\n",
       "      <th>revenue</th>\n",
       "      <th>spoken_languages</th>\n",
       "      <th>status</th>\n",
       "      <th>tagline</th>\n",
       "    </tr>\n",
       "  </thead>\n",
       "  <tbody>\n",
       "    <tr>\n",
       "      <th>0</th>\n",
       "      <td>0</td>\n",
       "      <td>tt0004972</td>\n",
       "      <td>en</td>\n",
       "      <td>The Birth of a Nation</td>\n",
       "      <td>0</td>\n",
       "      <td>1915</td>\n",
       "      <td>195</td>\n",
       "      <td>Drama,History,War</td>\n",
       "      <td>6.2</td>\n",
       "      <td>23962</td>\n",
       "      <td>nm0000428</td>\n",
       "      <td>nm0228746,nm0000428,nm0940488</td>\n",
       "      <td>['Henry B. Walthall']</td>\n",
       "      <td>['Miriam Cooper', 'Lillian Gish', 'Mae Marsh']</td>\n",
       "      <td>['D.W. Griffith']</td>\n",
       "      <td>False</td>\n",
       "      <td>NaN</td>\n",
       "      <td>100000</td>\n",
       "      <td>The Birth of A Nation is a silent film from 19...</td>\n",
       "      <td>5.113205</td>\n",
       "      <td>[{'name': 'Epoch Film Co.', 'id': 351}]</td>\n",
       "      <td>1915-02-08</td>\n",
       "      <td>11000000.0</td>\n",
       "      <td>[{'iso_639_1': 'xx', 'name': 'No Language'}]</td>\n",
       "      <td>Released</td>\n",
       "      <td>The fiery cross of the Ku Klux Klan.</td>\n",
       "    </tr>\n",
       "    <tr>\n",
       "      <th>1</th>\n",
       "      <td>1</td>\n",
       "      <td>tt0011960</td>\n",
       "      <td>en</td>\n",
       "      <td>Die Bergkatze</td>\n",
       "      <td>0</td>\n",
       "      <td>1921</td>\n",
       "      <td>79</td>\n",
       "      <td>Comedy,Drama,Romance</td>\n",
       "      <td>6.9</td>\n",
       "      <td>1157</td>\n",
       "      <td>nm0523932</td>\n",
       "      <td>nm0473134,nm0523932</td>\n",
       "      <td>['Hermann Thimig', 'Paul Heidemann', 'Victor J...</td>\n",
       "      <td>['Marga Köhler', 'Edith Meller', 'Pola Negri']</td>\n",
       "      <td>['Ernst Lubitsch']</td>\n",
       "      <td>False</td>\n",
       "      <td>NaN</td>\n",
       "      <td>0</td>\n",
       "      <td>A charismatic lieutenant newly assigned to a r...</td>\n",
       "      <td>0.732999</td>\n",
       "      <td>[{'name': 'Projektions-AG Union (PAGU)', 'id':...</td>\n",
       "      <td>1921-04-14</td>\n",
       "      <td>0.0</td>\n",
       "      <td>[{'iso_639_1': 'xx', 'name': 'No Language'}]</td>\n",
       "      <td>Released</td>\n",
       "      <td>NaN</td>\n",
       "    </tr>\n",
       "    <tr>\n",
       "      <th>2</th>\n",
       "      <td>2</td>\n",
       "      <td>tt0013688</td>\n",
       "      <td>en</td>\n",
       "      <td>The Toll of the Sea</td>\n",
       "      <td>0</td>\n",
       "      <td>1922</td>\n",
       "      <td>54</td>\n",
       "      <td>Drama,Family,Fantasy</td>\n",
       "      <td>6.6</td>\n",
       "      <td>727</td>\n",
       "      <td>nm0291387</td>\n",
       "      <td>nm0547966</td>\n",
       "      <td>['Kenneth Harlan']</td>\n",
       "      <td>['Beatrice Bentley', 'Etta Lee', 'Priscilla Mo...</td>\n",
       "      <td>['Chester M. Franklin']</td>\n",
       "      <td>False</td>\n",
       "      <td>NaN</td>\n",
       "      <td>0</td>\n",
       "      <td>When young Lotus Flower sees an unconscious ma...</td>\n",
       "      <td>0.994973</td>\n",
       "      <td>[{'name': 'Metro Pictures Corporation', 'id': ...</td>\n",
       "      <td>1922-11-26</td>\n",
       "      <td>0.0</td>\n",
       "      <td>[{'iso_639_1': 'en', 'name': 'English'}]</td>\n",
       "      <td>Released</td>\n",
       "      <td>NaN</td>\n",
       "    </tr>\n",
       "    <tr>\n",
       "      <th>3</th>\n",
       "      <td>3</td>\n",
       "      <td>tt0014142</td>\n",
       "      <td>hi</td>\n",
       "      <td>The Hunchback of Notre Dame</td>\n",
       "      <td>0</td>\n",
       "      <td>1923</td>\n",
       "      <td>133</td>\n",
       "      <td>Drama,Horror,Romance</td>\n",
       "      <td>7.2</td>\n",
       "      <td>5262</td>\n",
       "      <td>nm0941637</td>\n",
       "      <td>nm0401076,nm0790622,nm0522871,nm0730929</td>\n",
       "      <td>['Norman Kerry', 'Lon Chaney']</td>\n",
       "      <td>['Kate Lester', 'Patsy Ruth Miller']</td>\n",
       "      <td>['Wallace Worsley']</td>\n",
       "      <td>False</td>\n",
       "      <td>NaN</td>\n",
       "      <td>0</td>\n",
       "      <td>Hunchback's story revolves around a beautiful ...</td>\n",
       "      <td>1.469045</td>\n",
       "      <td>[{'name': 'Universal Pictures', 'id': 33}]</td>\n",
       "      <td>1923-09-06</td>\n",
       "      <td>0.0</td>\n",
       "      <td>[]</td>\n",
       "      <td>Released</td>\n",
       "      <td>NaN</td>\n",
       "    </tr>\n",
       "    <tr>\n",
       "      <th>4</th>\n",
       "      <td>4</td>\n",
       "      <td>tt0015016</td>\n",
       "      <td>en</td>\n",
       "      <td>The Iron Horse</td>\n",
       "      <td>0</td>\n",
       "      <td>1924</td>\n",
       "      <td>150</td>\n",
       "      <td>History,Romance,Western</td>\n",
       "      <td>7.2</td>\n",
       "      <td>2131</td>\n",
       "      <td>nm0000406</td>\n",
       "      <td>nm0448981,nm0751246,nm0201544</td>\n",
       "      <td>[\"George O'Brien\", 'Cyril Chadwick', 'Charles ...</td>\n",
       "      <td>['Madge Bellamy']</td>\n",
       "      <td>['John Ford']</td>\n",
       "      <td>False</td>\n",
       "      <td>NaN</td>\n",
       "      <td>0</td>\n",
       "      <td>Springfield, Illinois. Brandon, a surveyor, dr...</td>\n",
       "      <td>0.990037</td>\n",
       "      <td>[{'name': 'Fox Film Corporation', 'id': 5488}]</td>\n",
       "      <td>1924-08-24</td>\n",
       "      <td>0.0</td>\n",
       "      <td>[{'iso_639_1': 'en', 'name': 'English'}]</td>\n",
       "      <td>Released</td>\n",
       "      <td>NaN</td>\n",
       "    </tr>\n",
       "    <tr>\n",
       "      <th>...</th>\n",
       "      <td>...</td>\n",
       "      <td>...</td>\n",
       "      <td>...</td>\n",
       "      <td>...</td>\n",
       "      <td>...</td>\n",
       "      <td>...</td>\n",
       "      <td>...</td>\n",
       "      <td>...</td>\n",
       "      <td>...</td>\n",
       "      <td>...</td>\n",
       "      <td>...</td>\n",
       "      <td>...</td>\n",
       "      <td>...</td>\n",
       "      <td>...</td>\n",
       "      <td>...</td>\n",
       "      <td>...</td>\n",
       "      <td>...</td>\n",
       "      <td>...</td>\n",
       "      <td>...</td>\n",
       "      <td>...</td>\n",
       "      <td>...</td>\n",
       "      <td>...</td>\n",
       "      <td>...</td>\n",
       "      <td>...</td>\n",
       "      <td>...</td>\n",
       "      <td>...</td>\n",
       "    </tr>\n",
       "    <tr>\n",
       "      <th>9794</th>\n",
       "      <td>9794</td>\n",
       "      <td>tt6399158</td>\n",
       "      <td>en</td>\n",
       "      <td>Jojakdoen dosi</td>\n",
       "      <td>0</td>\n",
       "      <td>2017</td>\n",
       "      <td>126</td>\n",
       "      <td>Action,Crime,Thriller</td>\n",
       "      <td>6.9</td>\n",
       "      <td>4941</td>\n",
       "      <td>nm2019556</td>\n",
       "      <td>nm5371819</td>\n",
       "      <td>['Ji Chang-Wook', 'Woo Hyeon', 'Jae-hong Ahn',...</td>\n",
       "      <td>['Shim Eun-kyung', 'Lee Hanee', 'Min-Jung Bae']</td>\n",
       "      <td>['Kwang-Hyun Park']</td>\n",
       "      <td>False</td>\n",
       "      <td>NaN</td>\n",
       "      <td>0</td>\n",
       "      <td>In real life, Kwon Yoo is unemployed, but in t...</td>\n",
       "      <td>2.358168</td>\n",
       "      <td>[{'name': 'TPS Company', 'id': 92805}]</td>\n",
       "      <td>2017-02-09</td>\n",
       "      <td>0.0</td>\n",
       "      <td>[{'iso_639_1': 'ko', 'name': '한국어/조선말'}]</td>\n",
       "      <td>Released</td>\n",
       "      <td>NaN</td>\n",
       "    </tr>\n",
       "    <tr>\n",
       "      <th>9795</th>\n",
       "      <td>9795</td>\n",
       "      <td>tt6574146</td>\n",
       "      <td>en</td>\n",
       "      <td>Blame!</td>\n",
       "      <td>0</td>\n",
       "      <td>2017</td>\n",
       "      <td>106</td>\n",
       "      <td>Action,Animation,Drama</td>\n",
       "      <td>6.7</td>\n",
       "      <td>7663</td>\n",
       "      <td>nm2670218</td>\n",
       "      <td>nm0613444,nm4963204</td>\n",
       "      <td>['Mamoru Miyano', 'Takahiro Sakurai']</td>\n",
       "      <td>['Kana Hanazawa', 'Sora Amamiya']</td>\n",
       "      <td>['Hiroyuki Seshita']</td>\n",
       "      <td>False</td>\n",
       "      <td>NaN</td>\n",
       "      <td>0</td>\n",
       "      <td>In the distant technological future, civilizat...</td>\n",
       "      <td>3.455833</td>\n",
       "      <td>[{'name': 'Polygon Pictures', 'id': 20024}]</td>\n",
       "      <td>2017-05-20</td>\n",
       "      <td>0.0</td>\n",
       "      <td>[{'iso_639_1': 'ja', 'name': '日本語'}]</td>\n",
       "      <td>Released</td>\n",
       "      <td>NaN</td>\n",
       "    </tr>\n",
       "    <tr>\n",
       "      <th>9796</th>\n",
       "      <td>9796</td>\n",
       "      <td>tt6690310</td>\n",
       "      <td>hi</td>\n",
       "      <td>Fei fan ren wu</td>\n",
       "      <td>0</td>\n",
       "      <td>2017</td>\n",
       "      <td>117</td>\n",
       "      <td>Action,Crime</td>\n",
       "      <td>6.2</td>\n",
       "      <td>769</td>\n",
       "      <td>nm0538320,nm1573851</td>\n",
       "      <td>nm0159039</td>\n",
       "      <td>['Xuan Huang', 'Yihong Duan', 'Yanhui Wang']</td>\n",
       "      <td>['Yueting Lang']</td>\n",
       "      <td>['Anthony Pun', 'Alan Mak']</td>\n",
       "      <td>False</td>\n",
       "      <td>NaN</td>\n",
       "      <td>0</td>\n",
       "      <td>‘Extraordinary Mission’ is a new Chinese actio...</td>\n",
       "      <td>2.552316</td>\n",
       "      <td>[{'name': 'Pop Movies', 'id': 5690}, {'name': ...</td>\n",
       "      <td>2017-03-31</td>\n",
       "      <td>0.0</td>\n",
       "      <td>[{'iso_639_1': 'cn', 'name': '广州话 / 廣州話'}, {'i...</td>\n",
       "      <td>Released</td>\n",
       "      <td>NaN</td>\n",
       "    </tr>\n",
       "    <tr>\n",
       "      <th>9797</th>\n",
       "      <td>9797</td>\n",
       "      <td>tt6712026</td>\n",
       "      <td>en</td>\n",
       "      <td>Kavan</td>\n",
       "      <td>0</td>\n",
       "      <td>2017</td>\n",
       "      <td>150</td>\n",
       "      <td>Action,Drama,Thriller</td>\n",
       "      <td>7.1</td>\n",
       "      <td>2275</td>\n",
       "      <td>nm0433895</td>\n",
       "      <td>nm0433895,nm9509969,nm9198373</td>\n",
       "      <td>['Vijay Sethupathi', 'Thesingu Rajendar', 'Bos...</td>\n",
       "      <td>['Madonna Sebastian']</td>\n",
       "      <td>['K.V. Anand']</td>\n",
       "      <td>False</td>\n",
       "      <td>NaN</td>\n",
       "      <td>0</td>\n",
       "      <td>A budding journalist passionate about ethical,...</td>\n",
       "      <td>1.262638</td>\n",
       "      <td>[{'name': 'AGS Entertainment', 'id': 5907}]</td>\n",
       "      <td>2017-03-31</td>\n",
       "      <td>0.0</td>\n",
       "      <td>[{'iso_639_1': 'ta', 'name': 'தமிழ்'}]</td>\n",
       "      <td>Released</td>\n",
       "      <td>NaN</td>\n",
       "    </tr>\n",
       "    <tr>\n",
       "      <th>9798</th>\n",
       "      <td>9798</td>\n",
       "      <td>tt6830780</td>\n",
       "      <td>en</td>\n",
       "      <td>Loosideu deurim</td>\n",
       "      <td>0</td>\n",
       "      <td>2017</td>\n",
       "      <td>101</td>\n",
       "      <td>Sci-Fi,Thriller</td>\n",
       "      <td>6.2</td>\n",
       "      <td>3405</td>\n",
       "      <td>nm8953987</td>\n",
       "      <td>nm8953987</td>\n",
       "      <td>['Yu Chun Park', 'In-hwan Park', 'Go Soo', 'Ho...</td>\n",
       "      <td>['Kang Hye-jeong']</td>\n",
       "      <td>['Joon-Sung Kim']</td>\n",
       "      <td>False</td>\n",
       "      <td>NaN</td>\n",
       "      <td>5000000</td>\n",
       "      <td>Dae-ho, an investigative journalist, seeks to ...</td>\n",
       "      <td>1.748838</td>\n",
       "      <td>[{'name': '(주)로드픽쳐스', 'id': 87426}]</td>\n",
       "      <td>2017-02-22</td>\n",
       "      <td>0.0</td>\n",
       "      <td>[{'iso_639_1': 'ko', 'name': '한국어/조선말'}]</td>\n",
       "      <td>Released</td>\n",
       "      <td>NaN</td>\n",
       "    </tr>\n",
       "  </tbody>\n",
       "</table>\n",
       "<p>9799 rows × 26 columns</p>\n",
       "</div>"
      ],
      "text/plain": [
       "      Unnamed: 0     tconst  ...    status                               tagline\n",
       "0              0  tt0004972  ...  Released  The fiery cross of the Ku Klux Klan.\n",
       "1              1  tt0011960  ...  Released                                   NaN\n",
       "2              2  tt0013688  ...  Released                                   NaN\n",
       "3              3  tt0014142  ...  Released                                   NaN\n",
       "4              4  tt0015016  ...  Released                                   NaN\n",
       "...          ...        ...  ...       ...                                   ...\n",
       "9794        9794  tt6399158  ...  Released                                   NaN\n",
       "9795        9795  tt6574146  ...  Released                                   NaN\n",
       "9796        9796  tt6690310  ...  Released                                   NaN\n",
       "9797        9797  tt6712026  ...  Released                                   NaN\n",
       "9798        9798  tt6830780  ...  Released                                   NaN\n",
       "\n",
       "[9799 rows x 26 columns]"
      ]
     },
     "execution_count": 567,
     "metadata": {},
     "output_type": "execute_result"
    }
   ],
   "source": [
    "df_India_Budget"
   ]
  },
  {
   "cell_type": "code",
   "execution_count": null,
   "metadata": {
    "colab": {
     "base_uri": "https://localhost:8080/"
    },
    "executionInfo": {
     "elapsed": 38,
     "status": "ok",
     "timestamp": 1636980637009,
     "user": {
      "displayName": "dm project",
      "photoUrl": "https://lh3.googleusercontent.com/a/default-user=s64",
      "userId": "10716541108022634460"
     },
     "user_tz": -330
    },
    "id": "z2zwVhUzWXHz",
    "outputId": "f223b7b2-4682-4657-c302-a86d071fa30b"
   },
   "outputs": [
    {
     "data": {
      "text/plain": [
       "Index(['Unnamed: 0', 'tconst', 'language', 'originalTitle', 'isAdult',\n",
       "       'startYear', 'runtimeMinutes', 'genres_x', 'averageRating', 'numVotes',\n",
       "       'directors', 'writers', 'Actors', 'Actress', 'Director', 'adult',\n",
       "       'belongs_to_collection', 'budget', 'overview', 'popularity',\n",
       "       'production_companies', 'release_date', 'revenue', 'spoken_languages',\n",
       "       'status', 'tagline'],\n",
       "      dtype='object')"
      ]
     },
     "execution_count": 568,
     "metadata": {},
     "output_type": "execute_result"
    }
   ],
   "source": [
    "df_India_Budget.columns"
   ]
  },
  {
   "cell_type": "code",
   "execution_count": null,
   "metadata": {
    "id": "YgVkLT9cWHfo"
   },
   "outputs": [],
   "source": [
    "df_India_Budget=df_India_Budget[['language','originalTitle','isAdult','startYear', 'runtimeMinutes','Actors', 'Actress', 'Director', 'genres_x', 'averageRating', 'numVotes','budget', 'popularity','production_companies', 'revenue' ]]"
   ]
  },
  {
   "cell_type": "code",
   "execution_count": null,
   "metadata": {
    "id": "TY8qc2znBNEN"
   },
   "outputs": [],
   "source": [
    "df_India_Budget=df_India_Budget[(df_India_Budget['budget']!=0) & (df_India_Budget['revenue']!=0.0)]"
   ]
  },
  {
   "cell_type": "code",
   "execution_count": null,
   "metadata": {
    "id": "t2QPqq2AY94J"
   },
   "outputs": [],
   "source": [
    "df_India_Budget.reset_index(drop=True,inplace=True)"
   ]
  },
  {
   "cell_type": "code",
   "execution_count": null,
   "metadata": {
    "colab": {
     "base_uri": "https://localhost:8080/"
    },
    "executionInfo": {
     "elapsed": 35,
     "status": "ok",
     "timestamp": 1636980637014,
     "user": {
      "displayName": "dm project",
      "photoUrl": "https://lh3.googleusercontent.com/a/default-user=s64",
      "userId": "10716541108022634460"
     },
     "user_tz": -330
    },
    "id": "T7ti5_3fmnOT",
    "outputId": "d2b12583-5c81-472b-f51e-1b688134cf60"
   },
   "outputs": [
    {
     "data": {
      "text/plain": [
       "(5031, 15)"
      ]
     },
     "execution_count": 572,
     "metadata": {},
     "output_type": "execute_result"
    }
   ],
   "source": [
    "df_India_Budget.shape"
   ]
  },
  {
   "cell_type": "code",
   "execution_count": null,
   "metadata": {
    "colab": {
     "base_uri": "https://localhost:8080/"
    },
    "executionInfo": {
     "elapsed": 33,
     "status": "ok",
     "timestamp": 1636980637015,
     "user": {
      "displayName": "dm project",
      "photoUrl": "https://lh3.googleusercontent.com/a/default-user=s64",
      "userId": "10716541108022634460"
     },
     "user_tz": -330
    },
    "id": "4I24eFJdmxHC",
    "outputId": "28c2e1ca-3748-4ac3-b57b-9944e3e27846"
   },
   "outputs": [
    {
     "name": "stdout",
     "output_type": "stream",
     "text": [
      "<class 'pandas.core.frame.DataFrame'>\n",
      "RangeIndex: 5031 entries, 0 to 5030\n",
      "Data columns (total 15 columns):\n",
      " #   Column                Non-Null Count  Dtype  \n",
      "---  ------                --------------  -----  \n",
      " 0   language              5031 non-null   object \n",
      " 1   originalTitle         5031 non-null   object \n",
      " 2   isAdult               5031 non-null   int64  \n",
      " 3   startYear             5031 non-null   int64  \n",
      " 4   runtimeMinutes        5031 non-null   int64  \n",
      " 5   Actors                5031 non-null   object \n",
      " 6   Actress               5031 non-null   object \n",
      " 7   Director              5031 non-null   object \n",
      " 8   genres_x              5031 non-null   object \n",
      " 9   averageRating         5031 non-null   float64\n",
      " 10  numVotes              5031 non-null   int64  \n",
      " 11  budget                5031 non-null   int64  \n",
      " 12  popularity            5031 non-null   float64\n",
      " 13  production_companies  5031 non-null   object \n",
      " 14  revenue               5031 non-null   float64\n",
      "dtypes: float64(3), int64(5), object(7)\n",
      "memory usage: 589.7+ KB\n"
     ]
    }
   ],
   "source": [
    "df_India_Budget.info()"
   ]
  },
  {
   "cell_type": "code",
   "execution_count": null,
   "metadata": {
    "id": "bng2_9KZxXuX"
   },
   "outputs": [],
   "source": [
    "df_India_Budget['production_companies']=df_India_Budget.production_companies.str.replace('[','')\n",
    "df_India_Budget['production_companies']=df_India_Budget.production_companies.str.replace(']','')"
   ]
  },
  {
   "cell_type": "code",
   "execution_count": null,
   "metadata": {
    "id": "7s1MtCLToqs_"
   },
   "outputs": [],
   "source": [
    "df_India_Budget=df_India_Budget[(df_India_Budget['production_companies']!=\"\")]"
   ]
  },
  {
   "cell_type": "code",
   "execution_count": null,
   "metadata": {
    "id": "pbEh9UmYYvpV"
   },
   "outputs": [],
   "source": [
    "final_list = df_India_Budget['production_companies'].tolist()"
   ]
  },
  {
   "cell_type": "code",
   "execution_count": null,
   "metadata": {
    "colab": {
     "base_uri": "https://localhost:8080/"
    },
    "executionInfo": {
     "elapsed": 32,
     "status": "ok",
     "timestamp": 1636980637020,
     "user": {
      "displayName": "dm project",
      "photoUrl": "https://lh3.googleusercontent.com/a/default-user=s64",
      "userId": "10716541108022634460"
     },
     "user_tz": -330
    },
    "id": "Wl5Ge2O2a6Wh",
    "outputId": "988e483e-097e-45a7-dbd9-12f3402ab6b0"
   },
   "outputs": [
    {
     "data": {
      "text/plain": [
       "(4971, 15)"
      ]
     },
     "execution_count": 577,
     "metadata": {},
     "output_type": "execute_result"
    }
   ],
   "source": [
    "df_India_Budget.shape"
   ]
  },
  {
   "cell_type": "code",
   "execution_count": null,
   "metadata": {
    "id": "I6OgscWHiI7y"
   },
   "outputs": [],
   "source": [
    "final=[]\n",
    "for i in range(len(final_list)):\n",
    "     Dict = eval(final_list[i])\n",
    "     if isinstance(Dict,dict):\n",
    "        final.append(Dict['name'])\n",
    "     else:\n",
    "          X=''\n",
    "          for tup in Dict:\n",
    "              X=X+tup['name']+','\n",
    "          final.append(X)    "
   ]
  },
  {
   "cell_type": "code",
   "execution_count": null,
   "metadata": {
    "id": "ZignyZxJ42m8"
   },
   "outputs": [],
   "source": [
    "for i in range(len(final)):\n",
    "    if(final[i][-1]==','):\n",
    "        temp=final[i][:-1]\n",
    "        final[i]=temp"
   ]
  },
  {
   "cell_type": "code",
   "execution_count": null,
   "metadata": {
    "id": "Hw7y65U_4H0m"
   },
   "outputs": [],
   "source": [
    "df_India_Budget['production_companies']=final"
   ]
  },
  {
   "cell_type": "code",
   "execution_count": null,
   "metadata": {
    "id": "u2eydmr8pOHK"
   },
   "outputs": [],
   "source": [
    "df_India_Budget['Actress']=df_India_Budget['Actress'].str.split(\"[\").str.get(1)\n",
    "df_India_Budget['Actress']=df_India_Budget['Actress'].str.split(\"]\").str.get(0)\n",
    "df_India_Budget['Actress']=df_India_Budget['Actress'].str.replace('\"','')\n",
    "df_India_Budget['Actress']=df_India_Budget['Actress'].str.replace(\"'\",'')"
   ]
  },
  {
   "cell_type": "code",
   "execution_count": null,
   "metadata": {
    "id": "2fHra9ybprLn"
   },
   "outputs": [],
   "source": [
    "df_India_Budget['Actors']=df_India_Budget['Actors'].str.split(\"[\").str.get(1)\n",
    "df_India_Budget['Actors']=df_India_Budget['Actors'].str.split(\"]\").str.get(0)\n",
    "df_India_Budget['Actors']=df_India_Budget['Actors'].str.replace('\"','')\n",
    "df_India_Budget['Actors']=df_India_Budget['Actors'].str.replace(\"'\",'')"
   ]
  },
  {
   "cell_type": "code",
   "execution_count": null,
   "metadata": {
    "id": "VwgR6_oYp536"
   },
   "outputs": [],
   "source": [
    "df_India_Budget['Director']=df_India_Budget['Director'].str.split(\"[\").str.get(1)\n",
    "df_India_Budget['Director']=df_India_Budget['Director'].str.split(\"]\").str.get(0)\n",
    "df_India_Budget['Director']=df_India_Budget['Director'].str.replace('\"','')\n",
    "df_India_Budget['Director']=df_India_Budget['Director'].str.replace(\"'\",'')"
   ]
  },
  {
   "cell_type": "code",
   "execution_count": null,
   "metadata": {
    "id": "oOQ5A3v2qMMX"
   },
   "outputs": [],
   "source": [
    "df_India_Budget.columns=['language', 'Moviename', 'isAdult', 'releaseYear', 'runtimeMinutes',\n",
    "       'Actors', 'Actress', 'Director', 'genres', 'averageRating',\n",
    "       'numVotes', 'budget', 'popularity', 'production_companies', 'revenue']"
   ]
  },
  {
   "cell_type": "code",
   "execution_count": null,
   "metadata": {
    "id": "cZrgmS88okSk"
   },
   "outputs": [],
   "source": [
    "#Converting dollar to million dollar\n",
    "df_India_Budget['budget']=df_India_Budget['budget']/1000000\n",
    "df_India_Budget['revenue']=df_India_Budget['revenue']/1000000"
   ]
  },
  {
   "cell_type": "code",
   "execution_count": null,
   "metadata": {
    "id": "584r6p_OqkVr"
   },
   "outputs": [],
   "source": [
    "df_India_Budget['Profit']=df_India_Budget['revenue']-df_India_Budget['budget']"
   ]
  },
  {
   "cell_type": "code",
   "execution_count": null,
   "metadata": {
    "id": "hOQ7FKgPrEYK"
   },
   "outputs": [],
   "source": [
    "df_India_Budget.language=df_India_Budget.language.replace({'hi':'Hindi','en': 'English','ml':'Malayalam','ta':'Tamil','te':'Telgu',\n",
    "                          'ur':'Urdu','bn':'Bengali','kn':'Kannada','mr':'Marathi','gu':'Gujarati','pa':'Punjabi'})"
   ]
  },
  {
   "cell_type": "markdown",
   "metadata": {
    "id": "0lQ6nzXbs475"
   },
   "source": [
    "top 5 movies with highest budget"
   ]
  },
  {
   "cell_type": "code",
   "execution_count": null,
   "metadata": {
    "colab": {
     "base_uri": "https://localhost:8080/",
     "height": 235
    },
    "executionInfo": {
     "elapsed": 83,
     "status": "ok",
     "timestamp": 1636980638028,
     "user": {
      "displayName": "dm project",
      "photoUrl": "https://lh3.googleusercontent.com/a/default-user=s64",
      "userId": "10716541108022634460"
     },
     "user_tz": -330
    },
    "id": "MfgILkGSrUK0",
    "outputId": "453bc41b-c1e6-40e0-eb07-11d607fd1e7c"
   },
   "outputs": [
    {
     "data": {
      "text/html": [
       "<div>\n",
       "<style scoped>\n",
       "    .dataframe tbody tr th:only-of-type {\n",
       "        vertical-align: middle;\n",
       "    }\n",
       "\n",
       "    .dataframe tbody tr th {\n",
       "        vertical-align: top;\n",
       "    }\n",
       "\n",
       "    .dataframe thead th {\n",
       "        text-align: right;\n",
       "    }\n",
       "</style>\n",
       "<table border=\"1\" class=\"dataframe\">\n",
       "  <thead>\n",
       "    <tr style=\"text-align: right;\">\n",
       "      <th></th>\n",
       "      <th>budget</th>\n",
       "    </tr>\n",
       "    <tr>\n",
       "      <th>Moviename</th>\n",
       "      <th></th>\n",
       "    </tr>\n",
       "  </thead>\n",
       "  <tbody>\n",
       "    <tr>\n",
       "      <th>Pirates of the Caribbean: On Stranger Tides</th>\n",
       "      <td>380.0</td>\n",
       "    </tr>\n",
       "    <tr>\n",
       "      <th>Pirates of the Caribbean: At World's End</th>\n",
       "      <td>300.0</td>\n",
       "    </tr>\n",
       "    <tr>\n",
       "      <th>Superman Returns</th>\n",
       "      <td>270.0</td>\n",
       "    </tr>\n",
       "    <tr>\n",
       "      <th>Tangled</th>\n",
       "      <td>260.0</td>\n",
       "    </tr>\n",
       "    <tr>\n",
       "      <th>Transformers: The Last Knight</th>\n",
       "      <td>260.0</td>\n",
       "    </tr>\n",
       "  </tbody>\n",
       "</table>\n",
       "</div>"
      ],
      "text/plain": [
       "                                             budget\n",
       "Moviename                                          \n",
       "Pirates of the Caribbean: On Stranger Tides   380.0\n",
       "Pirates of the Caribbean: At World's End      300.0\n",
       "Superman Returns                              270.0\n",
       "Tangled                                       260.0\n",
       "Transformers: The Last Knight                 260.0"
      ]
     },
     "execution_count": 588,
     "metadata": {},
     "output_type": "execute_result"
    }
   ],
   "source": [
    "df_India_Budget.groupby('Moviename')[['budget']].mean().sort_values(by='budget',ascending=False).head(5)"
   ]
  },
  {
   "cell_type": "markdown",
   "metadata": {
    "id": "uzQInVIfCw6T"
   },
   "source": [
    "**Pirates of the Caribbean: On Stranger Tides** has the highest budget of **380** million dollar"
   ]
  },
  {
   "cell_type": "markdown",
   "metadata": {
    "id": "FfRGFW1pt6uP"
   },
   "source": [
    "top5 movies with highest revenue"
   ]
  },
  {
   "cell_type": "code",
   "execution_count": null,
   "metadata": {
    "colab": {
     "base_uri": "https://localhost:8080/",
     "height": 235
    },
    "executionInfo": {
     "elapsed": 84,
     "status": "ok",
     "timestamp": 1636980638030,
     "user": {
      "displayName": "dm project",
      "photoUrl": "https://lh3.googleusercontent.com/a/default-user=s64",
      "userId": "10716541108022634460"
     },
     "user_tz": -330
    },
    "id": "rdXgAL7euEBh",
    "outputId": "c2c7a801-b13e-46f2-c348-500bb09f0761"
   },
   "outputs": [
    {
     "data": {
      "text/html": [
       "<div>\n",
       "<style scoped>\n",
       "    .dataframe tbody tr th:only-of-type {\n",
       "        vertical-align: middle;\n",
       "    }\n",
       "\n",
       "    .dataframe tbody tr th {\n",
       "        vertical-align: top;\n",
       "    }\n",
       "\n",
       "    .dataframe thead th {\n",
       "        text-align: right;\n",
       "    }\n",
       "</style>\n",
       "<table border=\"1\" class=\"dataframe\">\n",
       "  <thead>\n",
       "    <tr style=\"text-align: right;\">\n",
       "      <th></th>\n",
       "      <th>revenue</th>\n",
       "    </tr>\n",
       "    <tr>\n",
       "      <th>Moviename</th>\n",
       "      <th></th>\n",
       "    </tr>\n",
       "  </thead>\n",
       "  <tbody>\n",
       "    <tr>\n",
       "      <th>Avatar</th>\n",
       "      <td>2787.965087</td>\n",
       "    </tr>\n",
       "    <tr>\n",
       "      <th>Star Wars: Episode VII - The Force Awakens</th>\n",
       "      <td>2068.223624</td>\n",
       "    </tr>\n",
       "    <tr>\n",
       "      <th>Jurassic World</th>\n",
       "      <td>1513.528810</td>\n",
       "    </tr>\n",
       "    <tr>\n",
       "      <th>Titanic</th>\n",
       "      <td>1477.008350</td>\n",
       "    </tr>\n",
       "    <tr>\n",
       "      <th>Harry Potter and the Deathly Hallows: Part 2</th>\n",
       "      <td>1342.000000</td>\n",
       "    </tr>\n",
       "  </tbody>\n",
       "</table>\n",
       "</div>"
      ],
      "text/plain": [
       "                                                  revenue\n",
       "Moviename                                                \n",
       "Avatar                                        2787.965087\n",
       "Star Wars: Episode VII - The Force Awakens    2068.223624\n",
       "Jurassic World                                1513.528810\n",
       "Titanic                                       1477.008350\n",
       "Harry Potter and the Deathly Hallows: Part 2  1342.000000"
      ]
     },
     "execution_count": 589,
     "metadata": {},
     "output_type": "execute_result"
    }
   ],
   "source": [
    "df_India_Budget.groupby('Moviename')[['revenue']].mean().sort_values(by='revenue',ascending=False).head(5)"
   ]
  },
  {
   "cell_type": "markdown",
   "metadata": {
    "id": "GA7O1wtMDGCs"
   },
   "source": [
    "**Avatar** has the highest revenue of **2787.965087** million dollar"
   ]
  },
  {
   "cell_type": "markdown",
   "metadata": {
    "id": "mwiQ5cwqtDoO"
   },
   "source": [
    "top 5 movies with highest profit"
   ]
  },
  {
   "cell_type": "code",
   "execution_count": null,
   "metadata": {
    "colab": {
     "base_uri": "https://localhost:8080/",
     "height": 235
    },
    "executionInfo": {
     "elapsed": 87,
     "status": "ok",
     "timestamp": 1636980638034,
     "user": {
      "displayName": "dm project",
      "photoUrl": "https://lh3.googleusercontent.com/a/default-user=s64",
      "userId": "10716541108022634460"
     },
     "user_tz": -330
    },
    "id": "W342-gy5tDoP",
    "outputId": "2de813a1-5e62-494a-8eb9-44e6e4d71a40"
   },
   "outputs": [
    {
     "data": {
      "text/html": [
       "<div>\n",
       "<style scoped>\n",
       "    .dataframe tbody tr th:only-of-type {\n",
       "        vertical-align: middle;\n",
       "    }\n",
       "\n",
       "    .dataframe tbody tr th {\n",
       "        vertical-align: top;\n",
       "    }\n",
       "\n",
       "    .dataframe thead th {\n",
       "        text-align: right;\n",
       "    }\n",
       "</style>\n",
       "<table border=\"1\" class=\"dataframe\">\n",
       "  <thead>\n",
       "    <tr style=\"text-align: right;\">\n",
       "      <th></th>\n",
       "      <th>Profit</th>\n",
       "    </tr>\n",
       "    <tr>\n",
       "      <th>Moviename</th>\n",
       "      <th></th>\n",
       "    </tr>\n",
       "  </thead>\n",
       "  <tbody>\n",
       "    <tr>\n",
       "      <th>Avatar</th>\n",
       "      <td>2550.965087</td>\n",
       "    </tr>\n",
       "    <tr>\n",
       "      <th>Star Wars: Episode VII - The Force Awakens</th>\n",
       "      <td>1823.223624</td>\n",
       "    </tr>\n",
       "    <tr>\n",
       "      <th>Jurassic World</th>\n",
       "      <td>1363.528810</td>\n",
       "    </tr>\n",
       "    <tr>\n",
       "      <th>Titanic</th>\n",
       "      <td>1316.647350</td>\n",
       "    </tr>\n",
       "    <tr>\n",
       "      <th>Harry Potter and the Deathly Hallows: Part 2</th>\n",
       "      <td>1217.000000</td>\n",
       "    </tr>\n",
       "  </tbody>\n",
       "</table>\n",
       "</div>"
      ],
      "text/plain": [
       "                                                   Profit\n",
       "Moviename                                                \n",
       "Avatar                                        2550.965087\n",
       "Star Wars: Episode VII - The Force Awakens    1823.223624\n",
       "Jurassic World                                1363.528810\n",
       "Titanic                                       1316.647350\n",
       "Harry Potter and the Deathly Hallows: Part 2  1217.000000"
      ]
     },
     "execution_count": 590,
     "metadata": {},
     "output_type": "execute_result"
    }
   ],
   "source": [
    "df_India_Budget.groupby('Moviename')[['Profit']].mean().sort_values(by='Profit',ascending=False).head(5)"
   ]
  },
  {
   "cell_type": "markdown",
   "metadata": {
    "id": "86kxUKiEDWEt"
   },
   "source": [
    "**Avatar** has the highest profit of **2550.965087** million dollar"
   ]
  },
  {
   "cell_type": "markdown",
   "metadata": {
    "id": "elLMMeDVtfGX"
   },
   "source": [
    "Bottom 5 movies with lowest budget"
   ]
  },
  {
   "cell_type": "code",
   "execution_count": null,
   "metadata": {
    "colab": {
     "base_uri": "https://localhost:8080/",
     "height": 235
    },
    "executionInfo": {
     "elapsed": 87,
     "status": "ok",
     "timestamp": 1636980638035,
     "user": {
      "displayName": "dm project",
      "photoUrl": "https://lh3.googleusercontent.com/a/default-user=s64",
      "userId": "10716541108022634460"
     },
     "user_tz": -330
    },
    "id": "vw4u8Q8-tfGY",
    "outputId": "0b0ab842-ddef-4abc-d95a-20caffea1220"
   },
   "outputs": [
    {
     "data": {
      "text/html": [
       "<div>\n",
       "<style scoped>\n",
       "    .dataframe tbody tr th:only-of-type {\n",
       "        vertical-align: middle;\n",
       "    }\n",
       "\n",
       "    .dataframe tbody tr th {\n",
       "        vertical-align: top;\n",
       "    }\n",
       "\n",
       "    .dataframe thead th {\n",
       "        text-align: right;\n",
       "    }\n",
       "</style>\n",
       "<table border=\"1\" class=\"dataframe\">\n",
       "  <thead>\n",
       "    <tr style=\"text-align: right;\">\n",
       "      <th></th>\n",
       "      <th>budget</th>\n",
       "    </tr>\n",
       "    <tr>\n",
       "      <th>Moviename</th>\n",
       "      <th></th>\n",
       "    </tr>\n",
       "  </thead>\n",
       "  <tbody>\n",
       "    <tr>\n",
       "      <th>Starter for 10</th>\n",
       "      <td>0.000008</td>\n",
       "    </tr>\n",
       "    <tr>\n",
       "      <th>Raja Natwarlal</th>\n",
       "      <td>0.000005</td>\n",
       "    </tr>\n",
       "    <tr>\n",
       "      <th>The Letters</th>\n",
       "      <td>0.000001</td>\n",
       "    </tr>\n",
       "    <tr>\n",
       "      <th>Tere Naam</th>\n",
       "      <td>0.000001</td>\n",
       "    </tr>\n",
       "    <tr>\n",
       "      <th>East of Eden</th>\n",
       "      <td>0.000001</td>\n",
       "    </tr>\n",
       "  </tbody>\n",
       "</table>\n",
       "</div>"
      ],
      "text/plain": [
       "                  budget\n",
       "Moviename               \n",
       "Starter for 10  0.000008\n",
       "Raja Natwarlal  0.000005\n",
       "The Letters     0.000001\n",
       "Tere Naam       0.000001\n",
       "East of Eden    0.000001"
      ]
     },
     "execution_count": 591,
     "metadata": {},
     "output_type": "execute_result"
    }
   ],
   "source": [
    "df_India_Budget.groupby('Moviename')[['budget']].mean().sort_values(by='budget',ascending=False).tail(5)"
   ]
  },
  {
   "cell_type": "markdown",
   "metadata": {
    "id": "pBKf9ntaDkG8"
   },
   "source": [
    "**East of Eden** has the lowest budget of **0.000001** million dollar"
   ]
  },
  {
   "cell_type": "markdown",
   "metadata": {
    "id": "wbBibzzNuWGT"
   },
   "source": [
    "Bottom 5 movies with lowest revenue"
   ]
  },
  {
   "cell_type": "code",
   "execution_count": null,
   "metadata": {
    "colab": {
     "base_uri": "https://localhost:8080/",
     "height": 235
    },
    "executionInfo": {
     "elapsed": 86,
     "status": "ok",
     "timestamp": 1636980638036,
     "user": {
      "displayName": "dm project",
      "photoUrl": "https://lh3.googleusercontent.com/a/default-user=s64",
      "userId": "10716541108022634460"
     },
     "user_tz": -330
    },
    "id": "QCLb32g2uWGU",
    "outputId": "cfd19ab3-fe83-464f-d427-fcf019ac7629"
   },
   "outputs": [
    {
     "data": {
      "text/html": [
       "<div>\n",
       "<style scoped>\n",
       "    .dataframe tbody tr th:only-of-type {\n",
       "        vertical-align: middle;\n",
       "    }\n",
       "\n",
       "    .dataframe tbody tr th {\n",
       "        vertical-align: top;\n",
       "    }\n",
       "\n",
       "    .dataframe thead th {\n",
       "        text-align: right;\n",
       "    }\n",
       "</style>\n",
       "<table border=\"1\" class=\"dataframe\">\n",
       "  <thead>\n",
       "    <tr style=\"text-align: right;\">\n",
       "      <th></th>\n",
       "      <th>revenue</th>\n",
       "    </tr>\n",
       "    <tr>\n",
       "      <th>Moviename</th>\n",
       "      <th></th>\n",
       "    </tr>\n",
       "  </thead>\n",
       "  <tbody>\n",
       "    <tr>\n",
       "      <th>Bodyguard</th>\n",
       "      <td>0.000008</td>\n",
       "    </tr>\n",
       "    <tr>\n",
       "      <th>East of Eden</th>\n",
       "      <td>0.000005</td>\n",
       "    </tr>\n",
       "    <tr>\n",
       "      <th>Raja Natwarlal</th>\n",
       "      <td>0.000004</td>\n",
       "    </tr>\n",
       "    <tr>\n",
       "      <th>Tere Naam</th>\n",
       "      <td>0.000002</td>\n",
       "    </tr>\n",
       "    <tr>\n",
       "      <th>The Letters</th>\n",
       "      <td>0.000001</td>\n",
       "    </tr>\n",
       "  </tbody>\n",
       "</table>\n",
       "</div>"
      ],
      "text/plain": [
       "                 revenue\n",
       "Moviename               \n",
       "Bodyguard       0.000008\n",
       "East of Eden    0.000005\n",
       "Raja Natwarlal  0.000004\n",
       "Tere Naam       0.000002\n",
       "The Letters     0.000001"
      ]
     },
     "execution_count": 592,
     "metadata": {},
     "output_type": "execute_result"
    }
   ],
   "source": [
    "df_India_Budget.groupby('Moviename')[['revenue']].mean().sort_values(by='revenue',ascending=False).tail(5)"
   ]
  },
  {
   "cell_type": "markdown",
   "metadata": {
    "id": "HfKDB7CoD_5y"
   },
   "source": [
    "**The Letters** has the lowest revenue of **0.000001** million dollar"
   ]
  },
  {
   "cell_type": "markdown",
   "metadata": {
    "id": "zEmwNLNktfGZ"
   },
   "source": [
    "Bottom 5 movies with lowest profit"
   ]
  },
  {
   "cell_type": "code",
   "execution_count": null,
   "metadata": {
    "colab": {
     "base_uri": "https://localhost:8080/",
     "height": 235
    },
    "executionInfo": {
     "elapsed": 86,
     "status": "ok",
     "timestamp": 1636980638040,
     "user": {
      "displayName": "dm project",
      "photoUrl": "https://lh3.googleusercontent.com/a/default-user=s64",
      "userId": "10716541108022634460"
     },
     "user_tz": -330
    },
    "id": "7VETlLI8tfGZ",
    "outputId": "a216fe82-0668-4259-e23a-cf7559c9dbc6"
   },
   "outputs": [
    {
     "data": {
      "text/html": [
       "<div>\n",
       "<style scoped>\n",
       "    .dataframe tbody tr th:only-of-type {\n",
       "        vertical-align: middle;\n",
       "    }\n",
       "\n",
       "    .dataframe tbody tr th {\n",
       "        vertical-align: top;\n",
       "    }\n",
       "\n",
       "    .dataframe thead th {\n",
       "        text-align: right;\n",
       "    }\n",
       "</style>\n",
       "<table border=\"1\" class=\"dataframe\">\n",
       "  <thead>\n",
       "    <tr style=\"text-align: right;\">\n",
       "      <th></th>\n",
       "      <th>Profit</th>\n",
       "    </tr>\n",
       "    <tr>\n",
       "      <th>Moviename</th>\n",
       "      <th></th>\n",
       "    </tr>\n",
       "  </thead>\n",
       "  <tbody>\n",
       "    <tr>\n",
       "      <th>Australia</th>\n",
       "      <td>-80.445998</td>\n",
       "    </tr>\n",
       "    <tr>\n",
       "      <th>Flushed Away</th>\n",
       "      <td>-84.540684</td>\n",
       "    </tr>\n",
       "    <tr>\n",
       "      <th>Metropolis</th>\n",
       "      <td>-91.969578</td>\n",
       "    </tr>\n",
       "    <tr>\n",
       "      <th>The 13th Warrior</th>\n",
       "      <td>-98.301101</td>\n",
       "    </tr>\n",
       "    <tr>\n",
       "      <th>Valerian and the City of a Thousand Planets</th>\n",
       "      <td>-107.447384</td>\n",
       "    </tr>\n",
       "  </tbody>\n",
       "</table>\n",
       "</div>"
      ],
      "text/plain": [
       "                                                 Profit\n",
       "Moviename                                              \n",
       "Australia                                    -80.445998\n",
       "Flushed Away                                 -84.540684\n",
       "Metropolis                                   -91.969578\n",
       "The 13th Warrior                             -98.301101\n",
       "Valerian and the City of a Thousand Planets -107.447384"
      ]
     },
     "execution_count": 593,
     "metadata": {},
     "output_type": "execute_result"
    }
   ],
   "source": [
    "df_India_Budget.groupby('Moviename')[['Profit']].mean().sort_values(by='Profit',ascending=False).tail(5)"
   ]
  },
  {
   "cell_type": "markdown",
   "metadata": {
    "id": "kylKTVDXEYcA"
   },
   "source": [
    "**Valerian and the City of a Thousand Planets** has the lowest profit of **-107.447384** million dollar"
   ]
  },
  {
   "cell_type": "markdown",
   "metadata": {
    "id": "XsdJxbcXu3Tu"
   },
   "source": [
    "Scatter plot of runtime vs profit"
   ]
  },
  {
   "cell_type": "code",
   "execution_count": null,
   "metadata": {
    "id": "oM1IuRM-fER6"
   },
   "outputs": [],
   "source": [
    "runtime = df_India_Budget['runtimeMinutes'].tolist()\n",
    "profit = df_India_Budget['Profit'].tolist()"
   ]
  },
  {
   "cell_type": "code",
   "execution_count": null,
   "metadata": {
    "colab": {
     "base_uri": "https://localhost:8080/",
     "height": 295
    },
    "executionInfo": {
     "elapsed": 128,
     "status": "ok",
     "timestamp": 1636980638088,
     "user": {
      "displayName": "dm project",
      "photoUrl": "https://lh3.googleusercontent.com/a/default-user=s64",
      "userId": "10716541108022634460"
     },
     "user_tz": -330
    },
    "id": "0hJftKHsfIH6",
    "outputId": "9a7233bf-0220-430d-d9da-e2632ba7e51c"
   },
   "outputs": [
    {
     "data": {
      "image/png": "[encoded data removed]",
      "text/plain": [
       "<Figure size 432x288 with 1 Axes>"
      ]
     },
     "metadata": {
      "needs_background": "light"
     },
     "output_type": "display_data"
    }
   ],
   "source": [
    "plt.scatter(runtime,profit)\n",
    "plt.title('Runtime vs Profit')\n",
    "plt.xlabel('Runtime')\n",
    "plt.ylabel('Profit')\n",
    "plt.show()"
   ]
  },
  {
   "cell_type": "markdown",
   "metadata": {
    "id": "AdyWp3CgEwUd"
   },
   "source": [
    "As runtime is increasing there is increase in profit for some movies."
   ]
  },
  {
   "cell_type": "markdown",
   "metadata": {
    "id": "dRRniFss4SAE"
   },
   "source": [
    " scatter plot of rating vs profit"
   ]
  },
  {
   "cell_type": "code",
   "execution_count": null,
   "metadata": {
    "id": "iQEMdevU4eAo"
   },
   "outputs": [],
   "source": [
    "rating = df_India_Budget['averageRating'].tolist()\n",
    "profit = df_India_Budget['Profit'].tolist()"
   ]
  },
  {
   "cell_type": "code",
   "execution_count": null,
   "metadata": {
    "colab": {
     "base_uri": "https://localhost:8080/",
     "height": 295
    },
    "executionInfo": {
     "elapsed": 128,
     "status": "ok",
     "timestamp": 1636980638095,
     "user": {
      "displayName": "dm project",
      "photoUrl": "https://lh3.googleusercontent.com/a/default-user=s64",
      "userId": "10716541108022634460"
     },
     "user_tz": -330
    },
    "id": "74IAQqUr4eAp",
    "outputId": "107b29b4-b861-4d2c-edd7-5c842df14780"
   },
   "outputs": [
    {
     "data": {
      "image/png": "[encoded data removed]",
      "text/plain": [
       "<Figure size 432x288 with 1 Axes>"
      ]
     },
     "metadata": {
      "needs_background": "light"
     },
     "output_type": "display_data"
    }
   ],
   "source": [
    "plt.scatter(rating,profit)\n",
    "plt.title('Rating vs Profit')\n",
    "plt.xlabel('Rating')\n",
    "plt.ylabel('Profit')\n",
    "plt.show()"
   ]
  },
  {
   "cell_type": "markdown",
   "metadata": {
    "id": "Q81vr4SmFo8O"
   },
   "source": [
    "From above scatter we cn interpret that as rating is increasing profit is also increasing."
   ]
  },
  {
   "cell_type": "markdown",
   "metadata": {
    "id": "MvwTt6iTwDr-"
   },
   "source": [
    "Top production house with most number of movies"
   ]
  },
  {
   "cell_type": "code",
   "execution_count": null,
   "metadata": {
    "id": "5QgDD7YbiH2E"
   },
   "outputs": [],
   "source": [
    "l=[]\n",
    "for x in df_India_Budget['production_companies']:\n",
    "   l.append(x.split(','))"
   ]
  },
  {
   "cell_type": "code",
   "execution_count": null,
   "metadata": {
    "id": "9h8GTWoC4YEz"
   },
   "outputs": [],
   "source": [
    "prodlist=[]\n",
    "for x in l:\n",
    "   for y in x:\n",
    "            prodlist.append(y)           "
   ]
  },
  {
   "cell_type": "code",
   "execution_count": null,
   "metadata": {
    "colab": {
     "base_uri": "https://localhost:8080/"
    },
    "executionInfo": {
     "elapsed": 552,
     "status": "ok",
     "timestamp": 1636980638524,
     "user": {
      "displayName": "dm project",
      "photoUrl": "https://lh3.googleusercontent.com/a/default-user=s64",
      "userId": "10716541108022634460"
     },
     "user_tz": -330
    },
    "id": "OAKucIGC4YEz",
    "outputId": "56370934-584b-4854-da73-bc45fcf2ed33"
   },
   "outputs": [
    {
     "name": "stdout",
     "output_type": "stream",
     "text": [
      "The number of production house is 3358\n"
     ]
    }
   ],
   "source": [
    "uniquephouse=[]\n",
    "for x in prodlist:\n",
    "  if x not in uniquephouse:\n",
    "     uniquephouse.append(x)\n",
    "print(\"The number of production house is %d\" %len(uniquephouse))    "
   ]
  },
  {
   "cell_type": "code",
   "execution_count": null,
   "metadata": {
    "id": "i61X_uWC4YE0"
   },
   "outputs": [],
   "source": [
    "from collections import Counter\n",
    "c=Counter(prodlist)"
   ]
  },
  {
   "cell_type": "code",
   "execution_count": null,
   "metadata": {
    "colab": {
     "base_uri": "https://localhost:8080/"
    },
    "executionInfo": {
     "elapsed": 25,
     "status": "ok",
     "timestamp": 1636980638530,
     "user": {
      "displayName": "dm project",
      "photoUrl": "https://lh3.googleusercontent.com/a/default-user=s64",
      "userId": "10716541108022634460"
     },
     "user_tz": -330
    },
    "id": "EDZL-JhPiH2F",
    "outputId": "814a7909-feec-4b5e-a9ac-e72485bacf3e"
   },
   "outputs": [
    {
     "data": {
      "text/plain": [
       "{'Columbia Pictures': 275,\n",
       " 'Paramount Pictures': 371,\n",
       " 'Relativity Media': 167,\n",
       " 'Twentieth Century Fox Film Corporation': 313,\n",
       " 'Universal Pictures': 468,\n",
       " 'Warner Bros.': 482}"
      ]
     },
     "execution_count": 602,
     "metadata": {},
     "output_type": "execute_result"
    }
   ],
   "source": [
    "c=c.most_common(6)\n",
    "moviecount={}\n",
    "for x in c:\n",
    "    key=x[0]\n",
    "    moviecount[key]=x[1]\n",
    "moviecount\n"
   ]
  },
  {
   "cell_type": "code",
   "execution_count": null,
   "metadata": {
    "colab": {
     "base_uri": "https://localhost:8080/",
     "height": 585
    },
    "executionInfo": {
     "elapsed": 18,
     "status": "ok",
     "timestamp": 1636980638531,
     "user": {
      "displayName": "dm project",
      "photoUrl": "https://lh3.googleusercontent.com/a/default-user=s64",
      "userId": "10716541108022634460"
     },
     "user_tz": -330
    },
    "id": "OX0YzXn4iH2G",
    "outputId": "e21c4764-3010-46a1-ee86-543a48a73f84"
   },
   "outputs": [
    {
     "data": {
      "image/png": "[encoded data removed]",
      "text/plain": [
       "<Figure size 576x576 with 1 Axes>"
      ]
     },
     "metadata": {
      "needs_background": "light"
     },
     "output_type": "display_data"
    }
   ],
   "source": [
    "fig,x=plt.subplots(figsize=(8,8))\n",
    "plt.bar(*zip(*moviecount.items()))\n",
    "plt.setp(x.get_xticklabels(), rotation=90)\n",
    "x.tick_params(labelsize=10)\n",
    "x.tick_params(length=0, axis='x')\n",
    "plt.tight_layout()\n",
    "plt.show()"
   ]
  },
  {
   "cell_type": "markdown",
   "metadata": {
    "id": "Z75n9IEj0x0b"
   },
   "source": [
    "Average profit for each production house and plotting top 6"
   ]
  },
  {
   "cell_type": "code",
   "execution_count": null,
   "metadata": {
    "id": "lXYIgpPA1nYL"
   },
   "outputs": [],
   "source": [
    "avgprofit=[]\n",
    "for x in uniquephouse:\n",
    "      avgprofit.append(df_India_Budget[df_India_Budget['production_companies'].str.contains(x)].Profit.mean())"
   ]
  },
  {
   "cell_type": "code",
   "execution_count": null,
   "metadata": {
    "id": "rUvno-xW2wxS"
   },
   "outputs": [],
   "source": [
    "Averageprofit = pd.DataFrame(zip(uniquephouse,avgprofit), columns =['Production house','averageProfit'])\n",
    "Averageprofit.sort_values('averageProfit',ascending=False,inplace=True)\n",
    "Averageprofit=Averageprofit.head(6)"
   ]
  },
  {
   "cell_type": "code",
   "execution_count": null,
   "metadata": {
    "colab": {
     "base_uri": "https://localhost:8080/",
     "height": 441
    },
    "executionInfo": {
     "elapsed": 19,
     "status": "ok",
     "timestamp": 1636980649063,
     "user": {
      "displayName": "dm project",
      "photoUrl": "https://lh3.googleusercontent.com/a/default-user=s64",
      "userId": "10716541108022634460"
     },
     "user_tz": -330
    },
    "id": "bcfgPtHd3H_5",
    "outputId": "8ce5ccae-3bbe-4944-f528-f12d8bc9700a"
   },
   "outputs": [
    {
     "data": {
      "image/png": "[encoded data removed]",
      "text/plain": [
       "<Figure size 432x432 with 1 Axes>"
      ]
     },
     "metadata": {
      "needs_background": "light"
     },
     "output_type": "display_data"
    }
   ],
   "source": [
    "fig,x=plt.subplots(figsize=(6,6))\n",
    "sns.barplot(x = 'Production house',\n",
    "            y = 'averageProfit',\n",
    "            data =Averageprofit)\n",
    "plt.title('Production house vs Profit')\n",
    "plt.setp(x.get_xticklabels(), rotation=90)\n",
    "x.tick_params(labelsize=10)\n",
    "x.tick_params(length=0, axis='x')\n",
    "plt.tight_layout()\n",
    "plt.show()\n"
   ]
  },
  {
   "cell_type": "markdown",
   "metadata": {
    "id": "scxppRT9GOCA"
   },
   "source": [
    "Movies produced by **Truenorth Production** has the highest average profit"
   ]
  },
  {
   "cell_type": "markdown",
   "metadata": {
    "id": "EPiz58Vv9OQs"
   },
   "source": [
    "Average revenue for each production house and plotting top 6"
   ]
  },
  {
   "cell_type": "code",
   "execution_count": null,
   "metadata": {
    "id": "kZWMm3T49OQt"
   },
   "outputs": [],
   "source": [
    "avgrevenue=[]\n",
    "for x in uniquephouse:\n",
    "      avgrevenue.append(df_India_Budget[df_India_Budget['production_companies'].str.contains(x)].revenue.mean())"
   ]
  },
  {
   "cell_type": "code",
   "execution_count": null,
   "metadata": {
    "id": "zhcc1Hij9OQt"
   },
   "outputs": [],
   "source": [
    "Averagerevenue = pd.DataFrame(zip(uniquephouse,avgrevenue), columns =['Production house','averagerevenue'])\n",
    "Averagerevenue.sort_values('averagerevenue',ascending=False,inplace=True)\n",
    "Averagerevenue=Averagerevenue.head(6)"
   ]
  },
  {
   "cell_type": "code",
   "execution_count": null,
   "metadata": {
    "colab": {
     "base_uri": "https://localhost:8080/",
     "height": 441
    },
    "executionInfo": {
     "elapsed": 753,
     "status": "ok",
     "timestamp": 1636980659933,
     "user": {
      "displayName": "dm project",
      "photoUrl": "https://lh3.googleusercontent.com/a/default-user=s64",
      "userId": "10716541108022634460"
     },
     "user_tz": -330
    },
    "id": "4QfAcvjv9OQu",
    "outputId": "7f512bd9-1e99-4264-a849-ad127bf0d0e5"
   },
   "outputs": [
    {
     "data": {
      "image/png": "[encoded data removed]",
      "text/plain": [
       "<Figure size 432x432 with 1 Axes>"
      ]
     },
     "metadata": {
      "needs_background": "light"
     },
     "output_type": "display_data"
    }
   ],
   "source": [
    "fig,x=plt.subplots(figsize=(6,6))\n",
    "sns.barplot(x = 'Production house',\n",
    "            y = 'averagerevenue',\n",
    "            data =Averagerevenue)\n",
    "plt.title('Production house vs revenue')\n",
    "plt.setp(x.get_xticklabels(), rotation=90)\n",
    "x.tick_params(labelsize=10)\n",
    "x.tick_params(length=0, axis='x')\n",
    "plt.tight_layout()\n",
    "plt.show()"
   ]
  },
  {
   "cell_type": "markdown",
   "metadata": {
    "id": "sUL4ULNgGoch"
   },
   "source": [
    "Movies produced by **Truenorth Production** has the highest average revenue"
   ]
  },
  {
   "cell_type": "markdown",
   "metadata": {
    "id": "ewzWZQ1Sy-U9"
   },
   "source": [
    "Average budget for each production house and plotting top 6"
   ]
  },
  {
   "cell_type": "code",
   "execution_count": null,
   "metadata": {
    "id": "qg_JKqSyy-U-"
   },
   "outputs": [],
   "source": [
    "avgbudget=[]\n",
    "for x in uniquephouse:\n",
    "      avgbudget.append(df_India_Budget[df_India_Budget['production_companies'].str.contains(x)].budget.mean())"
   ]
  },
  {
   "cell_type": "code",
   "execution_count": null,
   "metadata": {
    "id": "ptLIbMmzy-U_"
   },
   "outputs": [],
   "source": [
    "Averagebudget = pd.DataFrame(zip(uniquephouse,avgbudget), columns =['Production house','averagebudget'])\n",
    "Averagebudget.sort_values('averagebudget',ascending=False,inplace=True)\n",
    "Averagebudget=Averagebudget.head(6)"
   ]
  },
  {
   "cell_type": "code",
   "execution_count": null,
   "metadata": {
    "colab": {
     "base_uri": "https://localhost:8080/",
     "height": 441
    },
    "executionInfo": {
     "elapsed": 49,
     "status": "ok",
     "timestamp": 1636980670211,
     "user": {
      "displayName": "dm project",
      "photoUrl": "https://lh3.googleusercontent.com/a/default-user=s64",
      "userId": "10716541108022634460"
     },
     "user_tz": -330
    },
    "id": "kSDMsdqGy-U_",
    "outputId": "5520bfe5-356e-4288-a04f-6f7f6a8db698"
   },
   "outputs": [
    {
     "data": {
      "image/png": "[encoded data removed]",
      "text/plain": [
       "<Figure size 432x432 with 1 Axes>"
      ]
     },
     "metadata": {
      "needs_background": "light"
     },
     "output_type": "display_data"
    }
   ],
   "source": [
    "fig,x=plt.subplots(figsize=(6,6))\n",
    "sns.barplot(x = 'Production house',\n",
    "            y = 'averagebudget',\n",
    "            data =Averagebudget)\n",
    "plt.title('Production house vs budget')\n",
    "plt.setp(x.get_xticklabels(), rotation=90)\n",
    "x.tick_params(labelsize=10)\n",
    "x.tick_params(length=0, axis='x')\n",
    "plt.tight_layout()\n",
    "plt.show()"
   ]
  },
  {
   "cell_type": "markdown",
   "metadata": {
    "id": "oQhozAlBGxy3"
   },
   "source": [
    "Movies produced by **Deluxe Digital Studios** has the highest average budget"
   ]
  },
  {
   "cell_type": "markdown",
   "metadata": {
    "id": "voz2gE7hztN9"
   },
   "source": [
    "Top6 genres with most profit films"
   ]
  },
  {
   "cell_type": "code",
   "execution_count": null,
   "metadata": {
    "id": "vV5XP-QSztOA"
   },
   "outputs": [],
   "source": [
    "l=[]\n",
    "for x in df_India_Budget['genres']:\n",
    "   l.append(x.split(','))"
   ]
  },
  {
   "cell_type": "code",
   "execution_count": null,
   "metadata": {
    "id": "iz0VXcIAztOB"
   },
   "outputs": [],
   "source": [
    "genrelist=[]\n",
    "for x in l:\n",
    "   for y in x:\n",
    "            genrelist.append(y)           "
   ]
  },
  {
   "cell_type": "code",
   "execution_count": null,
   "metadata": {
    "id": "i3COsr4zztOB"
   },
   "outputs": [],
   "source": [
    "uniquegenre=[]\n",
    "for x in genrelist:\n",
    "  if x not in uniquegenre:\n",
    "     uniquegenre.append(x)  "
   ]
  },
  {
   "cell_type": "code",
   "execution_count": null,
   "metadata": {
    "id": "LmzUELraztOE"
   },
   "outputs": [],
   "source": [
    "avgprofit=[]\n",
    "for x in uniquegenre:\n",
    "      avgprofit.append(df_India_Budget[df_India_Budget['genres'].str.contains(x)].Profit.mean())"
   ]
  },
  {
   "cell_type": "code",
   "execution_count": null,
   "metadata": {
    "id": "A-7M3ZjAztOF"
   },
   "outputs": [],
   "source": [
    "Averageprofit = pd.DataFrame(zip(uniquegenre,avgprofit), columns =['Genre','averageProfit'])\n",
    "Averageprofit.sort_values('averageProfit',ascending=False,inplace=True)\n",
    "Averageprofit=Averageprofit.head(6)"
   ]
  },
  {
   "cell_type": "code",
   "execution_count": null,
   "metadata": {
    "colab": {
     "base_uri": "https://localhost:8080/",
     "height": 295
    },
    "executionInfo": {
     "elapsed": 1255,
     "status": "ok",
     "timestamp": 1636980671422,
     "user": {
      "displayName": "dm project",
      "photoUrl": "https://lh3.googleusercontent.com/a/default-user=s64",
      "userId": "10716541108022634460"
     },
     "user_tz": -330
    },
    "id": "DCN0vou4ztOF",
    "outputId": "c62bd41a-3a9b-4924-b1d4-0ebc74d4c320"
   },
   "outputs": [
    {
     "data": {
      "image/png": "[encoded data removed]",
      "text/plain": [
       "<Figure size 432x288 with 1 Axes>"
      ]
     },
     "metadata": {
      "needs_background": "light"
     },
     "output_type": "display_data"
    }
   ],
   "source": [
    "sns.barplot(x = 'Genre',\n",
    "            y = 'averageProfit',\n",
    "            data =Averageprofit)\n",
    "plt.title('Genre vs Profit')\n",
    "plt.show()"
   ]
  },
  {
   "cell_type": "markdown",
   "metadata": {
    "id": "ecqvInafHCF1"
   },
   "source": [
    "Movies of **Animation** genre has most average profit"
   ]
  },
  {
   "cell_type": "markdown",
   "metadata": {
    "id": "DKu2aNQkztOG"
   },
   "source": [
    "Top6 genres with most budget films"
   ]
  },
  {
   "cell_type": "code",
   "execution_count": null,
   "metadata": {
    "id": "d39AOHQEztOG"
   },
   "outputs": [],
   "source": [
    "avgbudget=[]\n",
    "for x in uniquegenre:\n",
    "      avgbudget.append(df_India_Budget[df_India_Budget['genres'].str.contains(x)].budget.mean())"
   ]
  },
  {
   "cell_type": "code",
   "execution_count": null,
   "metadata": {
    "id": "VAp6wYZKztOH"
   },
   "outputs": [],
   "source": [
    "Averagebudget = pd.DataFrame(zip(uniquegenre,avgbudget), columns =['Genre','averagebudget'])\n",
    "Averagebudget.sort_values('averagebudget',ascending=False,inplace=True)\n",
    "Averagebudget=Averagebudget.head(6)"
   ]
  },
  {
   "cell_type": "code",
   "execution_count": null,
   "metadata": {
    "colab": {
     "base_uri": "https://localhost:8080/",
     "height": 295
    },
    "executionInfo": {
     "elapsed": 135,
     "status": "ok",
     "timestamp": 1636980671429,
     "user": {
      "displayName": "dm project",
      "photoUrl": "https://lh3.googleusercontent.com/a/default-user=s64",
      "userId": "10716541108022634460"
     },
     "user_tz": -330
    },
    "id": "JsDR8Bf5ztOH",
    "outputId": "e8832f90-2ae3-4b0b-d610-712e3e194986"
   },
   "outputs": [
    {
     "data": {
      "image/png": "[encoded data removed]",
      "text/plain": [
       "<Figure size 432x288 with 1 Axes>"
      ]
     },
     "metadata": {
      "needs_background": "light"
     },
     "output_type": "display_data"
    }
   ],
   "source": [
    "sns.barplot(x = 'Genre',\n",
    "            y = 'averagebudget',\n",
    "            data =Averagebudget)\n",
    "plt.title('Genre vs Budget')\n",
    "plt.show()"
   ]
  },
  {
   "cell_type": "markdown",
   "metadata": {
    "id": "1Y3Xl1aSHR-k"
   },
   "source": [
    "Movies of **Adventure** genre has most average budget"
   ]
  },
  {
   "cell_type": "markdown",
   "metadata": {
    "id": "dWBVTCmL3FNb"
   },
   "source": [
    "Top6 genres with most revenue films"
   ]
  },
  {
   "cell_type": "code",
   "execution_count": null,
   "metadata": {
    "id": "H12ieSaH3FNc"
   },
   "outputs": [],
   "source": [
    "avgrevenue=[]\n",
    "for x in uniquegenre:\n",
    "      avgrevenue.append(df_India_Budget[df_India_Budget['genres'].str.contains(x)].revenue.mean())"
   ]
  },
  {
   "cell_type": "code",
   "execution_count": null,
   "metadata": {
    "id": "xlJ0-u973FNc"
   },
   "outputs": [],
   "source": [
    "Averagerevenue = pd.DataFrame(zip(uniquegenre,avgrevenue), columns =['Genre','averagerevenue'])\n",
    "Averagerevenue.sort_values('averagerevenue',ascending=False,inplace=True)\n",
    "Averagerevenue=Averagerevenue.head(6)"
   ]
  },
  {
   "cell_type": "code",
   "execution_count": null,
   "metadata": {
    "colab": {
     "base_uri": "https://localhost:8080/",
     "height": 295
    },
    "executionInfo": {
     "elapsed": 145,
     "status": "ok",
     "timestamp": 1636980671443,
     "user": {
      "displayName": "dm project",
      "photoUrl": "https://lh3.googleusercontent.com/a/default-user=s64",
      "userId": "10716541108022634460"
     },
     "user_tz": -330
    },
    "id": "TAPZnMIP3FNd",
    "outputId": "fcd38a7c-b354-47b1-bc0b-716ff7f590e1"
   },
   "outputs": [
    {
     "data": {
      "image/png": "[encoded data removed]",
      "text/plain": [
       "<Figure size 432x288 with 1 Axes>"
      ]
     },
     "metadata": {
      "needs_background": "light"
     },
     "output_type": "display_data"
    }
   ],
   "source": [
    "sns.barplot(x = 'Genre',\n",
    "            y = 'averagerevenue',\n",
    "            data =Averagerevenue)\n",
    "plt.title('Genre vs revenue')\n",
    "plt.show()"
   ]
  },
  {
   "cell_type": "markdown",
   "metadata": {
    "id": "AuVk0pjjHdan"
   },
   "source": [
    "Movies of **Animation** genre has most average revenue"
   ]
  },
  {
   "cell_type": "markdown",
   "metadata": {
    "id": "bZ_BJLnTbwNO"
   },
   "source": [
    "Language wise profit,budget,revenue"
   ]
  },
  {
   "cell_type": "code",
   "execution_count": null,
   "metadata": {
    "colab": {
     "base_uri": "https://localhost:8080/"
    },
    "executionInfo": {
     "elapsed": 154,
     "status": "ok",
     "timestamp": 1636980671458,
     "user": {
      "displayName": "dm project",
      "photoUrl": "https://lh3.googleusercontent.com/a/default-user=s64",
      "userId": "10716541108022634460"
     },
     "user_tz": -330
    },
    "id": "2X1fnxV_n0ih",
    "outputId": "382a6c64-d410-41b2-a596-5a7bbf0aaced"
   },
   "outputs": [
    {
     "data": {
      "text/plain": [
       "English      2500\n",
       "Hindi        2081\n",
       "Tamil          94\n",
       "Malayalam      69\n",
       "Telgu          66\n",
       "Bengali        44\n",
       "Marathi        32\n",
       "Gujarati       30\n",
       "Kannada        30\n",
       "Urdu           25\n",
       "Name: language, dtype: int64"
      ]
     },
     "execution_count": 625,
     "metadata": {},
     "output_type": "execute_result"
    }
   ],
   "source": [
    "df_India_Budget.language.value_counts()"
   ]
  },
  {
   "cell_type": "code",
   "execution_count": null,
   "metadata": {
    "id": "IjYT4YMxb5Qw"
   },
   "outputs": [],
   "source": [
    "df_lang=df_India_Budget.groupby(\"language\")\n",
    "df_lang =df_lang.mean().reset_index()\n",
    "df_lang=df_lang[['language','Profit']].sort_values('Profit',ascending=False)"
   ]
  },
  {
   "cell_type": "code",
   "execution_count": null,
   "metadata": {
    "colab": {
     "base_uri": "https://localhost:8080/",
     "height": 676
    },
    "executionInfo": {
     "elapsed": 140,
     "status": "ok",
     "timestamp": 1636980671459,
     "user": {
      "displayName": "dm project",
      "photoUrl": "https://lh3.googleusercontent.com/a/default-user=s64",
      "userId": "10716541108022634460"
     },
     "user_tz": -330
    },
    "id": "sL0oFygoeh5a",
    "outputId": "fb56f67a-c9ae-4a7d-a13b-e2e27c7da282"
   },
   "outputs": [
    {
     "data": {
      "image/png": "[encoded data removed]",
      "text/plain": [
       "<Figure size 792x792 with 1 Axes>"
      ]
     },
     "metadata": {
      "needs_background": "light"
     },
     "output_type": "display_data"
    }
   ],
   "source": [
    "plt.figure(figsize=(11,11))\n",
    "sns.barplot(x = 'language',\n",
    "            y = 'Profit',\n",
    "            data = df_lang)\n",
    "plt.title('language vs Profit')\n",
    "plt.show()"
   ]
  },
  {
   "cell_type": "code",
   "execution_count": null,
   "metadata": {
    "id": "CrtFhE49nAOP"
   },
   "outputs": [],
   "source": [
    "df_lang=df_India_Budget.groupby(\"language\")\n",
    "df_lang =df_lang.mean().reset_index()\n",
    "df_lang=df_lang[['language','budget']].sort_values('budget',ascending=False)"
   ]
  },
  {
   "cell_type": "code",
   "execution_count": null,
   "metadata": {
    "colab": {
     "base_uri": "https://localhost:8080/",
     "height": 676
    },
    "executionInfo": {
     "elapsed": 1032,
     "status": "ok",
     "timestamp": 1636980672353,
     "user": {
      "displayName": "dm project",
      "photoUrl": "https://lh3.googleusercontent.com/a/default-user=s64",
      "userId": "10716541108022634460"
     },
     "user_tz": -330
    },
    "id": "Ep7i7j8JnAOQ",
    "outputId": "e7411635-d32d-45b4-835b-cf006fb51e41"
   },
   "outputs": [
    {
     "data": {
      "image/png": "[encoded data removed]",
      "text/plain": [
       "<Figure size 792x792 with 1 Axes>"
      ]
     },
     "metadata": {
      "needs_background": "light"
     },
     "output_type": "display_data"
    }
   ],
   "source": [
    "plt.figure(figsize=(11,11))\n",
    "sns.barplot(x = 'language',\n",
    "            y = 'budget',\n",
    "            data = df_lang)\n",
    "plt.title('language vs budget')\n",
    "plt.show()"
   ]
  },
  {
   "cell_type": "code",
   "execution_count": null,
   "metadata": {
    "id": "hP9WoJ00ngRa"
   },
   "outputs": [],
   "source": [
    "df_lang=df_India_Budget.groupby(\"language\")\n",
    "df_lang =df_lang.mean().reset_index()\n",
    "df_lang=df_lang[['language','revenue']].sort_values('revenue',ascending=False)"
   ]
  },
  {
   "cell_type": "code",
   "execution_count": null,
   "metadata": {
    "colab": {
     "base_uri": "https://localhost:8080/",
     "height": 676
    },
    "executionInfo": {
     "elapsed": 45,
     "status": "ok",
     "timestamp": 1636980672359,
     "user": {
      "displayName": "dm project",
      "photoUrl": "https://lh3.googleusercontent.com/a/default-user=s64",
      "userId": "10716541108022634460"
     },
     "user_tz": -330
    },
    "id": "02RrJ6OIngRb",
    "outputId": "39b36c40-4e4e-4e65-f3f9-6bc1bdc5e080"
   },
   "outputs": [
    {
     "data": {
      "image/png": "[encoded data removed]",
      "text/plain": [
       "<Figure size 792x792 with 1 Axes>"
      ]
     },
     "metadata": {
      "needs_background": "light"
     },
     "output_type": "display_data"
    }
   ],
   "source": [
    "plt.figure(figsize=(11,11))\n",
    "sns.barplot(x = 'language',\n",
    "            y = 'revenue',\n",
    "            data = df_lang)\n",
    "plt.title('language vs revenue')\n",
    "plt.show()"
   ]
  },
  {
   "cell_type": "markdown",
   "metadata": {
    "id": "_UWNCTak7v0j"
   },
   "source": [
    "Profit over the years"
   ]
  },
  {
   "cell_type": "code",
   "execution_count": null,
   "metadata": {
    "id": "xdTF3KBl5VTQ"
   },
   "outputs": [],
   "source": [
    "df_year=df_India_Budget.copy()\n",
    "df_year=df_year[df_year['releaseYear']>=1980]\n",
    "df_year=(df_year.groupby(df_year['releaseYear'],as_index=False).aggregate(np.mean).reindex(columns=df_year.columns))\n",
    "df_year.sort_values('Profit',ascending=False,inplace=True)\n",
    "df_year=df_year[['releaseYear','Profit']].reset_index(drop=True)"
   ]
  },
  {
   "cell_type": "code",
   "execution_count": null,
   "metadata": {
    "colab": {
     "base_uri": "https://localhost:8080/",
     "height": 785
    },
    "executionInfo": {
     "elapsed": 48,
     "status": "ok",
     "timestamp": 1636980672365,
     "user": {
      "displayName": "dm project",
      "photoUrl": "https://lh3.googleusercontent.com/a/default-user=s64",
      "userId": "10716541108022634460"
     },
     "user_tz": -330
    },
    "id": "-R9_DJQ45qCr",
    "outputId": "001f1253-85c1-4e09-dd3a-dc4900873934"
   },
   "outputs": [
    {
     "data": {
      "image/png": "[encoded data removed]",
      "text/plain": [
       "<Figure size 1440x936 with 1 Axes>"
      ]
     },
     "metadata": {
      "needs_background": "light"
     },
     "output_type": "display_data"
    }
   ],
   "source": [
    "plt.figure(figsize=(20,13))\n",
    "sns.barplot(x = 'releaseYear',\n",
    "            y = 'Profit',\n",
    "            data = df_year)\n",
    "plt.title('Year vs Profit')\n",
    "plt.show()"
   ]
  },
  {
   "cell_type": "markdown",
   "metadata": {
    "id": "noPOC2jDHy4t"
   },
   "source": [
    "Year **1982** has the highest average profit\n",
    "\n",
    "Year **1987** has the lowest average profit\n",
    "\n",
    "The average profit has no fixed trends."
   ]
  },
  {
   "cell_type": "markdown",
   "metadata": {
    "id": "0hZkO3jk778Y"
   },
   "source": [
    "Budget over the years"
   ]
  },
  {
   "cell_type": "code",
   "execution_count": null,
   "metadata": {
    "id": "1G4J9GIq778Z"
   },
   "outputs": [],
   "source": [
    "df_year=df_India_Budget.copy()\n",
    "df_year=df_year[df_year['releaseYear']>=1980]\n",
    "df_year=(df_year.groupby(df_year['releaseYear'],as_index=False).aggregate(np.mean).reindex(columns=df_year.columns))\n",
    "df_year.sort_values('budget',ascending=False,inplace=True)\n",
    "df_year=df_year[['releaseYear','budget']].reset_index(drop=True)"
   ]
  },
  {
   "cell_type": "code",
   "execution_count": null,
   "metadata": {
    "colab": {
     "base_uri": "https://localhost:8080/",
     "height": 785
    },
    "executionInfo": {
     "elapsed": 867,
     "status": "ok",
     "timestamp": 1636980673186,
     "user": {
      "displayName": "dm project",
      "photoUrl": "https://lh3.googleusercontent.com/a/default-user=s64",
      "userId": "10716541108022634460"
     },
     "user_tz": -330
    },
    "id": "DyZB6S4l778Z",
    "outputId": "5c594fbd-58cc-43a3-b880-23b3f090cfed"
   },
   "outputs": [
    {
     "data": {
      "image/png": "[encoded data removed]",
      "text/plain": [
       "<Figure size 1440x936 with 1 Axes>"
      ]
     },
     "metadata": {
      "needs_background": "light"
     },
     "output_type": "display_data"
    }
   ],
   "source": [
    "plt.figure(figsize=(20,13))\n",
    "sns.barplot(x = 'releaseYear',\n",
    "            y = 'budget',\n",
    "            data = df_year)\n",
    "plt.title('Year vs budget')\n",
    "plt.show()"
   ]
  },
  {
   "cell_type": "markdown",
   "metadata": {
    "id": "L49tZ-NYIpSL"
   },
   "source": [
    "Year **2017** has the highest average budget\n",
    "\n",
    "Year **1981** has the lowest average budget\n",
    "\n",
    "The average budget is generally increasing over the years but there is decreasing budget for some years."
   ]
  },
  {
   "cell_type": "markdown",
   "metadata": {
    "id": "wa315FLS8O2i"
   },
   "source": [
    "Revenue over the years"
   ]
  },
  {
   "cell_type": "code",
   "execution_count": null,
   "metadata": {
    "id": "dXJJzbw58O2j"
   },
   "outputs": [],
   "source": [
    "df_year=df_India_Budget.copy()\n",
    "df_year=df_year[df_year['releaseYear']>=1980]\n",
    "df_year=(df_year.groupby(df_year['releaseYear'],as_index=False).aggregate(np.mean).reindex(columns=df_year.columns))\n",
    "df_year.sort_values('revenue',ascending=False,inplace=True)\n",
    "df_year=df_year[['releaseYear','revenue']].reset_index(drop=True)"
   ]
  },
  {
   "cell_type": "code",
   "execution_count": null,
   "metadata": {
    "colab": {
     "base_uri": "https://localhost:8080/",
     "height": 785
    },
    "executionInfo": {
     "elapsed": 41,
     "status": "ok",
     "timestamp": 1636980673207,
     "user": {
      "displayName": "dm project",
      "photoUrl": "https://lh3.googleusercontent.com/a/default-user=s64",
      "userId": "10716541108022634460"
     },
     "user_tz": -330
    },
    "id": "_1dV4ejn8O2k",
    "outputId": "c6b0a640-b863-488b-e49c-fc139ef2ebf9"
   },
   "outputs": [
    {
     "data": {
      "image/png": "[encoded data removed]",
      "text/plain": [
       "<Figure size 1440x936 with 1 Axes>"
      ]
     },
     "metadata": {
      "needs_background": "light"
     },
     "output_type": "display_data"
    }
   ],
   "source": [
    "plt.figure(figsize=(20,13))\n",
    "sns.barplot(x = 'releaseYear',\n",
    "            y = 'revenue',\n",
    "            data = df_year)\n",
    "plt.title('Year vs Revenue')\n",
    "plt.show()"
   ]
  },
  {
   "cell_type": "markdown",
   "metadata": {
    "id": "UClglb0yJetT"
   },
   "source": [
    "Year **2017** has the highest average revenue\n",
    "\n",
    "Year **1987** has the lowest average revenue\n",
    "\n",
    "The average revenue is generally increasing over the years but there is decreasing budget for some years."
   ]
  }
 ],
 "metadata": {
  "colab": {
   "authorship_tag": "ABX9TyNTM7OXWD5jH5qM8Ev7b7cC",
   "collapsed_sections": [],
   "name": "Analysis on  india budget dataset.ipynb",
   "provenance": []
  },
  "kernelspec": {
   "display_name": "Python 3 (ipykernel)",
   "language": "python",
   "name": "python3"
  },
  "language_info": {
   "codemirror_mode": {
    "name": "ipython",
    "version": 3
   },
   "file_extension": ".py",
   "mimetype": "text/x-python",
   "name": "python",
   "nbconvert_exporter": "python",
   "pygments_lexer": "ipython3",
   "version": "3.9.6"
  }
 },
 "nbformat": 4,
 "nbformat_minor": 1
}
