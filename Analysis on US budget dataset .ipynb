{
 "cells": [
  {
   "cell_type": "code",
   "execution_count": null,
   "metadata": {
    "id": "VRD6EBsfgMXe"
   },
   "outputs": [],
   "source": [
    "import pandas as pd\n",
    "import numpy as np\n",
    "import matplotlib.pyplot as plt\n",
    "import seaborn as sns\n",
    "import warnings\n",
    "warnings.filterwarnings(\"ignore\")"
   ]
  },
  {
   "cell_type": "code",
   "execution_count": null,
   "metadata": {
    "colab": {
     "base_uri": "https://localhost:8080/",
     "height": 1000
    },
    "executionInfo": {
     "elapsed": 2264,
     "status": "ok",
     "timestamp": 1637039905216,
     "user": {
      "displayName": "dm project",
      "photoUrl": "https://lh3.googleusercontent.com/a/default-user=s64",
      "userId": "10716541108022634460"
     },
     "user_tz": -330
    },
    "id": "HKea-lTugQmh",
    "outputId": "ca9a4120-7c5d-4cdd-ad03-164e3a8a3736"
   },
   "outputs": [
    {
     "data": {
      "text/html": [
       "<div>\n",
       "<style scoped>\n",
       "    .dataframe tbody tr th:only-of-type {\n",
       "        vertical-align: middle;\n",
       "    }\n",
       "\n",
       "    .dataframe tbody tr th {\n",
       "        vertical-align: top;\n",
       "    }\n",
       "\n",
       "    .dataframe thead th {\n",
       "        text-align: right;\n",
       "    }\n",
       "</style>\n",
       "<table border=\"1\" class=\"dataframe\">\n",
       "  <thead>\n",
       "    <tr style=\"text-align: right;\">\n",
       "      <th></th>\n",
       "      <th>Unnamed: 0</th>\n",
       "      <th>tconst</th>\n",
       "      <th>originalTitle</th>\n",
       "      <th>isAdult</th>\n",
       "      <th>startYear</th>\n",
       "      <th>runtimeMinutes</th>\n",
       "      <th>genres_x</th>\n",
       "      <th>averageRating</th>\n",
       "      <th>numVotes</th>\n",
       "      <th>directors</th>\n",
       "      <th>writers</th>\n",
       "      <th>Actors</th>\n",
       "      <th>Actress</th>\n",
       "      <th>Director</th>\n",
       "      <th>adult</th>\n",
       "      <th>belongs_to_collection</th>\n",
       "      <th>budget</th>\n",
       "      <th>original_language</th>\n",
       "      <th>overview</th>\n",
       "      <th>popularity</th>\n",
       "      <th>production_companies</th>\n",
       "      <th>release_date</th>\n",
       "      <th>revenue</th>\n",
       "      <th>spoken_languages</th>\n",
       "      <th>status</th>\n",
       "      <th>tagline</th>\n",
       "    </tr>\n",
       "  </thead>\n",
       "  <tbody>\n",
       "    <tr>\n",
       "      <th>0</th>\n",
       "      <td>0</td>\n",
       "      <td>tt0000574</td>\n",
       "      <td>The Story of the Kelly Gang</td>\n",
       "      <td>0</td>\n",
       "      <td>1906</td>\n",
       "      <td>70</td>\n",
       "      <td>Action,Adventure,Biography</td>\n",
       "      <td>6.1</td>\n",
       "      <td>736</td>\n",
       "      <td>nm0846879</td>\n",
       "      <td>nm0846879</td>\n",
       "      <td>['Norman Campbell', 'Nicholas Brierley', 'John...</td>\n",
       "      <td>['Elizabeth Tait']</td>\n",
       "      <td>['Charles Tait']</td>\n",
       "      <td>False</td>\n",
       "      <td>NaN</td>\n",
       "      <td>0</td>\n",
       "      <td>en</td>\n",
       "      <td>Just as Fritz Lang’s Metropolis (1927) is test...</td>\n",
       "      <td>0.290549</td>\n",
       "      <td>[{'name': 'Johnson and Gibson', 'id': 74308}, ...</td>\n",
       "      <td>1906-12-26</td>\n",
       "      <td>0.0</td>\n",
       "      <td>[{'iso_639_1': 'xx', 'name': 'No Language'}]</td>\n",
       "      <td>Released</td>\n",
       "      <td>The Most Sensational, The Most Thrilling and I...</td>\n",
       "    </tr>\n",
       "    <tr>\n",
       "      <th>1</th>\n",
       "      <td>1</td>\n",
       "      <td>tt0002101</td>\n",
       "      <td>Cleopatra</td>\n",
       "      <td>0</td>\n",
       "      <td>1912</td>\n",
       "      <td>100</td>\n",
       "      <td>Drama,History</td>\n",
       "      <td>5.1</td>\n",
       "      <td>521</td>\n",
       "      <td>nm0309130</td>\n",
       "      <td>nm0765026,nm0309130</td>\n",
       "      <td>['Charles Sindelar', 'Mr. Howard', 'James R. W...</td>\n",
       "      <td>['Pearl Sindelar', 'Helen Gardner', 'Miss Robs...</td>\n",
       "      <td>['Charles L. Gaskill']</td>\n",
       "      <td>False</td>\n",
       "      <td>NaN</td>\n",
       "      <td>0</td>\n",
       "      <td>en</td>\n",
       "      <td>The fabled queen of Egypt's affair with Roman ...</td>\n",
       "      <td>0.142542</td>\n",
       "      <td>[{'name': 'Helen Gardner Picture Players', 'id...</td>\n",
       "      <td>1912-11-13</td>\n",
       "      <td>0.0</td>\n",
       "      <td>[]</td>\n",
       "      <td>Released</td>\n",
       "      <td>NaN</td>\n",
       "    </tr>\n",
       "    <tr>\n",
       "      <th>2</th>\n",
       "      <td>2</td>\n",
       "      <td>tt0002101</td>\n",
       "      <td>Cleopatra</td>\n",
       "      <td>0</td>\n",
       "      <td>1912</td>\n",
       "      <td>100</td>\n",
       "      <td>Drama,History</td>\n",
       "      <td>5.1</td>\n",
       "      <td>521</td>\n",
       "      <td>nm0309130</td>\n",
       "      <td>nm0765026,nm0309130</td>\n",
       "      <td>['Charles Sindelar', 'Mr. Howard', 'James R. W...</td>\n",
       "      <td>['Pearl Sindelar', 'Helen Gardner', 'Miss Robs...</td>\n",
       "      <td>['Charles L. Gaskill']</td>\n",
       "      <td>False</td>\n",
       "      <td>NaN</td>\n",
       "      <td>0</td>\n",
       "      <td>en</td>\n",
       "      <td>The fabled queen of Egypt's affair with Roman ...</td>\n",
       "      <td>0.142542</td>\n",
       "      <td>[{'name': 'Helen Gardner Picture Players', 'id...</td>\n",
       "      <td>1912-11-13</td>\n",
       "      <td>0.0</td>\n",
       "      <td>[]</td>\n",
       "      <td>Released</td>\n",
       "      <td>NaN</td>\n",
       "    </tr>\n",
       "    <tr>\n",
       "      <th>3</th>\n",
       "      <td>3</td>\n",
       "      <td>tt0002101</td>\n",
       "      <td>Cleopatra</td>\n",
       "      <td>0</td>\n",
       "      <td>1912</td>\n",
       "      <td>100</td>\n",
       "      <td>Drama,History</td>\n",
       "      <td>5.1</td>\n",
       "      <td>521</td>\n",
       "      <td>nm0309130</td>\n",
       "      <td>nm0765026,nm0309130</td>\n",
       "      <td>['Charles Sindelar', 'Mr. Howard', 'James R. W...</td>\n",
       "      <td>['Pearl Sindelar', 'Helen Gardner', 'Miss Robs...</td>\n",
       "      <td>['Charles L. Gaskill']</td>\n",
       "      <td>False</td>\n",
       "      <td>NaN</td>\n",
       "      <td>0</td>\n",
       "      <td>en</td>\n",
       "      <td>The fabled queen of Egypt's affair with Roman ...</td>\n",
       "      <td>0.142542</td>\n",
       "      <td>[{'name': 'Helen Gardner Picture Players', 'id...</td>\n",
       "      <td>1912-11-13</td>\n",
       "      <td>0.0</td>\n",
       "      <td>[]</td>\n",
       "      <td>Released</td>\n",
       "      <td>NaN</td>\n",
       "    </tr>\n",
       "    <tr>\n",
       "      <th>4</th>\n",
       "      <td>4</td>\n",
       "      <td>tt0002844</td>\n",
       "      <td>Fantômas - À l'ombre de la guillotine</td>\n",
       "      <td>0</td>\n",
       "      <td>1913</td>\n",
       "      <td>54</td>\n",
       "      <td>Crime,Drama</td>\n",
       "      <td>7.0</td>\n",
       "      <td>2180</td>\n",
       "      <td>nm0275421</td>\n",
       "      <td>nm0019855,nm0275421,nm0816232</td>\n",
       "      <td>['Georges Melchior', 'René Navarre', 'Edmund B...</td>\n",
       "      <td>['Renée Carl']</td>\n",
       "      <td>['Louis Feuillade']</td>\n",
       "      <td>False</td>\n",
       "      <td>{'id': 188534, 'name': 'Fantômas Serial', 'pos...</td>\n",
       "      <td>0</td>\n",
       "      <td>fr</td>\n",
       "      <td>For the arch-criminal Fantômas, no crime is to...</td>\n",
       "      <td>0.791727</td>\n",
       "      <td>[]</td>\n",
       "      <td>1913-05-09</td>\n",
       "      <td>0.0</td>\n",
       "      <td>[{'iso_639_1': 'fr', 'name': 'Français'}]</td>\n",
       "      <td>Released</td>\n",
       "      <td>NaN</td>\n",
       "    </tr>\n",
       "    <tr>\n",
       "      <th>...</th>\n",
       "      <td>...</td>\n",
       "      <td>...</td>\n",
       "      <td>...</td>\n",
       "      <td>...</td>\n",
       "      <td>...</td>\n",
       "      <td>...</td>\n",
       "      <td>...</td>\n",
       "      <td>...</td>\n",
       "      <td>...</td>\n",
       "      <td>...</td>\n",
       "      <td>...</td>\n",
       "      <td>...</td>\n",
       "      <td>...</td>\n",
       "      <td>...</td>\n",
       "      <td>...</td>\n",
       "      <td>...</td>\n",
       "      <td>...</td>\n",
       "      <td>...</td>\n",
       "      <td>...</td>\n",
       "      <td>...</td>\n",
       "      <td>...</td>\n",
       "      <td>...</td>\n",
       "      <td>...</td>\n",
       "      <td>...</td>\n",
       "      <td>...</td>\n",
       "      <td>...</td>\n",
       "    </tr>\n",
       "    <tr>\n",
       "      <th>36933</th>\n",
       "      <td>36933</td>\n",
       "      <td>tt6690310</td>\n",
       "      <td>Fei fan ren wu</td>\n",
       "      <td>0</td>\n",
       "      <td>2017</td>\n",
       "      <td>117</td>\n",
       "      <td>Action,Crime</td>\n",
       "      <td>6.2</td>\n",
       "      <td>769</td>\n",
       "      <td>nm0538320,nm1573851</td>\n",
       "      <td>nm0159039</td>\n",
       "      <td>['Xuan Huang', 'Yihong Duan', 'Yanhui Wang']</td>\n",
       "      <td>['Yueting Lang']</td>\n",
       "      <td>['Anthony Pun', 'Alan Mak']</td>\n",
       "      <td>False</td>\n",
       "      <td>NaN</td>\n",
       "      <td>0</td>\n",
       "      <td>zh</td>\n",
       "      <td>‘Extraordinary Mission’ is a new Chinese actio...</td>\n",
       "      <td>2.552316</td>\n",
       "      <td>[{'name': 'Pop Movies', 'id': 5690}, {'name': ...</td>\n",
       "      <td>2017-03-31</td>\n",
       "      <td>0.0</td>\n",
       "      <td>[{'iso_639_1': 'cn', 'name': '广州话 / 廣州話'}, {'i...</td>\n",
       "      <td>Released</td>\n",
       "      <td>NaN</td>\n",
       "    </tr>\n",
       "    <tr>\n",
       "      <th>36934</th>\n",
       "      <td>36934</td>\n",
       "      <td>tt6721848</td>\n",
       "      <td>Kolonya Cumhuriyeti</td>\n",
       "      <td>0</td>\n",
       "      <td>2017</td>\n",
       "      <td>110</td>\n",
       "      <td>Comedy</td>\n",
       "      <td>5.8</td>\n",
       "      <td>4354</td>\n",
       "      <td>nm4909521</td>\n",
       "      <td>nm4679138,nm3097515,nm7165367,nm4909521,nm3708...</td>\n",
       "      <td>['Çaglar Çorumlu', 'Ugur Bilgin', 'Mahir Ipek']</td>\n",
       "      <td>['Büsra Pekin']</td>\n",
       "      <td>['Murat Kepez']</td>\n",
       "      <td>False</td>\n",
       "      <td>NaN</td>\n",
       "      <td>0</td>\n",
       "      <td>tr</td>\n",
       "      <td>NaN</td>\n",
       "      <td>0.173603</td>\n",
       "      <td>[{'name': 'BKM Film', 'id': 15268}]</td>\n",
       "      <td>2017-04-20</td>\n",
       "      <td>0.0</td>\n",
       "      <td>[{'iso_639_1': 'tr', 'name': 'Türkçe'}]</td>\n",
       "      <td>Released</td>\n",
       "      <td>NaN</td>\n",
       "    </tr>\n",
       "    <tr>\n",
       "      <th>36935</th>\n",
       "      <td>36935</td>\n",
       "      <td>tt6731636</td>\n",
       "      <td>Jaesim</td>\n",
       "      <td>0</td>\n",
       "      <td>2017</td>\n",
       "      <td>119</td>\n",
       "      <td>Crime,Drama</td>\n",
       "      <td>6.8</td>\n",
       "      <td>1133</td>\n",
       "      <td>nm2541369</td>\n",
       "      <td>nm2541369</td>\n",
       "      <td>['Woo Jung', 'Ha-na Kim', 'Kang Ha-Neul', 'Ju-...</td>\n",
       "      <td>['Hyun-Sook Jun', 'Jung-Eun Lee', 'Kim Hae-soo...</td>\n",
       "      <td>['Tae-Yun Kim']</td>\n",
       "      <td>False</td>\n",
       "      <td>NaN</td>\n",
       "      <td>0</td>\n",
       "      <td>ko</td>\n",
       "      <td>A taxi driver is found dead, and Hyun-woo, the...</td>\n",
       "      <td>1.956476</td>\n",
       "      <td>[{'name': '이디오플랜', 'id': 86706}]</td>\n",
       "      <td>2017-02-15</td>\n",
       "      <td>0.0</td>\n",
       "      <td>[{'iso_639_1': 'ko', 'name': '한국어/조선말'}]</td>\n",
       "      <td>Released</td>\n",
       "      <td>10 years behind bars - the only chance to find...</td>\n",
       "    </tr>\n",
       "    <tr>\n",
       "      <th>36936</th>\n",
       "      <td>36936</td>\n",
       "      <td>tt6772874</td>\n",
       "      <td>Xi huan ni</td>\n",
       "      <td>0</td>\n",
       "      <td>2017</td>\n",
       "      <td>106</td>\n",
       "      <td>Comedy,Drama,Romance</td>\n",
       "      <td>6.7</td>\n",
       "      <td>1537</td>\n",
       "      <td>nm3215871</td>\n",
       "      <td>nm4886061,nm8430396,nm8981249,nm7163521</td>\n",
       "      <td>['Yi-zhou Sun', 'Takeshi Kaneshiro']</td>\n",
       "      <td>['Ming Xi', 'Dongyu Zhou']</td>\n",
       "      <td>['Derek Hui']</td>\n",
       "      <td>False</td>\n",
       "      <td>NaN</td>\n",
       "      <td>0</td>\n",
       "      <td>zh</td>\n",
       "      <td>Lu Jin is a handsome, wealthy hotel executive ...</td>\n",
       "      <td>0.467960</td>\n",
       "      <td>[]</td>\n",
       "      <td>2017-04-28</td>\n",
       "      <td>0.0</td>\n",
       "      <td>[{'iso_639_1': 'zh', 'name': '普通话'}]</td>\n",
       "      <td>Released</td>\n",
       "      <td>NaN</td>\n",
       "    </tr>\n",
       "    <tr>\n",
       "      <th>36937</th>\n",
       "      <td>36937</td>\n",
       "      <td>tt6830780</td>\n",
       "      <td>Loosideu deurim</td>\n",
       "      <td>0</td>\n",
       "      <td>2017</td>\n",
       "      <td>101</td>\n",
       "      <td>Sci-Fi,Thriller</td>\n",
       "      <td>6.2</td>\n",
       "      <td>3405</td>\n",
       "      <td>nm8953987</td>\n",
       "      <td>nm8953987</td>\n",
       "      <td>['Yu Chun Park', 'In-hwan Park', 'Go Soo', 'Ho...</td>\n",
       "      <td>['Kang Hye-jeong']</td>\n",
       "      <td>['Joon-Sung Kim']</td>\n",
       "      <td>False</td>\n",
       "      <td>NaN</td>\n",
       "      <td>5000000</td>\n",
       "      <td>ko</td>\n",
       "      <td>Dae-ho, an investigative journalist, seeks to ...</td>\n",
       "      <td>1.748838</td>\n",
       "      <td>[{'name': '(주)로드픽쳐스', 'id': 87426}]</td>\n",
       "      <td>2017-02-22</td>\n",
       "      <td>0.0</td>\n",
       "      <td>[{'iso_639_1': 'ko', 'name': '한국어/조선말'}]</td>\n",
       "      <td>Released</td>\n",
       "      <td>NaN</td>\n",
       "    </tr>\n",
       "  </tbody>\n",
       "</table>\n",
       "<p>36938 rows × 26 columns</p>\n",
       "</div>"
      ],
      "text/plain": [
       "       Unnamed: 0  ...                                            tagline\n",
       "0               0  ...  The Most Sensational, The Most Thrilling and I...\n",
       "1               1  ...                                                NaN\n",
       "2               2  ...                                                NaN\n",
       "3               3  ...                                                NaN\n",
       "4               4  ...                                                NaN\n",
       "...           ...  ...                                                ...\n",
       "36933       36933  ...                                                NaN\n",
       "36934       36934  ...                                                NaN\n",
       "36935       36935  ...  10 years behind bars - the only chance to find...\n",
       "36936       36936  ...                                                NaN\n",
       "36937       36937  ...                                                NaN\n",
       "\n",
       "[36938 rows x 26 columns]"
      ]
     },
     "execution_count": 4,
     "metadata": {},
     "output_type": "execute_result"
    }
   ],
   "source": [
    "\n",
    "df_US_Budget=pd.read_csv(\"Dataset/US_Budget_Dataset.csv\")\n",
    "\n",
    "df_US_Budget"
   ]
  },
  {
   "cell_type": "code",
   "execution_count": null,
   "metadata": {
    "colab": {
     "base_uri": "https://localhost:8080/"
    },
    "executionInfo": {
     "elapsed": 90,
     "status": "ok",
     "timestamp": 1637039905223,
     "user": {
      "displayName": "dm project",
      "photoUrl": "https://lh3.googleusercontent.com/a/default-user=s64",
      "userId": "10716541108022634460"
     },
     "user_tz": -330
    },
    "id": "1Y36KUEBgS8U",
    "outputId": "ef7d03a4-77f5-47a8-b95f-8a42ebcd6aee"
   },
   "outputs": [
    {
     "data": {
      "text/plain": [
       "Index(['Unnamed: 0', 'tconst', 'originalTitle', 'isAdult', 'startYear',\n",
       "       'runtimeMinutes', 'genres_x', 'averageRating', 'numVotes', 'directors',\n",
       "       'writers', 'Actors', 'Actress', 'Director', 'adult',\n",
       "       'belongs_to_collection', 'budget', 'original_language', 'overview',\n",
       "       'popularity', 'production_companies', 'release_date', 'revenue',\n",
       "       'spoken_languages', 'status', 'tagline'],\n",
       "      dtype='object')"
      ]
     },
     "execution_count": 5,
     "metadata": {},
     "output_type": "execute_result"
    }
   ],
   "source": [
    "df_US_Budget.columns"
   ]
  },
  {
   "cell_type": "code",
   "execution_count": null,
   "metadata": {
    "colab": {
     "base_uri": "https://localhost:8080/"
    },
    "executionInfo": {
     "elapsed": 75,
     "status": "ok",
     "timestamp": 1637039905225,
     "user": {
      "displayName": "dm project",
      "photoUrl": "https://lh3.googleusercontent.com/a/default-user=s64",
      "userId": "10716541108022634460"
     },
     "user_tz": -330
    },
    "id": "moakep8zgS4T",
    "outputId": "c048643a-a21e-40e6-a0bd-e0a06f220edb"
   },
   "outputs": [
    {
     "data": {
      "text/plain": [
       "(7285, 14)"
      ]
     },
     "execution_count": 6,
     "metadata": {},
     "output_type": "execute_result"
    }
   ],
   "source": [
    "df_US_Budget=df_US_Budget[['originalTitle','isAdult','startYear', 'runtimeMinutes','Actors', 'Actress', 'Director', 'genres_x', 'averageRating', 'numVotes','budget', 'popularity','production_companies', 'revenue' ]]\n",
    "\n",
    "df_US_Budget=df_US_Budget[(df_US_Budget['budget']!=0) & (df_US_Budget['revenue']!=0.0)]\n",
    "\n",
    "df_US_Budget.reset_index(drop=True,inplace=True)\n",
    "\n",
    "df_US_Budget.shape"
   ]
  },
  {
   "cell_type": "code",
   "execution_count": null,
   "metadata": {
    "colab": {
     "base_uri": "https://localhost:8080/"
    },
    "executionInfo": {
     "elapsed": 66,
     "status": "ok",
     "timestamp": 1637039905227,
     "user": {
      "displayName": "dm project",
      "photoUrl": "https://lh3.googleusercontent.com/a/default-user=s64",
      "userId": "10716541108022634460"
     },
     "user_tz": -330
    },
    "id": "7flEVZmXgS0P",
    "outputId": "5becff14-7284-47e7-c79a-a8aeab4b56c4"
   },
   "outputs": [
    {
     "name": "stdout",
     "output_type": "stream",
     "text": [
      "<class 'pandas.core.frame.DataFrame'>\n",
      "RangeIndex: 7285 entries, 0 to 7284\n",
      "Data columns (total 14 columns):\n",
      " #   Column                Non-Null Count  Dtype  \n",
      "---  ------                --------------  -----  \n",
      " 0   originalTitle         7285 non-null   object \n",
      " 1   isAdult               7285 non-null   int64  \n",
      " 2   startYear             7285 non-null   int64  \n",
      " 3   runtimeMinutes        7285 non-null   int64  \n",
      " 4   Actors                7285 non-null   object \n",
      " 5   Actress               7285 non-null   object \n",
      " 6   Director              7285 non-null   object \n",
      " 7   genres_x              7285 non-null   object \n",
      " 8   averageRating         7285 non-null   float64\n",
      " 9   numVotes              7285 non-null   int64  \n",
      " 10  budget                7285 non-null   int64  \n",
      " 11  popularity            7285 non-null   float64\n",
      " 12  production_companies  7285 non-null   object \n",
      " 13  revenue               7285 non-null   float64\n",
      "dtypes: float64(3), int64(5), object(6)\n",
      "memory usage: 796.9+ KB\n"
     ]
    }
   ],
   "source": [
    "df_US_Budget.info()"
   ]
  },
  {
   "cell_type": "code",
   "execution_count": null,
   "metadata": {
    "colab": {
     "base_uri": "https://localhost:8080/"
    },
    "executionInfo": {
     "elapsed": 60,
     "status": "ok",
     "timestamp": 1637039905228,
     "user": {
      "displayName": "dm project",
      "photoUrl": "https://lh3.googleusercontent.com/a/default-user=s64",
      "userId": "10716541108022634460"
     },
     "user_tz": -330
    },
    "id": "qBM3ut0OgSw3",
    "outputId": "b1c2510a-2529-45c3-d22a-96a7dc3c4d8f"
   },
   "outputs": [
    {
     "data": {
      "text/plain": [
       "(7151, 14)"
      ]
     },
     "execution_count": 8,
     "metadata": {},
     "output_type": "execute_result"
    }
   ],
   "source": [
    "df_US_Budget['production_companies']=df_US_Budget.production_companies.str.replace('[','')\n",
    "df_US_Budget['production_companies']=df_US_Budget.production_companies.str.replace(']','')\n",
    "\n",
    "df_US_Budget=df_US_Budget[(df_US_Budget['production_companies']!=\"\")]\n",
    "\n",
    "final_list = df_US_Budget['production_companies'].tolist()\n",
    "\n",
    "df_US_Budget.shape"
   ]
  },
  {
   "cell_type": "code",
   "execution_count": null,
   "metadata": {
    "id": "_07SMVWqgStl"
   },
   "outputs": [],
   "source": [
    "final=[]\n",
    "for i in range(len(final_list)):\n",
    "     Dict = eval(final_list[i])\n",
    "     if isinstance(Dict,dict):\n",
    "        final.append(Dict['name'])\n",
    "     else:\n",
    "          X=''\n",
    "          for tup in Dict:\n",
    "              X=X+tup['name']+','\n",
    "          final.append(X)"
   ]
  },
  {
   "cell_type": "code",
   "execution_count": null,
   "metadata": {
    "id": "XBk5qPDvgSqU"
   },
   "outputs": [],
   "source": [
    "for i in range(len(final)):\n",
    "    if(final[i][-1]==','):\n",
    "        temp=final[i][:-1]\n",
    "        final[i]=temp"
   ]
  },
  {
   "cell_type": "code",
   "execution_count": null,
   "metadata": {
    "id": "nMu3oGOagegL"
   },
   "outputs": [],
   "source": [
    "df_US_Budget['production_companies']=final"
   ]
  },
  {
   "cell_type": "code",
   "execution_count": null,
   "metadata": {
    "id": "OTk7BQ7kgf6b"
   },
   "outputs": [],
   "source": [
    "df_US_Budget['Actress']=df_US_Budget['Actress'].str.split(\"[\").str.get(1)\n",
    "df_US_Budget['Actress']=df_US_Budget['Actress'].str.split(\"]\").str.get(0)\n",
    "df_US_Budget['Actress']=df_US_Budget['Actress'].str.replace('\"','')\n",
    "df_US_Budget['Actress']=df_US_Budget['Actress'].str.replace(\"'\",'')\n",
    "\n",
    "df_US_Budget['Actors']=df_US_Budget['Actors'].str.split(\"[\").str.get(1)\n",
    "df_US_Budget['Actors']=df_US_Budget['Actors'].str.split(\"]\").str.get(0)\n",
    "df_US_Budget['Actors']=df_US_Budget['Actors'].str.replace('\"','')\n",
    "df_US_Budget['Actors']=df_US_Budget['Actors'].str.replace(\"'\",'')\n",
    "\n",
    "df_US_Budget['Director']=df_US_Budget['Director'].str.split(\"[\").str.get(1)\n",
    "df_US_Budget['Director']=df_US_Budget['Director'].str.split(\"]\").str.get(0)\n",
    "df_US_Budget['Director']=df_US_Budget['Director'].str.replace('\"','')\n",
    "df_US_Budget['Director']=df_US_Budget['Director'].str.replace(\"'\",'')\n"
   ]
  },
  {
   "cell_type": "code",
   "execution_count": null,
   "metadata": {
    "id": "b8xce09sgjtf"
   },
   "outputs": [],
   "source": [
    "df_US_Budget.columns=['Moviename', 'isAdult', 'releaseYear', 'runtimeMinutes',\n",
    "       'Actors', 'Actress', 'Director', 'genres', 'averageRating',\n",
    "       'numVotes', 'budget', 'popularity', 'production_companies', 'revenue']"
   ]
  },
  {
   "cell_type": "code",
   "execution_count": null,
   "metadata": {
    "id": "4_RwoeYfqZRY"
   },
   "outputs": [],
   "source": [
    "#Converting dollar to million dollar\n",
    "df_US_Budget['budget']=df_US_Budget['budget']/1000000\n",
    "df_US_Budget['revenue']=df_US_Budget['revenue']/1000000"
   ]
  },
  {
   "cell_type": "code",
   "execution_count": null,
   "metadata": {
    "id": "haVm0xMzglhh"
   },
   "outputs": [],
   "source": [
    "df_US_Budget['Profit']=df_US_Budget['revenue']-df_US_Budget['budget']"
   ]
  },
  {
   "cell_type": "code",
   "execution_count": null,
   "metadata": {
    "colab": {
     "base_uri": "https://localhost:8080/",
     "height": 238
    },
    "executionInfo": {
     "elapsed": 104,
     "status": "ok",
     "timestamp": 1637039906273,
     "user": {
      "displayName": "dm project",
      "photoUrl": "https://lh3.googleusercontent.com/a/default-user=s64",
      "userId": "10716541108022634460"
     },
     "user_tz": -330
    },
    "id": "FsRNu6aPgnTb",
    "outputId": "a8734d69-e230-406a-988a-d9d9a188b658"
   },
   "outputs": [
    {
     "data": {
      "text/html": [
       "<div>\n",
       "<style scoped>\n",
       "    .dataframe tbody tr th:only-of-type {\n",
       "        vertical-align: middle;\n",
       "    }\n",
       "\n",
       "    .dataframe tbody tr th {\n",
       "        vertical-align: top;\n",
       "    }\n",
       "\n",
       "    .dataframe thead th {\n",
       "        text-align: right;\n",
       "    }\n",
       "</style>\n",
       "<table border=\"1\" class=\"dataframe\">\n",
       "  <thead>\n",
       "    <tr style=\"text-align: right;\">\n",
       "      <th></th>\n",
       "      <th>budget</th>\n",
       "    </tr>\n",
       "    <tr>\n",
       "      <th>Moviename</th>\n",
       "      <th></th>\n",
       "    </tr>\n",
       "  </thead>\n",
       "  <tbody>\n",
       "    <tr>\n",
       "      <th>Pirates of the Caribbean: On Stranger Tides</th>\n",
       "      <td>380.0</td>\n",
       "    </tr>\n",
       "    <tr>\n",
       "      <th>Pirates of the Caribbean: At World's End</th>\n",
       "      <td>300.0</td>\n",
       "    </tr>\n",
       "    <tr>\n",
       "      <th>Superman Returns</th>\n",
       "      <td>270.0</td>\n",
       "    </tr>\n",
       "    <tr>\n",
       "      <th>John Carter</th>\n",
       "      <td>260.0</td>\n",
       "    </tr>\n",
       "    <tr>\n",
       "      <th>Tangled</th>\n",
       "      <td>260.0</td>\n",
       "    </tr>\n",
       "  </tbody>\n",
       "</table>\n",
       "</div>"
      ],
      "text/plain": [
       "                                             budget\n",
       "Moviename                                          \n",
       "Pirates of the Caribbean: On Stranger Tides   380.0\n",
       "Pirates of the Caribbean: At World's End      300.0\n",
       "Superman Returns                              270.0\n",
       "John Carter                                   260.0\n",
       "Tangled                                       260.0"
      ]
     },
     "execution_count": 16,
     "metadata": {},
     "output_type": "execute_result"
    }
   ],
   "source": [
    "\"\"\"top 5 movies with highest budget\"\"\"\n",
    "\n",
    "df_US_Budget.groupby('Moviename')[['budget']].mean().sort_values(by='budget',ascending=False).head(5)"
   ]
  },
  {
   "cell_type": "markdown",
   "metadata": {
    "id": "fb5nU9_XJ-aa"
   },
   "source": [
    "**Pirates of the Caribbean: On Stranger Tides** has the highest budget of **380** million dollar"
   ]
  },
  {
   "cell_type": "code",
   "execution_count": null,
   "metadata": {
    "colab": {
     "base_uri": "https://localhost:8080/",
     "height": 238
    },
    "executionInfo": {
     "elapsed": 100,
     "status": "ok",
     "timestamp": 1637039906274,
     "user": {
      "displayName": "dm project",
      "photoUrl": "https://lh3.googleusercontent.com/a/default-user=s64",
      "userId": "10716541108022634460"
     },
     "user_tz": -330
    },
    "id": "y8TC4tgkgpdz",
    "outputId": "7ea1dbb3-c297-4100-924a-b74515470e91"
   },
   "outputs": [
    {
     "data": {
      "text/html": [
       "<div>\n",
       "<style scoped>\n",
       "    .dataframe tbody tr th:only-of-type {\n",
       "        vertical-align: middle;\n",
       "    }\n",
       "\n",
       "    .dataframe tbody tr th {\n",
       "        vertical-align: top;\n",
       "    }\n",
       "\n",
       "    .dataframe thead th {\n",
       "        text-align: right;\n",
       "    }\n",
       "</style>\n",
       "<table border=\"1\" class=\"dataframe\">\n",
       "  <thead>\n",
       "    <tr style=\"text-align: right;\">\n",
       "      <th></th>\n",
       "      <th>revenue</th>\n",
       "    </tr>\n",
       "    <tr>\n",
       "      <th>Moviename</th>\n",
       "      <th></th>\n",
       "    </tr>\n",
       "  </thead>\n",
       "  <tbody>\n",
       "    <tr>\n",
       "      <th>Avatar</th>\n",
       "      <td>2787.965087</td>\n",
       "    </tr>\n",
       "    <tr>\n",
       "      <th>Star Wars: Episode VII - The Force Awakens</th>\n",
       "      <td>2068.223624</td>\n",
       "    </tr>\n",
       "    <tr>\n",
       "      <th>Jurassic World</th>\n",
       "      <td>1513.528810</td>\n",
       "    </tr>\n",
       "    <tr>\n",
       "      <th>Harry Potter and the Deathly Hallows: Part 2</th>\n",
       "      <td>1342.000000</td>\n",
       "    </tr>\n",
       "    <tr>\n",
       "      <th>Frozen</th>\n",
       "      <td>1274.219009</td>\n",
       "    </tr>\n",
       "  </tbody>\n",
       "</table>\n",
       "</div>"
      ],
      "text/plain": [
       "                                                  revenue\n",
       "Moviename                                                \n",
       "Avatar                                        2787.965087\n",
       "Star Wars: Episode VII - The Force Awakens    2068.223624\n",
       "Jurassic World                                1513.528810\n",
       "Harry Potter and the Deathly Hallows: Part 2  1342.000000\n",
       "Frozen                                        1274.219009"
      ]
     },
     "execution_count": 17,
     "metadata": {},
     "output_type": "execute_result"
    }
   ],
   "source": [
    "\"\"\"top5 movies with highest revenue\"\"\"\n",
    "\n",
    "df_US_Budget.groupby('Moviename')[['revenue']].mean().sort_values(by='revenue',ascending=False).head(5)"
   ]
  },
  {
   "cell_type": "markdown",
   "metadata": {
    "id": "awEc5ZAlKJhB"
   },
   "source": [
    "**Avatar** has the highest revenue of **2787.965087** million dollar\n"
   ]
  },
  {
   "cell_type": "code",
   "execution_count": null,
   "metadata": {
    "colab": {
     "base_uri": "https://localhost:8080/",
     "height": 238
    },
    "executionInfo": {
     "elapsed": 100,
     "status": "ok",
     "timestamp": 1637039906277,
     "user": {
      "displayName": "dm project",
      "photoUrl": "https://lh3.googleusercontent.com/a/default-user=s64",
      "userId": "10716541108022634460"
     },
     "user_tz": -330
    },
    "id": "EDKcCYBCgpar",
    "outputId": "f7fb2f65-b425-4084-a4e2-5be9ecb9336d"
   },
   "outputs": [
    {
     "data": {
      "text/html": [
       "<div>\n",
       "<style scoped>\n",
       "    .dataframe tbody tr th:only-of-type {\n",
       "        vertical-align: middle;\n",
       "    }\n",
       "\n",
       "    .dataframe tbody tr th {\n",
       "        vertical-align: top;\n",
       "    }\n",
       "\n",
       "    .dataframe thead th {\n",
       "        text-align: right;\n",
       "    }\n",
       "</style>\n",
       "<table border=\"1\" class=\"dataframe\">\n",
       "  <thead>\n",
       "    <tr style=\"text-align: right;\">\n",
       "      <th></th>\n",
       "      <th>Profit</th>\n",
       "    </tr>\n",
       "    <tr>\n",
       "      <th>Moviename</th>\n",
       "      <th></th>\n",
       "    </tr>\n",
       "  </thead>\n",
       "  <tbody>\n",
       "    <tr>\n",
       "      <th>Avatar</th>\n",
       "      <td>2550.965087</td>\n",
       "    </tr>\n",
       "    <tr>\n",
       "      <th>Star Wars: Episode VII - The Force Awakens</th>\n",
       "      <td>1823.223624</td>\n",
       "    </tr>\n",
       "    <tr>\n",
       "      <th>Jurassic World</th>\n",
       "      <td>1363.528810</td>\n",
       "    </tr>\n",
       "    <tr>\n",
       "      <th>Harry Potter and the Deathly Hallows: Part 2</th>\n",
       "      <td>1217.000000</td>\n",
       "    </tr>\n",
       "    <tr>\n",
       "      <th>Frozen</th>\n",
       "      <td>1124.219009</td>\n",
       "    </tr>\n",
       "  </tbody>\n",
       "</table>\n",
       "</div>"
      ],
      "text/plain": [
       "                                                   Profit\n",
       "Moviename                                                \n",
       "Avatar                                        2550.965087\n",
       "Star Wars: Episode VII - The Force Awakens    1823.223624\n",
       "Jurassic World                                1363.528810\n",
       "Harry Potter and the Deathly Hallows: Part 2  1217.000000\n",
       "Frozen                                        1124.219009"
      ]
     },
     "execution_count": 18,
     "metadata": {},
     "output_type": "execute_result"
    }
   ],
   "source": [
    "\"\"\"top 5 movies with highest profit\"\"\"\n",
    "\n",
    "df_US_Budget.groupby('Moviename')[['Profit']].mean().sort_values(by='Profit',ascending=False).head(5)"
   ]
  },
  {
   "cell_type": "markdown",
   "metadata": {
    "id": "9rNvEunJKecj"
   },
   "source": [
    "**Avatar** has the highest profit of **2550.965087** million dollar"
   ]
  },
  {
   "cell_type": "code",
   "execution_count": null,
   "metadata": {
    "colab": {
     "base_uri": "https://localhost:8080/",
     "height": 238
    },
    "executionInfo": {
     "elapsed": 94,
     "status": "ok",
     "timestamp": 1637039906278,
     "user": {
      "displayName": "dm project",
      "photoUrl": "https://lh3.googleusercontent.com/a/default-user=s64",
      "userId": "10716541108022634460"
     },
     "user_tz": -330
    },
    "id": "MMwFqtrhgpUZ",
    "outputId": "4ea5e7ee-1607-4baf-9490-6006458cc77b"
   },
   "outputs": [
    {
     "data": {
      "text/html": [
       "<div>\n",
       "<style scoped>\n",
       "    .dataframe tbody tr th:only-of-type {\n",
       "        vertical-align: middle;\n",
       "    }\n",
       "\n",
       "    .dataframe tbody tr th {\n",
       "        vertical-align: top;\n",
       "    }\n",
       "\n",
       "    .dataframe thead th {\n",
       "        text-align: right;\n",
       "    }\n",
       "</style>\n",
       "<table border=\"1\" class=\"dataframe\">\n",
       "  <thead>\n",
       "    <tr style=\"text-align: right;\">\n",
       "      <th></th>\n",
       "      <th>budget</th>\n",
       "    </tr>\n",
       "    <tr>\n",
       "      <th>Moviename</th>\n",
       "      <th></th>\n",
       "    </tr>\n",
       "  </thead>\n",
       "  <tbody>\n",
       "    <tr>\n",
       "      <th>Tere Naam</th>\n",
       "      <td>0.000001</td>\n",
       "    </tr>\n",
       "    <tr>\n",
       "      <th>Lost &amp; Found</th>\n",
       "      <td>0.000001</td>\n",
       "    </tr>\n",
       "    <tr>\n",
       "      <th>Less Than Zero</th>\n",
       "      <td>0.000001</td>\n",
       "    </tr>\n",
       "    <tr>\n",
       "      <th>The Letters</th>\n",
       "      <td>0.000001</td>\n",
       "    </tr>\n",
       "    <tr>\n",
       "      <th>Love, Wedding, Marriage</th>\n",
       "      <td>0.000001</td>\n",
       "    </tr>\n",
       "  </tbody>\n",
       "</table>\n",
       "</div>"
      ],
      "text/plain": [
       "                           budget\n",
       "Moviename                        \n",
       "Tere Naam                0.000001\n",
       "Lost & Found             0.000001\n",
       "Less Than Zero           0.000001\n",
       "The Letters              0.000001\n",
       "Love, Wedding, Marriage  0.000001"
      ]
     },
     "execution_count": 19,
     "metadata": {},
     "output_type": "execute_result"
    }
   ],
   "source": [
    "\"\"\"Bottom 5 movies with lowest budget\"\"\"\n",
    "\n",
    "df_US_Budget.groupby('Moviename')[['budget']].mean().sort_values(by='budget',ascending=False).tail(5)"
   ]
  },
  {
   "cell_type": "markdown",
   "metadata": {
    "id": "oWKIO3usKVNr"
   },
   "source": []
  },
  {
   "cell_type": "code",
   "execution_count": null,
   "metadata": {
    "colab": {
     "base_uri": "https://localhost:8080/",
     "height": 238
    },
    "executionInfo": {
     "elapsed": 91,
     "status": "ok",
     "timestamp": 1637039906279,
     "user": {
      "displayName": "dm project",
      "photoUrl": "https://lh3.googleusercontent.com/a/default-user=s64",
      "userId": "10716541108022634460"
     },
     "user_tz": -330
    },
    "id": "FpJlPKzSgwAR",
    "outputId": "809169b0-a2c9-4816-83f6-90046441edb7"
   },
   "outputs": [
    {
     "data": {
      "text/html": [
       "<div>\n",
       "<style scoped>\n",
       "    .dataframe tbody tr th:only-of-type {\n",
       "        vertical-align: middle;\n",
       "    }\n",
       "\n",
       "    .dataframe tbody tr th {\n",
       "        vertical-align: top;\n",
       "    }\n",
       "\n",
       "    .dataframe thead th {\n",
       "        text-align: right;\n",
       "    }\n",
       "</style>\n",
       "<table border=\"1\" class=\"dataframe\">\n",
       "  <thead>\n",
       "    <tr style=\"text-align: right;\">\n",
       "      <th></th>\n",
       "      <th>revenue</th>\n",
       "    </tr>\n",
       "    <tr>\n",
       "      <th>Moviename</th>\n",
       "      <th></th>\n",
       "    </tr>\n",
       "  </thead>\n",
       "  <tbody>\n",
       "    <tr>\n",
       "      <th>Vsyo i srazu</th>\n",
       "      <td>0.000003</td>\n",
       "    </tr>\n",
       "    <tr>\n",
       "      <th>Tere Naam</th>\n",
       "      <td>0.000002</td>\n",
       "    </tr>\n",
       "    <tr>\n",
       "      <th>The Merry Widow</th>\n",
       "      <td>0.000001</td>\n",
       "    </tr>\n",
       "    <tr>\n",
       "      <th>Mute Witness</th>\n",
       "      <td>0.000001</td>\n",
       "    </tr>\n",
       "    <tr>\n",
       "      <th>The Letters</th>\n",
       "      <td>0.000001</td>\n",
       "    </tr>\n",
       "  </tbody>\n",
       "</table>\n",
       "</div>"
      ],
      "text/plain": [
       "                  revenue\n",
       "Moviename                \n",
       "Vsyo i srazu     0.000003\n",
       "Tere Naam        0.000002\n",
       "The Merry Widow  0.000001\n",
       "Mute Witness     0.000001\n",
       "The Letters      0.000001"
      ]
     },
     "execution_count": 20,
     "metadata": {},
     "output_type": "execute_result"
    }
   ],
   "source": [
    "\"\"\"Bottom 5 movies with lowest revenue\"\"\"\n",
    "\n",
    "df_US_Budget.groupby('Moviename')[['revenue']].mean().sort_values(by='revenue',ascending=False).tail(5)"
   ]
  },
  {
   "cell_type": "code",
   "execution_count": null,
   "metadata": {
    "colab": {
     "base_uri": "https://localhost:8080/",
     "height": 238
    },
    "executionInfo": {
     "elapsed": 90,
     "status": "ok",
     "timestamp": 1637039906281,
     "user": {
      "displayName": "dm project",
      "photoUrl": "https://lh3.googleusercontent.com/a/default-user=s64",
      "userId": "10716541108022634460"
     },
     "user_tz": -330
    },
    "id": "0L0IFis0gv5J",
    "outputId": "75b1fdac-f6af-46ee-d9bc-0ed3a4a26698"
   },
   "outputs": [
    {
     "data": {
      "text/html": [
       "<div>\n",
       "<style scoped>\n",
       "    .dataframe tbody tr th:only-of-type {\n",
       "        vertical-align: middle;\n",
       "    }\n",
       "\n",
       "    .dataframe tbody tr th {\n",
       "        vertical-align: top;\n",
       "    }\n",
       "\n",
       "    .dataframe thead th {\n",
       "        text-align: right;\n",
       "    }\n",
       "</style>\n",
       "<table border=\"1\" class=\"dataframe\">\n",
       "  <thead>\n",
       "    <tr style=\"text-align: right;\">\n",
       "      <th></th>\n",
       "      <th>Profit</th>\n",
       "    </tr>\n",
       "    <tr>\n",
       "      <th>Moviename</th>\n",
       "      <th></th>\n",
       "    </tr>\n",
       "  </thead>\n",
       "  <tbody>\n",
       "    <tr>\n",
       "      <th>Metropolis</th>\n",
       "      <td>-91.969578</td>\n",
       "    </tr>\n",
       "    <tr>\n",
       "      <th>The Adventures of Pluto Nash</th>\n",
       "      <td>-92.896027</td>\n",
       "    </tr>\n",
       "    <tr>\n",
       "      <th>The 13th Warrior</th>\n",
       "      <td>-98.301101</td>\n",
       "    </tr>\n",
       "    <tr>\n",
       "      <th>Valerian and the City of a Thousand Planets</th>\n",
       "      <td>-107.447384</td>\n",
       "    </tr>\n",
       "    <tr>\n",
       "      <th>Mars Needs Moms</th>\n",
       "      <td>-111.007242</td>\n",
       "    </tr>\n",
       "  </tbody>\n",
       "</table>\n",
       "</div>"
      ],
      "text/plain": [
       "                                                 Profit\n",
       "Moviename                                              \n",
       "Metropolis                                   -91.969578\n",
       "The Adventures of Pluto Nash                 -92.896027\n",
       "The 13th Warrior                             -98.301101\n",
       "Valerian and the City of a Thousand Planets -107.447384\n",
       "Mars Needs Moms                             -111.007242"
      ]
     },
     "execution_count": 21,
     "metadata": {},
     "output_type": "execute_result"
    }
   ],
   "source": [
    "\"\"\"Bottom 5 movies with lowest profit\"\"\"\n",
    "\n",
    "df_US_Budget.groupby('Moviename')[['Profit']].mean().sort_values(by='Profit',ascending=False).tail(5)"
   ]
  },
  {
   "cell_type": "code",
   "execution_count": null,
   "metadata": {
    "colab": {
     "base_uri": "https://localhost:8080/",
     "height": 295
    },
    "executionInfo": {
     "elapsed": 87,
     "status": "ok",
     "timestamp": 1637039906282,
     "user": {
      "displayName": "dm project",
      "photoUrl": "https://lh3.googleusercontent.com/a/default-user=s64",
      "userId": "10716541108022634460"
     },
     "user_tz": -330
    },
    "id": "N2r54chKg06a",
    "outputId": "89e5a5ff-5ba6-4473-fcbe-ba2f1209386c"
   },
   "outputs": [
    {
     "data": {
      "image/png": "[encoded data removed]",
      "text/plain": [
       "<Figure size 432x288 with 1 Axes>"
      ]
     },
     "metadata": {
      "needs_background": "light"
     },
     "output_type": "display_data"
    }
   ],
   "source": [
    "\"\"\"Scatter plot of runtime vs profit\"\"\"\n",
    "\n",
    "runtime = df_US_Budget['runtimeMinutes'].tolist()\n",
    "profit = df_US_Budget['Profit'].tolist()\n",
    "\n",
    "plt.scatter(runtime,profit)\n",
    "plt.title('Runtime vs Profit')\n",
    "plt.xlabel('Runtime')\n",
    "plt.ylabel('Profit')\n",
    "plt.show()"
   ]
  },
  {
   "cell_type": "markdown",
   "metadata": {
    "id": "dj9rZncTKo50"
   },
   "source": [
    "As runtime is increasing there is increase in profit for some movies."
   ]
  },
  {
   "cell_type": "code",
   "execution_count": null,
   "metadata": {
    "colab": {
     "base_uri": "https://localhost:8080/",
     "height": 295
    },
    "executionInfo": {
     "elapsed": 1208,
     "status": "ok",
     "timestamp": 1637039907406,
     "user": {
      "displayName": "dm project",
      "photoUrl": "https://lh3.googleusercontent.com/a/default-user=s64",
      "userId": "10716541108022634460"
     },
     "user_tz": -330
    },
    "id": "EX_ahtcBg3Uu",
    "outputId": "dc6502cd-9672-444d-83e0-e476b24296ad"
   },
   "outputs": [
    {
     "data": {
      "image/png": "[encoded data removed]",
      "text/plain": [
       "<Figure size 432x288 with 1 Axes>"
      ]
     },
     "metadata": {
      "needs_background": "light"
     },
     "output_type": "display_data"
    }
   ],
   "source": [
    "\"\"\" scatter plot of rating vs profit\"\"\"\n",
    "\n",
    "rating = df_US_Budget['averageRating'].tolist()\n",
    "profit = df_US_Budget['Profit'].tolist()\n",
    "\n",
    "plt.scatter(rating,profit)\n",
    "plt.title('Rating vs Profit')\n",
    "plt.xlabel('Rating')\n",
    "plt.ylabel('Profit')\n",
    "plt.show()"
   ]
  },
  {
   "cell_type": "markdown",
   "metadata": {
    "id": "LQ7b1V2fK7xC"
   },
   "source": [
    "From above scatter we cn interpret that as rating is increasing profit is also increasing."
   ]
  },
  {
   "cell_type": "code",
   "execution_count": null,
   "metadata": {
    "colab": {
     "base_uri": "https://localhost:8080/"
    },
    "executionInfo": {
     "elapsed": 40,
     "status": "ok",
     "timestamp": 1637039907408,
     "user": {
      "displayName": "dm project",
      "photoUrl": "https://lh3.googleusercontent.com/a/default-user=s64",
      "userId": "10716541108022634460"
     },
     "user_tz": -330
    },
    "id": "fJKrVeE9g4BP",
    "outputId": "b620b3c4-d505-485f-a089-f56468756d9e"
   },
   "outputs": [
    {
     "name": "stdout",
     "output_type": "stream",
     "text": [
      "The number of production house is 4668\n"
     ]
    }
   ],
   "source": [
    "\"\"\"Top prodcuction house with most number of movies\"\"\"\n",
    "\n",
    "l=[]\n",
    "for x in df_US_Budget['production_companies']:\n",
    "   l.append(x.split(','))\n",
    "\n",
    "prodlist=[]\n",
    "for x in l:\n",
    "   for y in x:\n",
    "            prodlist.append(y)\n",
    "\n",
    "uniquephouse=[]\n",
    "for x in prodlist:\n",
    "  if x not in uniquephouse:\n",
    "     uniquephouse.append(x)\n",
    "print(\"The number of production house is %d\" %len(uniquephouse))\n"
   ]
  },
  {
   "cell_type": "code",
   "execution_count": null,
   "metadata": {
    "colab": {
     "base_uri": "https://localhost:8080/"
    },
    "executionInfo": {
     "elapsed": 34,
     "status": "ok",
     "timestamp": 1637039907410,
     "user": {
      "displayName": "dm project",
      "photoUrl": "https://lh3.googleusercontent.com/a/default-user=s64",
      "userId": "10716541108022634460"
     },
     "user_tz": -330
    },
    "id": "GOqq0rt1g390",
    "outputId": "2a92f341-ab1a-47d3-eebe-b13f5dbbc8e7"
   },
   "outputs": [
    {
     "data": {
      "text/plain": [
       "{'Columbia Pictures': 360,\n",
       " 'New Line Cinema': 247,\n",
       " 'Paramount Pictures': 551,\n",
       " 'Twentieth Century Fox Film Corporation': 532,\n",
       " 'Universal Pictures': 573,\n",
       " 'Warner Bros.': 601}"
      ]
     },
     "execution_count": 25,
     "metadata": {},
     "output_type": "execute_result"
    }
   ],
   "source": [
    "from collections import Counter\n",
    "c=Counter(prodlist)\n",
    "\n",
    "c=c.most_common(6)\n",
    "moviecount={}\n",
    "for x in c:\n",
    "    key=x[0]\n",
    "    moviecount[key]=x[1]\n",
    "moviecount"
   ]
  },
  {
   "cell_type": "code",
   "execution_count": null,
   "metadata": {
    "colab": {
     "base_uri": "https://localhost:8080/",
     "height": 585
    },
    "executionInfo": {
     "elapsed": 35,
     "status": "ok",
     "timestamp": 1637039907416,
     "user": {
      "displayName": "dm project",
      "photoUrl": "https://lh3.googleusercontent.com/a/default-user=s64",
      "userId": "10716541108022634460"
     },
     "user_tz": -330
    },
    "id": "yviZ5Hgmg-6e",
    "outputId": "e80f9a2c-ce3f-467e-94f2-2e5761b11fef"
   },
   "outputs": [
    {
     "data": {
      "image/png": "[encoded data removed]",
      "text/plain": [
       "<Figure size 576x576 with 1 Axes>"
      ]
     },
     "metadata": {
      "needs_background": "light"
     },
     "output_type": "display_data"
    }
   ],
   "source": [
    "fig,x=plt.subplots(figsize=(8,8))\n",
    "plt.bar(*zip(*moviecount.items()))\n",
    "plt.setp(x.get_xticklabels(), rotation=90)\n",
    "x.tick_params(labelsize=10)\n",
    "x.tick_params(length=0, axis='x')\n",
    "plt.tight_layout()\n",
    "plt.show()"
   ]
  },
  {
   "cell_type": "code",
   "execution_count": null,
   "metadata": {
    "colab": {
     "base_uri": "https://localhost:8080/",
     "height": 441
    },
    "executionInfo": {
     "elapsed": 18196,
     "status": "ok",
     "timestamp": 1637039925579,
     "user": {
      "displayName": "dm project",
      "photoUrl": "https://lh3.googleusercontent.com/a/default-user=s64",
      "userId": "10716541108022634460"
     },
     "user_tz": -330
    },
    "id": "CsGdz6MwhCpZ",
    "outputId": "3cd1c289-db1a-4865-b522-f4d6e6558cfe"
   },
   "outputs": [
    {
     "data": {
      "image/png": "[encoded data removed]",
      "text/plain": [
       "<Figure size 432x432 with 1 Axes>"
      ]
     },
     "metadata": {
      "needs_background": "light"
     },
     "output_type": "display_data"
    }
   ],
   "source": [
    "\"\"\"Average profit for each production house and plotting top 6\"\"\"\n",
    "\n",
    "avgprofit=[]\n",
    "for x in uniquephouse:\n",
    "      avgprofit.append(df_US_Budget[df_US_Budget['production_companies'].str.contains(x)].Profit.mean())\n",
    "\n",
    "Averageprofit = pd.DataFrame(zip(uniquephouse,avgprofit), columns =['Production house','averageProfit'])\n",
    "Averageprofit.sort_values('averageProfit',ascending=False,inplace=True)\n",
    "Averageprofit=Averageprofit.head(6)\n",
    "\n",
    "fig,x=plt.subplots(figsize=(6,6))\n",
    "sns.barplot(x = 'Production house',\n",
    "            y = 'averageProfit',\n",
    "            data =Averageprofit)\n",
    "plt.title('Production house vs Profit')\n",
    "plt.setp(x.get_xticklabels(), rotation=90)\n",
    "x.tick_params(labelsize=10)\n",
    "x.tick_params(length=0, axis='x')\n",
    "plt.tight_layout()\n",
    "plt.show()"
   ]
  },
  {
   "cell_type": "markdown",
   "metadata": {
    "id": "v41LHr2xLMAA"
   },
   "source": [
    "Movies produced by **Truenorth Production** has the highest average profit"
   ]
  },
  {
   "cell_type": "code",
   "execution_count": null,
   "metadata": {
    "colab": {
     "base_uri": "https://localhost:8080/",
     "height": 441
    },
    "executionInfo": {
     "elapsed": 17856,
     "status": "ok",
     "timestamp": 1637039943415,
     "user": {
      "displayName": "dm project",
      "photoUrl": "https://lh3.googleusercontent.com/a/default-user=s64",
      "userId": "10716541108022634460"
     },
     "user_tz": -330
    },
    "id": "5sNjt1cEhDXM",
    "outputId": "84b5deaf-2987-4608-a1a9-07717e3402d1"
   },
   "outputs": [
    {
     "data": {
      "image/png": "[encoded data removed]",
      "text/plain": [
       "<Figure size 432x432 with 1 Axes>"
      ]
     },
     "metadata": {
      "needs_background": "light"
     },
     "output_type": "display_data"
    }
   ],
   "source": [
    "\"\"\"Average revenue for each production house and plotting top 6\"\"\"\n",
    "\n",
    "avgrevenue=[]\n",
    "for x in uniquephouse:\n",
    "      avgrevenue.append(df_US_Budget[df_US_Budget['production_companies'].str.contains(x)].revenue.mean())\n",
    "\n",
    "Averagerevenue = pd.DataFrame(zip(uniquephouse,avgrevenue), columns =['Production house','averagerevenue'])\n",
    "Averagerevenue.sort_values('averagerevenue',ascending=False,inplace=True)\n",
    "Averagerevenue=Averagerevenue.head(6)\n",
    "\n",
    "fig,x=plt.subplots(figsize=(6,6))\n",
    "sns.barplot(x = 'Production house',\n",
    "            y = 'averagerevenue',\n",
    "            data =Averagerevenue)\n",
    "plt.title('Production house vs revenue')\n",
    "plt.setp(x.get_xticklabels(), rotation=90)\n",
    "x.tick_params(labelsize=10)\n",
    "x.tick_params(length=0, axis='x')\n",
    "plt.tight_layout()\n",
    "plt.show()"
   ]
  },
  {
   "cell_type": "markdown",
   "metadata": {
    "id": "5GJOnX8lLRfE"
   },
   "source": [
    "Movies produced by **Truenorth Production** has the highest average revenue"
   ]
  },
  {
   "cell_type": "code",
   "execution_count": null,
   "metadata": {
    "colab": {
     "base_uri": "https://localhost:8080/",
     "height": 441
    },
    "executionInfo": {
     "elapsed": 17927,
     "status": "ok",
     "timestamp": 1637039961323,
     "user": {
      "displayName": "dm project",
      "photoUrl": "https://lh3.googleusercontent.com/a/default-user=s64",
      "userId": "10716541108022634460"
     },
     "user_tz": -330
    },
    "id": "g3qvD9ZchHFC",
    "outputId": "cce6cdf2-6673-4b29-cc52-3820f4e373c8"
   },
   "outputs": [
    {
     "data": {
      "image/png": "[encoded data removed]",
      "text/plain": [
       "<Figure size 432x432 with 1 Axes>"
      ]
     },
     "metadata": {
      "needs_background": "light"
     },
     "output_type": "display_data"
    }
   ],
   "source": [
    "\"\"\"Average budget for each production house and plotting top 6\"\"\"\n",
    "\n",
    "avgbudget=[]\n",
    "for x in uniquephouse:\n",
    "      avgbudget.append(df_US_Budget[df_US_Budget['production_companies'].str.contains(x)].budget.mean())\n",
    "\n",
    "Averagebudget = pd.DataFrame(zip(uniquephouse,avgbudget), columns =['Production house','averagebudget'])\n",
    "Averagebudget.sort_values('averagebudget',ascending=False,inplace=True)\n",
    "Averagebudget=Averagebudget.head(6)\n",
    "\n",
    "fig,x=plt.subplots(figsize=(6,6))\n",
    "sns.barplot(x = 'Production house',\n",
    "            y = 'averagebudget',\n",
    "            data =Averagebudget)\n",
    "plt.title('Production house vs budget')\n",
    "plt.setp(x.get_xticklabels(), rotation=90)\n",
    "x.tick_params(labelsize=10)\n",
    "x.tick_params(length=0, axis='x')\n",
    "plt.tight_layout()\n",
    "plt.show()"
   ]
  },
  {
   "cell_type": "markdown",
   "metadata": {
    "id": "Z5vzZeB9L01-"
   },
   "source": [
    "Movies produced by **Second Mate Productions** has the highest average budget"
   ]
  },
  {
   "cell_type": "code",
   "execution_count": null,
   "metadata": {
    "colab": {
     "base_uri": "https://localhost:8080/",
     "height": 295
    },
    "executionInfo": {
     "elapsed": 52,
     "status": "ok",
     "timestamp": 1637039961328,
     "user": {
      "displayName": "dm project",
      "photoUrl": "https://lh3.googleusercontent.com/a/default-user=s64",
      "userId": "10716541108022634460"
     },
     "user_tz": -330
    },
    "id": "Pzd_g7DHhJW0",
    "outputId": "56cbb268-c8b7-4b55-ea93-161d8d0e4d07"
   },
   "outputs": [
    {
     "data": {
      "image/png": "[encoded data removed]",
      "text/plain": [
       "<Figure size 432x288 with 1 Axes>"
      ]
     },
     "metadata": {
      "needs_background": "light"
     },
     "output_type": "display_data"
    }
   ],
   "source": [
    "\"\"\"Top6 genres with most profit films\"\"\"\n",
    "\n",
    "l=[]\n",
    "for x in df_US_Budget['genres']:\n",
    "   l.append(x.split(','))\n",
    "\n",
    "genrelist=[]\n",
    "for x in l:\n",
    "   for y in x:\n",
    "            genrelist.append(y)\n",
    "\n",
    "uniquegenre=[]\n",
    "for x in genrelist:\n",
    "  if x not in uniquegenre:\n",
    "     uniquegenre.append(x)\n",
    "\n",
    "avgprofit=[]\n",
    "for x in uniquegenre:\n",
    "      avgprofit.append(df_US_Budget[df_US_Budget['genres'].str.contains(x)].Profit.mean())\n",
    "\n",
    "Averageprofit = pd.DataFrame(zip(uniquegenre,avgprofit), columns =['Genre','averageProfit'])\n",
    "Averageprofit.sort_values('averageProfit',ascending=False,inplace=True)\n",
    "Averageprofit=Averageprofit.head(6)\n",
    "\n",
    "sns.barplot(x = 'Genre',\n",
    "            y = 'averageProfit',\n",
    "            data =Averageprofit)\n",
    "plt.title('Genre vs Profit')\n",
    "plt.show()"
   ]
  },
  {
   "cell_type": "markdown",
   "metadata": {
    "id": "GYsu5NgBMKnW"
   },
   "source": [
    "Movies of **Adventure** genre has most average profit"
   ]
  },
  {
   "cell_type": "code",
   "execution_count": null,
   "metadata": {
    "colab": {
     "base_uri": "https://localhost:8080/",
     "height": 295
    },
    "executionInfo": {
     "elapsed": 1053,
     "status": "ok",
     "timestamp": 1637039962335,
     "user": {
      "displayName": "dm project",
      "photoUrl": "https://lh3.googleusercontent.com/a/default-user=s64",
      "userId": "10716541108022634460"
     },
     "user_tz": -330
    },
    "id": "LKFdRj9OhQpi",
    "outputId": "87117afb-c0ef-468d-f4ad-493bd958b180"
   },
   "outputs": [
    {
     "data": {
      "image/png": "[encoded data removed]",
      "text/plain": [
       "<Figure size 432x288 with 1 Axes>"
      ]
     },
     "metadata": {
      "needs_background": "light"
     },
     "output_type": "display_data"
    }
   ],
   "source": [
    "\"\"\"Top6 genres with most budget films\"\"\"\n",
    "\n",
    "avgbudget=[]\n",
    "for x in uniquegenre:\n",
    "      avgbudget.append(df_US_Budget[df_US_Budget['genres'].str.contains(x)].budget.mean())\n",
    "\n",
    "Averagebudget = pd.DataFrame(zip(uniquegenre,avgbudget), columns =['Genre','averagebudget'])\n",
    "Averagebudget.sort_values('averagebudget',ascending=False,inplace=True)\n",
    "Averagebudget=Averagebudget.head(6)\n",
    "\n",
    "sns.barplot(x = 'Genre',\n",
    "            y = 'averagebudget',\n",
    "            data =Averagebudget)\n",
    "plt.title('Genre vs Budget')\n",
    "plt.show()\n"
   ]
  },
  {
   "cell_type": "markdown",
   "metadata": {
    "id": "QgE939-uMTAM"
   },
   "source": [
    "Movies of **Adventure** genre has most average budget"
   ]
  },
  {
   "cell_type": "code",
   "execution_count": null,
   "metadata": {
    "colab": {
     "base_uri": "https://localhost:8080/",
     "height": 295
    },
    "executionInfo": {
     "elapsed": 35,
     "status": "ok",
     "timestamp": 1637039962340,
     "user": {
      "displayName": "dm project",
      "photoUrl": "https://lh3.googleusercontent.com/a/default-user=s64",
      "userId": "10716541108022634460"
     },
     "user_tz": -330
    },
    "id": "QUnUpWqYhSis",
    "outputId": "3f274b95-5295-4d23-8a3c-f82524b36504"
   },
   "outputs": [
    {
     "data": {
      "image/png": "[encoded data removed]",
      "text/plain": [
       "<Figure size 432x288 with 1 Axes>"
      ]
     },
     "metadata": {
      "needs_background": "light"
     },
     "output_type": "display_data"
    }
   ],
   "source": [
    "\n",
    "\"\"\"Top6 genres with most revenue films\"\"\"\n",
    "\n",
    "avgrevenue=[]\n",
    "for x in uniquegenre:\n",
    "      avgrevenue.append(df_US_Budget[df_US_Budget['genres'].str.contains(x)].revenue.mean())\n",
    "\n",
    "Averagerevenue = pd.DataFrame(zip(uniquegenre,avgrevenue), columns =['Genre','averagerevenue'])\n",
    "Averagerevenue.sort_values('averagerevenue',ascending=False,inplace=True)\n",
    "Averagerevenue=Averagerevenue.head(6)\n",
    "\n",
    "sns.barplot(x = 'Genre',\n",
    "            y = 'averagerevenue',\n",
    "            data =Averagerevenue)\n",
    "plt.title('Genre vs revenue')\n",
    "plt.show()"
   ]
  },
  {
   "cell_type": "markdown",
   "metadata": {
    "id": "b2FEQ-t9MY3o"
   },
   "source": [
    "Movies of **Adventure** genre has most average revenue"
   ]
  },
  {
   "cell_type": "code",
   "execution_count": null,
   "metadata": {
    "colab": {
     "base_uri": "https://localhost:8080/",
     "height": 785
    },
    "executionInfo": {
     "elapsed": 861,
     "status": "ok",
     "timestamp": 1637039963173,
     "user": {
      "displayName": "dm project",
      "photoUrl": "https://lh3.googleusercontent.com/a/default-user=s64",
      "userId": "10716541108022634460"
     },
     "user_tz": -330
    },
    "id": "ovxvKfUxhVk3",
    "outputId": "280a30c3-029b-4f27-dd62-e07ef8497580"
   },
   "outputs": [
    {
     "data": {
      "image/png": "[encoded data removed]",
      "text/plain": [
       "<Figure size 1440x936 with 1 Axes>"
      ]
     },
     "metadata": {
      "needs_background": "light"
     },
     "output_type": "display_data"
    }
   ],
   "source": [
    "\"\"\"Profit over the years\"\"\"\n",
    "\n",
    "df_year=df_US_Budget.copy()\n",
    "df_year=df_year[df_year['releaseYear']>=1980]\n",
    "df_year=(df_year.groupby(df_year['releaseYear'],as_index=False).aggregate(np.mean).reindex(columns=df_year.columns))\n",
    "df_year.sort_values('Profit',ascending=False,inplace=True)\n",
    "df_year=df_year[['releaseYear','Profit']].reset_index(drop=True)\n",
    "\n",
    "plt.figure(figsize=(20,13))\n",
    "sns.barplot(x = 'releaseYear',\n",
    "            y = 'Profit',\n",
    "            data = df_year)\n",
    "plt.title('Year vs Profit')\n",
    "plt.show()"
   ]
  },
  {
   "cell_type": "markdown",
   "metadata": {
    "id": "RhbmXdiZMh0X"
   },
   "source": [
    "Year 2017 has the highest average profit\n",
    "\n",
    "Year 1985 has the lowest average profit\n",
    "\n",
    "The average profit is generally increasing over the years but there is decreasing profit for some years."
   ]
  },
  {
   "cell_type": "code",
   "execution_count": null,
   "metadata": {
    "colab": {
     "base_uri": "https://localhost:8080/",
     "height": 785
    },
    "executionInfo": {
     "elapsed": 36,
     "status": "ok",
     "timestamp": 1637039963180,
     "user": {
      "displayName": "dm project",
      "photoUrl": "https://lh3.googleusercontent.com/a/default-user=s64",
      "userId": "10716541108022634460"
     },
     "user_tz": -330
    },
    "id": "IEubpuwvhYyN",
    "outputId": "b33f2408-c675-4015-e63e-b02aee5b31af"
   },
   "outputs": [
    {
     "data": {
      "image/png": "[encoded data removed]",
      "text/plain": [
       "<Figure size 1440x936 with 1 Axes>"
      ]
     },
     "metadata": {
      "needs_background": "light"
     },
     "output_type": "display_data"
    }
   ],
   "source": [
    "\"\"\"Budget over the years\"\"\"\n",
    "\n",
    "df_year=df_US_Budget.copy()\n",
    "df_year=df_year[df_year['releaseYear']>=1980]\n",
    "df_year=(df_year.groupby(df_year['releaseYear'],as_index=False).aggregate(np.mean).reindex(columns=df_year.columns))\n",
    "df_year.sort_values('budget',ascending=False,inplace=True)\n",
    "df_year=df_year[['releaseYear','budget']].reset_index(drop=True)\n",
    "\n",
    "plt.figure(figsize=(20,13))\n",
    "sns.barplot(x = 'releaseYear',\n",
    "            y = 'budget',\n",
    "            data = df_year)\n",
    "plt.title('Year vs budget')\n",
    "plt.show()"
   ]
  },
  {
   "cell_type": "markdown",
   "metadata": {
    "id": "UPgYS6rqNFGw"
   },
   "source": [
    "Year **2017** has the highest average budget\n",
    "\n",
    "Year **1981** has the lowest average budget\n",
    "\n",
    "The average budget is generally increasing over the years but there is decreasing budget for some years."
   ]
  },
  {
   "cell_type": "code",
   "execution_count": null,
   "metadata": {
    "colab": {
     "base_uri": "https://localhost:8080/",
     "height": 785
    },
    "executionInfo": {
     "elapsed": 619,
     "status": "ok",
     "timestamp": 1637039963768,
     "user": {
      "displayName": "dm project",
      "photoUrl": "https://lh3.googleusercontent.com/a/default-user=s64",
      "userId": "10716541108022634460"
     },
     "user_tz": -330
    },
    "id": "vj_aefNcWHnw",
    "outputId": "a3533b53-0e87-41cb-f721-e21e979452b3"
   },
   "outputs": [
    {
     "data": {
      "image/png": "[encoded data removed]",
      "text/plain": [
       "<Figure size 1440x936 with 1 Axes>"
      ]
     },
     "metadata": {
      "needs_background": "light"
     },
     "output_type": "display_data"
    }
   ],
   "source": [
    "\"\"\"Revenue over the years\"\"\"\n",
    "\n",
    "df_year=df_US_Budget.copy()\n",
    "df_year=df_year[df_year['releaseYear']>=1980]\n",
    "df_year=(df_year.groupby(df_year['releaseYear'],as_index=False).aggregate(np.mean).reindex(columns=df_year.columns))\n",
    "df_year.sort_values('revenue',ascending=False,inplace=True)\n",
    "df_year=df_year[['releaseYear','revenue']].reset_index(drop=True)\n",
    "\n",
    "plt.figure(figsize=(20,13))\n",
    "sns.barplot(x = 'releaseYear',\n",
    "            y = 'revenue',\n",
    "            data = df_year)\n",
    "plt.title('Year vs Revenue')\n",
    "plt.show()"
   ]
  },
  {
   "cell_type": "markdown",
   "metadata": {
    "id": "s5FBmqswNVVR"
   },
   "source": [
    "Year **2017** has the highest average revenue\n",
    "\n",
    "Year **1985** has the lowest average revenue\n",
    "\n",
    "The average revenue is generally increasing over the years but there is decreasing budget for some years."
   ]
  }
 ],
 "metadata": {
  "colab": {
   "authorship_tag": "ABX9TyOc/vVRAaYAMg7gTB0FnWEW",
   "collapsed_sections": [],
   "name": "Analysis on US budget dataset .ipynb",
   "provenance": []
  },
  "kernelspec": {
   "display_name": "Python 3 (ipykernel)",
   "language": "python",
   "name": "python3"
  },
  "language_info": {
   "codemirror_mode": {
    "name": "ipython",
    "version": 3
   },
   "file_extension": ".py",
   "mimetype": "text/x-python",
   "name": "python",
   "nbconvert_exporter": "python",
   "pygments_lexer": "ipython3",
   "version": "3.9.6"
  }
 },
 "nbformat": 4,
 "nbformat_minor": 1
}
