{
 "cells": [
  {
   "cell_type": "code",
   "execution_count": null,
   "metadata": {
    "id": "5_zzU2qebjtU"
   },
   "outputs": [],
   "source": [
    "import pandas as pd\n",
    "import numpy as np\n",
    "import matplotlib.pyplot as plt\n",
    "import seaborn as sns\n",
    "import warnings \n",
    "warnings.filterwarnings('ignore')"
   ]
  },
  {
   "cell_type": "markdown",
   "metadata": {
    "id": "XEqfYCc3by9q"
   },
   "source": [
    "### Analysis for India"
   ]
  },
  {
   "cell_type": "code",
   "execution_count": null,
   "metadata": {
    "id": "IAE_2gWkbvwr"
   },
   "outputs": [],
   "source": [
    "df_India=pd.read_csv('Dataset/India_Final.csv')\n"
   ]
  },
  {
   "cell_type": "code",
   "execution_count": null,
   "metadata": {
    "colab": {
     "base_uri": "https://localhost:8080/"
    },
    "executionInfo": {
     "elapsed": 35,
     "status": "ok",
     "timestamp": 1636970914441,
     "user": {
      "displayName": "dm project",
      "photoUrl": "https://lh3.googleusercontent.com/a/default-user=s64",
      "userId": "10716541108022634460"
     },
     "user_tz": -330
    },
    "id": "K6N871908Ggs",
    "outputId": "1e753154-8984-4eaf-f79e-2e499e8865be"
   },
   "outputs": [
    {
     "data": {
      "text/plain": [
       "(26250, 22)"
      ]
     },
     "execution_count": 16,
     "metadata": {},
     "output_type": "execute_result"
    }
   ],
   "source": [
    "# Checking rows and columns in the dataframe. \n",
    "\n",
    "df_India.shape"
   ]
  },
  {
   "cell_type": "code",
   "execution_count": null,
   "metadata": {
    "colab": {
     "base_uri": "https://localhost:8080/"
    },
    "executionInfo": {
     "elapsed": 496,
     "status": "ok",
     "timestamp": 1636976651867,
     "user": {
      "displayName": "dm project",
      "photoUrl": "https://lh3.googleusercontent.com/a/default-user=s64",
      "userId": "10716541108022634460"
     },
     "user_tz": -330
    },
    "id": "0AXFDxMvaKPO",
    "outputId": "ee01dd9d-df21-4110-f874-14e9a3eced10"
   },
   "outputs": [
    {
     "data": {
      "text/plain": [
       "language          0\n",
       "Moviename         0\n",
       "isAdult           0\n",
       "Year              0\n",
       "runtimeMinutes    0\n",
       "genres            0\n",
       "averageRating     0\n",
       "numVotes          0\n",
       "Actors            0\n",
       "Actress           0\n",
       "Director          0\n",
       "Actresss          0\n",
       "Rating            0\n",
       "type              0\n",
       "dtype: int64"
      ]
     },
     "execution_count": 109,
     "metadata": {},
     "output_type": "execute_result"
    }
   ],
   "source": [
    "#Checking for null values\n",
    "\n",
    "df_India.isnull().sum()"
   ]
  },
  {
   "cell_type": "code",
   "execution_count": null,
   "metadata": {
    "colab": {
     "base_uri": "https://localhost:8080/"
    },
    "executionInfo": {
     "elapsed": 28,
     "status": "ok",
     "timestamp": 1636970914442,
     "user": {
      "displayName": "dm project",
      "photoUrl": "https://lh3.googleusercontent.com/a/default-user=s64",
      "userId": "10716541108022634460"
     },
     "user_tz": -330
    },
    "id": "UwWe6KvN8bB_",
    "outputId": "6b2cb9b7-a9fb-4ab6-b9c7-2a524df61ad4"
   },
   "outputs": [
    {
     "name": "stdout",
     "output_type": "stream",
     "text": [
      "<class 'pandas.core.frame.DataFrame'>\n",
      "RangeIndex: 26250 entries, 0 to 26249\n",
      "Data columns (total 22 columns):\n",
      " #   Column           Non-Null Count  Dtype  \n",
      "---  ------           --------------  -----  \n",
      " 0   Unnamed: 0       26250 non-null  int64  \n",
      " 1   Unnamed: 0.1     26250 non-null  int64  \n",
      " 2   tconst           26250 non-null  object \n",
      " 3   ordering         26250 non-null  int64  \n",
      " 4   title            26250 non-null  object \n",
      " 5   region           26250 non-null  object \n",
      " 6   language         26250 non-null  object \n",
      " 7   isOriginalTitle  26250 non-null  int64  \n",
      " 8   titleType        26250 non-null  object \n",
      " 9   primaryTitle     26250 non-null  object \n",
      " 10  originalTitle    26250 non-null  object \n",
      " 11  isAdult          26250 non-null  int64  \n",
      " 12  startYear        26250 non-null  int64  \n",
      " 13  runtimeMinutes   26250 non-null  int64  \n",
      " 14  genres           26250 non-null  object \n",
      " 15  averageRating    26250 non-null  float64\n",
      " 16  numVotes         26250 non-null  int64  \n",
      " 17  directors        26250 non-null  object \n",
      " 18  writers          26250 non-null  object \n",
      " 19  Actors           26250 non-null  object \n",
      " 20  Actress          26250 non-null  object \n",
      " 21  Director         26250 non-null  object \n",
      "dtypes: float64(1), int64(8), object(13)\n",
      "memory usage: 4.4+ MB\n"
     ]
    }
   ],
   "source": [
    "# Descriptive summary of the dataframe, including the number of non-null values in each columns. \n",
    "\n",
    "df_India.info()"
   ]
  },
  {
   "cell_type": "code",
   "execution_count": null,
   "metadata": {
    "colab": {
     "base_uri": "https://localhost:8080/"
    },
    "executionInfo": {
     "elapsed": 21,
     "status": "ok",
     "timestamp": 1636970914442,
     "user": {
      "displayName": "dm project",
      "photoUrl": "https://lh3.googleusercontent.com/a/default-user=s64",
      "userId": "10716541108022634460"
     },
     "user_tz": -330
    },
    "id": "LssCq3_68rx8",
    "outputId": "7bdc47f5-bb49-41a6-c9e2-a6811bdfaeec"
   },
   "outputs": [
    {
     "data": {
      "text/plain": [
       "0"
      ]
     },
     "execution_count": 18,
     "metadata": {},
     "output_type": "execute_result"
    }
   ],
   "source": [
    "# Check the amount of duplicated data in the dataset\n",
    "\n",
    "sum(df_India.duplicated())"
   ]
  },
  {
   "cell_type": "code",
   "execution_count": null,
   "metadata": {
    "id": "p_o3Au0cc5oz"
   },
   "outputs": [],
   "source": [
    "#Droping the columns that are not included in analysis\n",
    "\n",
    "df_India=df_India.drop(['Unnamed: 0', 'Unnamed: 0.1', 'tconst', 'ordering', 'title','region', \n",
    "       'isOriginalTitle','titleType','directors', 'writers', 'primaryTitle',],axis=1)"
   ]
  },
  {
   "cell_type": "code",
   "execution_count": null,
   "metadata": {
    "id": "QjffhLSMd-sB"
   },
   "outputs": [],
   "source": [
    "df_India.columns=['language', 'Moviename', 'isAdult','Year', 'runtimeMinutes',            #Year represents movie release year\n",
    "       'genres', 'averageRating', 'numVotes', 'Actors',\n",
    "       'Actress', 'Director']"
   ]
  },
  {
   "cell_type": "code",
   "execution_count": null,
   "metadata": {
    "id": "ceYbrmVh3d8o"
   },
   "outputs": [],
   "source": [
    "#Changing the language code to language\n",
    "\n",
    "df_India.language=df_India.language.replace({'hi':'Hindi','en': 'English','ml':'Malayalam','ta':'Tamil','te':'Telgu',\n",
    "                          'ur':'Urdu','bn':'Bengali','kn':'Kannada','mr':'Marathi','gu':'Gujarati','pa':'Punjabi'})"
   ]
  },
  {
   "cell_type": "code",
   "execution_count": null,
   "metadata": {
    "id": "XbWYoND1D6iT"
   },
   "outputs": [],
   "source": [
    "df_India['Actors']=df_India['Actors'].str.split(\"[\").str.get(1)\n",
    "df_India['Actors']=df_India['Actors'].str.split(\"]\").str.get(0)\n",
    "df_India['Actors']=df_India['Actors'].str.replace('\"','')\n",
    "df_India['Actors']=df_India['Actors'].str.replace(\"'\",'')\n",
    "\n",
    "df_India['Director']=df_India['Director'].str.split(\"[\").str.get(1)\n",
    "df_India['Director']=df_India['Director'].str.split(\"]\").str.get(0)\n",
    "df_India['Director']=df_India['Director'].str.replace('\"','')\n",
    "df_India['Director']=df_India['Director'].str.replace(\"'\",'')\n",
    "\n",
    "df_India['Actress']=df_India['Actress'].str.split(\"[\").str.get(1)\n",
    "df_India['Actress']=df_India['Actress'].str.split(\"]\").str.get(0)\n",
    "df_India['Actresss']=df_India['Actress'].str.replace('\"','')\n",
    "df_India['Actress']=df_India['Actress'].str.replace(\"'\",'')"
   ]
  },
  {
   "cell_type": "markdown",
   "metadata": {
    "id": "jNDS5eLpCY_n"
   },
   "source": [
    "Scatter Plots"
   ]
  },
  {
   "cell_type": "code",
   "execution_count": null,
   "metadata": {
    "id": "oM1IuRM-fER6"
   },
   "outputs": [],
   "source": [
    "runtime = df_India['runtimeMinutes'].tolist()\n",
    "rating = df_India['averageRating'].tolist()\n",
    "year=df_India['Year'].tolist()"
   ]
  },
  {
   "cell_type": "code",
   "execution_count": null,
   "metadata": {
    "colab": {
     "base_uri": "https://localhost:8080/",
     "height": 295
    },
    "executionInfo": {
     "elapsed": 21,
     "status": "ok",
     "timestamp": 1636970915411,
     "user": {
      "displayName": "dm project",
      "photoUrl": "https://lh3.googleusercontent.com/a/default-user=s64",
      "userId": "10716541108022634460"
     },
     "user_tz": -330
    },
    "id": "0hJftKHsfIH6",
    "outputId": "74eaa20a-378e-4053-c9e1-8ab2b7ce0465"
   },
   "outputs": [
    {
     "data": {
      "image/png": "[encoded data removed]",
      "text/plain": [
       "<Figure size 432x288 with 1 Axes>"
      ]
     },
     "metadata": {
      "needs_background": "light"
     },
     "output_type": "display_data"
    }
   ],
   "source": [
    "plt.scatter(runtime,rating)\n",
    "plt.title('Runtime vs IMDb Rating')\n",
    "plt.xlabel('Runtime')\n",
    "plt.ylabel('IMDb Rating')\n",
    "plt.show()"
   ]
  },
  {
   "cell_type": "code",
   "execution_count": null,
   "metadata": {
    "colab": {
     "base_uri": "https://localhost:8080/",
     "height": 295
    },
    "executionInfo": {
     "elapsed": 1016,
     "status": "ok",
     "timestamp": 1636970916411,
     "user": {
      "displayName": "dm project",
      "photoUrl": "https://lh3.googleusercontent.com/a/default-user=s64",
      "userId": "10716541108022634460"
     },
     "user_tz": -330
    },
    "id": "LHdXuh4-fMPX",
    "outputId": "36ffae24-f5a2-49b8-d49f-17969f0c637d"
   },
   "outputs": [
    {
     "data": {
      "image/png": "[encoded data removed]",
      "text/plain": [
       "<Figure size 432x288 with 1 Axes>"
      ]
     },
     "metadata": {
      "needs_background": "light"
     },
     "output_type": "display_data"
    }
   ],
   "source": [
    "plt.scatter(year,rating)\n",
    "plt.title('Year vs IMDb Rating')\n",
    "plt.xlabel('Year')\n",
    "plt.ylabel('IMDb Rating')\n",
    "plt.show()"
   ]
  },
  {
   "cell_type": "markdown",
   "metadata": {
    "id": "vitQUOktyTYE"
   },
   "source": [
    "1.Higher runtimes tend to have higher IMDb ratings, but for the vast majority of runtime, the IMDb ratings are spread from about 1 to 10, so it can’t be predicted using the feature by themselves.\n",
    "\n",
    "2.For the Year vs IMDb rating scatter plot, the older years tend to have higher IMDb ratings, but the spread of IMDb ratings increases for more recent years\n",
    "\n"
   ]
  },
  {
   "cell_type": "markdown",
   "metadata": {
    "id": "kZcztYdXsmCx"
   },
   "source": [
    "Correlation between the attributes of the given dataset"
   ]
  },
  {
   "cell_type": "code",
   "execution_count": null,
   "metadata": {
    "colab": {
     "base_uri": "https://localhost:8080/",
     "height": 619
    },
    "executionInfo": {
     "elapsed": 21,
     "status": "ok",
     "timestamp": 1636970916413,
     "user": {
      "displayName": "dm project",
      "photoUrl": "https://lh3.googleusercontent.com/a/default-user=s64",
      "userId": "10716541108022634460"
     },
     "user_tz": -330
    },
    "id": "wZ8FxsPyfjnH",
    "outputId": "be9a6374-793a-4353-a66f-93aeba7efb57"
   },
   "outputs": [
    {
     "data": {
      "text/html": [
       "<div>\n",
       "<style scoped>\n",
       "    .dataframe tbody tr th:only-of-type {\n",
       "        vertical-align: middle;\n",
       "    }\n",
       "\n",
       "    .dataframe tbody tr th {\n",
       "        vertical-align: top;\n",
       "    }\n",
       "\n",
       "    .dataframe thead th {\n",
       "        text-align: right;\n",
       "    }\n",
       "</style>\n",
       "<table border=\"1\" class=\"dataframe\">\n",
       "  <thead>\n",
       "    <tr style=\"text-align: right;\">\n",
       "      <th></th>\n",
       "      <th>isAdult</th>\n",
       "      <th>Year</th>\n",
       "      <th>runtimeMinutes</th>\n",
       "      <th>averageRating</th>\n",
       "      <th>numVotes</th>\n",
       "    </tr>\n",
       "  </thead>\n",
       "  <tbody>\n",
       "    <tr>\n",
       "      <th>isAdult</th>\n",
       "      <td>1.000000</td>\n",
       "      <td>0.001959</td>\n",
       "      <td>-0.006234</td>\n",
       "      <td>-0.002019</td>\n",
       "      <td>-0.005434</td>\n",
       "    </tr>\n",
       "    <tr>\n",
       "      <th>Year</th>\n",
       "      <td>0.001959</td>\n",
       "      <td>1.000000</td>\n",
       "      <td>-0.033964</td>\n",
       "      <td>-0.160763</td>\n",
       "      <td>-0.017246</td>\n",
       "    </tr>\n",
       "    <tr>\n",
       "      <th>runtimeMinutes</th>\n",
       "      <td>-0.006234</td>\n",
       "      <td>-0.033964</td>\n",
       "      <td>1.000000</td>\n",
       "      <td>0.227697</td>\n",
       "      <td>0.028016</td>\n",
       "    </tr>\n",
       "    <tr>\n",
       "      <th>averageRating</th>\n",
       "      <td>-0.002019</td>\n",
       "      <td>-0.160763</td>\n",
       "      <td>0.227697</td>\n",
       "      <td>1.000000</td>\n",
       "      <td>0.277065</td>\n",
       "    </tr>\n",
       "    <tr>\n",
       "      <th>numVotes</th>\n",
       "      <td>-0.005434</td>\n",
       "      <td>-0.017246</td>\n",
       "      <td>0.028016</td>\n",
       "      <td>0.277065</td>\n",
       "      <td>1.000000</td>\n",
       "    </tr>\n",
       "  </tbody>\n",
       "</table>\n",
       "</div>"
      ],
      "text/plain": [
       "                 isAdult      Year  runtimeMinutes  averageRating  numVotes\n",
       "isAdult         1.000000  0.001959       -0.006234      -0.002019 -0.005434\n",
       "Year            0.001959  1.000000       -0.033964      -0.160763 -0.017246\n",
       "runtimeMinutes -0.006234 -0.033964        1.000000       0.227697  0.028016\n",
       "averageRating  -0.002019 -0.160763        0.227697       1.000000  0.277065\n",
       "numVotes       -0.005434 -0.017246        0.028016       0.277065  1.000000"
      ]
     },
     "execution_count": 26,
     "metadata": {},
     "output_type": "execute_result"
    },
    {
     "data": {
      "image/png": "[encoded data removed]",
      "text/plain": [
       "<Figure size 1080x504 with 2 Axes>"
      ]
     },
     "metadata": {
      "needs_background": "light"
     },
     "output_type": "display_data"
    }
   ],
   "source": [
    "plt.figure(figsize=(15,7))\n",
    "corr_matrix=df_India.corr()\n",
    "sns.heatmap(corr_matrix,annot=True)\n",
    "corr_matrix"
   ]
  },
  {
   "cell_type": "markdown",
   "metadata": {
    "id": "rwM7PeMg0F3B"
   },
   "source": [
    "From above correlation matrix we find that there is a correlation between\n",
    "average rating-runtime,number of votes-runtime and number of votes-average rating"
   ]
  },
  {
   "cell_type": "markdown",
   "metadata": {
    "id": "F6hFd2-8iH1y"
   },
   "source": [
    "Finding top10 genre combination based on rating,runtime of movies"
   ]
  },
  {
   "cell_type": "code",
   "execution_count": null,
   "metadata": {
    "colab": {
     "base_uri": "https://localhost:8080/",
     "height": 390
    },
    "executionInfo": {
     "elapsed": 21,
     "status": "ok",
     "timestamp": 1636970916414,
     "user": {
      "displayName": "dm project",
      "photoUrl": "https://lh3.googleusercontent.com/a/default-user=s64",
      "userId": "10716541108022634460"
     },
     "user_tz": -330
    },
    "id": "WylYlfVsfzEe",
    "outputId": "0edb506b-1895-4aee-f886-a909e227387a"
   },
   "outputs": [
    {
     "data": {
      "text/html": [
       "<div>\n",
       "<style scoped>\n",
       "    .dataframe tbody tr th:only-of-type {\n",
       "        vertical-align: middle;\n",
       "    }\n",
       "\n",
       "    .dataframe tbody tr th {\n",
       "        vertical-align: top;\n",
       "    }\n",
       "\n",
       "    .dataframe thead th {\n",
       "        text-align: right;\n",
       "    }\n",
       "</style>\n",
       "<table border=\"1\" class=\"dataframe\">\n",
       "  <thead>\n",
       "    <tr style=\"text-align: right;\">\n",
       "      <th></th>\n",
       "      <th>averageRating</th>\n",
       "    </tr>\n",
       "    <tr>\n",
       "      <th>genres</th>\n",
       "      <th></th>\n",
       "    </tr>\n",
       "  </thead>\n",
       "  <tbody>\n",
       "    <tr>\n",
       "      <th>Biography,History</th>\n",
       "      <td>9.26</td>\n",
       "    </tr>\n",
       "    <tr>\n",
       "      <th>Animation,Drama,War</th>\n",
       "      <td>8.50</td>\n",
       "    </tr>\n",
       "    <tr>\n",
       "      <th>Animation,Mystery</th>\n",
       "      <td>8.40</td>\n",
       "    </tr>\n",
       "    <tr>\n",
       "      <th>Drama,Mystery,War</th>\n",
       "      <td>8.30</td>\n",
       "    </tr>\n",
       "    <tr>\n",
       "      <th>Drama,Fantasy,War</th>\n",
       "      <td>8.20</td>\n",
       "    </tr>\n",
       "    <tr>\n",
       "      <th>Adventure,Crime,Family</th>\n",
       "      <td>8.10</td>\n",
       "    </tr>\n",
       "    <tr>\n",
       "      <th>Biography,Documentary,Musical</th>\n",
       "      <td>8.10</td>\n",
       "    </tr>\n",
       "    <tr>\n",
       "      <th>Adult,Thriller</th>\n",
       "      <td>8.10</td>\n",
       "    </tr>\n",
       "    <tr>\n",
       "      <th>Comedy,Crime,Sport</th>\n",
       "      <td>8.10</td>\n",
       "    </tr>\n",
       "    <tr>\n",
       "      <th>Film-Noir,Mystery,Thriller</th>\n",
       "      <td>8.10</td>\n",
       "    </tr>\n",
       "  </tbody>\n",
       "</table>\n",
       "</div>"
      ],
      "text/plain": [
       "                               averageRating\n",
       "genres                                      \n",
       "Biography,History                       9.26\n",
       "Animation,Drama,War                     8.50\n",
       "Animation,Mystery                       8.40\n",
       "Drama,Mystery,War                       8.30\n",
       "Drama,Fantasy,War                       8.20\n",
       "Adventure,Crime,Family                  8.10\n",
       "Biography,Documentary,Musical           8.10\n",
       "Adult,Thriller                          8.10\n",
       "Comedy,Crime,Sport                      8.10\n",
       "Film-Noir,Mystery,Thriller              8.10"
      ]
     },
     "execution_count": 27,
     "metadata": {},
     "output_type": "execute_result"
    }
   ],
   "source": [
    "df_India.groupby('genres')[['averageRating']].mean().sort_values(by='averageRating',ascending=False).head(10)"
   ]
  },
  {
   "cell_type": "markdown",
   "metadata": {
    "id": "at2B73um0sJT"
   },
   "source": [
    "Combination of Biography and history has the highest average rating among all combination"
   ]
  },
  {
   "cell_type": "code",
   "execution_count": null,
   "metadata": {
    "colab": {
     "base_uri": "https://localhost:8080/",
     "height": 390
    },
    "executionInfo": {
     "elapsed": 23,
     "status": "ok",
     "timestamp": 1636970916417,
     "user": {
      "displayName": "dm project",
      "photoUrl": "https://lh3.googleusercontent.com/a/default-user=s64",
      "userId": "10716541108022634460"
     },
     "user_tz": -330
    },
    "id": "WwoALHTPiH10",
    "outputId": "2ed0452e-0b0c-4736-9255-8e06c945fea8"
   },
   "outputs": [
    {
     "data": {
      "text/html": [
       "<div>\n",
       "<style scoped>\n",
       "    .dataframe tbody tr th:only-of-type {\n",
       "        vertical-align: middle;\n",
       "    }\n",
       "\n",
       "    .dataframe tbody tr th {\n",
       "        vertical-align: top;\n",
       "    }\n",
       "\n",
       "    .dataframe thead th {\n",
       "        text-align: right;\n",
       "    }\n",
       "</style>\n",
       "<table border=\"1\" class=\"dataframe\">\n",
       "  <thead>\n",
       "    <tr style=\"text-align: right;\">\n",
       "      <th></th>\n",
       "      <th>runtimeMinutes</th>\n",
       "    </tr>\n",
       "    <tr>\n",
       "      <th>genres</th>\n",
       "      <th></th>\n",
       "    </tr>\n",
       "  </thead>\n",
       "  <tbody>\n",
       "    <tr>\n",
       "      <th>Adventure,History,Romance</th>\n",
       "      <td>287.0</td>\n",
       "    </tr>\n",
       "    <tr>\n",
       "      <th>Sci-Fi,Western</th>\n",
       "      <td>245.0</td>\n",
       "    </tr>\n",
       "    <tr>\n",
       "      <th>Drama,Musical,Sport</th>\n",
       "      <td>224.0</td>\n",
       "    </tr>\n",
       "    <tr>\n",
       "      <th>History,War</th>\n",
       "      <td>185.0</td>\n",
       "    </tr>\n",
       "    <tr>\n",
       "      <th>Action,Musical,War</th>\n",
       "      <td>184.0</td>\n",
       "    </tr>\n",
       "    <tr>\n",
       "      <th>History,Musical,Romance</th>\n",
       "      <td>175.0</td>\n",
       "    </tr>\n",
       "    <tr>\n",
       "      <th>Biography,Crime,Thriller</th>\n",
       "      <td>171.0</td>\n",
       "    </tr>\n",
       "    <tr>\n",
       "      <th>Musical,Romance,Thriller</th>\n",
       "      <td>168.0</td>\n",
       "    </tr>\n",
       "    <tr>\n",
       "      <th>Action,Music</th>\n",
       "      <td>168.0</td>\n",
       "    </tr>\n",
       "    <tr>\n",
       "      <th>Musical,Mystery,Thriller</th>\n",
       "      <td>166.0</td>\n",
       "    </tr>\n",
       "  </tbody>\n",
       "</table>\n",
       "</div>"
      ],
      "text/plain": [
       "                           runtimeMinutes\n",
       "genres                                   \n",
       "Adventure,History,Romance           287.0\n",
       "Sci-Fi,Western                      245.0\n",
       "Drama,Musical,Sport                 224.0\n",
       "History,War                         185.0\n",
       "Action,Musical,War                  184.0\n",
       "History,Musical,Romance             175.0\n",
       "Biography,Crime,Thriller            171.0\n",
       "Musical,Romance,Thriller            168.0\n",
       "Action,Music                        168.0\n",
       "Musical,Mystery,Thriller            166.0"
      ]
     },
     "execution_count": 28,
     "metadata": {},
     "output_type": "execute_result"
    }
   ],
   "source": [
    "df_India.groupby('genres')[['runtimeMinutes']].mean().sort_values(by='runtimeMinutes',ascending=False).head(10)"
   ]
  },
  {
   "cell_type": "markdown",
   "metadata": {
    "id": "r8YUch_J1kh8"
   },
   "source": [
    "Combination of Adventure,History,Romance has the highest average runtime among all combination"
   ]
  },
  {
   "cell_type": "markdown",
   "metadata": {
    "id": "1gq9cknGiH11"
   },
   "source": [
    "Top 10 directors based on movie ratings directed by them"
   ]
  },
  {
   "cell_type": "code",
   "execution_count": null,
   "metadata": {
    "colab": {
     "base_uri": "https://localhost:8080/",
     "height": 390
    },
    "executionInfo": {
     "elapsed": 23,
     "status": "ok",
     "timestamp": 1636970916418,
     "user": {
      "displayName": "dm project",
      "photoUrl": "https://lh3.googleusercontent.com/a/default-user=s64",
      "userId": "10716541108022634460"
     },
     "user_tz": -330
    },
    "id": "U1AOUq6kieyE",
    "outputId": "f5562ecb-f8df-4da3-8400-46734d0bb228"
   },
   "outputs": [
    {
     "data": {
      "text/html": [
       "<div>\n",
       "<style scoped>\n",
       "    .dataframe tbody tr th:only-of-type {\n",
       "        vertical-align: middle;\n",
       "    }\n",
       "\n",
       "    .dataframe tbody tr th {\n",
       "        vertical-align: top;\n",
       "    }\n",
       "\n",
       "    .dataframe thead th {\n",
       "        text-align: right;\n",
       "    }\n",
       "</style>\n",
       "<table border=\"1\" class=\"dataframe\">\n",
       "  <thead>\n",
       "    <tr style=\"text-align: right;\">\n",
       "      <th></th>\n",
       "      <th>averageRating</th>\n",
       "    </tr>\n",
       "    <tr>\n",
       "      <th>Director</th>\n",
       "      <th></th>\n",
       "    </tr>\n",
       "  </thead>\n",
       "  <tbody>\n",
       "    <tr>\n",
       "      <th>Kayyam Upendra Kumar Nandhan</th>\n",
       "      <td>10.0</td>\n",
       "    </tr>\n",
       "    <tr>\n",
       "      <th>Naveen Deshaboina</th>\n",
       "      <td>9.6</td>\n",
       "    </tr>\n",
       "    <tr>\n",
       "      <th>Kittu</th>\n",
       "      <td>9.5</td>\n",
       "    </tr>\n",
       "    <tr>\n",
       "      <th>Revanth Korukonda</th>\n",
       "      <td>9.5</td>\n",
       "    </tr>\n",
       "    <tr>\n",
       "      <th>Sam Bhattacharjee</th>\n",
       "      <td>9.5</td>\n",
       "    </tr>\n",
       "    <tr>\n",
       "      <th>Mathilde Damoisel</th>\n",
       "      <td>9.4</td>\n",
       "    </tr>\n",
       "    <tr>\n",
       "      <th>Basheer Pulari</th>\n",
       "      <td>9.4</td>\n",
       "    </tr>\n",
       "    <tr>\n",
       "      <th>Prasun Chatterjee</th>\n",
       "      <td>9.4</td>\n",
       "    </tr>\n",
       "    <tr>\n",
       "      <th>Hemanth Srinivas</th>\n",
       "      <td>9.4</td>\n",
       "    </tr>\n",
       "    <tr>\n",
       "      <th>Ranjith Joseph</th>\n",
       "      <td>9.4</td>\n",
       "    </tr>\n",
       "  </tbody>\n",
       "</table>\n",
       "</div>"
      ],
      "text/plain": [
       "                              averageRating\n",
       "Director                                   \n",
       "Kayyam Upendra Kumar Nandhan           10.0\n",
       "Naveen Deshaboina                       9.6\n",
       "Kittu                                   9.5\n",
       "Revanth Korukonda                       9.5\n",
       "Sam Bhattacharjee                       9.5\n",
       "Mathilde Damoisel                       9.4\n",
       "Basheer Pulari                          9.4\n",
       "Prasun Chatterjee                       9.4\n",
       "Hemanth Srinivas                        9.4\n",
       "Ranjith Joseph                          9.4"
      ]
     },
     "execution_count": 29,
     "metadata": {},
     "output_type": "execute_result"
    }
   ],
   "source": [
    "df_India.groupby('Director')[['averageRating']].mean().sort_values(by='averageRating',ascending=False).head(10)"
   ]
  },
  {
   "cell_type": "markdown",
   "metadata": {
    "id": "EVSDUBnP16pX"
   },
   "source": [
    "**Kayyam Upendra Kumar Nandhan** has the highest average rating among all directors"
   ]
  },
  {
   "cell_type": "markdown",
   "metadata": {
    "id": "A_iqWa_EiH13"
   },
   "source": [
    "Top10 movies based on rating"
   ]
  },
  {
   "cell_type": "code",
   "execution_count": null,
   "metadata": {
    "colab": {
     "base_uri": "https://localhost:8080/",
     "height": 390
    },
    "executionInfo": {
     "elapsed": 24,
     "status": "ok",
     "timestamp": 1636970916419,
     "user": {
      "displayName": "dm project",
      "photoUrl": "https://lh3.googleusercontent.com/a/default-user=s64",
      "userId": "10716541108022634460"
     },
     "user_tz": -330
    },
    "id": "nNeVKBBJyRoj",
    "outputId": "34f04d1b-3461-40d4-d0d2-4f4617c832c2"
   },
   "outputs": [
    {
     "data": {
      "text/html": [
       "<div>\n",
       "<style scoped>\n",
       "    .dataframe tbody tr th:only-of-type {\n",
       "        vertical-align: middle;\n",
       "    }\n",
       "\n",
       "    .dataframe tbody tr th {\n",
       "        vertical-align: top;\n",
       "    }\n",
       "\n",
       "    .dataframe thead th {\n",
       "        text-align: right;\n",
       "    }\n",
       "</style>\n",
       "<table border=\"1\" class=\"dataframe\">\n",
       "  <thead>\n",
       "    <tr style=\"text-align: right;\">\n",
       "      <th></th>\n",
       "      <th>averageRating</th>\n",
       "    </tr>\n",
       "    <tr>\n",
       "      <th>Moviename</th>\n",
       "      <th></th>\n",
       "    </tr>\n",
       "  </thead>\n",
       "  <tbody>\n",
       "    <tr>\n",
       "      <th>Miles of Love</th>\n",
       "      <td>10.0</td>\n",
       "    </tr>\n",
       "    <tr>\n",
       "      <th>Rickshawala</th>\n",
       "      <td>9.7</td>\n",
       "    </tr>\n",
       "    <tr>\n",
       "      <th>Jai Bhim</th>\n",
       "      <td>9.6</td>\n",
       "    </tr>\n",
       "    <tr>\n",
       "      <th>Lata Bhagwan Kare</th>\n",
       "      <td>9.6</td>\n",
       "    </tr>\n",
       "    <tr>\n",
       "      <th>Barun Rai and the House on the Cliff</th>\n",
       "      <td>9.5</td>\n",
       "    </tr>\n",
       "    <tr>\n",
       "      <th>Methagu</th>\n",
       "      <td>9.5</td>\n",
       "    </tr>\n",
       "    <tr>\n",
       "      <th>Natyam</th>\n",
       "      <td>9.5</td>\n",
       "    </tr>\n",
       "    <tr>\n",
       "      <th>Cabin</th>\n",
       "      <td>9.4</td>\n",
       "    </tr>\n",
       "    <tr>\n",
       "      <th>Crazy Uncles</th>\n",
       "      <td>9.4</td>\n",
       "    </tr>\n",
       "    <tr>\n",
       "      <th>Amudhan aka Sinamkol</th>\n",
       "      <td>9.4</td>\n",
       "    </tr>\n",
       "  </tbody>\n",
       "</table>\n",
       "</div>"
      ],
      "text/plain": [
       "                                      averageRating\n",
       "Moviename                                          \n",
       "Miles of Love                                  10.0\n",
       "Rickshawala                                     9.7\n",
       "Jai Bhim                                        9.6\n",
       "Lata Bhagwan Kare                               9.6\n",
       "Barun Rai and the House on the Cliff            9.5\n",
       "Methagu                                         9.5\n",
       "Natyam                                          9.5\n",
       "Cabin                                           9.4\n",
       "Crazy Uncles                                    9.4\n",
       "Amudhan aka Sinamkol                            9.4"
      ]
     },
     "execution_count": 30,
     "metadata": {},
     "output_type": "execute_result"
    }
   ],
   "source": [
    "df_India.groupby('Moviename')[['averageRating']].mean().sort_values(by='averageRating',ascending=False).head(10)"
   ]
  },
  {
   "cell_type": "markdown",
   "metadata": {
    "id": "J80LsciF2dxY"
   },
   "source": [
    "**Miles of Love** has the highest average rating among all movies"
   ]
  },
  {
   "cell_type": "markdown",
   "metadata": {
    "id": "ASyY4b9CiH14"
   },
   "source": [
    "Top10 movies based on runtime"
   ]
  },
  {
   "cell_type": "code",
   "execution_count": null,
   "metadata": {
    "colab": {
     "base_uri": "https://localhost:8080/",
     "height": 390
    },
    "executionInfo": {
     "elapsed": 792,
     "status": "ok",
     "timestamp": 1636970917188,
     "user": {
      "displayName": "dm project",
      "photoUrl": "https://lh3.googleusercontent.com/a/default-user=s64",
      "userId": "10716541108022634460"
     },
     "user_tz": -330
    },
    "id": "Nx-l5XlhiH15",
    "outputId": "2f386aeb-2a8c-4241-908d-d76a81d4e722"
   },
   "outputs": [
    {
     "data": {
      "text/html": [
       "<div>\n",
       "<style scoped>\n",
       "    .dataframe tbody tr th:only-of-type {\n",
       "        vertical-align: middle;\n",
       "    }\n",
       "\n",
       "    .dataframe tbody tr th {\n",
       "        vertical-align: top;\n",
       "    }\n",
       "\n",
       "    .dataframe thead th {\n",
       "        text-align: right;\n",
       "    }\n",
       "</style>\n",
       "<table border=\"1\" class=\"dataframe\">\n",
       "  <thead>\n",
       "    <tr style=\"text-align: right;\">\n",
       "      <th></th>\n",
       "      <th>runtimeMinutes</th>\n",
       "    </tr>\n",
       "    <tr>\n",
       "      <th>Moviename</th>\n",
       "      <th></th>\n",
       "    </tr>\n",
       "  </thead>\n",
       "  <tbody>\n",
       "    <tr>\n",
       "      <th>****</th>\n",
       "      <td>1500.0</td>\n",
       "    </tr>\n",
       "    <tr>\n",
       "      <th>DAU. Degeneratsiya</th>\n",
       "      <td>369.0</td>\n",
       "    </tr>\n",
       "    <tr>\n",
       "      <th>Gangs of Wasseypur</th>\n",
       "      <td>321.0</td>\n",
       "    </tr>\n",
       "    <tr>\n",
       "      <th>Athidhi</th>\n",
       "      <td>300.0</td>\n",
       "    </tr>\n",
       "    <tr>\n",
       "      <th>Potop</th>\n",
       "      <td>287.0</td>\n",
       "    </tr>\n",
       "    <tr>\n",
       "      <th>Cobra nero</th>\n",
       "      <td>272.0</td>\n",
       "    </tr>\n",
       "    <tr>\n",
       "      <th>Darkest Africa</th>\n",
       "      <td>269.0</td>\n",
       "    </tr>\n",
       "    <tr>\n",
       "      <th>The Greatest Story Ever Told</th>\n",
       "      <td>260.0</td>\n",
       "    </tr>\n",
       "    <tr>\n",
       "      <th>Janwar</th>\n",
       "      <td>247.0</td>\n",
       "    </tr>\n",
       "    <tr>\n",
       "      <th>Kill Bill: The Whole Bloody Affair</th>\n",
       "      <td>247.0</td>\n",
       "    </tr>\n",
       "  </tbody>\n",
       "</table>\n",
       "</div>"
      ],
      "text/plain": [
       "                                    runtimeMinutes\n",
       "Moviename                                         \n",
       "****                                        1500.0\n",
       "DAU. Degeneratsiya                           369.0\n",
       "Gangs of Wasseypur                           321.0\n",
       "Athidhi                                      300.0\n",
       "Potop                                        287.0\n",
       "Cobra nero                                   272.0\n",
       "Darkest Africa                               269.0\n",
       "The Greatest Story Ever Told                 260.0\n",
       "Janwar                                       247.0\n",
       "Kill Bill: The Whole Bloody Affair           247.0"
      ]
     },
     "execution_count": 31,
     "metadata": {},
     "output_type": "execute_result"
    }
   ],
   "source": [
    "df_India.groupby('Moviename')[['runtimeMinutes']].mean().sort_values(by='runtimeMinutes',ascending=False).head(10)"
   ]
  },
  {
   "cell_type": "markdown",
   "metadata": {
    "id": "iBNlzrFUiH16"
   },
   "source": [
    "Top10 actors based on movie rating"
   ]
  },
  {
   "cell_type": "code",
   "execution_count": null,
   "metadata": {
    "colab": {
     "base_uri": "https://localhost:8080/",
     "height": 390
    },
    "executionInfo": {
     "elapsed": 44,
     "status": "ok",
     "timestamp": 1636970917189,
     "user": {
      "displayName": "dm project",
      "photoUrl": "https://lh3.googleusercontent.com/a/default-user=s64",
      "userId": "10716541108022634460"
     },
     "user_tz": -330
    },
    "id": "z5lcDb04i8tf",
    "outputId": "ba954266-6b4a-4510-8d75-df551d2b3f59"
   },
   "outputs": [
    {
     "data": {
      "text/html": [
       "<div>\n",
       "<style scoped>\n",
       "    .dataframe tbody tr th:only-of-type {\n",
       "        vertical-align: middle;\n",
       "    }\n",
       "\n",
       "    .dataframe tbody tr th {\n",
       "        vertical-align: top;\n",
       "    }\n",
       "\n",
       "    .dataframe thead th {\n",
       "        text-align: right;\n",
       "    }\n",
       "</style>\n",
       "<table border=\"1\" class=\"dataframe\">\n",
       "  <thead>\n",
       "    <tr style=\"text-align: right;\">\n",
       "      <th></th>\n",
       "      <th>averageRating</th>\n",
       "    </tr>\n",
       "    <tr>\n",
       "      <th>Actors</th>\n",
       "      <th></th>\n",
       "    </tr>\n",
       "  </thead>\n",
       "  <tbody>\n",
       "    <tr>\n",
       "      <th>Ramya Pasupileti, Kaushik Reddy, Medishetti Abhinav, Ravi Siva Teja</th>\n",
       "      <td>10.0</td>\n",
       "    </tr>\n",
       "    <tr>\n",
       "      <th>Avinash Dwivedi</th>\n",
       "      <td>9.7</td>\n",
       "    </tr>\n",
       "    <tr>\n",
       "      <th>Aarumugam, Suriya</th>\n",
       "      <td>9.6</td>\n",
       "    </tr>\n",
       "    <tr>\n",
       "      <th>Bhagwan Kare, Sunil Kare, Ajay Shinde</th>\n",
       "      <td>9.6</td>\n",
       "    </tr>\n",
       "    <tr>\n",
       "      <th>Sid Makkar, George Dawson, Priyanshu Chatterjee</th>\n",
       "      <td>9.5</td>\n",
       "    </tr>\n",
       "    <tr>\n",
       "      <th>Chandrasekar, Eshwar Basha, Kutti Mani</th>\n",
       "      <td>9.5</td>\n",
       "    </tr>\n",
       "    <tr>\n",
       "      <th>Subhalekha Sudhakar, Kamal Kamaraju</th>\n",
       "      <td>9.5</td>\n",
       "    </tr>\n",
       "    <tr>\n",
       "      <th>Kranti Reddy, Krishna Murali Posani</th>\n",
       "      <td>9.4</td>\n",
       "    </tr>\n",
       "    <tr>\n",
       "      <th>Aravindhan, Sinthar Athith</th>\n",
       "      <td>9.4</td>\n",
       "    </tr>\n",
       "    <tr>\n",
       "      <th>Walter Fluker, Marc Crépon</th>\n",
       "      <td>9.4</td>\n",
       "    </tr>\n",
       "  </tbody>\n",
       "</table>\n",
       "</div>"
      ],
      "text/plain": [
       "                                                    averageRating\n",
       "Actors                                                           \n",
       "Ramya Pasupileti, Kaushik Reddy, Medishetti Abh...           10.0\n",
       "Avinash Dwivedi                                               9.7\n",
       "Aarumugam, Suriya                                             9.6\n",
       "Bhagwan Kare, Sunil Kare, Ajay Shinde                         9.6\n",
       "Sid Makkar, George Dawson, Priyanshu Chatterjee               9.5\n",
       "Chandrasekar, Eshwar Basha, Kutti Mani                        9.5\n",
       "Subhalekha Sudhakar, Kamal Kamaraju                           9.5\n",
       "Kranti Reddy, Krishna Murali Posani                           9.4\n",
       "Aravindhan, Sinthar Athith                                    9.4\n",
       "Walter Fluker, Marc Crépon                                    9.4"
      ]
     },
     "execution_count": 32,
     "metadata": {},
     "output_type": "execute_result"
    }
   ],
   "source": [
    "df_India.groupby('Actors')[['averageRating']].mean().sort_values(by='averageRating',ascending=False).head(10)"
   ]
  },
  {
   "cell_type": "markdown",
   "metadata": {
    "id": "ovejUPIN3zuY"
   },
   "source": [
    "**Ramya Pasupileti, Kaushik Reddy, Medishetti Abhinav, Ravi Siva Teja** has the highest average rating among all actors combination"
   ]
  },
  {
   "cell_type": "markdown",
   "metadata": {
    "id": "4-FyKPUZiH17"
   },
   "source": [
    "Average rating of movies of each language"
   ]
  },
  {
   "cell_type": "code",
   "execution_count": null,
   "metadata": {
    "colab": {
     "base_uri": "https://localhost:8080/",
     "height": 390
    },
    "executionInfo": {
     "elapsed": 43,
     "status": "ok",
     "timestamp": 1636970917190,
     "user": {
      "displayName": "dm project",
      "photoUrl": "https://lh3.googleusercontent.com/a/default-user=s64",
      "userId": "10716541108022634460"
     },
     "user_tz": -330
    },
    "id": "TKSkGJV-z-JL",
    "outputId": "0549d2f8-33df-41f5-9340-2da0707337ec"
   },
   "outputs": [
    {
     "data": {
      "text/html": [
       "<div>\n",
       "<style scoped>\n",
       "    .dataframe tbody tr th:only-of-type {\n",
       "        vertical-align: middle;\n",
       "    }\n",
       "\n",
       "    .dataframe tbody tr th {\n",
       "        vertical-align: top;\n",
       "    }\n",
       "\n",
       "    .dataframe thead th {\n",
       "        text-align: right;\n",
       "    }\n",
       "</style>\n",
       "<table border=\"1\" class=\"dataframe\">\n",
       "  <thead>\n",
       "    <tr style=\"text-align: right;\">\n",
       "      <th></th>\n",
       "      <th>averageRating</th>\n",
       "    </tr>\n",
       "    <tr>\n",
       "      <th>language</th>\n",
       "      <th></th>\n",
       "    </tr>\n",
       "  </thead>\n",
       "  <tbody>\n",
       "    <tr>\n",
       "      <th>Gujarati</th>\n",
       "      <td>7.430769</td>\n",
       "    </tr>\n",
       "    <tr>\n",
       "      <th>Marathi</th>\n",
       "      <td>7.307317</td>\n",
       "    </tr>\n",
       "    <tr>\n",
       "      <th>Kannada</th>\n",
       "      <td>7.050000</td>\n",
       "    </tr>\n",
       "    <tr>\n",
       "      <th>Bengali</th>\n",
       "      <td>7.015714</td>\n",
       "    </tr>\n",
       "    <tr>\n",
       "      <th>Urdu</th>\n",
       "      <td>6.896226</td>\n",
       "    </tr>\n",
       "    <tr>\n",
       "      <th>Telgu</th>\n",
       "      <td>6.537632</td>\n",
       "    </tr>\n",
       "    <tr>\n",
       "      <th>Tamil</th>\n",
       "      <td>6.467383</td>\n",
       "    </tr>\n",
       "    <tr>\n",
       "      <th>Malayalam</th>\n",
       "      <td>6.419171</td>\n",
       "    </tr>\n",
       "    <tr>\n",
       "      <th>Hindi</th>\n",
       "      <td>6.238503</td>\n",
       "    </tr>\n",
       "    <tr>\n",
       "      <th>English</th>\n",
       "      <td>6.171702</td>\n",
       "    </tr>\n",
       "  </tbody>\n",
       "</table>\n",
       "</div>"
      ],
      "text/plain": [
       "           averageRating\n",
       "language                \n",
       "Gujarati        7.430769\n",
       "Marathi         7.307317\n",
       "Kannada         7.050000\n",
       "Bengali         7.015714\n",
       "Urdu            6.896226\n",
       "Telgu           6.537632\n",
       "Tamil           6.467383\n",
       "Malayalam       6.419171\n",
       "Hindi           6.238503\n",
       "English         6.171702"
      ]
     },
     "execution_count": 33,
     "metadata": {},
     "output_type": "execute_result"
    }
   ],
   "source": [
    "df_India.groupby('language')[['averageRating']].mean().sort_values(by='averageRating',ascending=False).head(10)"
   ]
  },
  {
   "cell_type": "markdown",
   "metadata": {
    "id": "0hJri7a5uGCE"
   },
   "source": [
    "Number of movies year wise from 2011 to see the effect of covid-19 on movie industry"
   ]
  },
  {
   "cell_type": "code",
   "execution_count": null,
   "metadata": {
    "colab": {
     "base_uri": "https://localhost:8080/"
    },
    "executionInfo": {
     "elapsed": 41,
     "status": "ok",
     "timestamp": 1636970917191,
     "user": {
      "displayName": "dm project",
      "photoUrl": "https://lh3.googleusercontent.com/a/default-user=s64",
      "userId": "10716541108022634460"
     },
     "user_tz": -330
    },
    "id": "EU6Voz6qpGex",
    "outputId": "255afcd8-f61b-4033-b740-886c5945bc3c"
   },
   "outputs": [
    {
     "data": {
      "text/plain": [
       "2019    2266\n",
       "2020    1699\n",
       "2018    1688\n",
       "2021    1590\n",
       "2017    1412\n",
       "2016    1210\n",
       "2015     978\n",
       "2014     859\n",
       "2013     849\n",
       "2012     777\n",
       "2011     644\n",
       "Name: Year, dtype: int64"
      ]
     },
     "execution_count": 34,
     "metadata": {},
     "output_type": "execute_result"
    }
   ],
   "source": [
    "df_latest=df_India[df_India['Year']>2010]\n",
    "df_latest['Year'].value_counts()"
   ]
  },
  {
   "cell_type": "code",
   "execution_count": null,
   "metadata": {
    "colab": {
     "base_uri": "https://localhost:8080/",
     "height": 295
    },
    "executionInfo": {
     "elapsed": 38,
     "status": "ok",
     "timestamp": 1636970917192,
     "user": {
      "displayName": "dm project",
      "photoUrl": "https://lh3.googleusercontent.com/a/default-user=s64",
      "userId": "10716541108022634460"
     },
     "user_tz": -330
    },
    "id": "qjnqD2blsKVh",
    "outputId": "9a180e50-d69d-47fd-d332-102a873cf458"
   },
   "outputs": [
    {
     "data": {
      "image/png": "[encoded data removed]",
      "text/plain": [
       "<Figure size 432x288 with 1 Axes>"
      ]
     },
     "metadata": {
      "needs_background": "light"
     },
     "output_type": "display_data"
    }
   ],
   "source": [
    "sns.countplot(x='Year',data=df_latest)\n",
    "plt.title('Number of movies per year')\n",
    "plt.show()"
   ]
  },
  {
   "cell_type": "markdown",
   "metadata": {
    "id": "G7lJrZKX4WsN"
   },
   "source": [
    "From above graph we can say their is decrease in number of movies after 2019 i.e., Covid-19 has effected this industry "
   ]
  },
  {
   "cell_type": "markdown",
   "metadata": {
    "id": "W3LL1TPSQC-g"
   },
   "source": [
    "Top Hindi Movies"
   ]
  },
  {
   "cell_type": "code",
   "execution_count": null,
   "metadata": {
    "colab": {
     "base_uri": "https://localhost:8080/",
     "height": 204
    },
    "executionInfo": {
     "elapsed": 38,
     "status": "ok",
     "timestamp": 1636970917193,
     "user": {
      "displayName": "dm project",
      "photoUrl": "https://lh3.googleusercontent.com/a/default-user=s64",
      "userId": "10716541108022634460"
     },
     "user_tz": -330
    },
    "id": "2wD4KHaPQNUb",
    "outputId": "3ae23bdd-2c84-4dea-a4d6-e828fe2fb7c7"
   },
   "outputs": [
    {
     "data": {
      "text/html": [
       "<div>\n",
       "<style scoped>\n",
       "    .dataframe tbody tr th:only-of-type {\n",
       "        vertical-align: middle;\n",
       "    }\n",
       "\n",
       "    .dataframe tbody tr th {\n",
       "        vertical-align: top;\n",
       "    }\n",
       "\n",
       "    .dataframe thead th {\n",
       "        text-align: right;\n",
       "    }\n",
       "</style>\n",
       "<table border=\"1\" class=\"dataframe\">\n",
       "  <thead>\n",
       "    <tr style=\"text-align: right;\">\n",
       "      <th></th>\n",
       "      <th>Moviename</th>\n",
       "      <th>averageRating</th>\n",
       "    </tr>\n",
       "  </thead>\n",
       "  <tbody>\n",
       "    <tr>\n",
       "      <th>14082</th>\n",
       "      <td>Miles of Love</td>\n",
       "      <td>10.0</td>\n",
       "    </tr>\n",
       "    <tr>\n",
       "      <th>11648</th>\n",
       "      <td>Rickshawala</td>\n",
       "      <td>9.7</td>\n",
       "    </tr>\n",
       "    <tr>\n",
       "      <th>14681</th>\n",
       "      <td>Jai Bhim</td>\n",
       "      <td>9.6</td>\n",
       "    </tr>\n",
       "    <tr>\n",
       "      <th>14588</th>\n",
       "      <td>Methagu</td>\n",
       "      <td>9.5</td>\n",
       "    </tr>\n",
       "    <tr>\n",
       "      <th>25806</th>\n",
       "      <td>Barun Rai and the House on the Cliff</td>\n",
       "      <td>9.5</td>\n",
       "    </tr>\n",
       "  </tbody>\n",
       "</table>\n",
       "</div>"
      ],
      "text/plain": [
       "                                  Moviename  averageRating\n",
       "14082                         Miles of Love           10.0\n",
       "11648                           Rickshawala            9.7\n",
       "14681                              Jai Bhim            9.6\n",
       "14588                               Methagu            9.5\n",
       "25806  Barun Rai and the House on the Cliff            9.5"
      ]
     },
     "execution_count": 36,
     "metadata": {},
     "output_type": "execute_result"
    }
   ],
   "source": [
    "Top_50_hindi=df_India[df_India['language']=='Hindi'].sort_values('averageRating',ascending=False).head(50)\n",
    "Top_5_hindi=Top_50_hindi[['Moviename','averageRating']].head(5)\n",
    "Top_5_hindi"
   ]
  },
  {
   "cell_type": "code",
   "execution_count": null,
   "metadata": {
    "colab": {
     "base_uri": "https://localhost:8080/",
     "height": 441
    },
    "executionInfo": {
     "elapsed": 664,
     "status": "ok",
     "timestamp": 1636971652414,
     "user": {
      "displayName": "dm project",
      "photoUrl": "https://lh3.googleusercontent.com/a/default-user=s64",
      "userId": "10716541108022634460"
     },
     "user_tz": -330
    },
    "id": "0gDPg3P2XPaZ",
    "outputId": "02d7ef4c-ac2f-4816-8519-7326d1eeafa2"
   },
   "outputs": [
    {
     "data": {
      "image/png": "[encoded data removed]",
      "text/plain": [
       "<Figure size 432x432 with 1 Axes>"
      ]
     },
     "metadata": {
      "needs_background": "light"
     },
     "output_type": "display_data"
    }
   ],
   "source": [
    "fig,x=plt.subplots(figsize=(6,6))\n",
    "sns.barplot(x = 'Moviename',\n",
    "            y = 'averageRating',\n",
    "            data = Top_5_hindi)\n",
    "plt.title('Top Five Hindi Movies')\n",
    "plt.setp(x.get_xticklabels(), rotation=90)\n",
    "x.tick_params(labelsize=10)\n",
    "x.tick_params(length=0, axis='x')\n",
    "plt.tight_layout()\n",
    "plt.show()"
   ]
  },
  {
   "cell_type": "markdown",
   "metadata": {
    "id": "gsmqbgEvtGwR"
   },
   "source": [
    "Top South Movies"
   ]
  },
  {
   "cell_type": "code",
   "execution_count": null,
   "metadata": {
    "colab": {
     "base_uri": "https://localhost:8080/",
     "height": 204
    },
    "executionInfo": {
     "elapsed": 38,
     "status": "ok",
     "timestamp": 1636970917195,
     "user": {
      "displayName": "dm project",
      "photoUrl": "https://lh3.googleusercontent.com/a/default-user=s64",
      "userId": "10716541108022634460"
     },
     "user_tz": -330
    },
    "id": "HTMzZgZbtO_T",
    "outputId": "1f6607d5-c252-41ff-f862-567d3030b7b0"
   },
   "outputs": [
    {
     "data": {
      "text/html": [
       "<div>\n",
       "<style scoped>\n",
       "    .dataframe tbody tr th:only-of-type {\n",
       "        vertical-align: middle;\n",
       "    }\n",
       "\n",
       "    .dataframe tbody tr th {\n",
       "        vertical-align: top;\n",
       "    }\n",
       "\n",
       "    .dataframe thead th {\n",
       "        text-align: right;\n",
       "    }\n",
       "</style>\n",
       "<table border=\"1\" class=\"dataframe\">\n",
       "  <thead>\n",
       "    <tr style=\"text-align: right;\">\n",
       "      <th></th>\n",
       "      <th>Moviename</th>\n",
       "      <th>averageRating</th>\n",
       "    </tr>\n",
       "  </thead>\n",
       "  <tbody>\n",
       "    <tr>\n",
       "      <th>24831</th>\n",
       "      <td>Amudhan aka Sinamkol</td>\n",
       "      <td>9.4</td>\n",
       "    </tr>\n",
       "    <tr>\n",
       "      <th>10702</th>\n",
       "      <td>Soorarai Pottru</td>\n",
       "      <td>9.1</td>\n",
       "    </tr>\n",
       "    <tr>\n",
       "      <th>10705</th>\n",
       "      <td>Soorarai Pottru</td>\n",
       "      <td>9.1</td>\n",
       "    </tr>\n",
       "    <tr>\n",
       "      <th>14703</th>\n",
       "      <td>Paka (River of Blood)</td>\n",
       "      <td>8.9</td>\n",
       "    </tr>\n",
       "    <tr>\n",
       "      <th>23838</th>\n",
       "      <td>Peranbu</td>\n",
       "      <td>8.9</td>\n",
       "    </tr>\n",
       "  </tbody>\n",
       "</table>\n",
       "</div>"
      ],
      "text/plain": [
       "                   Moviename  averageRating\n",
       "24831   Amudhan aka Sinamkol            9.4\n",
       "10702        Soorarai Pottru            9.1\n",
       "10705        Soorarai Pottru            9.1\n",
       "14703  Paka (River of Blood)            8.9\n",
       "23838                Peranbu            8.9"
      ]
     },
     "execution_count": 38,
     "metadata": {},
     "output_type": "execute_result"
    }
   ],
   "source": [
    "l=['Tamil','Telgu','Malayalam','Bengali','Kannada']\n",
    "Top_50_south=df_India[df_India['language'].isin(l)].sort_values('averageRating',ascending=False).head(50)\n",
    "Top_5_south=Top_50_south[['Moviename','averageRating']].head(5)\n",
    "Top_5_south"
   ]
  },
  {
   "cell_type": "markdown",
   "metadata": {
    "id": "BBur3MqdFCqK"
   },
   "source": [
    "Finding the percentage of each language movies"
   ]
  },
  {
   "cell_type": "code",
   "execution_count": null,
   "metadata": {
    "colab": {
     "base_uri": "https://localhost:8080/"
    },
    "executionInfo": {
     "elapsed": 461,
     "status": "ok",
     "timestamp": 1636973476969,
     "user": {
      "displayName": "dm project",
      "photoUrl": "https://lh3.googleusercontent.com/a/default-user=s64",
      "userId": "10716541108022634460"
     },
     "user_tz": -330
    },
    "id": "Kv-M8x4IMgJa",
    "outputId": "d18a2c89-d86d-4c2b-bd19-1e71ba0eedd8"
   },
   "outputs": [
    {
     "data": {
      "text/plain": [
       "English      16114\n",
       "Hindi         8376\n",
       "Tamil          512\n",
       "Telgu          473\n",
       "Malayalam      386\n",
       "Bengali        140\n",
       "Marathi         82\n",
       "Kannada         74\n",
       "Urdu            53\n",
       "Gujarati        39\n",
       "Punjabi          1\n",
       "Name: language, dtype: int64"
      ]
     },
     "execution_count": 108,
     "metadata": {},
     "output_type": "execute_result"
    }
   ],
   "source": [
    "df_India.language.value_counts()"
   ]
  },
  {
   "cell_type": "code",
   "execution_count": null,
   "metadata": {
    "colab": {
     "base_uri": "https://localhost:8080/",
     "height": 357
    },
    "executionInfo": {
     "elapsed": 708,
     "status": "ok",
     "timestamp": 1636973428273,
     "user": {
      "displayName": "dm project",
      "photoUrl": "https://lh3.googleusercontent.com/a/default-user=s64",
      "userId": "10716541108022634460"
     },
     "user_tz": -330
    },
    "id": "JpbVO-d1E4gY",
    "outputId": "9e1a12c2-6188-4bc8-89b7-2921629feacc"
   },
   "outputs": [
    {
     "data": {
      "image/png": "[encoded data removed]",
      "text/plain": [
       "<Figure size 432x432 with 1 Axes>"
      ]
     },
     "metadata": {},
     "output_type": "display_data"
    }
   ],
   "source": [
    "x = np.char.array(['English','Hindi','Tamil','Telgu','Malayalam','Bengali','Marathi','Kannada','Urdu','Gujarati','Punjabi'])\n",
    "y = np.array([16114,8376, 512, 473,386,140,82,74,53,39,1])\n",
    "colors = ['red','yellow','green','blue','grey','lightcoral','lightskyblue','pink', 'darkgreen','violet','orange']\n",
    "percent = 100.*y/y.sum()\n",
    "plt.figure(figsize=(6,6))\n",
    "patches, texts = plt.pie(y, colors=colors, startangle=90, radius=1.2)\n",
    "labels = ['{0} - {1:1.2f} %'.format(i,j) for i,j in zip(x, percent)]\n",
    "sort_legend = True\n",
    "if sort_legend:\n",
    "    patches, labels, dummy =  zip(*sorted(zip(patches, labels, y), key=lambda x: x[2],reverse=True))\n",
    "\n",
    "plt.legend(patches, labels, loc='best', bbox_to_anchor=(-0.1, 1.),fontsize=8)\n",
    "plt.show()"
   ]
  },
  {
   "cell_type": "markdown",
   "metadata": {
    "id": "CsV_BAlr4-Hz"
   },
   "source": [
    "In our dataset the percentage of english movies is highest"
   ]
  },
  {
   "cell_type": "markdown",
   "metadata": {
    "id": "9FUX8FSnsrXd"
   },
   "source": [
    "Highest rated movie for each language"
   ]
  },
  {
   "cell_type": "code",
   "execution_count": null,
   "metadata": {
    "id": "ktUBux-Nv7r5"
   },
   "outputs": [],
   "source": [
    "df_lang=df_India.groupby(\"language\")\n",
    "df_lang =df_lang.max().reset_index()\n",
    "df_lang=df_lang[['language','Moviename','averageRating']].sort_values('averageRating',ascending=False)"
   ]
  },
  {
   "cell_type": "code",
   "execution_count": null,
   "metadata": {
    "colab": {
     "base_uri": "https://localhost:8080/",
     "height": 390
    },
    "executionInfo": {
     "elapsed": 38,
     "status": "ok",
     "timestamp": 1636970917197,
     "user": {
      "displayName": "dm project",
      "photoUrl": "https://lh3.googleusercontent.com/a/default-user=s64",
      "userId": "10716541108022634460"
     },
     "user_tz": -330
    },
    "id": "vsM36KlpxJfj",
    "outputId": "ff00aa5d-cef7-4275-8468-a1980663c734"
   },
   "outputs": [
    {
     "data": {
      "text/html": [
       "<div>\n",
       "<style scoped>\n",
       "    .dataframe tbody tr th:only-of-type {\n",
       "        vertical-align: middle;\n",
       "    }\n",
       "\n",
       "    .dataframe tbody tr th {\n",
       "        vertical-align: top;\n",
       "    }\n",
       "\n",
       "    .dataframe thead th {\n",
       "        text-align: right;\n",
       "    }\n",
       "</style>\n",
       "<table border=\"1\" class=\"dataframe\">\n",
       "  <thead>\n",
       "    <tr style=\"text-align: right;\">\n",
       "      <th></th>\n",
       "      <th>language</th>\n",
       "      <th>Moviename</th>\n",
       "      <th>averageRating</th>\n",
       "    </tr>\n",
       "  </thead>\n",
       "  <tbody>\n",
       "    <tr>\n",
       "      <th>1</th>\n",
       "      <td>English</td>\n",
       "      <td>Ölmeyen ask</td>\n",
       "      <td>10.0</td>\n",
       "    </tr>\n",
       "    <tr>\n",
       "      <th>3</th>\n",
       "      <td>Hindi</td>\n",
       "      <td>Ôkami kodomo no Ame to Yuki</td>\n",
       "      <td>10.0</td>\n",
       "    </tr>\n",
       "    <tr>\n",
       "      <th>8</th>\n",
       "      <td>Tamil</td>\n",
       "      <td>Zeny v pokusení</td>\n",
       "      <td>9.4</td>\n",
       "    </tr>\n",
       "    <tr>\n",
       "      <th>9</th>\n",
       "      <td>Telgu</td>\n",
       "      <td>xXx</td>\n",
       "      <td>9.1</td>\n",
       "    </tr>\n",
       "    <tr>\n",
       "      <th>6</th>\n",
       "      <td>Marathi</td>\n",
       "      <td>Witness</td>\n",
       "      <td>9.0</td>\n",
       "    </tr>\n",
       "    <tr>\n",
       "      <th>10</th>\n",
       "      <td>Urdu</td>\n",
       "      <td>Witness</td>\n",
       "      <td>9.0</td>\n",
       "    </tr>\n",
       "    <tr>\n",
       "      <th>5</th>\n",
       "      <td>Malayalam</td>\n",
       "      <td>Yevadu</td>\n",
       "      <td>8.9</td>\n",
       "    </tr>\n",
       "    <tr>\n",
       "      <th>2</th>\n",
       "      <td>Gujarati</td>\n",
       "      <td>Witness</td>\n",
       "      <td>8.7</td>\n",
       "    </tr>\n",
       "    <tr>\n",
       "      <th>0</th>\n",
       "      <td>Bengali</td>\n",
       "      <td>Yuddha</td>\n",
       "      <td>8.6</td>\n",
       "    </tr>\n",
       "    <tr>\n",
       "      <th>4</th>\n",
       "      <td>Kannada</td>\n",
       "      <td>Yennai Arindhaal</td>\n",
       "      <td>8.6</td>\n",
       "    </tr>\n",
       "    <tr>\n",
       "      <th>7</th>\n",
       "      <td>Punjabi</td>\n",
       "      <td>Ik Sandhu Hunda Si</td>\n",
       "      <td>5.1</td>\n",
       "    </tr>\n",
       "  </tbody>\n",
       "</table>\n",
       "</div>"
      ],
      "text/plain": [
       "     language                    Moviename  averageRating\n",
       "1     English                  Ölmeyen ask           10.0\n",
       "3       Hindi  Ôkami kodomo no Ame to Yuki           10.0\n",
       "8       Tamil              Zeny v pokusení            9.4\n",
       "9       Telgu                          xXx            9.1\n",
       "6     Marathi                      Witness            9.0\n",
       "10       Urdu                      Witness            9.0\n",
       "5   Malayalam                       Yevadu            8.9\n",
       "2    Gujarati                      Witness            8.7\n",
       "0     Bengali                       Yuddha            8.6\n",
       "4     Kannada             Yennai Arindhaal            8.6\n",
       "7     Punjabi           Ik Sandhu Hunda Si            5.1"
      ]
     },
     "execution_count": 40,
     "metadata": {},
     "output_type": "execute_result"
    }
   ],
   "source": [
    "df_lang"
   ]
  },
  {
   "cell_type": "markdown",
   "metadata": {
    "id": "VtZuepJ4iH1_"
   },
   "source": [
    "Lowest rated movie for each language"
   ]
  },
  {
   "cell_type": "code",
   "execution_count": null,
   "metadata": {
    "id": "FoEZ9_0niH1_"
   },
   "outputs": [],
   "source": [
    "df_lang=df_India.groupby(\"language\")\n",
    "df_lang =df_lang.min().reset_index()\n",
    "df_lang=df_lang[['language','Moviename','averageRating']].sort_values('averageRating',ascending=False).reset_index(drop=True)"
   ]
  },
  {
   "cell_type": "code",
   "execution_count": null,
   "metadata": {
    "colab": {
     "base_uri": "https://localhost:8080/",
     "height": 390
    },
    "executionInfo": {
     "elapsed": 39,
     "status": "ok",
     "timestamp": 1636970917199,
     "user": {
      "displayName": "dm project",
      "photoUrl": "https://lh3.googleusercontent.com/a/default-user=s64",
      "userId": "10716541108022634460"
     },
     "user_tz": -330
    },
    "id": "iNYFiC8_iH2A",
    "outputId": "9bfa9d53-0e23-4577-bc6d-cfe651a605bb"
   },
   "outputs": [
    {
     "data": {
      "text/html": [
       "<div>\n",
       "<style scoped>\n",
       "    .dataframe tbody tr th:only-of-type {\n",
       "        vertical-align: middle;\n",
       "    }\n",
       "\n",
       "    .dataframe tbody tr th {\n",
       "        vertical-align: top;\n",
       "    }\n",
       "\n",
       "    .dataframe thead th {\n",
       "        text-align: right;\n",
       "    }\n",
       "</style>\n",
       "<table border=\"1\" class=\"dataframe\">\n",
       "  <thead>\n",
       "    <tr style=\"text-align: right;\">\n",
       "      <th></th>\n",
       "      <th>language</th>\n",
       "      <th>Moviename</th>\n",
       "      <th>averageRating</th>\n",
       "    </tr>\n",
       "  </thead>\n",
       "  <tbody>\n",
       "    <tr>\n",
       "      <th>0</th>\n",
       "      <td>Marathi</td>\n",
       "      <td>A Paying Ghost</td>\n",
       "      <td>5.5</td>\n",
       "    </tr>\n",
       "    <tr>\n",
       "      <th>1</th>\n",
       "      <td>Gujarati</td>\n",
       "      <td>Batman</td>\n",
       "      <td>5.4</td>\n",
       "    </tr>\n",
       "    <tr>\n",
       "      <th>2</th>\n",
       "      <td>Punjabi</td>\n",
       "      <td>Ik Sandhu Hunda Si</td>\n",
       "      <td>5.1</td>\n",
       "    </tr>\n",
       "    <tr>\n",
       "      <th>3</th>\n",
       "      <td>Kannada</td>\n",
       "      <td>Ambi Ning Vysaitho</td>\n",
       "      <td>3.8</td>\n",
       "    </tr>\n",
       "    <tr>\n",
       "      <th>4</th>\n",
       "      <td>Urdu</td>\n",
       "      <td>Ada... A Way of Life</td>\n",
       "      <td>3.6</td>\n",
       "    </tr>\n",
       "    <tr>\n",
       "      <th>5</th>\n",
       "      <td>Bengali</td>\n",
       "      <td>80 te Asio Na</td>\n",
       "      <td>2.9</td>\n",
       "    </tr>\n",
       "    <tr>\n",
       "      <th>6</th>\n",
       "      <td>Malayalam</td>\n",
       "      <td>10 Kalpanakal</td>\n",
       "      <td>1.9</td>\n",
       "    </tr>\n",
       "    <tr>\n",
       "      <th>7</th>\n",
       "      <td>Telgu</td>\n",
       "      <td>1 - Nenokkadine</td>\n",
       "      <td>1.8</td>\n",
       "    </tr>\n",
       "    <tr>\n",
       "      <th>8</th>\n",
       "      <td>Tamil</td>\n",
       "      <td>13B: Fear Has a New Address</td>\n",
       "      <td>1.6</td>\n",
       "    </tr>\n",
       "    <tr>\n",
       "      <th>9</th>\n",
       "      <td>English</td>\n",
       "      <td>#Home</td>\n",
       "      <td>1.1</td>\n",
       "    </tr>\n",
       "    <tr>\n",
       "      <th>10</th>\n",
       "      <td>Hindi</td>\n",
       "      <td>#Home</td>\n",
       "      <td>1.1</td>\n",
       "    </tr>\n",
       "  </tbody>\n",
       "</table>\n",
       "</div>"
      ],
      "text/plain": [
       "     language                    Moviename  averageRating\n",
       "0     Marathi               A Paying Ghost            5.5\n",
       "1    Gujarati                       Batman            5.4\n",
       "2     Punjabi           Ik Sandhu Hunda Si            5.1\n",
       "3     Kannada           Ambi Ning Vysaitho            3.8\n",
       "4        Urdu         Ada... A Way of Life            3.6\n",
       "5     Bengali                80 te Asio Na            2.9\n",
       "6   Malayalam                10 Kalpanakal            1.9\n",
       "7       Telgu              1 - Nenokkadine            1.8\n",
       "8       Tamil  13B: Fear Has a New Address            1.6\n",
       "9     English                        #Home            1.1\n",
       "10      Hindi                        #Home            1.1"
      ]
     },
     "execution_count": 42,
     "metadata": {},
     "output_type": "execute_result"
    }
   ],
   "source": [
    "df_lang"
   ]
  },
  {
   "cell_type": "markdown",
   "metadata": {
    "id": "3EXcR5JNYKj2"
   },
   "source": [
    "Different genres and total count of movies genre wise"
   ]
  },
  {
   "cell_type": "code",
   "execution_count": null,
   "metadata": {
    "id": "r7kj2MvkWkfO"
   },
   "outputs": [],
   "source": [
    "l=[]\n",
    "for x in df_India['genres']:\n",
    "   l.append(x.split(','))"
   ]
  },
  {
   "cell_type": "code",
   "execution_count": null,
   "metadata": {
    "id": "7uf-6W42ZnSx"
   },
   "outputs": [],
   "source": [
    "genrelist=[]\n",
    "for x in l:\n",
    "   for y in x:\n",
    "      genrelist.append(y)"
   ]
  },
  {
   "cell_type": "code",
   "execution_count": null,
   "metadata": {
    "colab": {
     "base_uri": "https://localhost:8080/"
    },
    "executionInfo": {
     "elapsed": 40,
     "status": "ok",
     "timestamp": 1636970918185,
     "user": {
      "displayName": "dm project",
      "photoUrl": "https://lh3.googleusercontent.com/a/default-user=s64",
      "userId": "10716541108022634460"
     },
     "user_tz": -330
    },
    "id": "5Y_M6oPQbXh0",
    "outputId": "a45e2afa-65f3-42df-d745-bf00d09d33bb"
   },
   "outputs": [
    {
     "name": "stdout",
     "output_type": "stream",
     "text": [
      "The number of unique genres is: 23\n"
     ]
    }
   ],
   "source": [
    "uniquegenre=[]\n",
    "for x in genrelist:\n",
    "  if x not in uniquegenre:\n",
    "     uniquegenre.append(x)\n",
    "print(\"The number of unique genres is: %d\" %len(uniquegenre))    "
   ]
  },
  {
   "cell_type": "code",
   "execution_count": null,
   "metadata": {
    "id": "e0pzSK_baMv9"
   },
   "outputs": [],
   "source": [
    "from collections import Counter\n",
    "d=Counter(genrelist)\n"
   ]
  },
  {
   "cell_type": "code",
   "execution_count": null,
   "metadata": {
    "colab": {
     "base_uri": "https://localhost:8080/",
     "height": 809
    },
    "executionInfo": {
     "elapsed": 38,
     "status": "ok",
     "timestamp": 1636970918190,
     "user": {
      "displayName": "dm project",
      "photoUrl": "https://lh3.googleusercontent.com/a/default-user=s64",
      "userId": "10716541108022634460"
     },
     "user_tz": -330
    },
    "id": "5nHMjd8wy_Ml",
    "outputId": "a761cc64-d406-4b7b-9804-d26c5e40a76b"
   },
   "outputs": [
    {
     "data": {
      "image/png": "[encoded data removed]",
      "text/plain": [
       "<Figure size 1440x1008 with 1 Axes>"
      ]
     },
     "metadata": {
      "needs_background": "light"
     },
     "output_type": "display_data"
    }
   ],
   "source": [
    "fig,x=plt.subplots(figsize=(22,13))\n",
    "plt.bar(d.keys(), d.values())\n",
    "plt.show()"
   ]
  },
  {
   "cell_type": "markdown",
   "metadata": {
    "id": "8dVUBLKc5f3c"
   },
   "source": [
    "Drama Genre has most number of movies among all genres"
   ]
  },
  {
   "cell_type": "markdown",
   "metadata": {
    "id": "1o-J-12cdXCo"
   },
   "source": [
    "Genre wise average rating from 2000 and plotting top 6 genre"
   ]
  },
  {
   "cell_type": "code",
   "execution_count": null,
   "metadata": {
    "id": "4Xpr_2BReJQN"
   },
   "outputs": [],
   "source": [
    "df_India_latest=df_India[df_India['Year']>=2000]\n",
    "avgrating=[]\n",
    "for x in uniquegenre:\n",
    "      avgrating.append(df_India_latest[df_India_latest['genres'].str.contains(x)].averageRating.mean())"
   ]
  },
  {
   "cell_type": "code",
   "execution_count": null,
   "metadata": {
    "id": "M8GIJ7tLgCp3"
   },
   "outputs": [],
   "source": [
    "genre_avgrating = pd.DataFrame(zip(uniquegenre,avgrating), columns =['Genre','AverageRating'])\n",
    "genre_avgrating.sort_values('AverageRating',ascending=False,inplace=True)\n",
    "genre_avgrating=genre_avgrating.head(6)"
   ]
  },
  {
   "cell_type": "code",
   "execution_count": null,
   "metadata": {
    "colab": {
     "base_uri": "https://localhost:8080/",
     "height": 350
    },
    "executionInfo": {
     "elapsed": 735,
     "status": "ok",
     "timestamp": 1636970918894,
     "user": {
      "displayName": "dm project",
      "photoUrl": "https://lh3.googleusercontent.com/a/default-user=s64",
      "userId": "10716541108022634460"
     },
     "user_tz": -330
    },
    "id": "ZCFZmHPwFspX",
    "outputId": "20d5167b-2b87-491f-b10f-94e47ce25a36"
   },
   "outputs": [
    {
     "data": {
      "image/png": "[encoded data removed]",
      "text/plain": [
       "<Figure size 576x360 with 1 Axes>"
      ]
     },
     "metadata": {
      "needs_background": "light"
     },
     "output_type": "display_data"
    }
   ],
   "source": [
    "fig,x=plt.subplots(figsize=(6,6))\n",
    "sns.barplot(x = 'Genre',\n",
    "            y = 'AverageRating',\n",
    "            data = genre_avgrating)\n",
    "plt.title('Genre vs Rating')\n",
    "plt.show()"
   ]
  },
  {
   "cell_type": "markdown",
   "metadata": {
    "id": "zwECgxSA50Gg"
   },
   "source": [
    "Movies in Biography Genre has the highest average rating"
   ]
  },
  {
   "cell_type": "markdown",
   "metadata": {
    "id": "ce22BQV_7Z4K"
   },
   "source": [
    "popularity of genre over time"
   ]
  },
  {
   "cell_type": "code",
   "execution_count": null,
   "metadata": {
    "colab": {
     "base_uri": "https://localhost:8080/",
     "height": 867
    },
    "executionInfo": {
     "elapsed": 1767,
     "status": "ok",
     "timestamp": 1636970920653,
     "user": {
      "displayName": "dm project",
      "photoUrl": "https://lh3.googleusercontent.com/a/default-user=s64",
      "userId": "10716541108022634460"
     },
     "user_tz": -330
    },
    "id": "vNa3i3T17Z4K",
    "outputId": "4f4282ac-ea59-4f8b-aa42-c6b07af959d2"
   },
   "outputs": [
    {
     "data": {
      "image/png": "[encoded data removed]",
      "text/plain": [
       "<Figure size 1200x1040 with 1 Axes>"
      ]
     },
     "metadata": {},
     "output_type": "display_data"
    }
   ],
   "source": [
    "genre = df_India['genres']\n",
    "most_diff_min_max = 0\n",
    "most_genre=\"\"\n",
    "\n",
    "plt.figure(figsize=(15, 13), dpi= 80, facecolor='w', edgecolor='k')\n",
    "for i in range (len(uniquegenre)):\n",
    "    A = df_India[genre.str.contains(uniquegenre[i])]\n",
    "    a = A[['numVotes','Year']]\n",
    "    p = a.groupby('Year').mean()\n",
    "    p_mean = p['numVotes'].tolist()\n",
    "    year = A['Year'].unique()\n",
    "    year = np.sort(year)\n",
    "    if i < 10:\n",
    "        plt.plot(year, p_mean,'-o')\n",
    "    else: \n",
    "        plt.plot(year, p_mean, '--')\n",
    "    max = p.max()\n",
    "    min = p.min()\n",
    "    diff = float(max - min)\n",
    "    if diff > most_diff_min_max:\n",
    "        most_diff_min_max = diff\n",
    "        most_genre = uniquegenre[i]\n",
    "plt.legend(uniquegenre)\n",
    "plt.title('The Popolarity of Each Genre Over Time')\n",
    "plt.xlabel('Year')\n",
    "plt.ylabel('Popularity')\n",
    "plt.show()"
   ]
  },
  {
   "cell_type": "code",
   "execution_count": null,
   "metadata": {
    "colab": {
     "base_uri": "https://localhost:8080/",
     "height": 35
    },
    "executionInfo": {
     "elapsed": 37,
     "status": "ok",
     "timestamp": 1636970920659,
     "user": {
      "displayName": "dm project",
      "photoUrl": "https://lh3.googleusercontent.com/a/default-user=s64",
      "userId": "10716541108022634460"
     },
     "user_tz": -330
    },
    "id": "oN3InUCz7nAJ",
    "outputId": "f9bfc739-72bb-4aa4-e4cc-e1c54968392a"
   },
   "outputs": [
    {
     "data": {
      "application/vnd.google.colaboratory.intrinsic+json": {
       "type": "string"
      },
      "text/plain": [
       "'Western'"
      ]
     },
     "execution_count": 52,
     "metadata": {},
     "output_type": "execute_result"
    }
   ],
   "source": [
    "most_genre"
   ]
  },
  {
   "cell_type": "markdown",
   "metadata": {
    "id": "-vKzV8md6Jr7"
   },
   "source": [
    "The popularity of the Western genre has increased most over the years for India"
   ]
  },
  {
   "cell_type": "markdown",
   "metadata": {
    "id": "Z75n9IEj0x0b"
   },
   "source": [
    "Average runtime (in minutes) for each genre from 2000 and plotting top 6"
   ]
  },
  {
   "cell_type": "code",
   "execution_count": null,
   "metadata": {
    "id": "lXYIgpPA1nYL"
   },
   "outputs": [],
   "source": [
    "avgtime=[]\n",
    "for x in uniquegenre:\n",
    "      avgtime.append(df_India_latest[df_India_latest['genres'].str.contains(x)].runtimeMinutes.mean())"
   ]
  },
  {
   "cell_type": "code",
   "execution_count": null,
   "metadata": {
    "id": "rUvno-xW2wxS"
   },
   "outputs": [],
   "source": [
    "genre_avgtime = pd.DataFrame(zip(uniquegenre,avgtime), columns =['Genre','averageTime'])\n",
    "genre_avgtime.sort_values('averageTime',ascending=False,inplace=True)\n",
    "genre_avgtime=genre_avgtime.head(6)"
   ]
  },
  {
   "cell_type": "code",
   "execution_count": null,
   "metadata": {
    "colab": {
     "base_uri": "https://localhost:8080/",
     "height": 295
    },
    "executionInfo": {
     "elapsed": 31,
     "status": "ok",
     "timestamp": 1636970920662,
     "user": {
      "displayName": "dm project",
      "photoUrl": "https://lh3.googleusercontent.com/a/default-user=s64",
      "userId": "10716541108022634460"
     },
     "user_tz": -330
    },
    "id": "bcfgPtHd3H_5",
    "outputId": "8fbc0410-f6d4-4abd-8ee5-134ed4bdb62e"
   },
   "outputs": [
    {
     "data": {
      "image/png": "[encoded data removed]",
      "text/plain": [
       "<Figure size 432x288 with 1 Axes>"
      ]
     },
     "metadata": {
      "needs_background": "light"
     },
     "output_type": "display_data"
    }
   ],
   "source": [
    "sns.barplot(x = 'Genre',\n",
    "            y = 'averageTime',\n",
    "            data = genre_avgtime)\n",
    "plt.title('Genre vs Runtime')\n",
    "plt.show()"
   ]
  },
  {
   "cell_type": "markdown",
   "metadata": {
    "id": "kk3OvaXS6deP"
   },
   "source": [
    "Movies of the Musical genre has the highest average runtime"
   ]
  },
  {
   "cell_type": "markdown",
   "metadata": {
    "id": "Eki4nYup4EX5"
   },
   "source": [
    "Actors"
   ]
  },
  {
   "cell_type": "markdown",
   "metadata": {
    "id": "hIJ0GFpV4YEx"
   },
   "source": [
    "actors and total count of movies"
   ]
  },
  {
   "cell_type": "code",
   "execution_count": null,
   "metadata": {
    "id": "5QgDD7YbiH2E"
   },
   "outputs": [],
   "source": [
    "l=[]\n",
    "for x in df_India['Actors']:\n",
    "   l.append(x.split(', '))"
   ]
  },
  {
   "cell_type": "code",
   "execution_count": null,
   "metadata": {
    "id": "9h8GTWoC4YEz"
   },
   "outputs": [],
   "source": [
    "actorlist=[]\n",
    "for x in l:\n",
    "   for y in x:\n",
    "            actorlist.append(y)           "
   ]
  },
  {
   "cell_type": "code",
   "execution_count": null,
   "metadata": {
    "colab": {
     "base_uri": "https://localhost:8080/"
    },
    "executionInfo": {
     "elapsed": 10666,
     "status": "ok",
     "timestamp": 1636970931300,
     "user": {
      "displayName": "dm project",
      "photoUrl": "https://lh3.googleusercontent.com/a/default-user=s64",
      "userId": "10716541108022634460"
     },
     "user_tz": -330
    },
    "id": "OAKucIGC4YEz",
    "outputId": "6664ce6f-f5e2-44ce-dbd1-a01b61f7da66"
   },
   "outputs": [
    {
     "name": "stdout",
     "output_type": "stream",
     "text": [
      "The number of actors is 20984\n"
     ]
    }
   ],
   "source": [
    "uniqueactors=[]\n",
    "for x in actorlist:\n",
    "  if x not in uniqueactors:\n",
    "     uniqueactors.append(x)\n",
    "print(\"The number of actors is %d\" %len(uniqueactors))    "
   ]
  },
  {
   "cell_type": "code",
   "execution_count": null,
   "metadata": {
    "id": "i61X_uWC4YE0"
   },
   "outputs": [],
   "source": [
    "from collections import Counter\n",
    "c=Counter(actorlist)"
   ]
  },
  {
   "cell_type": "markdown",
   "metadata": {
    "id": "E7p8QvTGiH2F"
   },
   "source": [
    "Top 6 actors with most number of movies"
   ]
  },
  {
   "cell_type": "code",
   "execution_count": null,
   "metadata": {
    "colab": {
     "base_uri": "https://localhost:8080/"
    },
    "executionInfo": {
     "elapsed": 19,
     "status": "ok",
     "timestamp": 1636970931302,
     "user": {
      "displayName": "dm project",
      "photoUrl": "https://lh3.googleusercontent.com/a/default-user=s64",
      "userId": "10716541108022634460"
     },
     "user_tz": -330
    },
    "id": "EDZL-JhPiH2F",
    "outputId": "2223ddf0-ce52-4301-d3d7-f21bb0353b95"
   },
   "outputs": [
    {
     "data": {
      "text/plain": [
       "{'Akshay Kumar': 178,\n",
       " 'Amitabh Bachchan': 191,\n",
       " 'Kamal Haasan': 172,\n",
       " 'Mithun Chakraborty': 147,\n",
       " 'Mohanlal': 140,\n",
       " 'Prakash Raj': 179}"
      ]
     },
     "execution_count": 60,
     "metadata": {},
     "output_type": "execute_result"
    }
   ],
   "source": [
    "c=c.most_common(6)\n",
    "moviecount={}\n",
    "for x in c:\n",
    "    key=x[0]\n",
    "    moviecount[key]=x[1]\n",
    "moviecount\n"
   ]
  },
  {
   "cell_type": "code",
   "execution_count": null,
   "metadata": {
    "colab": {
     "base_uri": "https://localhost:8080/",
     "height": 323
    },
    "executionInfo": {
     "elapsed": 19,
     "status": "ok",
     "timestamp": 1636970931303,
     "user": {
      "displayName": "dm project",
      "photoUrl": "https://lh3.googleusercontent.com/a/default-user=s64",
      "userId": "10716541108022634460"
     },
     "user_tz": -330
    },
    "id": "OX0YzXn4iH2G",
    "outputId": "0867e171-1465-4989-dd76-cdc836215ce5"
   },
   "outputs": [
    {
     "data": {
      "image/png": "[encoded data removed]",
      "text/plain": [
       "<Figure size 720x360 with 1 Axes>"
      ]
     },
     "metadata": {
      "needs_background": "light"
     },
     "output_type": "display_data"
    }
   ],
   "source": [
    "fig,x=plt.subplots(figsize=(10,5))\n",
    "plt.bar(*zip(*moviecount.items()))\n",
    "plt.show()"
   ]
  },
  {
   "cell_type": "markdown",
   "metadata": {
    "id": "22_iq_rl4YE0"
   },
   "source": [
    "Average rating for each actor"
   ]
  },
  {
   "cell_type": "code",
   "execution_count": null,
   "metadata": {
    "id": "v2lAO-d_4YE0"
   },
   "outputs": [],
   "source": [
    "avgrating=[]\n",
    "for x in uniqueactors:\n",
    "      avgrating.append(df_India[df_India['Actors'].str.contains(x)].averageRating.mean())"
   ]
  },
  {
   "cell_type": "code",
   "execution_count": null,
   "metadata": {
    "id": "2C2nLsAe4YE1"
   },
   "outputs": [],
   "source": [
    "actor_avgrating = pd.DataFrame(zip(uniqueactors,avgrating), columns =['Actors','AverageRating'])\n",
    "actor_avgrating.sort_values('AverageRating',ascending=False,inplace=True)\n"
   ]
  },
  {
   "cell_type": "code",
   "execution_count": null,
   "metadata": {
    "colab": {
     "base_uri": "https://localhost:8080/",
     "height": 1000
    },
    "executionInfo": {
     "elapsed": 29,
     "status": "ok",
     "timestamp": 1636971189119,
     "user": {
      "displayName": "dm project",
      "photoUrl": "https://lh3.googleusercontent.com/a/default-user=s64",
      "userId": "10716541108022634460"
     },
     "user_tz": -330
    },
    "id": "ZiUv0KKs4YE1",
    "outputId": "f613c3f0-92cb-4287-b9a4-e8f9cd72035f"
   },
   "outputs": [
    {
     "data": {
      "text/html": [
       "<div>\n",
       "<style scoped>\n",
       "    .dataframe tbody tr th:only-of-type {\n",
       "        vertical-align: middle;\n",
       "    }\n",
       "\n",
       "    .dataframe tbody tr th {\n",
       "        vertical-align: top;\n",
       "    }\n",
       "\n",
       "    .dataframe thead th {\n",
       "        text-align: right;\n",
       "    }\n",
       "</style>\n",
       "<table border=\"1\" class=\"dataframe\">\n",
       "  <thead>\n",
       "    <tr style=\"text-align: right;\">\n",
       "      <th></th>\n",
       "      <th>Actors</th>\n",
       "      <th>AverageRating</th>\n",
       "    </tr>\n",
       "  </thead>\n",
       "  <tbody>\n",
       "    <tr>\n",
       "      <th>12552</th>\n",
       "      <td>Ravi Siva Teja</td>\n",
       "      <td>10.000000</td>\n",
       "    </tr>\n",
       "    <tr>\n",
       "      <th>12549</th>\n",
       "      <td>Ramya Pasupileti</td>\n",
       "      <td>10.000000</td>\n",
       "    </tr>\n",
       "    <tr>\n",
       "      <th>12551</th>\n",
       "      <td>Medishetti Abhinav</td>\n",
       "      <td>10.000000</td>\n",
       "    </tr>\n",
       "    <tr>\n",
       "      <th>10066</th>\n",
       "      <td>Avinash Dwivedi</td>\n",
       "      <td>9.700000</td>\n",
       "    </tr>\n",
       "    <tr>\n",
       "      <th>10669</th>\n",
       "      <td>Sunil Kare</td>\n",
       "      <td>9.600000</td>\n",
       "    </tr>\n",
       "    <tr>\n",
       "      <th>13096</th>\n",
       "      <td>Aarumugam</td>\n",
       "      <td>9.600000</td>\n",
       "    </tr>\n",
       "    <tr>\n",
       "      <th>10668</th>\n",
       "      <td>Bhagwan Kare</td>\n",
       "      <td>9.600000</td>\n",
       "    </tr>\n",
       "    <tr>\n",
       "      <th>10670</th>\n",
       "      <td>Ajay Shinde</td>\n",
       "      <td>9.600000</td>\n",
       "    </tr>\n",
       "    <tr>\n",
       "      <th>20664</th>\n",
       "      <td>George Dawson</td>\n",
       "      <td>9.500000</td>\n",
       "    </tr>\n",
       "    <tr>\n",
       "      <th>13023</th>\n",
       "      <td>Chandrasekar</td>\n",
       "      <td>9.500000</td>\n",
       "    </tr>\n",
       "    <tr>\n",
       "      <th>13025</th>\n",
       "      <td>Kutti Mani</td>\n",
       "      <td>9.500000</td>\n",
       "    </tr>\n",
       "    <tr>\n",
       "      <th>13024</th>\n",
       "      <td>Eshwar Basha</td>\n",
       "      <td>9.500000</td>\n",
       "    </tr>\n",
       "    <tr>\n",
       "      <th>11523</th>\n",
       "      <td>Walter Fluker</td>\n",
       "      <td>9.400000</td>\n",
       "    </tr>\n",
       "    <tr>\n",
       "      <th>11524</th>\n",
       "      <td>Marc Crépon</td>\n",
       "      <td>9.400000</td>\n",
       "    </tr>\n",
       "    <tr>\n",
       "      <th>19952</th>\n",
       "      <td>Sinthar Athith</td>\n",
       "      <td>9.400000</td>\n",
       "    </tr>\n",
       "    <tr>\n",
       "      <th>10660</th>\n",
       "      <td>Kranti Reddy</td>\n",
       "      <td>9.400000</td>\n",
       "    </tr>\n",
       "    <tr>\n",
       "      <th>13242</th>\n",
       "      <td>Anujoy Chattopadhyay</td>\n",
       "      <td>9.400000</td>\n",
       "    </tr>\n",
       "    <tr>\n",
       "      <th>13241</th>\n",
       "      <td>Arif Shaikh</td>\n",
       "      <td>9.400000</td>\n",
       "    </tr>\n",
       "    <tr>\n",
       "      <th>12694</th>\n",
       "      <td>Prince Ooty</td>\n",
       "      <td>9.400000</td>\n",
       "    </tr>\n",
       "    <tr>\n",
       "      <th>18582</th>\n",
       "      <td>Samuel Kamble</td>\n",
       "      <td>9.300000</td>\n",
       "    </tr>\n",
       "    <tr>\n",
       "      <th>12516</th>\n",
       "      <td>Srikanth Iyengar</td>\n",
       "      <td>9.300000</td>\n",
       "    </tr>\n",
       "    <tr>\n",
       "      <th>11100</th>\n",
       "      <td>Guruprasad Hegde</td>\n",
       "      <td>9.300000</td>\n",
       "    </tr>\n",
       "    <tr>\n",
       "      <th>18622</th>\n",
       "      <td>Balachander Gubbi</td>\n",
       "      <td>9.300000</td>\n",
       "    </tr>\n",
       "    <tr>\n",
       "      <th>18621</th>\n",
       "      <td>Gokul Raj</td>\n",
       "      <td>9.300000</td>\n",
       "    </tr>\n",
       "    <tr>\n",
       "      <th>18583</th>\n",
       "      <td>Timothy Rai</td>\n",
       "      <td>9.300000</td>\n",
       "    </tr>\n",
       "    <tr>\n",
       "      <th>12518</th>\n",
       "      <td>Badram</td>\n",
       "      <td>9.300000</td>\n",
       "    </tr>\n",
       "    <tr>\n",
       "      <th>12550</th>\n",
       "      <td>Kaushik Reddy</td>\n",
       "      <td>9.266667</td>\n",
       "    </tr>\n",
       "    <tr>\n",
       "      <th>11264</th>\n",
       "      <td>Prashant Baraili</td>\n",
       "      <td>9.200000</td>\n",
       "    </tr>\n",
       "    <tr>\n",
       "      <th>10842</th>\n",
       "      <td>Anil Kholar</td>\n",
       "      <td>9.200000</td>\n",
       "    </tr>\n",
       "    <tr>\n",
       "      <th>10840</th>\n",
       "      <td>Tshering Petton</td>\n",
       "      <td>9.200000</td>\n",
       "    </tr>\n",
       "    <tr>\n",
       "      <th>10839</th>\n",
       "      <td>Alex Piringu</td>\n",
       "      <td>9.200000</td>\n",
       "    </tr>\n",
       "    <tr>\n",
       "      <th>10841</th>\n",
       "      <td>Tshering Dorjee</td>\n",
       "      <td>9.200000</td>\n",
       "    </tr>\n",
       "    <tr>\n",
       "      <th>13188</th>\n",
       "      <td>Prem Kumar Patro</td>\n",
       "      <td>9.200000</td>\n",
       "    </tr>\n",
       "    <tr>\n",
       "      <th>13189</th>\n",
       "      <td>Reddy Prawin</td>\n",
       "      <td>9.200000</td>\n",
       "    </tr>\n",
       "    <tr>\n",
       "      <th>20103</th>\n",
       "      <td>Milan Maric</td>\n",
       "      <td>9.200000</td>\n",
       "    </tr>\n",
       "    <tr>\n",
       "      <th>13306</th>\n",
       "      <td>Biswajit Sarkar</td>\n",
       "      <td>9.200000</td>\n",
       "    </tr>\n",
       "    <tr>\n",
       "      <th>20101</th>\n",
       "      <td>Petar Bencina</td>\n",
       "      <td>9.200000</td>\n",
       "    </tr>\n",
       "    <tr>\n",
       "      <th>20956</th>\n",
       "      <td>Shankar Behera</td>\n",
       "      <td>9.200000</td>\n",
       "    </tr>\n",
       "    <tr>\n",
       "      <th>20102</th>\n",
       "      <td>Andrija Kuzmanovic</td>\n",
       "      <td>9.200000</td>\n",
       "    </tr>\n",
       "    <tr>\n",
       "      <th>11263</th>\n",
       "      <td>Pujan Ghishing</td>\n",
       "      <td>9.200000</td>\n",
       "    </tr>\n",
       "    <tr>\n",
       "      <th>17219</th>\n",
       "      <td>Lutfur Rahman George</td>\n",
       "      <td>9.100000</td>\n",
       "    </tr>\n",
       "    <tr>\n",
       "      <th>11764</th>\n",
       "      <td>Banjamin Daimary</td>\n",
       "      <td>9.100000</td>\n",
       "    </tr>\n",
       "    <tr>\n",
       "      <th>11765</th>\n",
       "      <td>Manash Ranjan</td>\n",
       "      <td>9.100000</td>\n",
       "    </tr>\n",
       "    <tr>\n",
       "      <th>17220</th>\n",
       "      <td>Partha Barua</td>\n",
       "      <td>9.100000</td>\n",
       "    </tr>\n",
       "    <tr>\n",
       "      <th>11766</th>\n",
       "      <td>Palash Mech</td>\n",
       "      <td>9.100000</td>\n",
       "    </tr>\n",
       "    <tr>\n",
       "      <th>18321</th>\n",
       "      <td>Anjani Kumar Singh</td>\n",
       "      <td>9.100000</td>\n",
       "    </tr>\n",
       "    <tr>\n",
       "      <th>9004</th>\n",
       "      <td>Gaurav Pareek</td>\n",
       "      <td>9.100000</td>\n",
       "    </tr>\n",
       "    <tr>\n",
       "      <th>10564</th>\n",
       "      <td>David Brooks</td>\n",
       "      <td>9.100000</td>\n",
       "    </tr>\n",
       "    <tr>\n",
       "      <th>11638</th>\n",
       "      <td>Reghu Chullimanoor</td>\n",
       "      <td>9.100000</td>\n",
       "    </tr>\n",
       "    <tr>\n",
       "      <th>11639</th>\n",
       "      <td>Krishna Kanth</td>\n",
       "      <td>9.100000</td>\n",
       "    </tr>\n",
       "  </tbody>\n",
       "</table>\n",
       "</div>"
      ],
      "text/plain": [
       "                     Actors  AverageRating\n",
       "12552        Ravi Siva Teja      10.000000\n",
       "12549      Ramya Pasupileti      10.000000\n",
       "12551    Medishetti Abhinav      10.000000\n",
       "10066       Avinash Dwivedi       9.700000\n",
       "10669            Sunil Kare       9.600000\n",
       "13096             Aarumugam       9.600000\n",
       "10668          Bhagwan Kare       9.600000\n",
       "10670           Ajay Shinde       9.600000\n",
       "20664         George Dawson       9.500000\n",
       "13023          Chandrasekar       9.500000\n",
       "13025            Kutti Mani       9.500000\n",
       "13024          Eshwar Basha       9.500000\n",
       "11523         Walter Fluker       9.400000\n",
       "11524           Marc Crépon       9.400000\n",
       "19952        Sinthar Athith       9.400000\n",
       "10660          Kranti Reddy       9.400000\n",
       "13242  Anujoy Chattopadhyay       9.400000\n",
       "13241           Arif Shaikh       9.400000\n",
       "12694           Prince Ooty       9.400000\n",
       "18582         Samuel Kamble       9.300000\n",
       "12516      Srikanth Iyengar       9.300000\n",
       "11100      Guruprasad Hegde       9.300000\n",
       "18622     Balachander Gubbi       9.300000\n",
       "18621             Gokul Raj       9.300000\n",
       "18583           Timothy Rai       9.300000\n",
       "12518                Badram       9.300000\n",
       "12550         Kaushik Reddy       9.266667\n",
       "11264      Prashant Baraili       9.200000\n",
       "10842           Anil Kholar       9.200000\n",
       "10840       Tshering Petton       9.200000\n",
       "10839          Alex Piringu       9.200000\n",
       "10841       Tshering Dorjee       9.200000\n",
       "13188      Prem Kumar Patro       9.200000\n",
       "13189          Reddy Prawin       9.200000\n",
       "20103           Milan Maric       9.200000\n",
       "13306       Biswajit Sarkar       9.200000\n",
       "20101         Petar Bencina       9.200000\n",
       "20956        Shankar Behera       9.200000\n",
       "20102    Andrija Kuzmanovic       9.200000\n",
       "11263        Pujan Ghishing       9.200000\n",
       "17219  Lutfur Rahman George       9.100000\n",
       "11764      Banjamin Daimary       9.100000\n",
       "11765         Manash Ranjan       9.100000\n",
       "17220          Partha Barua       9.100000\n",
       "11766           Palash Mech       9.100000\n",
       "18321    Anjani Kumar Singh       9.100000\n",
       "9004          Gaurav Pareek       9.100000\n",
       "10564          David Brooks       9.100000\n",
       "11638    Reghu Chullimanoor       9.100000\n",
       "11639         Krishna Kanth       9.100000"
      ]
     },
     "execution_count": 64,
     "metadata": {},
     "output_type": "execute_result"
    }
   ],
   "source": [
    "actor_avgrating.sort_values('AverageRating',ascending=False,inplace=True)\n",
    "actor_avgrating.head(50)"
   ]
  },
  {
   "cell_type": "markdown",
   "metadata": {
    "id": "Iet92WkeN99Q"
   },
   "source": [
    "Director"
   ]
  },
  {
   "cell_type": "markdown",
   "metadata": {
    "id": "bfjIZdb6ODCs"
   },
   "source": [
    "Different directors and total count of movies"
   ]
  },
  {
   "cell_type": "code",
   "execution_count": null,
   "metadata": {
    "id": "Hbe3cMVOODCs"
   },
   "outputs": [],
   "source": [
    "l=df_India['Director']\n",
    "directorlist=[]\n",
    "for x in l:\n",
    "   for y in (x.split(', ')):\n",
    "            directorlist.append(y)"
   ]
  },
  {
   "cell_type": "code",
   "execution_count": null,
   "metadata": {
    "colab": {
     "base_uri": "https://localhost:8080/"
    },
    "executionInfo": {
     "elapsed": 2638,
     "status": "ok",
     "timestamp": 1636971191737,
     "user": {
      "displayName": "dm project",
      "photoUrl": "https://lh3.googleusercontent.com/a/default-user=s64",
      "userId": "10716541108022634460"
     },
     "user_tz": -330
    },
    "id": "4Grz7SRyODCt",
    "outputId": "78ecad8d-4f2a-49c8-cffe-d6a913c3455d"
   },
   "outputs": [
    {
     "name": "stdout",
     "output_type": "stream",
     "text": [
      "The number of directors are:11654\n"
     ]
    }
   ],
   "source": [
    "uniquedirectors=[]\n",
    "for x in directorlist:\n",
    "  if x not in uniquedirectors:\n",
    "     uniquedirectors.append(x)\n",
    "print(\"The number of directors is:%d\"%len(uniquedirectors))    "
   ]
  },
  {
   "cell_type": "code",
   "execution_count": null,
   "metadata": {
    "id": "A5JGYNHSODCt"
   },
   "outputs": [],
   "source": [
    "from collections import Counter\n",
    "c=Counter(directorlist)"
   ]
  },
  {
   "cell_type": "markdown",
   "metadata": {
    "id": "hk5jgSXDiH2I"
   },
   "source": [
    "Top 6 directors with most number of movies"
   ]
  },
  {
   "cell_type": "code",
   "execution_count": null,
   "metadata": {
    "colab": {
     "base_uri": "https://localhost:8080/"
    },
    "executionInfo": {
     "elapsed": 36,
     "status": "ok",
     "timestamp": 1636971191745,
     "user": {
      "displayName": "dm project",
      "photoUrl": "https://lh3.googleusercontent.com/a/default-user=s64",
      "userId": "10716541108022634460"
     },
     "user_tz": -330
    },
    "id": "u3W5LVIdiH2I",
    "outputId": "e31f6aad-6d3b-45c9-c1a6-9046a289a041"
   },
   "outputs": [
    {
     "data": {
      "text/plain": [
       "{'David Dhawan': 51,\n",
       " 'Mani Ratnam': 69,\n",
       " 'Priyadarshan': 69,\n",
       " 'Ram Gopal Varma': 56,\n",
       " 'Steven Spielberg': 83,\n",
       " 'Tim Burton': 70}"
      ]
     },
     "execution_count": 68,
     "metadata": {},
     "output_type": "execute_result"
    }
   ],
   "source": [
    "c=c.most_common(6)\n",
    "moviecount={}\n",
    "for x in c:\n",
    "    key=x[0]\n",
    "    moviecount[key]=x[1]\n",
    "moviecount"
   ]
  },
  {
   "cell_type": "code",
   "execution_count": null,
   "metadata": {
    "colab": {
     "base_uri": "https://localhost:8080/",
     "height": 320
    },
    "executionInfo": {
     "elapsed": 30,
     "status": "ok",
     "timestamp": 1636971191748,
     "user": {
      "displayName": "dm project",
      "photoUrl": "https://lh3.googleusercontent.com/a/default-user=s64",
      "userId": "10716541108022634460"
     },
     "user_tz": -330
    },
    "id": "_82rMyiKiH2I",
    "outputId": "c86d2553-0ea0-46d2-bea1-c05a2e1efb0c"
   },
   "outputs": [
    {
     "data": {
      "image/png": "[encoded data removed]",
      "text/plain": [
       "<Figure size 720x360 with 1 Axes>"
      ]
     },
     "metadata": {
      "needs_background": "light"
     },
     "output_type": "display_data"
    }
   ],
   "source": [
    "fig,x=plt.subplots(figsize=(10,5))\n",
    "plt.bar(*zip(*moviecount.items()))\n",
    "plt.show()"
   ]
  },
  {
   "cell_type": "markdown",
   "metadata": {
    "id": "_Vbo1naNODCt"
   },
   "source": [
    "Average rating for each director"
   ]
  },
  {
   "cell_type": "code",
   "execution_count": null,
   "metadata": {
    "id": "lNL6B7gCODCu"
   },
   "outputs": [],
   "source": [
    "avgrating=[]\n",
    "for x in uniquedirectors:\n",
    "      avgrating.append(df_India[df_India['Director'].str.contains(x)].averageRating.mean())"
   ]
  },
  {
   "cell_type": "code",
   "execution_count": null,
   "metadata": {
    "id": "nN4lYIW4ODCu"
   },
   "outputs": [],
   "source": [
    "director_avgrating = pd.DataFrame(zip(uniquedirectors,avgrating), columns =['Directors','AverageRating'])\n",
    "director_avgrating.sort_values('AverageRating',ascending=False,inplace=True)\n"
   ]
  },
  {
   "cell_type": "code",
   "execution_count": null,
   "metadata": {
    "colab": {
     "base_uri": "https://localhost:8080/",
     "height": 1000
    },
    "executionInfo": {
     "elapsed": 56,
     "status": "ok",
     "timestamp": 1636971319665,
     "user": {
      "displayName": "dm project",
      "photoUrl": "https://lh3.googleusercontent.com/a/default-user=s64",
      "userId": "10716541108022634460"
     },
     "user_tz": -330
    },
    "id": "ZKWqavDCODCu",
    "outputId": "568dddd9-cde7-4d5d-ff76-419b1f942c81"
   },
   "outputs": [
    {
     "data": {
      "text/html": [
       "<div>\n",
       "<style scoped>\n",
       "    .dataframe tbody tr th:only-of-type {\n",
       "        vertical-align: middle;\n",
       "    }\n",
       "\n",
       "    .dataframe tbody tr th {\n",
       "        vertical-align: top;\n",
       "    }\n",
       "\n",
       "    .dataframe thead th {\n",
       "        text-align: right;\n",
       "    }\n",
       "</style>\n",
       "<table border=\"1\" class=\"dataframe\">\n",
       "  <thead>\n",
       "    <tr style=\"text-align: right;\">\n",
       "      <th></th>\n",
       "      <th>Directors</th>\n",
       "      <th>AverageRating</th>\n",
       "    </tr>\n",
       "  </thead>\n",
       "  <tbody>\n",
       "    <tr>\n",
       "      <th>6362</th>\n",
       "      <td>Kayyam Upendra Kumar Nandhan</td>\n",
       "      <td>10.0</td>\n",
       "    </tr>\n",
       "    <tr>\n",
       "      <th>5325</th>\n",
       "      <td>Naveen Deshaboina</td>\n",
       "      <td>9.6</td>\n",
       "    </tr>\n",
       "    <tr>\n",
       "      <th>11437</th>\n",
       "      <td>Sam Bhattacharjee</td>\n",
       "      <td>9.5</td>\n",
       "    </tr>\n",
       "    <tr>\n",
       "      <th>6625</th>\n",
       "      <td>Kittu</td>\n",
       "      <td>9.5</td>\n",
       "    </tr>\n",
       "    <tr>\n",
       "      <th>6388</th>\n",
       "      <td>Revanth Korukonda</td>\n",
       "      <td>9.5</td>\n",
       "    </tr>\n",
       "    <tr>\n",
       "      <th>10975</th>\n",
       "      <td>Ranjith Joseph</td>\n",
       "      <td>9.4</td>\n",
       "    </tr>\n",
       "    <tr>\n",
       "      <th>5321</th>\n",
       "      <td>Hemanth Srinivas</td>\n",
       "      <td>9.4</td>\n",
       "    </tr>\n",
       "    <tr>\n",
       "      <th>6736</th>\n",
       "      <td>Prasun Chatterjee</td>\n",
       "      <td>9.4</td>\n",
       "    </tr>\n",
       "    <tr>\n",
       "      <th>6138</th>\n",
       "      <td>E. Sathi Babu</td>\n",
       "      <td>9.4</td>\n",
       "    </tr>\n",
       "    <tr>\n",
       "      <th>5768</th>\n",
       "      <td>Mathilde Damoisel</td>\n",
       "      <td>9.4</td>\n",
       "    </tr>\n",
       "    <tr>\n",
       "      <th>6455</th>\n",
       "      <td>Basheer Pulari</td>\n",
       "      <td>9.4</td>\n",
       "    </tr>\n",
       "    <tr>\n",
       "      <th>10086</th>\n",
       "      <td>Prabhat Kumar</td>\n",
       "      <td>9.3</td>\n",
       "    </tr>\n",
       "    <tr>\n",
       "      <th>5553</th>\n",
       "      <td>Preetham Shetty</td>\n",
       "      <td>9.3</td>\n",
       "    </tr>\n",
       "    <tr>\n",
       "      <th>10110</th>\n",
       "      <td>Sindhanur Sandeep Nagalikar</td>\n",
       "      <td>9.3</td>\n",
       "    </tr>\n",
       "    <tr>\n",
       "      <th>6345</th>\n",
       "      <td>Guru Pawan</td>\n",
       "      <td>9.3</td>\n",
       "    </tr>\n",
       "    <tr>\n",
       "      <th>6781</th>\n",
       "      <td>Konarak Mukherjee</td>\n",
       "      <td>9.2</td>\n",
       "    </tr>\n",
       "    <tr>\n",
       "      <th>11074</th>\n",
       "      <td>Zoran Lisinac</td>\n",
       "      <td>9.2</td>\n",
       "    </tr>\n",
       "    <tr>\n",
       "      <th>11075</th>\n",
       "      <td>Dragan Bjelogrlic</td>\n",
       "      <td>9.2</td>\n",
       "    </tr>\n",
       "    <tr>\n",
       "      <th>5624</th>\n",
       "      <td>Aalmist Subba</td>\n",
       "      <td>9.2</td>\n",
       "    </tr>\n",
       "    <tr>\n",
       "      <th>6704</th>\n",
       "      <td>Bandi Saroj Kumar</td>\n",
       "      <td>9.2</td>\n",
       "    </tr>\n",
       "    <tr>\n",
       "      <th>5415</th>\n",
       "      <td>Shantanu Sen</td>\n",
       "      <td>9.2</td>\n",
       "    </tr>\n",
       "    <tr>\n",
       "      <th>11632</th>\n",
       "      <td>Sabyasachi Mohapatra</td>\n",
       "      <td>9.2</td>\n",
       "    </tr>\n",
       "    <tr>\n",
       "      <th>8319</th>\n",
       "      <td>Patrick Flynn</td>\n",
       "      <td>9.1</td>\n",
       "    </tr>\n",
       "    <tr>\n",
       "      <th>5269</th>\n",
       "      <td>Richie Adams</td>\n",
       "      <td>9.1</td>\n",
       "    </tr>\n",
       "    <tr>\n",
       "      <th>9235</th>\n",
       "      <td>Amitabh Reza Chowdhury</td>\n",
       "      <td>9.1</td>\n",
       "    </tr>\n",
       "    <tr>\n",
       "      <th>5911</th>\n",
       "      <td>Prakash Deka</td>\n",
       "      <td>9.1</td>\n",
       "    </tr>\n",
       "    <tr>\n",
       "      <th>9929</th>\n",
       "      <td>Shubhanshu Satyadeo</td>\n",
       "      <td>9.1</td>\n",
       "    </tr>\n",
       "    <tr>\n",
       "      <th>5839</th>\n",
       "      <td>Krishnanunni Mangalath</td>\n",
       "      <td>9.1</td>\n",
       "    </tr>\n",
       "    <tr>\n",
       "      <th>4775</th>\n",
       "      <td>Raj Gupta</td>\n",
       "      <td>9.0</td>\n",
       "    </tr>\n",
       "    <tr>\n",
       "      <th>10181</th>\n",
       "      <td>Deepak Sawakhande</td>\n",
       "      <td>9.0</td>\n",
       "    </tr>\n",
       "    <tr>\n",
       "      <th>9446</th>\n",
       "      <td>Chris Delforce</td>\n",
       "      <td>9.0</td>\n",
       "    </tr>\n",
       "    <tr>\n",
       "      <th>2790</th>\n",
       "      <td>Yûgô Sakô</td>\n",
       "      <td>9.0</td>\n",
       "    </tr>\n",
       "    <tr>\n",
       "      <th>4890</th>\n",
       "      <td>Shivaraj</td>\n",
       "      <td>9.0</td>\n",
       "    </tr>\n",
       "    <tr>\n",
       "      <th>10661</th>\n",
       "      <td>Sunil Patel</td>\n",
       "      <td>9.0</td>\n",
       "    </tr>\n",
       "    <tr>\n",
       "      <th>10056</th>\n",
       "      <td>Sreekarababu</td>\n",
       "      <td>9.0</td>\n",
       "    </tr>\n",
       "    <tr>\n",
       "      <th>10970</th>\n",
       "      <td>Soumi Saha</td>\n",
       "      <td>9.0</td>\n",
       "    </tr>\n",
       "    <tr>\n",
       "      <th>10971</th>\n",
       "      <td>Snehashish Mondal</td>\n",
       "      <td>9.0</td>\n",
       "    </tr>\n",
       "    <tr>\n",
       "      <th>4446</th>\n",
       "      <td>Verma Vivek</td>\n",
       "      <td>9.0</td>\n",
       "    </tr>\n",
       "    <tr>\n",
       "      <th>6177</th>\n",
       "      <td>Nasir Engineer</td>\n",
       "      <td>9.0</td>\n",
       "    </tr>\n",
       "    <tr>\n",
       "      <th>6563</th>\n",
       "      <td>Gautam Joshi</td>\n",
       "      <td>9.0</td>\n",
       "    </tr>\n",
       "    <tr>\n",
       "      <th>2789</th>\n",
       "      <td>Koichi Saski</td>\n",
       "      <td>9.0</td>\n",
       "    </tr>\n",
       "    <tr>\n",
       "      <th>6428</th>\n",
       "      <td>Durga .P.S.</td>\n",
       "      <td>9.0</td>\n",
       "    </tr>\n",
       "    <tr>\n",
       "      <th>6677</th>\n",
       "      <td>Nithin Lukose</td>\n",
       "      <td>8.9</td>\n",
       "    </tr>\n",
       "    <tr>\n",
       "      <th>5734</th>\n",
       "      <td>Dipendra K. Khanal</td>\n",
       "      <td>8.9</td>\n",
       "    </tr>\n",
       "    <tr>\n",
       "      <th>6689</th>\n",
       "      <td>Sivudu</td>\n",
       "      <td>8.9</td>\n",
       "    </tr>\n",
       "    <tr>\n",
       "      <th>6439</th>\n",
       "      <td>Shubho Basu Nag</td>\n",
       "      <td>8.9</td>\n",
       "    </tr>\n",
       "    <tr>\n",
       "      <th>6663</th>\n",
       "      <td>Rajit Agarwal</td>\n",
       "      <td>8.9</td>\n",
       "    </tr>\n",
       "    <tr>\n",
       "      <th>6714</th>\n",
       "      <td>Rajan Verma</td>\n",
       "      <td>8.9</td>\n",
       "    </tr>\n",
       "    <tr>\n",
       "      <th>6530</th>\n",
       "      <td>Saif Ali Sayeed</td>\n",
       "      <td>8.9</td>\n",
       "    </tr>\n",
       "    <tr>\n",
       "      <th>8755</th>\n",
       "      <td>Abhijit Deonath</td>\n",
       "      <td>8.9</td>\n",
       "    </tr>\n",
       "  </tbody>\n",
       "</table>\n",
       "</div>"
      ],
      "text/plain": [
       "                          Directors  AverageRating\n",
       "6362   Kayyam Upendra Kumar Nandhan           10.0\n",
       "5325              Naveen Deshaboina            9.6\n",
       "11437             Sam Bhattacharjee            9.5\n",
       "6625                          Kittu            9.5\n",
       "6388              Revanth Korukonda            9.5\n",
       "10975                Ranjith Joseph            9.4\n",
       "5321               Hemanth Srinivas            9.4\n",
       "6736              Prasun Chatterjee            9.4\n",
       "6138                  E. Sathi Babu            9.4\n",
       "5768              Mathilde Damoisel            9.4\n",
       "6455                 Basheer Pulari            9.4\n",
       "10086                 Prabhat Kumar            9.3\n",
       "5553                Preetham Shetty            9.3\n",
       "10110   Sindhanur Sandeep Nagalikar            9.3\n",
       "6345                     Guru Pawan            9.3\n",
       "6781              Konarak Mukherjee            9.2\n",
       "11074                 Zoran Lisinac            9.2\n",
       "11075             Dragan Bjelogrlic            9.2\n",
       "5624                  Aalmist Subba            9.2\n",
       "6704              Bandi Saroj Kumar            9.2\n",
       "5415                   Shantanu Sen            9.2\n",
       "11632          Sabyasachi Mohapatra            9.2\n",
       "8319                  Patrick Flynn            9.1\n",
       "5269                   Richie Adams            9.1\n",
       "9235         Amitabh Reza Chowdhury            9.1\n",
       "5911                   Prakash Deka            9.1\n",
       "9929            Shubhanshu Satyadeo            9.1\n",
       "5839         Krishnanunni Mangalath            9.1\n",
       "4775                      Raj Gupta            9.0\n",
       "10181             Deepak Sawakhande            9.0\n",
       "9446                 Chris Delforce            9.0\n",
       "2790                      Yûgô Sakô            9.0\n",
       "4890                       Shivaraj            9.0\n",
       "10661                   Sunil Patel            9.0\n",
       "10056                  Sreekarababu            9.0\n",
       "10970                    Soumi Saha            9.0\n",
       "10971             Snehashish Mondal            9.0\n",
       "4446                    Verma Vivek            9.0\n",
       "6177                 Nasir Engineer            9.0\n",
       "6563                   Gautam Joshi            9.0\n",
       "2789                   Koichi Saski            9.0\n",
       "6428                    Durga .P.S.            9.0\n",
       "6677                  Nithin Lukose            8.9\n",
       "5734             Dipendra K. Khanal            8.9\n",
       "6689                         Sivudu            8.9\n",
       "6439                Shubho Basu Nag            8.9\n",
       "6663                  Rajit Agarwal            8.9\n",
       "6714                    Rajan Verma            8.9\n",
       "6530                Saif Ali Sayeed            8.9\n",
       "8755                Abhijit Deonath            8.9"
      ]
     },
     "execution_count": 72,
     "metadata": {},
     "output_type": "execute_result"
    }
   ],
   "source": [
    "director_avgrating.sort_values('AverageRating',ascending=False,inplace=True)\n",
    "director_avgrating.head(50)"
   ]
  },
  {
   "cell_type": "markdown",
   "metadata": {
    "id": "Si3JqSg8liXW"
   },
   "source": [
    "Actress"
   ]
  },
  {
   "cell_type": "markdown",
   "metadata": {
    "id": "eTT_np9ClrR1"
   },
   "source": [
    "Different actress and total count of movies"
   ]
  },
  {
   "cell_type": "code",
   "execution_count": null,
   "metadata": {
    "id": "bk_F5zEolrR2"
   },
   "outputs": [],
   "source": [
    "l=df_India['Actress']\n",
    "actresslist=[]\n",
    "for x in l:\n",
    "   for y in (x.split(', ')):\n",
    "           actresslist.append(y)"
   ]
  },
  {
   "cell_type": "code",
   "execution_count": null,
   "metadata": {
    "colab": {
     "base_uri": "https://localhost:8080/"
    },
    "executionInfo": {
     "elapsed": 7862,
     "status": "ok",
     "timestamp": 1636971327504,
     "user": {
      "displayName": "dm project",
      "photoUrl": "https://lh3.googleusercontent.com/a/default-user=s64",
      "userId": "10716541108022634460"
     },
     "user_tz": -330
    },
    "id": "zQsdAmGdlrR3",
    "outputId": "d6b74419-7ed8-4367-e6f6-9f7ff990f515"
   },
   "outputs": [
    {
     "name": "stdout",
     "output_type": "stream",
     "text": [
      "The number of actress is:15817\n"
     ]
    }
   ],
   "source": [
    "uniqueactress=[]\n",
    "for x in actresslist:\n",
    "  if x not in uniqueactress:\n",
    "     uniqueactress.append(x)\n",
    "print(\"The number of actress is:%d\"%len(uniqueactress))    "
   ]
  },
  {
   "cell_type": "code",
   "execution_count": null,
   "metadata": {
    "id": "BajkJPgMlrR3"
   },
   "outputs": [],
   "source": [
    "from collections import Counter\n",
    "c=Counter(actresslist)"
   ]
  },
  {
   "cell_type": "markdown",
   "metadata": {
    "id": "JpTBIIO9iH2K"
   },
   "source": [
    "Top 6 actress with most number of movies"
   ]
  },
  {
   "cell_type": "code",
   "execution_count": null,
   "metadata": {
    "colab": {
     "base_uri": "https://localhost:8080/"
    },
    "executionInfo": {
     "elapsed": 47,
     "status": "ok",
     "timestamp": 1636971327518,
     "user": {
      "displayName": "dm project",
      "photoUrl": "https://lh3.googleusercontent.com/a/default-user=s64",
      "userId": "10716541108022634460"
     },
     "user_tz": -330
    },
    "id": "EUdKti8kiH2K",
    "outputId": "40ea41f1-1143-4d1b-9f05-cd5ffedaefa7"
   },
   "outputs": [
    {
     "data": {
      "text/plain": [
       "{'Kajal Aggarwal': 95,\n",
       " 'Kareena Kapoor': 84,\n",
       " 'Nayanthara': 108,\n",
       " 'Rani Mukerji': 84,\n",
       " 'Rekha': 92,\n",
       " 'Tabu': 92}"
      ]
     },
     "execution_count": 76,
     "metadata": {},
     "output_type": "execute_result"
    }
   ],
   "source": [
    "c=c.most_common(6)\n",
    "moviecount={}\n",
    "for x in c:\n",
    "    key=x[0]\n",
    "    moviecount[key]=x[1]\n",
    "moviecount"
   ]
  },
  {
   "cell_type": "code",
   "execution_count": null,
   "metadata": {
    "colab": {
     "base_uri": "https://localhost:8080/",
     "height": 320
    },
    "executionInfo": {
     "elapsed": 41,
     "status": "ok",
     "timestamp": 1636971327521,
     "user": {
      "displayName": "dm project",
      "photoUrl": "https://lh3.googleusercontent.com/a/default-user=s64",
      "userId": "10716541108022634460"
     },
     "user_tz": -330
    },
    "id": "XmlbSJ1HiH2K",
    "outputId": "f13920be-ac28-4f1e-da67-41c434d904b5"
   },
   "outputs": [
    {
     "data": {
      "image/png": "[encoded data removed]",
      "text/plain": [
       "<Figure size 720x360 with 1 Axes>"
      ]
     },
     "metadata": {
      "needs_background": "light"
     },
     "output_type": "display_data"
    }
   ],
   "source": [
    "fig,x=plt.subplots(figsize=(10,5))\n",
    "plt.bar(*zip(*moviecount.items()))\n",
    "plt.show()"
   ]
  },
  {
   "cell_type": "markdown",
   "metadata": {
    "id": "qLEdApR9lrR4"
   },
   "source": [
    "Average rating for each actress"
   ]
  },
  {
   "cell_type": "code",
   "execution_count": null,
   "metadata": {
    "id": "meZ-KR9KlrR4"
   },
   "outputs": [],
   "source": [
    "avgrating=[]\n",
    "for x in uniqueactress:\n",
    "      avgrating.append(df_India[df_India['Actress'].str.contains(x)].averageRating.mean())"
   ]
  },
  {
   "cell_type": "code",
   "execution_count": null,
   "metadata": {
    "id": "dIlpYQk4lrR4"
   },
   "outputs": [],
   "source": [
    "actress_avgrating = pd.DataFrame(zip(uniqueactress,avgrating), columns =['Actress','AverageRating'])\n",
    "actress_avgrating.sort_values('AverageRating',ascending=False,inplace=True)\n"
   ]
  },
  {
   "cell_type": "code",
   "execution_count": null,
   "metadata": {
    "colab": {
     "base_uri": "https://localhost:8080/",
     "height": 1000
    },
    "executionInfo": {
     "elapsed": 189,
     "status": "ok",
     "timestamp": 1636971515442,
     "user": {
      "displayName": "dm project",
      "photoUrl": "https://lh3.googleusercontent.com/a/default-user=s64",
      "userId": "10716541108022634460"
     },
     "user_tz": -330
    },
    "id": "jqxADSAylrR5",
    "outputId": "0ddcadc5-6589-4386-dab0-6d32e3faa223"
   },
   "outputs": [
    {
     "data": {
      "text/html": [
       "<div>\n",
       "<style scoped>\n",
       "    .dataframe tbody tr th:only-of-type {\n",
       "        vertical-align: middle;\n",
       "    }\n",
       "\n",
       "    .dataframe tbody tr th {\n",
       "        vertical-align: top;\n",
       "    }\n",
       "\n",
       "    .dataframe thead th {\n",
       "        text-align: right;\n",
       "    }\n",
       "</style>\n",
       "<table border=\"1\" class=\"dataframe\">\n",
       "  <thead>\n",
       "    <tr style=\"text-align: right;\">\n",
       "      <th></th>\n",
       "      <th>Actress</th>\n",
       "      <th>AverageRating</th>\n",
       "    </tr>\n",
       "  </thead>\n",
       "  <tbody>\n",
       "    <tr>\n",
       "      <th>9264</th>\n",
       "      <td>Vismaya Sri</td>\n",
       "      <td>10.0</td>\n",
       "    </tr>\n",
       "    <tr>\n",
       "      <th>7379</th>\n",
       "      <td>Sangita Sinha</td>\n",
       "      <td>9.7</td>\n",
       "    </tr>\n",
       "    <tr>\n",
       "      <th>7380</th>\n",
       "      <td>Kasturi Chakraborty</td>\n",
       "      <td>9.7</td>\n",
       "    </tr>\n",
       "    <tr>\n",
       "      <th>7853</th>\n",
       "      <td>Radha Chavan</td>\n",
       "      <td>9.6</td>\n",
       "    </tr>\n",
       "    <tr>\n",
       "      <th>7854</th>\n",
       "      <td>Lata Kare</td>\n",
       "      <td>9.6</td>\n",
       "    </tr>\n",
       "    <tr>\n",
       "      <th>7855</th>\n",
       "      <td>Rekha Gaikwad</td>\n",
       "      <td>9.6</td>\n",
       "    </tr>\n",
       "    <tr>\n",
       "      <th>7845</th>\n",
       "      <td>Simer Motiani</td>\n",
       "      <td>9.4</td>\n",
       "    </tr>\n",
       "    <tr>\n",
       "      <th>14989</th>\n",
       "      <td>Leelawathy</td>\n",
       "      <td>9.4</td>\n",
       "    </tr>\n",
       "    <tr>\n",
       "      <th>14990</th>\n",
       "      <td>Mathumathi</td>\n",
       "      <td>9.4</td>\n",
       "    </tr>\n",
       "    <tr>\n",
       "      <th>9371</th>\n",
       "      <td>Sukanyeah Krishna</td>\n",
       "      <td>9.4</td>\n",
       "    </tr>\n",
       "    <tr>\n",
       "      <th>8483</th>\n",
       "      <td>Mira Kamdar</td>\n",
       "      <td>9.4</td>\n",
       "    </tr>\n",
       "    <tr>\n",
       "      <th>9773</th>\n",
       "      <td>Jayati Chakraborty</td>\n",
       "      <td>9.4</td>\n",
       "    </tr>\n",
       "    <tr>\n",
       "      <th>9772</th>\n",
       "      <td>Swatilekha Kundu</td>\n",
       "      <td>9.4</td>\n",
       "    </tr>\n",
       "    <tr>\n",
       "      <th>9240</th>\n",
       "      <td>Sandhya Janak</td>\n",
       "      <td>9.3</td>\n",
       "    </tr>\n",
       "    <tr>\n",
       "      <th>13924</th>\n",
       "      <td>Kalpana Bhattarai</td>\n",
       "      <td>9.3</td>\n",
       "    </tr>\n",
       "    <tr>\n",
       "      <th>8187</th>\n",
       "      <td>Neema Ray</td>\n",
       "      <td>9.3</td>\n",
       "    </tr>\n",
       "    <tr>\n",
       "      <th>8186</th>\n",
       "      <td>Sinchana Chandramohan</td>\n",
       "      <td>9.3</td>\n",
       "    </tr>\n",
       "    <tr>\n",
       "      <th>15793</th>\n",
       "      <td>Lochani Bag</td>\n",
       "      <td>9.2</td>\n",
       "    </tr>\n",
       "    <tr>\n",
       "      <th>9726</th>\n",
       "      <td>Himansee Katragadda</td>\n",
       "      <td>9.2</td>\n",
       "    </tr>\n",
       "    <tr>\n",
       "      <th>15795</th>\n",
       "      <td>Purushottam Mishra</td>\n",
       "      <td>9.2</td>\n",
       "    </tr>\n",
       "    <tr>\n",
       "      <th>8277</th>\n",
       "      <td>Davina</td>\n",
       "      <td>9.2</td>\n",
       "    </tr>\n",
       "    <tr>\n",
       "      <th>15107</th>\n",
       "      <td>Tamara Dragicevic</td>\n",
       "      <td>9.2</td>\n",
       "    </tr>\n",
       "    <tr>\n",
       "      <th>15794</th>\n",
       "      <td>Tapaswini Guru</td>\n",
       "      <td>9.2</td>\n",
       "    </tr>\n",
       "    <tr>\n",
       "      <th>7981</th>\n",
       "      <td>Sonam Lhamu</td>\n",
       "      <td>9.2</td>\n",
       "    </tr>\n",
       "    <tr>\n",
       "      <th>8278</th>\n",
       "      <td>Pranisha Gahatraj</td>\n",
       "      <td>9.2</td>\n",
       "    </tr>\n",
       "    <tr>\n",
       "      <th>9727</th>\n",
       "      <td>Kavya Suresh</td>\n",
       "      <td>9.2</td>\n",
       "    </tr>\n",
       "    <tr>\n",
       "      <th>13737</th>\n",
       "      <td>Ankita Bahuguna</td>\n",
       "      <td>9.1</td>\n",
       "    </tr>\n",
       "    <tr>\n",
       "      <th>8566</th>\n",
       "      <td>Gowri Krishna</td>\n",
       "      <td>9.1</td>\n",
       "    </tr>\n",
       "    <tr>\n",
       "      <th>11695</th>\n",
       "      <td>Nicole Shostak</td>\n",
       "      <td>9.1</td>\n",
       "    </tr>\n",
       "    <tr>\n",
       "      <th>12858</th>\n",
       "      <td>Masuma Rahman Nabila</td>\n",
       "      <td>9.1</td>\n",
       "    </tr>\n",
       "    <tr>\n",
       "      <th>9729</th>\n",
       "      <td>Anu Prabhakar</td>\n",
       "      <td>9.1</td>\n",
       "    </tr>\n",
       "    <tr>\n",
       "      <th>8663</th>\n",
       "      <td>Bitopi Dutta</td>\n",
       "      <td>9.1</td>\n",
       "    </tr>\n",
       "    <tr>\n",
       "      <th>11694</th>\n",
       "      <td>Gabrielle Scawthorn</td>\n",
       "      <td>9.1</td>\n",
       "    </tr>\n",
       "    <tr>\n",
       "      <th>8664</th>\n",
       "      <td>Nibedita Kalita</td>\n",
       "      <td>9.1</td>\n",
       "    </tr>\n",
       "    <tr>\n",
       "      <th>13736</th>\n",
       "      <td>Preena Jhamb</td>\n",
       "      <td>9.1</td>\n",
       "    </tr>\n",
       "    <tr>\n",
       "      <th>8665</th>\n",
       "      <td>Meena Ingti</td>\n",
       "      <td>9.1</td>\n",
       "    </tr>\n",
       "    <tr>\n",
       "      <th>9014</th>\n",
       "      <td>Shweta Bhat</td>\n",
       "      <td>9.0</td>\n",
       "    </tr>\n",
       "    <tr>\n",
       "      <th>9013</th>\n",
       "      <td>Shreya Kumar</td>\n",
       "      <td>9.0</td>\n",
       "    </tr>\n",
       "    <tr>\n",
       "      <th>7214</th>\n",
       "      <td>Sanjana Chidanand</td>\n",
       "      <td>9.0</td>\n",
       "    </tr>\n",
       "    <tr>\n",
       "      <th>9445</th>\n",
       "      <td>Indira Krishnan</td>\n",
       "      <td>9.0</td>\n",
       "    </tr>\n",
       "    <tr>\n",
       "      <th>13894</th>\n",
       "      <td>Mahhima Kottary</td>\n",
       "      <td>9.0</td>\n",
       "    </tr>\n",
       "    <tr>\n",
       "      <th>13892</th>\n",
       "      <td>Sapna Chugani</td>\n",
       "      <td>9.0</td>\n",
       "    </tr>\n",
       "    <tr>\n",
       "      <th>4449</th>\n",
       "      <td>Edie Mirman</td>\n",
       "      <td>9.0</td>\n",
       "    </tr>\n",
       "    <tr>\n",
       "      <th>9537</th>\n",
       "      <td>Archanna Guptaa</td>\n",
       "      <td>9.0</td>\n",
       "    </tr>\n",
       "    <tr>\n",
       "      <th>4448</th>\n",
       "      <td>Rael Padamsee</td>\n",
       "      <td>9.0</td>\n",
       "    </tr>\n",
       "    <tr>\n",
       "      <th>1738</th>\n",
       "      <td>Mona Wassef</td>\n",
       "      <td>9.0</td>\n",
       "    </tr>\n",
       "    <tr>\n",
       "      <th>9345</th>\n",
       "      <td>Deepthi Manne</td>\n",
       "      <td>9.0</td>\n",
       "    </tr>\n",
       "    <tr>\n",
       "      <th>9015</th>\n",
       "      <td>Veena Nair</td>\n",
       "      <td>9.0</td>\n",
       "    </tr>\n",
       "    <tr>\n",
       "      <th>13893</th>\n",
       "      <td>Bindu Barbie</td>\n",
       "      <td>9.0</td>\n",
       "    </tr>\n",
       "    <tr>\n",
       "      <th>13154</th>\n",
       "      <td>Katherine von Drachenberg</td>\n",
       "      <td>9.0</td>\n",
       "    </tr>\n",
       "  </tbody>\n",
       "</table>\n",
       "</div>"
      ],
      "text/plain": [
       "                         Actress  AverageRating\n",
       "9264                 Vismaya Sri           10.0\n",
       "7379               Sangita Sinha            9.7\n",
       "7380         Kasturi Chakraborty            9.7\n",
       "7853                Radha Chavan            9.6\n",
       "7854                   Lata Kare            9.6\n",
       "7855               Rekha Gaikwad            9.6\n",
       "7845               Simer Motiani            9.4\n",
       "14989                 Leelawathy            9.4\n",
       "14990                 Mathumathi            9.4\n",
       "9371           Sukanyeah Krishna            9.4\n",
       "8483                 Mira Kamdar            9.4\n",
       "9773          Jayati Chakraborty            9.4\n",
       "9772            Swatilekha Kundu            9.4\n",
       "9240               Sandhya Janak            9.3\n",
       "13924          Kalpana Bhattarai            9.3\n",
       "8187                   Neema Ray            9.3\n",
       "8186       Sinchana Chandramohan            9.3\n",
       "15793                Lochani Bag            9.2\n",
       "9726         Himansee Katragadda            9.2\n",
       "15795         Purushottam Mishra            9.2\n",
       "8277                      Davina            9.2\n",
       "15107          Tamara Dragicevic            9.2\n",
       "15794             Tapaswini Guru            9.2\n",
       "7981                 Sonam Lhamu            9.2\n",
       "8278           Pranisha Gahatraj            9.2\n",
       "9727                Kavya Suresh            9.2\n",
       "13737            Ankita Bahuguna            9.1\n",
       "8566               Gowri Krishna            9.1\n",
       "11695             Nicole Shostak            9.1\n",
       "12858       Masuma Rahman Nabila            9.1\n",
       "9729               Anu Prabhakar            9.1\n",
       "8663                Bitopi Dutta            9.1\n",
       "11694        Gabrielle Scawthorn            9.1\n",
       "8664             Nibedita Kalita            9.1\n",
       "13736               Preena Jhamb            9.1\n",
       "8665                 Meena Ingti            9.1\n",
       "9014                 Shweta Bhat            9.0\n",
       "9013                Shreya Kumar            9.0\n",
       "7214           Sanjana Chidanand            9.0\n",
       "9445             Indira Krishnan            9.0\n",
       "13894            Mahhima Kottary            9.0\n",
       "13892              Sapna Chugani            9.0\n",
       "4449                 Edie Mirman            9.0\n",
       "9537             Archanna Guptaa            9.0\n",
       "4448               Rael Padamsee            9.0\n",
       "1738                 Mona Wassef            9.0\n",
       "9345               Deepthi Manne            9.0\n",
       "9015                  Veena Nair            9.0\n",
       "13893               Bindu Barbie            9.0\n",
       "13154  Katherine von Drachenberg            9.0"
      ]
     },
     "execution_count": 80,
     "metadata": {},
     "output_type": "execute_result"
    }
   ],
   "source": [
    "actress_avgrating.sort_values('AverageRating',ascending=False,inplace=True)\n",
    "actress_avgrating.head(50)"
   ]
  },
  {
   "cell_type": "markdown",
   "metadata": {
    "id": "2sghcMGZjwAD"
   },
   "source": [
    "Converting ratings into four categories and finding count of each category\n",
    "\n"
   ]
  },
  {
   "cell_type": "code",
   "execution_count": null,
   "metadata": {
    "id": "zZq_jkRbj7H8"
   },
   "outputs": [],
   "source": [
    "def rating(rating):\n",
    "  if rating >=7.5:\n",
    "    return 'Excellent'\n",
    "  elif rating >=6:\n",
    "    return 'Good'  \n",
    "  elif rating >=4:\n",
    "    return 'Average' \n",
    "  else:\n",
    "    return 'Flop'"
   ]
  },
  {
   "cell_type": "code",
   "execution_count": null,
   "metadata": {
    "id": "yDfe6BmkiH2L"
   },
   "outputs": [],
   "source": [
    "df_India['Rating']=df_India['averageRating'].apply(rating)"
   ]
  },
  {
   "cell_type": "markdown",
   "metadata": {
    "id": "LMoyzNRciH2L"
   },
   "source": [
    "Finding the percentage of movie belonging to each rating category"
   ]
  },
  {
   "cell_type": "code",
   "execution_count": null,
   "metadata": {
    "colab": {
     "base_uri": "https://localhost:8080/",
     "height": 357
    },
    "executionInfo": {
     "elapsed": 176,
     "status": "ok",
     "timestamp": 1636971515452,
     "user": {
      "displayName": "dm project",
      "photoUrl": "https://lh3.googleusercontent.com/a/default-user=s64",
      "userId": "10716541108022634460"
     },
     "user_tz": -330
    },
    "id": "Bj4AVq0IiH2N",
    "outputId": "f0383d2e-1a38-4209-9d8e-38da066f3acb"
   },
   "outputs": [
    {
     "data": {
      "image/png": "[encoded data removed]",
      "text/plain": [
       "<Figure size 432x432 with 1 Axes>"
      ]
     },
     "metadata": {},
     "output_type": "display_data"
    }
   ],
   "source": [
    "df_India.Rating.value_counts().plot.pie(autopct=\"%.0f%%\",figsize=(6,6),pctdistance=0.8,wedgeprops=dict(width=0.4))\n",
    "plt.show()"
   ]
  },
  {
   "cell_type": "markdown",
   "metadata": {
    "id": "Hbz84VlIoKV6"
   },
   "source": [
    "Converting runtime into three categories"
   ]
  },
  {
   "cell_type": "code",
   "execution_count": null,
   "metadata": {
    "id": "gyUBqKRToKV9"
   },
   "outputs": [],
   "source": [
    "def run_t(rtime):\n",
    "  if rtime >=150:\n",
    "    return 'Long'\n",
    "  elif rtime >=90:\n",
    "    return 'Medium'  \n",
    "  else:\n",
    "    return 'Short'"
   ]
  },
  {
   "cell_type": "code",
   "execution_count": null,
   "metadata": {
    "id": "VhtFKaeFoKV-"
   },
   "outputs": [],
   "source": [
    "df_India['type']=df_India['runtimeMinutes'].apply(run_t)"
   ]
  },
  {
   "cell_type": "markdown",
   "metadata": {
    "id": "AwXI4wJQiH2O"
   },
   "source": [
    "Finding the percentage of movie belonging to each runtime type"
   ]
  },
  {
   "cell_type": "code",
   "execution_count": null,
   "metadata": {
    "colab": {
     "base_uri": "https://localhost:8080/",
     "height": 357
    },
    "executionInfo": {
     "elapsed": 199,
     "status": "ok",
     "timestamp": 1636971515493,
     "user": {
      "displayName": "dm project",
      "photoUrl": "https://lh3.googleusercontent.com/a/default-user=s64",
      "userId": "10716541108022634460"
     },
     "user_tz": -330
    },
    "id": "mbd4dueQiH2O",
    "outputId": "e6e12d0d-897d-4d5b-fd0a-67c0a4b80c06"
   },
   "outputs": [
    {
     "data": {
      "image/png": "[encoded data removed]",
      "text/plain": [
       "<Figure size 432x432 with 1 Axes>"
      ]
     },
     "metadata": {},
     "output_type": "display_data"
    }
   ],
   "source": [
    "df_India.type.value_counts().plot.pie(autopct=\"%.0f%%\",figsize=(6,6),pctdistance=0.8,wedgeprops=dict(width=0.4))\n",
    "plt.show()"
   ]
  },
  {
   "cell_type": "markdown",
   "metadata": {
    "id": "qr6Fc_DqplM_"
   },
   "source": [
    "Analysis of the whether type of movie affect rating or votes"
   ]
  },
  {
   "cell_type": "code",
   "execution_count": null,
   "metadata": {
    "colab": {
     "base_uri": "https://localhost:8080/"
    },
    "executionInfo": {
     "elapsed": 196,
     "status": "ok",
     "timestamp": 1636971515495,
     "user": {
      "displayName": "dm project",
      "photoUrl": "https://lh3.googleusercontent.com/a/default-user=s64",
      "userId": "10716541108022634460"
     },
     "user_tz": -330
    },
    "id": "pvF2y2pnpjiD",
    "outputId": "b7093e2a-5af4-4559-b8a8-ce472c6aa020"
   },
   "outputs": [
    {
     "data": {
      "text/plain": [
       "type\n",
       "Long      37091.674056\n",
       "Medium    54571.990051\n",
       "Short     19968.133885\n",
       "Name: numVotes, dtype: float64"
      ]
     },
     "execution_count": 87,
     "metadata": {},
     "output_type": "execute_result"
    }
   ],
   "source": [
    "df_India.groupby('type').numVotes.mean()"
   ]
  },
  {
   "cell_type": "code",
   "execution_count": null,
   "metadata": {
    "colab": {
     "base_uri": "https://localhost:8080/",
     "height": 295
    },
    "executionInfo": {
     "elapsed": 1505,
     "status": "ok",
     "timestamp": 1636971516839,
     "user": {
      "displayName": "dm project",
      "photoUrl": "https://lh3.googleusercontent.com/a/default-user=s64",
      "userId": "10716541108022634460"
     },
     "user_tz": -330
    },
    "id": "5atAR51Kqj62",
    "outputId": "304ca3f1-df10-4924-b923-660dc35d5048"
   },
   "outputs": [
    {
     "data": {
      "image/png": "[encoded data removed]",
      "text/plain": [
       "<Figure size 432x288 with 1 Axes>"
      ]
     },
     "metadata": {
      "needs_background": "light"
     },
     "output_type": "display_data"
    }
   ],
   "source": [
    "sns.barplot(x = 'type',\n",
    "            y = 'numVotes',\n",
    "            data=df_India)\n",
    "plt.title('Type vs Number of votes')\n",
    "plt.show()"
   ]
  },
  {
   "cell_type": "markdown",
   "metadata": {
    "id": "iwvHOzgO8TvW"
   },
   "source": [
    "The movies with mediun runtime has highest average number of votes"
   ]
  },
  {
   "cell_type": "code",
   "execution_count": null,
   "metadata": {
    "colab": {
     "base_uri": "https://localhost:8080/"
    },
    "executionInfo": {
     "elapsed": 140,
     "status": "ok",
     "timestamp": 1636971516843,
     "user": {
      "displayName": "dm project",
      "photoUrl": "https://lh3.googleusercontent.com/a/default-user=s64",
      "userId": "10716541108022634460"
     },
     "user_tz": -330
    },
    "id": "9TGvxdnSr_GQ",
    "outputId": "8203db1d-da36-49e6-b3ef-91f78c0fa873"
   },
   "outputs": [
    {
     "data": {
      "text/plain": [
       "type\n",
       "Long      6.582528\n",
       "Medium    6.271501\n",
       "Short     5.519056\n",
       "Name: averageRating, dtype: float64"
      ]
     },
     "execution_count": 89,
     "metadata": {},
     "output_type": "execute_result"
    }
   ],
   "source": [
    "df_India.groupby('type').averageRating.mean()"
   ]
  },
  {
   "cell_type": "code",
   "execution_count": null,
   "metadata": {
    "colab": {
     "base_uri": "https://localhost:8080/",
     "height": 295
    },
    "executionInfo": {
     "elapsed": 120,
     "status": "ok",
     "timestamp": 1636971516858,
     "user": {
      "displayName": "dm project",
      "photoUrl": "https://lh3.googleusercontent.com/a/default-user=s64",
      "userId": "10716541108022634460"
     },
     "user_tz": -330
    },
    "id": "7bFjrP8Hr_GR",
    "outputId": "d140eef0-d35e-4558-f70e-14420bf8dc37"
   },
   "outputs": [
    {
     "data": {
      "image/png": "[encoded data removed]",
      "text/plain": [
       "<Figure size 432x288 with 1 Axes>"
      ]
     },
     "metadata": {
      "needs_background": "light"
     },
     "output_type": "display_data"
    }
   ],
   "source": [
    "sns.barplot(x = 'type',\n",
    "            y = 'averageRating',\n",
    "            data=df_India)\n",
    "plt.title('Type vs Rating')\n",
    "plt.show()"
   ]
  },
  {
   "cell_type": "markdown",
   "metadata": {
    "id": "JD2gqrMd8mpq"
   },
   "source": [
    "Movies with long runtime has the highest average Rating"
   ]
  },
  {
   "cell_type": "markdown",
   "metadata": {
    "id": "e92d6-MY-6kP"
   },
   "source": [
    "Finding yearwise top100 movies from year 1980"
   ]
  },
  {
   "cell_type": "code",
   "execution_count": null,
   "metadata": {
    "id": "X7uAa6-L-5uj"
   },
   "outputs": [],
   "source": [
    "df_year=df_India[df_India['Year']>=1980]\n",
    "df_year=df_year.groupby('Year').head(100)\n",
    "df_year=df_year.sort_values('Year',ascending=False).reset_index(drop=True)"
   ]
  },
  {
   "cell_type": "markdown",
   "metadata": {
    "id": "v_MWEJnuFBDe"
   },
   "source": [
    "Average rating yearwise from 2009\n",
    "\n"
   ]
  },
  {
   "cell_type": "code",
   "execution_count": null,
   "metadata": {
    "colab": {
     "base_uri": "https://localhost:8080/",
     "height": 452
    },
    "executionInfo": {
     "elapsed": 115,
     "status": "ok",
     "timestamp": 1636971516863,
     "user": {
      "displayName": "dm project",
      "photoUrl": "https://lh3.googleusercontent.com/a/default-user=s64",
      "userId": "10716541108022634460"
     },
     "user_tz": -330
    },
    "id": "2GIcG423FUcq",
    "outputId": "c1825288-5dce-40a8-e237-92dd4ced9b55"
   },
   "outputs": [
    {
     "data": {
      "text/html": [
       "<div>\n",
       "<style scoped>\n",
       "    .dataframe tbody tr th:only-of-type {\n",
       "        vertical-align: middle;\n",
       "    }\n",
       "\n",
       "    .dataframe tbody tr th {\n",
       "        vertical-align: top;\n",
       "    }\n",
       "\n",
       "    .dataframe thead th {\n",
       "        text-align: right;\n",
       "    }\n",
       "</style>\n",
       "<table border=\"1\" class=\"dataframe\">\n",
       "  <thead>\n",
       "    <tr style=\"text-align: right;\">\n",
       "      <th></th>\n",
       "      <th>Year</th>\n",
       "      <th>averageRating</th>\n",
       "    </tr>\n",
       "  </thead>\n",
       "  <tbody>\n",
       "    <tr>\n",
       "      <th>0</th>\n",
       "      <td>2014</td>\n",
       "      <td>6.185565</td>\n",
       "    </tr>\n",
       "    <tr>\n",
       "      <th>1</th>\n",
       "      <td>2015</td>\n",
       "      <td>6.161145</td>\n",
       "    </tr>\n",
       "    <tr>\n",
       "      <th>2</th>\n",
       "      <td>2021</td>\n",
       "      <td>6.159245</td>\n",
       "    </tr>\n",
       "    <tr>\n",
       "      <th>3</th>\n",
       "      <td>2011</td>\n",
       "      <td>6.145342</td>\n",
       "    </tr>\n",
       "    <tr>\n",
       "      <th>4</th>\n",
       "      <td>2012</td>\n",
       "      <td>6.139254</td>\n",
       "    </tr>\n",
       "    <tr>\n",
       "      <th>5</th>\n",
       "      <td>2013</td>\n",
       "      <td>6.136749</td>\n",
       "    </tr>\n",
       "    <tr>\n",
       "      <th>6</th>\n",
       "      <td>2009</td>\n",
       "      <td>6.108287</td>\n",
       "    </tr>\n",
       "    <tr>\n",
       "      <th>7</th>\n",
       "      <td>2010</td>\n",
       "      <td>6.106505</td>\n",
       "    </tr>\n",
       "    <tr>\n",
       "      <th>8</th>\n",
       "      <td>2017</td>\n",
       "      <td>6.104108</td>\n",
       "    </tr>\n",
       "    <tr>\n",
       "      <th>9</th>\n",
       "      <td>2018</td>\n",
       "      <td>6.103199</td>\n",
       "    </tr>\n",
       "    <tr>\n",
       "      <th>10</th>\n",
       "      <td>2016</td>\n",
       "      <td>6.087438</td>\n",
       "    </tr>\n",
       "    <tr>\n",
       "      <th>11</th>\n",
       "      <td>2019</td>\n",
       "      <td>6.033628</td>\n",
       "    </tr>\n",
       "    <tr>\n",
       "      <th>12</th>\n",
       "      <td>2020</td>\n",
       "      <td>5.738140</td>\n",
       "    </tr>\n",
       "  </tbody>\n",
       "</table>\n",
       "</div>"
      ],
      "text/plain": [
       "    Year  averageRating\n",
       "0   2014       6.185565\n",
       "1   2015       6.161145\n",
       "2   2021       6.159245\n",
       "3   2011       6.145342\n",
       "4   2012       6.139254\n",
       "5   2013       6.136749\n",
       "6   2009       6.108287\n",
       "7   2010       6.106505\n",
       "8   2017       6.104108\n",
       "9   2018       6.103199\n",
       "10  2016       6.087438\n",
       "11  2019       6.033628\n",
       "12  2020       5.738140"
      ]
     },
     "execution_count": 92,
     "metadata": {},
     "output_type": "execute_result"
    }
   ],
   "source": [
    "df_year=df_India[df_India['Year']>=2009]\n",
    "df_year=(df_year.groupby(df_year['Year'],as_index=False).aggregate(np.mean).reindex(columns=df_year.columns))\n",
    "df_year.sort_values('averageRating',ascending=False,inplace=True)\n",
    "df_year=df_year[['Year','averageRating']].reset_index(drop=True)\n",
    "df_year"
   ]
  },
  {
   "cell_type": "code",
   "execution_count": null,
   "metadata": {
    "colab": {
     "base_uri": "https://localhost:8080/",
     "height": 295
    },
    "executionInfo": {
     "elapsed": 109,
     "status": "ok",
     "timestamp": 1636971516865,
     "user": {
      "displayName": "dm project",
      "photoUrl": "https://lh3.googleusercontent.com/a/default-user=s64",
      "userId": "10716541108022634460"
     },
     "user_tz": -330
    },
    "id": "y02XXy6wLn6X",
    "outputId": "728a58dd-dd30-4eee-9d03-101caa780fb4"
   },
   "outputs": [
    {
     "data": {
      "image/png": "[encoded data removed]",
      "text/plain": [
       "<Figure size 432x288 with 1 Axes>"
      ]
     },
     "metadata": {
      "needs_background": "light"
     },
     "output_type": "display_data"
    }
   ],
   "source": [
    "sns.barplot(x = 'Year',\n",
    "            y = 'averageRating',\n",
    "            data = df_year)\n",
    "plt.title('Year vs Ratings')\n",
    "plt.show()"
   ]
  },
  {
   "cell_type": "markdown",
   "metadata": {
    "id": "j301bwTFNQxX"
   },
   "source": [
    "Average votes yearwise from 2009"
   ]
  },
  {
   "cell_type": "code",
   "execution_count": null,
   "metadata": {
    "id": "J6nSsXsgNhrQ"
   },
   "outputs": [],
   "source": [
    "df_year=df_India[df_India['Year']>=2009]\n",
    "df_year=(df_year.groupby(df_year['Year'],as_index=False).aggregate(np.mean).reindex(columns=df_year.columns))\n",
    "df_year.sort_values('numVotes',ascending=False,inplace=True)\n",
    "df_year=df_year[['Year','numVotes']].reset_index(drop=True)"
   ]
  },
  {
   "cell_type": "code",
   "execution_count": null,
   "metadata": {
    "colab": {
     "base_uri": "https://localhost:8080/",
     "height": 295
    },
    "executionInfo": {
     "elapsed": 133,
     "status": "ok",
     "timestamp": 1636971518283,
     "user": {
      "displayName": "dm project",
      "photoUrl": "https://lh3.googleusercontent.com/a/default-user=s64",
      "userId": "10716541108022634460"
     },
     "user_tz": -330
    },
    "id": "CwrpUp7INhrR",
    "outputId": "e857eb35-42df-4f5f-d349-faa2fc352447"
   },
   "outputs": [
    {
     "data": {
      "image/png": "[encoded data removed]",
      "text/plain": [
       "<Figure size 432x288 with 1 Axes>"
      ]
     },
     "metadata": {
      "needs_background": "light"
     },
     "output_type": "display_data"
    }
   ],
   "source": [
    "sns.barplot(x = 'Year',\n",
    "            y = 'numVotes',\n",
    "            data = df_year)\n",
    "plt.title('Year vs Votes')\n",
    "plt.show()"
   ]
  },
  {
   "cell_type": "markdown",
   "metadata": {
    "id": "IgRr_sP-893P"
   },
   "source": [
    "The number of votes is decreasing over the years"
   ]
  },
  {
   "cell_type": "markdown",
   "metadata": {
    "id": "9GlBWqSVlrVh"
   },
   "source": [
    "Change in duration of movies over years"
   ]
  },
  {
   "cell_type": "code",
   "execution_count": null,
   "metadata": {
    "id": "AxgZeacul0tp"
   },
   "outputs": [],
   "source": [
    "grouped_year=df_India['runtimeMinutes'].groupby(df_India['Year']).describe()\n",
    "avg_runtime_by_year=grouped_year['mean']\n",
    "avg_runtime_min=grouped_year['mean']-grouped_year['std']\n",
    "avg_runtime_max=grouped_year['mean']+grouped_year['std']"
   ]
  },
  {
   "cell_type": "code",
   "execution_count": null,
   "metadata": {
    "colab": {
     "base_uri": "https://localhost:8080/",
     "height": 374
    },
    "executionInfo": {
     "elapsed": 130,
     "status": "ok",
     "timestamp": 1636971518292,
     "user": {
      "displayName": "dm project",
      "photoUrl": "https://lh3.googleusercontent.com/a/default-user=s64",
      "userId": "10716541108022634460"
     },
     "user_tz": -330
    },
    "id": "XFHUlmSEndnJ",
    "outputId": "abb700b6-6291-4308-983e-567edfb4a996"
   },
   "outputs": [
    {
     "data": {
      "text/plain": [
       "<function matplotlib.pyplot.show>"
      ]
     },
     "execution_count": 97,
     "metadata": {},
     "output_type": "execute_result"
    },
    {
     "data": {
      "image/png": "[encoded data removed]",
      "text/plain": [
       "<Figure size 432x360 with 1 Axes>"
      ]
     },
     "metadata": {
      "needs_background": "light"
     },
     "output_type": "display_data"
    }
   ],
   "source": [
    "fig,x=plt.subplots(figsize=(6,5))\n",
    "x.plot(avg_runtime_by_year,color='blue')\n",
    "x.plot(avg_runtime_min,color='skyblue')\n",
    "x.plot(avg_runtime_max,color='skyblue')\n",
    "x.fill_between(grouped_year.index,avg_runtime_min,avg_runtime_max,color='skyblue')\n",
    "x.set_title('Average runtime over the years',fontsize=15)\n",
    "x.set_xlabel('ReleaseYear',fontsize=15)\n",
    "x.set_ylabel('Runtime(in minutes)',fontsize=15)\n",
    "x.set_xlim(1980)\n",
    "plt.show"
   ]
  },
  {
   "cell_type": "markdown",
   "metadata": {
    "id": "jsYHIRKnpovJ"
   },
   "source": [
    "Change in duration of movies over decade"
   ]
  },
  {
   "cell_type": "code",
   "execution_count": null,
   "metadata": {
    "id": "z8S_tvxzpovm"
   },
   "outputs": [],
   "source": [
    "decade=df_India.copy()\n",
    "decade['releaseYear']=((decade['Year']//10)*10).astype('int64')"
   ]
  },
  {
   "cell_type": "code",
   "execution_count": null,
   "metadata": {
    "colab": {
     "base_uri": "https://localhost:8080/",
     "height": 296
    },
    "executionInfo": {
     "elapsed": 107,
     "status": "ok",
     "timestamp": 1636971518298,
     "user": {
      "displayName": "dm project",
      "photoUrl": "https://lh3.googleusercontent.com/a/default-user=s64",
      "userId": "10716541108022634460"
     },
     "user_tz": -330
    },
    "id": "fsgnfxiipovm",
    "outputId": "23a2277e-bda9-4018-b3a5-e31aa23911fb"
   },
   "outputs": [
    {
     "data": {
      "image/png": "[encoded data removed]",
      "text/plain": [
       "<Figure size 432x288 with 1 Axes>"
      ]
     },
     "metadata": {
      "needs_background": "light"
     },
     "output_type": "display_data"
    }
   ],
   "source": [
    "sns.boxplot(x='releaseYear',y='runtimeMinutes',data=decade,showfliers=False)\n",
    "plt.title('Movies\\'runtime over the decades',fontsize=10)\n",
    "plt.xlabel('Decade',fontsize=12)\n",
    "plt.ylabel('Average Runtime',fontsize=12)\n",
    "plt.show()"
   ]
  },
  {
   "cell_type": "markdown",
   "metadata": {
    "id": "mcKnz_3S9N4n"
   },
   "source": [
    "Average runtime has not changed much over the time"
   ]
  }
 ],
 "metadata": {
  "colab": {
   "collapsed_sections": [
    "XEqfYCc3by9q"
   ],
   "name": "Analysis-India.ipynb",
   "provenance": []
  },
  "kernelspec": {
   "display_name": "Python 3 (ipykernel)",
   "language": "python",
   "name": "python3"
  },
  "language_info": {
   "codemirror_mode": {
    "name": "ipython",
    "version": 3
   },
   "file_extension": ".py",
   "mimetype": "text/x-python",
   "name": "python",
   "nbconvert_exporter": "python",
   "pygments_lexer": "ipython3",
   "version": "3.9.6"
  }
 },
 "nbformat": 4,
 "nbformat_minor": 1
}
