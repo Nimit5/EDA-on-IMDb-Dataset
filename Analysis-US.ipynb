{
 "cells": [
  {
   "cell_type": "code",
   "execution_count": null,
   "metadata": {
    "id": "5_zzU2qebjtU"
   },
   "outputs": [],
   "source": [
    "import pandas as pd\n",
    "import numpy as np\n",
    "import matplotlib.pyplot as plt\n",
    "import seaborn as sns\n",
    "import warnings \n",
    "warnings.filterwarnings('ignore')"
   ]
  },
  {
   "cell_type": "markdown",
   "metadata": {
    "id": "XEqfYCc3by9q"
   },
   "source": [
    "## Analysis for US"
   ]
  },
  {
   "cell_type": "code",
   "execution_count": null,
   "metadata": {
    "id": "IAE_2gWkbvwr"
   },
   "outputs": [],
   "source": [
    "df_US=pd.read_csv('Dataset/US_Final.csv')\n",
    "df_US.head(2)"
   ]
  },
  {
   "cell_type": "code",
   "execution_count": null,
   "metadata": {
    "id": "K6N871908Ggs"
   },
   "outputs": [],
   "source": [
    "# Checking rows and columns in the dataframe. \n",
    "\n",
    "df_US.shape"
   ]
  },
  {
   "cell_type": "code",
   "execution_count": null,
   "metadata": {
    "id": "UwWe6KvN8bB_"
   },
   "outputs": [],
   "source": [
    "# Descriptive summary of the dataframe, including the number of non-null values in each columns. \n",
    "\n",
    "df_US.info()"
   ]
  },
  {
   "cell_type": "code",
   "execution_count": null,
   "metadata": {
    "id": "LssCq3_68rx8"
   },
   "outputs": [],
   "source": [
    "# Check the amount of duplicated data in the dataset\n",
    "\n",
    "sum(df_US.duplicated())"
   ]
  },
  {
   "cell_type": "code",
   "execution_count": null,
   "metadata": {
    "id": "T6le9tVvauAE"
   },
   "outputs": [],
   "source": [
    "#Checking for null \n",
    "\n",
    "df_US.isnull().sum()"
   ]
  },
  {
   "cell_type": "code",
   "execution_count": null,
   "metadata": {
    "id": "uT5D5MvIFgcK"
   },
   "outputs": [],
   "source": [
    "df_US.columns"
   ]
  },
  {
   "cell_type": "code",
   "execution_count": null,
   "metadata": {
    "id": "p_o3Au0cc5oz"
   },
   "outputs": [],
   "source": [
    "#Droping the columns that are not included in analysis\n",
    "\n",
    "df_US=df_US.drop(['Unnamed: 0', 'Unnamed: 0.1', 'tconst', 'ordering', 'title','region', \n",
    "       'isOriginalTitle','titleType','directors', 'writers', 'primaryTitle',],axis=1)"
   ]
  },
  {
   "cell_type": "code",
   "execution_count": null,
   "metadata": {
    "id": "QjffhLSMd-sB"
   },
   "outputs": [],
   "source": [
    "df_US.columns=['Moviename','isAdult','Year', 'runtimeMinutes',\n",
    "       'genres', 'averageRating', 'numVotes', 'Actors',\n",
    "       'Actress', 'Director']"
   ]
  },
  {
   "cell_type": "code",
   "execution_count": null,
   "metadata": {
    "id": "mQCa_tLxHqzX"
   },
   "outputs": [],
   "source": [
    "df_US['Actors']=df_US['Actors'].str.split(\"[\").str.get(1)\n",
    "df_US['Actors']=df_US['Actors'].str.split(\"]\").str.get(0)\n",
    "df_US['Actors']=df_US['Actors'].str.replace('\"','')\n",
    "df_US['Actors']=df_US['Actors'].str.replace(\"'\",'')\n",
    "\n",
    "df_US['Director']=df_US['Director'].str.split(\"[\").str.get(1)\n",
    "df_US['Director']=df_US['Director'].str.split(\"]\").str.get(0)\n",
    "df_US['Director']=df_US['Director'].str.replace('\"','')\n",
    "df_US['Director']=df_US['Director'].str.replace(\"'\",'')\n",
    "\n",
    "df_US['Actress']=df_US['Actress'].str.split(\"[\").str.get(1)\n",
    "df_US['Actress']=df_US['Actress'].str.split(\"]\").str.get(0)\n",
    "df_US['Actresss']=df_US['Actress'].str.replace('\"','')\n",
    "df_US['Actress']=df_US['Actress'].str.replace(\"'\",'')"
   ]
  },
  {
   "cell_type": "markdown",
   "metadata": {
    "id": "FVKBHMaRIiy6"
   },
   "source": [
    "Scatter plot"
   ]
  },
  {
   "cell_type": "code",
   "execution_count": null,
   "metadata": {
    "id": "oM1IuRM-fER6"
   },
   "outputs": [],
   "source": [
    "runtime =df_US['runtimeMinutes'].tolist()\n",
    "rating =df_US['averageRating'].tolist()\n",
    "year=df_US['Year'].tolist()"
   ]
  },
  {
   "cell_type": "code",
   "execution_count": null,
   "metadata": {
    "colab": {
     "base_uri": "https://localhost:8080/",
     "height": 295
    },
    "executionInfo": {
     "elapsed": 1618,
     "status": "ok",
     "timestamp": 1636807827138,
     "user": {
      "displayName": "dm project",
      "photoUrl": "https://lh3.googleusercontent.com/a/default-user=s64",
      "userId": "10716541108022634460"
     },
     "user_tz": -330
    },
    "id": "0hJftKHsfIH6",
    "outputId": "e87510fc-daa9-49d4-9f44-2d9ec57774de"
   },
   "outputs": [
    {
     "data": {
      "image/png": "[encoded data removed]",
      "text/plain": [
       "<Figure size 432x288 with 1 Axes>"
      ]
     },
     "metadata": {
      "needs_background": "light"
     },
     "output_type": "display_data"
    }
   ],
   "source": [
    "plt.scatter(runtime,rating)\n",
    "plt.title('Runtime vs IMDb Rating')\n",
    "plt.xlabel('Runtime')\n",
    "plt.ylabel('IMDb Rating')\n",
    "plt.show()"
   ]
  },
  {
   "cell_type": "code",
   "execution_count": null,
   "metadata": {
    "colab": {
     "base_uri": "https://localhost:8080/",
     "height": 295
    },
    "executionInfo": {
     "elapsed": 1745,
     "status": "ok",
     "timestamp": 1636807828874,
     "user": {
      "displayName": "dm project",
      "photoUrl": "https://lh3.googleusercontent.com/a/default-user=s64",
      "userId": "10716541108022634460"
     },
     "user_tz": -330
    },
    "id": "LHdXuh4-fMPX",
    "outputId": "237e593e-4a75-4f7d-d7ca-81de7dbf191a"
   },
   "outputs": [
    {
     "data": {
      "image/png": "[encoded data removed]",
      "text/plain": [
       "<Figure size 432x288 with 1 Axes>"
      ]
     },
     "metadata": {
      "needs_background": "light"
     },
     "output_type": "display_data"
    }
   ],
   "source": [
    "plt.scatter(year,rating)\n",
    "plt.title('Year vs IMDb Rating')\n",
    "plt.xlabel('Year')\n",
    "plt.ylabel('IMDb Rating')\n",
    "plt.show()"
   ]
  },
  {
   "cell_type": "markdown",
   "metadata": {
    "id": "W-TshBef9weF"
   },
   "source": [
    "1.Higher runtimes tend to have higher IMDb ratings, but for the vast majority of runtime, the IMDb ratings are spread from about 1 to 10, so it can’t be predicted using the feature by themselves.\n",
    "\n",
    "2.For the Year vs IMDb rating scatter plot, the older years tend to have higher IMDb ratings, but the spread of IMDb ratings increases for more recent years\n"
   ]
  },
  {
   "cell_type": "markdown",
   "metadata": {
    "id": "kZcztYdXsmCx"
   },
   "source": [
    "Correlation between the attributes of the given dataset"
   ]
  },
  {
   "cell_type": "code",
   "execution_count": null,
   "metadata": {
    "colab": {
     "base_uri": "https://localhost:8080/",
     "height": 619
    },
    "executionInfo": {
     "elapsed": 765,
     "status": "ok",
     "timestamp": 1636807829630,
     "user": {
      "displayName": "dm project",
      "photoUrl": "https://lh3.googleusercontent.com/a/default-user=s64",
      "userId": "10716541108022634460"
     },
     "user_tz": -330
    },
    "id": "wZ8FxsPyfjnH",
    "outputId": "0ed6ce2a-242a-4a90-f4e7-0e20c327b853"
   },
   "outputs": [
    {
     "data": {
      "text/html": [
       "<div>\n",
       "<style scoped>\n",
       "    .dataframe tbody tr th:only-of-type {\n",
       "        vertical-align: middle;\n",
       "    }\n",
       "\n",
       "    .dataframe tbody tr th {\n",
       "        vertical-align: top;\n",
       "    }\n",
       "\n",
       "    .dataframe thead th {\n",
       "        text-align: right;\n",
       "    }\n",
       "</style>\n",
       "<table border=\"1\" class=\"dataframe\">\n",
       "  <thead>\n",
       "    <tr style=\"text-align: right;\">\n",
       "      <th></th>\n",
       "      <th>isAdult</th>\n",
       "      <th>Year</th>\n",
       "      <th>runtimeMinutes</th>\n",
       "      <th>averageRating</th>\n",
       "      <th>numVotes</th>\n",
       "    </tr>\n",
       "  </thead>\n",
       "  <tbody>\n",
       "    <tr>\n",
       "      <th>isAdult</th>\n",
       "      <td>1.000000</td>\n",
       "      <td>-0.042901</td>\n",
       "      <td>-0.023926</td>\n",
       "      <td>-0.029889</td>\n",
       "      <td>-0.028780</td>\n",
       "    </tr>\n",
       "    <tr>\n",
       "      <th>Year</th>\n",
       "      <td>-0.042901</td>\n",
       "      <td>1.000000</td>\n",
       "      <td>0.049548</td>\n",
       "      <td>-0.110806</td>\n",
       "      <td>0.084339</td>\n",
       "    </tr>\n",
       "    <tr>\n",
       "      <th>runtimeMinutes</th>\n",
       "      <td>-0.023926</td>\n",
       "      <td>0.049548</td>\n",
       "      <td>1.000000</td>\n",
       "      <td>0.032510</td>\n",
       "      <td>0.033183</td>\n",
       "    </tr>\n",
       "    <tr>\n",
       "      <th>averageRating</th>\n",
       "      <td>-0.029889</td>\n",
       "      <td>-0.110806</td>\n",
       "      <td>0.032510</td>\n",
       "      <td>1.000000</td>\n",
       "      <td>0.162222</td>\n",
       "    </tr>\n",
       "    <tr>\n",
       "      <th>numVotes</th>\n",
       "      <td>-0.028780</td>\n",
       "      <td>0.084339</td>\n",
       "      <td>0.033183</td>\n",
       "      <td>0.162222</td>\n",
       "      <td>1.000000</td>\n",
       "    </tr>\n",
       "  </tbody>\n",
       "</table>\n",
       "</div>"
      ],
      "text/plain": [
       "                 isAdult      Year  runtimeMinutes  averageRating  numVotes\n",
       "isAdult         1.000000 -0.042901       -0.023926      -0.029889 -0.028780\n",
       "Year           -0.042901  1.000000        0.049548      -0.110806  0.084339\n",
       "runtimeMinutes -0.023926  0.049548        1.000000       0.032510  0.033183\n",
       "averageRating  -0.029889 -0.110806        0.032510       1.000000  0.162222\n",
       "numVotes       -0.028780  0.084339        0.033183       0.162222  1.000000"
      ]
     },
     "execution_count": 13,
     "metadata": {},
     "output_type": "execute_result"
    },
    {
     "data": {
      "image/png": "[encoded data removed]",
      "text/plain": [
       "<Figure size 1080x504 with 2 Axes>"
      ]
     },
     "metadata": {
      "needs_background": "light"
     },
     "output_type": "display_data"
    }
   ],
   "source": [
    "plt.figure(figsize=(15,7))\n",
    "corr_matrix=df_US.corr()\n",
    "sns.heatmap(corr_matrix,annot=True)\n",
    "corr_matrix"
   ]
  },
  {
   "cell_type": "markdown",
   "metadata": {
    "id": "6MgCxa8t-N9T"
   },
   "source": [
    "From above correlation matrix we find that there is a most significant correlation between number of votes-average rating"
   ]
  },
  {
   "cell_type": "markdown",
   "metadata": {
    "id": "C74bQHxnFgcQ"
   },
   "source": [
    "Finding top10 genre combination based on rating,runtime"
   ]
  },
  {
   "cell_type": "code",
   "execution_count": null,
   "metadata": {
    "colab": {
     "base_uri": "https://localhost:8080/",
     "height": 390
    },
    "executionInfo": {
     "elapsed": 25,
     "status": "ok",
     "timestamp": 1636807829632,
     "user": {
      "displayName": "dm project",
      "photoUrl": "https://lh3.googleusercontent.com/a/default-user=s64",
      "userId": "10716541108022634460"
     },
     "user_tz": -330
    },
    "id": "WylYlfVsfzEe",
    "outputId": "a4d79c12-642e-40b8-fe28-f3c29020c8ff"
   },
   "outputs": [
    {
     "data": {
      "text/html": [
       "<div>\n",
       "<style scoped>\n",
       "    .dataframe tbody tr th:only-of-type {\n",
       "        vertical-align: middle;\n",
       "    }\n",
       "\n",
       "    .dataframe tbody tr th {\n",
       "        vertical-align: top;\n",
       "    }\n",
       "\n",
       "    .dataframe thead th {\n",
       "        text-align: right;\n",
       "    }\n",
       "</style>\n",
       "<table border=\"1\" class=\"dataframe\">\n",
       "  <thead>\n",
       "    <tr style=\"text-align: right;\">\n",
       "      <th></th>\n",
       "      <th>averageRating</th>\n",
       "    </tr>\n",
       "    <tr>\n",
       "      <th>genres</th>\n",
       "      <th></th>\n",
       "    </tr>\n",
       "  </thead>\n",
       "  <tbody>\n",
       "    <tr>\n",
       "      <th>Documentary,Drama,Reality-TV</th>\n",
       "      <td>8.7</td>\n",
       "    </tr>\n",
       "    <tr>\n",
       "      <th>Musical,Sport</th>\n",
       "      <td>8.7</td>\n",
       "    </tr>\n",
       "    <tr>\n",
       "      <th>Comedy,Documentary,Sport</th>\n",
       "      <td>8.4</td>\n",
       "    </tr>\n",
       "    <tr>\n",
       "      <th>Adventure,Documentary,Family</th>\n",
       "      <td>8.3</td>\n",
       "    </tr>\n",
       "    <tr>\n",
       "      <th>Comedy,Mystery,Sport</th>\n",
       "      <td>8.3</td>\n",
       "    </tr>\n",
       "    <tr>\n",
       "      <th>Documentary,Music,Musical</th>\n",
       "      <td>8.3</td>\n",
       "    </tr>\n",
       "    <tr>\n",
       "      <th>Crime,Documentary,War</th>\n",
       "      <td>8.2</td>\n",
       "    </tr>\n",
       "    <tr>\n",
       "      <th>Documentary,Drama,Musical</th>\n",
       "      <td>8.2</td>\n",
       "    </tr>\n",
       "    <tr>\n",
       "      <th>Action,Comedy,Documentary</th>\n",
       "      <td>8.1</td>\n",
       "    </tr>\n",
       "    <tr>\n",
       "      <th>Fantasy,Musical,Sci-Fi</th>\n",
       "      <td>8.1</td>\n",
       "    </tr>\n",
       "  </tbody>\n",
       "</table>\n",
       "</div>"
      ],
      "text/plain": [
       "                              averageRating\n",
       "genres                                     \n",
       "Documentary,Drama,Reality-TV            8.7\n",
       "Musical,Sport                           8.7\n",
       "Comedy,Documentary,Sport                8.4\n",
       "Adventure,Documentary,Family            8.3\n",
       "Comedy,Mystery,Sport                    8.3\n",
       "Documentary,Music,Musical               8.3\n",
       "Crime,Documentary,War                   8.2\n",
       "Documentary,Drama,Musical               8.2\n",
       "Action,Comedy,Documentary               8.1\n",
       "Fantasy,Musical,Sci-Fi                  8.1"
      ]
     },
     "execution_count": 14,
     "metadata": {},
     "output_type": "execute_result"
    }
   ],
   "source": [
    "df_US.groupby('genres')[['averageRating']].mean().sort_values(by='averageRating',ascending=False).head(10)"
   ]
  },
  {
   "cell_type": "markdown",
   "metadata": {
    "id": "51J8zaad-e-Y"
   },
   "source": [
    "Combination of Documentary,Drama and Reality-TV has the highest average rating among all combination"
   ]
  },
  {
   "cell_type": "code",
   "execution_count": null,
   "metadata": {
    "colab": {
     "base_uri": "https://localhost:8080/",
     "height": 390
    },
    "executionInfo": {
     "elapsed": 24,
     "status": "ok",
     "timestamp": 1636807829633,
     "user": {
      "displayName": "dm project",
      "photoUrl": "https://lh3.googleusercontent.com/a/default-user=s64",
      "userId": "10716541108022634460"
     },
     "user_tz": -330
    },
    "id": "wLzbdCgUFgcS",
    "outputId": "c1d49a62-2089-4393-87e1-de636b6d774b"
   },
   "outputs": [
    {
     "data": {
      "text/html": [
       "<div>\n",
       "<style scoped>\n",
       "    .dataframe tbody tr th:only-of-type {\n",
       "        vertical-align: middle;\n",
       "    }\n",
       "\n",
       "    .dataframe tbody tr th {\n",
       "        vertical-align: top;\n",
       "    }\n",
       "\n",
       "    .dataframe thead th {\n",
       "        text-align: right;\n",
       "    }\n",
       "</style>\n",
       "<table border=\"1\" class=\"dataframe\">\n",
       "  <thead>\n",
       "    <tr style=\"text-align: right;\">\n",
       "      <th></th>\n",
       "      <th>runtimeMinutes</th>\n",
       "    </tr>\n",
       "    <tr>\n",
       "      <th>genres</th>\n",
       "      <th></th>\n",
       "    </tr>\n",
       "  </thead>\n",
       "  <tbody>\n",
       "    <tr>\n",
       "      <th>Animation,Comedy,Documentary</th>\n",
       "      <td>235.00</td>\n",
       "    </tr>\n",
       "    <tr>\n",
       "      <th>Drama,Musical,Sport</th>\n",
       "      <td>181.00</td>\n",
       "    </tr>\n",
       "    <tr>\n",
       "      <th>Fantasy,Musical,Sci-Fi</th>\n",
       "      <td>172.00</td>\n",
       "    </tr>\n",
       "    <tr>\n",
       "      <th>Musical,Mystery,Thriller</th>\n",
       "      <td>170.00</td>\n",
       "    </tr>\n",
       "    <tr>\n",
       "      <th>History,Musical,Romance</th>\n",
       "      <td>152.50</td>\n",
       "    </tr>\n",
       "    <tr>\n",
       "      <th>Action,Musical,Romance</th>\n",
       "      <td>150.75</td>\n",
       "    </tr>\n",
       "    <tr>\n",
       "      <th>Fantasy,War</th>\n",
       "      <td>141.00</td>\n",
       "    </tr>\n",
       "    <tr>\n",
       "      <th>Biography,Family,History</th>\n",
       "      <td>140.00</td>\n",
       "    </tr>\n",
       "    <tr>\n",
       "      <th>Musical,Romance,Thriller</th>\n",
       "      <td>139.50</td>\n",
       "    </tr>\n",
       "    <tr>\n",
       "      <th>Crime,Fantasy,Romance</th>\n",
       "      <td>138.00</td>\n",
       "    </tr>\n",
       "  </tbody>\n",
       "</table>\n",
       "</div>"
      ],
      "text/plain": [
       "                              runtimeMinutes\n",
       "genres                                      \n",
       "Animation,Comedy,Documentary          235.00\n",
       "Drama,Musical,Sport                   181.00\n",
       "Fantasy,Musical,Sci-Fi                172.00\n",
       "Musical,Mystery,Thriller              170.00\n",
       "History,Musical,Romance               152.50\n",
       "Action,Musical,Romance                150.75\n",
       "Fantasy,War                           141.00\n",
       "Biography,Family,History              140.00\n",
       "Musical,Romance,Thriller              139.50\n",
       "Crime,Fantasy,Romance                 138.00"
      ]
     },
     "execution_count": 15,
     "metadata": {},
     "output_type": "execute_result"
    }
   ],
   "source": [
    "df_US.groupby('genres')[['runtimeMinutes']].mean().sort_values(by='runtimeMinutes',ascending=False).head(10)"
   ]
  },
  {
   "cell_type": "markdown",
   "metadata": {
    "id": "fCr-Sj58-pEx"
   },
   "source": [
    "Combination of Animation,Comedy,Documentary has the highest average runtime among all combination"
   ]
  },
  {
   "cell_type": "markdown",
   "metadata": {
    "id": "ndU6Oa20FgcS"
   },
   "source": [
    "Top 10 directors based on movie ratings which they directed"
   ]
  },
  {
   "cell_type": "code",
   "execution_count": null,
   "metadata": {
    "colab": {
     "base_uri": "https://localhost:8080/",
     "height": 390
    },
    "executionInfo": {
     "elapsed": 658,
     "status": "ok",
     "timestamp": 1636972018004,
     "user": {
      "displayName": "dm project",
      "photoUrl": "https://lh3.googleusercontent.com/a/default-user=s64",
      "userId": "10716541108022634460"
     },
     "user_tz": -330
    },
    "id": "U1AOUq6kieyE",
    "outputId": "7d6039d3-7357-4825-9ada-08a8918b7b52"
   },
   "outputs": [
    {
     "data": {
      "text/html": [
       "<div>\n",
       "<style scoped>\n",
       "    .dataframe tbody tr th:only-of-type {\n",
       "        vertical-align: middle;\n",
       "    }\n",
       "\n",
       "    .dataframe tbody tr th {\n",
       "        vertical-align: top;\n",
       "    }\n",
       "\n",
       "    .dataframe thead th {\n",
       "        text-align: right;\n",
       "    }\n",
       "</style>\n",
       "<table border=\"1\" class=\"dataframe\">\n",
       "  <thead>\n",
       "    <tr style=\"text-align: right;\">\n",
       "      <th></th>\n",
       "      <th>averageRating</th>\n",
       "    </tr>\n",
       "    <tr>\n",
       "      <th>Director</th>\n",
       "      <th></th>\n",
       "    </tr>\n",
       "  </thead>\n",
       "  <tbody>\n",
       "    <tr>\n",
       "      <th>Kayyam Upendra Kumar Nandhan</th>\n",
       "      <td>10.0</td>\n",
       "    </tr>\n",
       "    <tr>\n",
       "      <th>Gabriel Musco</th>\n",
       "      <td>9.8</td>\n",
       "    </tr>\n",
       "    <tr>\n",
       "      <th>Edouard Salier</th>\n",
       "      <td>9.7</td>\n",
       "    </tr>\n",
       "    <tr>\n",
       "      <th>Emilio Vega</th>\n",
       "      <td>9.7</td>\n",
       "    </tr>\n",
       "    <tr>\n",
       "      <th>Dornycya Suggs</th>\n",
       "      <td>9.7</td>\n",
       "    </tr>\n",
       "    <tr>\n",
       "      <th>Luke A. Renner</th>\n",
       "      <td>9.7</td>\n",
       "    </tr>\n",
       "    <tr>\n",
       "      <th>Randall Gifford</th>\n",
       "      <td>9.7</td>\n",
       "    </tr>\n",
       "    <tr>\n",
       "      <th>Carla Ricci</th>\n",
       "      <td>9.6</td>\n",
       "    </tr>\n",
       "    <tr>\n",
       "      <th>Wmm Record, Wendo Musaly, Wendo Mbilizi</th>\n",
       "      <td>9.6</td>\n",
       "    </tr>\n",
       "    <tr>\n",
       "      <th>Sandy Jimenez</th>\n",
       "      <td>9.6</td>\n",
       "    </tr>\n",
       "  </tbody>\n",
       "</table>\n",
       "</div>"
      ],
      "text/plain": [
       "                                         averageRating\n",
       "Director                                              \n",
       "Kayyam Upendra Kumar Nandhan                      10.0\n",
       "Gabriel Musco                                      9.8\n",
       "Edouard Salier                                     9.7\n",
       "Emilio Vega                                        9.7\n",
       "Dornycya Suggs                                     9.7\n",
       "Luke A. Renner                                     9.7\n",
       "Randall Gifford                                    9.7\n",
       "Carla Ricci                                        9.6\n",
       "Wmm Record, Wendo Musaly, Wendo Mbilizi            9.6\n",
       "Sandy Jimenez                                      9.6"
      ]
     },
     "execution_count": 11,
     "metadata": {},
     "output_type": "execute_result"
    }
   ],
   "source": [
    "df_US.groupby('Director')[['averageRating']].mean().sort_values(by='averageRating',ascending=False).head(10)"
   ]
  },
  {
   "cell_type": "markdown",
   "metadata": {
    "id": "gt8oVbF7-3lZ"
   },
   "source": [
    "**Kayyam Upendra Kumar Nandhan** has the highest average rating among all directors"
   ]
  },
  {
   "cell_type": "markdown",
   "metadata": {
    "id": "sQncNDbFFgcT"
   },
   "source": [
    "Top10 movies based on rating"
   ]
  },
  {
   "cell_type": "code",
   "execution_count": null,
   "metadata": {
    "colab": {
     "base_uri": "https://localhost:8080/",
     "height": 390
    },
    "executionInfo": {
     "elapsed": 656,
     "status": "ok",
     "timestamp": 1636972024883,
     "user": {
      "displayName": "dm project",
      "photoUrl": "https://lh3.googleusercontent.com/a/default-user=s64",
      "userId": "10716541108022634460"
     },
     "user_tz": -330
    },
    "id": "nNeVKBBJyRoj",
    "outputId": "1f704b8a-6da3-4b5e-99ce-d4b13c7483f6"
   },
   "outputs": [
    {
     "data": {
      "text/html": [
       "<div>\n",
       "<style scoped>\n",
       "    .dataframe tbody tr th:only-of-type {\n",
       "        vertical-align: middle;\n",
       "    }\n",
       "\n",
       "    .dataframe tbody tr th {\n",
       "        vertical-align: top;\n",
       "    }\n",
       "\n",
       "    .dataframe thead th {\n",
       "        text-align: right;\n",
       "    }\n",
       "</style>\n",
       "<table border=\"1\" class=\"dataframe\">\n",
       "  <thead>\n",
       "    <tr style=\"text-align: right;\">\n",
       "      <th></th>\n",
       "      <th>averageRating</th>\n",
       "    </tr>\n",
       "    <tr>\n",
       "      <th>Moviename</th>\n",
       "      <th></th>\n",
       "    </tr>\n",
       "  </thead>\n",
       "  <tbody>\n",
       "    <tr>\n",
       "      <th>Miles of Love</th>\n",
       "      <td>10.0</td>\n",
       "    </tr>\n",
       "    <tr>\n",
       "      <th>Courageous Warriors Beauty from the Ashes</th>\n",
       "      <td>10.0</td>\n",
       "    </tr>\n",
       "    <tr>\n",
       "      <th>Ride Scare: the Beginning</th>\n",
       "      <td>9.8</td>\n",
       "    </tr>\n",
       "    <tr>\n",
       "      <th>El oscuro lugar donde habitan</th>\n",
       "      <td>9.8</td>\n",
       "    </tr>\n",
       "    <tr>\n",
       "      <th>Indocumentados</th>\n",
       "      <td>9.8</td>\n",
       "    </tr>\n",
       "    <tr>\n",
       "      <th>Tenets of the Maladjusted</th>\n",
       "      <td>9.7</td>\n",
       "    </tr>\n",
       "    <tr>\n",
       "      <th>Rickshawala</th>\n",
       "      <td>9.7</td>\n",
       "    </tr>\n",
       "    <tr>\n",
       "      <th>Caution! Heartache Ahead</th>\n",
       "      <td>9.7</td>\n",
       "    </tr>\n",
       "    <tr>\n",
       "      <th>Cuando volveras</th>\n",
       "      <td>9.7</td>\n",
       "    </tr>\n",
       "    <tr>\n",
       "      <th>Cabeza Madre</th>\n",
       "      <td>9.7</td>\n",
       "    </tr>\n",
       "  </tbody>\n",
       "</table>\n",
       "</div>"
      ],
      "text/plain": [
       "                                           averageRating\n",
       "Moviename                                               \n",
       "Miles of Love                                       10.0\n",
       "Courageous Warriors Beauty from the Ashes           10.0\n",
       "Ride Scare: the Beginning                            9.8\n",
       "El oscuro lugar donde habitan                        9.8\n",
       "Indocumentados                                       9.8\n",
       "Tenets of the Maladjusted                            9.7\n",
       "Rickshawala                                          9.7\n",
       "Caution! Heartache Ahead                             9.7\n",
       "Cuando volveras                                      9.7\n",
       "Cabeza Madre                                         9.7"
      ]
     },
     "execution_count": 12,
     "metadata": {},
     "output_type": "execute_result"
    }
   ],
   "source": [
    "df_US.groupby('Moviename')[['averageRating']].mean().sort_values(by='averageRating',ascending=False).head(10)"
   ]
  },
  {
   "cell_type": "markdown",
   "metadata": {
    "id": "W2eC1TdD_AgJ"
   },
   "source": [
    "**Miles of Love** has the highest average rating among all movies"
   ]
  },
  {
   "cell_type": "markdown",
   "metadata": {
    "id": "QHB9y6sgFgcT"
   },
   "source": [
    "Top10 movies based on runtime"
   ]
  },
  {
   "cell_type": "code",
   "execution_count": null,
   "metadata": {
    "colab": {
     "base_uri": "https://localhost:8080/",
     "height": 390
    },
    "executionInfo": {
     "elapsed": 627,
     "status": "ok",
     "timestamp": 1636972033348,
     "user": {
      "displayName": "dm project",
      "photoUrl": "https://lh3.googleusercontent.com/a/default-user=s64",
      "userId": "10716541108022634460"
     },
     "user_tz": -330
    },
    "id": "Qx5xnMpxFgcU",
    "outputId": "ab3f9b16-d401-4529-9212-f6a91ebd4a23"
   },
   "outputs": [
    {
     "data": {
      "text/html": [
       "<div>\n",
       "<style scoped>\n",
       "    .dataframe tbody tr th:only-of-type {\n",
       "        vertical-align: middle;\n",
       "    }\n",
       "\n",
       "    .dataframe tbody tr th {\n",
       "        vertical-align: top;\n",
       "    }\n",
       "\n",
       "    .dataframe thead th {\n",
       "        text-align: right;\n",
       "    }\n",
       "</style>\n",
       "<table border=\"1\" class=\"dataframe\">\n",
       "  <thead>\n",
       "    <tr style=\"text-align: right;\">\n",
       "      <th></th>\n",
       "      <th>runtimeMinutes</th>\n",
       "    </tr>\n",
       "    <tr>\n",
       "      <th>Moviename</th>\n",
       "      <th></th>\n",
       "    </tr>\n",
       "  </thead>\n",
       "  <tbody>\n",
       "    <tr>\n",
       "      <th>Ambiancé</th>\n",
       "      <td>43200.0</td>\n",
       "    </tr>\n",
       "    <tr>\n",
       "      <th>****</th>\n",
       "      <td>1500.0</td>\n",
       "    </tr>\n",
       "    <tr>\n",
       "      <th>The Hazards of Helen</th>\n",
       "      <td>1428.0</td>\n",
       "    </tr>\n",
       "    <tr>\n",
       "      <th>Out 1, noli me tangere</th>\n",
       "      <td>776.0</td>\n",
       "    </tr>\n",
       "    <tr>\n",
       "      <th>Amy's Night Out</th>\n",
       "      <td>675.0</td>\n",
       "    </tr>\n",
       "    <tr>\n",
       "      <th>Hele sa hiwagang hapis</th>\n",
       "      <td>485.0</td>\n",
       "    </tr>\n",
       "    <tr>\n",
       "      <th>The Works and Days (of Tayoko Shiojiri in the Shiotani Basin)</th>\n",
       "      <td>480.0</td>\n",
       "    </tr>\n",
       "    <tr>\n",
       "      <th>Sátántangó</th>\n",
       "      <td>439.0</td>\n",
       "    </tr>\n",
       "    <tr>\n",
       "      <th>Les vampires</th>\n",
       "      <td>421.0</td>\n",
       "    </tr>\n",
       "    <tr>\n",
       "      <th>Tih Minh</th>\n",
       "      <td>418.0</td>\n",
       "    </tr>\n",
       "  </tbody>\n",
       "</table>\n",
       "</div>"
      ],
      "text/plain": [
       "                                                    runtimeMinutes\n",
       "Moviename                                                         \n",
       "Ambiancé                                                   43200.0\n",
       "****                                                        1500.0\n",
       "The Hazards of Helen                                        1428.0\n",
       "Out 1, noli me tangere                                       776.0\n",
       "Amy's Night Out                                              675.0\n",
       "Hele sa hiwagang hapis                                       485.0\n",
       "The Works and Days (of Tayoko Shiojiri in the S...           480.0\n",
       "Sátántangó                                                   439.0\n",
       "Les vampires                                                 421.0\n",
       "Tih Minh                                                     418.0"
      ]
     },
     "execution_count": 13,
     "metadata": {},
     "output_type": "execute_result"
    }
   ],
   "source": [
    "df_US.groupby('Moviename')[['runtimeMinutes']].mean().sort_values(by='runtimeMinutes',ascending=False).head(10)"
   ]
  },
  {
   "cell_type": "markdown",
   "metadata": {
    "id": "04CQha1v_HH0"
   },
   "source": [
    "**Ambiancé** has the highest runtime among all movies"
   ]
  },
  {
   "cell_type": "markdown",
   "metadata": {
    "id": "2wNJMRONFgcU"
   },
   "source": [
    "Top10 actors based on rating"
   ]
  },
  {
   "cell_type": "code",
   "execution_count": null,
   "metadata": {
    "colab": {
     "base_uri": "https://localhost:8080/",
     "height": 390
    },
    "executionInfo": {
     "elapsed": 620,
     "status": "ok",
     "timestamp": 1636972040702,
     "user": {
      "displayName": "dm project",
      "photoUrl": "https://lh3.googleusercontent.com/a/default-user=s64",
      "userId": "10716541108022634460"
     },
     "user_tz": -330
    },
    "id": "z5lcDb04i8tf",
    "outputId": "c85864ee-810d-43d7-8aea-0f0808a95bf2"
   },
   "outputs": [
    {
     "data": {
      "text/html": [
       "<div>\n",
       "<style scoped>\n",
       "    .dataframe tbody tr th:only-of-type {\n",
       "        vertical-align: middle;\n",
       "    }\n",
       "\n",
       "    .dataframe tbody tr th {\n",
       "        vertical-align: top;\n",
       "    }\n",
       "\n",
       "    .dataframe thead th {\n",
       "        text-align: right;\n",
       "    }\n",
       "</style>\n",
       "<table border=\"1\" class=\"dataframe\">\n",
       "  <thead>\n",
       "    <tr style=\"text-align: right;\">\n",
       "      <th></th>\n",
       "      <th>averageRating</th>\n",
       "    </tr>\n",
       "    <tr>\n",
       "      <th>Actors</th>\n",
       "      <th></th>\n",
       "    </tr>\n",
       "  </thead>\n",
       "  <tbody>\n",
       "    <tr>\n",
       "      <th>Ramya Pasupileti, Kaushik Reddy, Medishetti Abhinav, Ravi Siva Teja</th>\n",
       "      <td>10.0</td>\n",
       "    </tr>\n",
       "    <tr>\n",
       "      <th>Louie Feher-Peiker</th>\n",
       "      <td>10.0</td>\n",
       "    </tr>\n",
       "    <tr>\n",
       "      <th>Robert LuPone, Paul Calderon</th>\n",
       "      <td>9.8</td>\n",
       "    </tr>\n",
       "    <tr>\n",
       "      <th>Franco Allen, Michael Fredianelli, Derek Crowe</th>\n",
       "      <td>9.8</td>\n",
       "    </tr>\n",
       "    <tr>\n",
       "      <th>Nahuel Yotich, Fabio Rosenstein, Leandro Sandonato</th>\n",
       "      <td>9.8</td>\n",
       "    </tr>\n",
       "    <tr>\n",
       "      <th>Will Dalton</th>\n",
       "      <td>9.7</td>\n",
       "    </tr>\n",
       "    <tr>\n",
       "      <th>Ricky Brava, Patricio Godoy, Angel Zermen</th>\n",
       "      <td>9.7</td>\n",
       "    </tr>\n",
       "    <tr>\n",
       "      <th>Tim McGrath, Taylor Van Doorne, Mark E. Fletcher</th>\n",
       "      <td>9.7</td>\n",
       "    </tr>\n",
       "    <tr>\n",
       "      <th>Avinash Dwivedi</th>\n",
       "      <td>9.7</td>\n",
       "    </tr>\n",
       "    <tr>\n",
       "      <th>Michel Pentón, Daniel Amat, Clifton Collins Jr.</th>\n",
       "      <td>9.7</td>\n",
       "    </tr>\n",
       "  </tbody>\n",
       "</table>\n",
       "</div>"
      ],
      "text/plain": [
       "                                                    averageRating\n",
       "Actors                                                           \n",
       "Ramya Pasupileti, Kaushik Reddy, Medishetti Abh...           10.0\n",
       "Louie Feher-Peiker                                           10.0\n",
       "Robert LuPone, Paul Calderon                                  9.8\n",
       "Franco Allen, Michael Fredianelli, Derek Crowe                9.8\n",
       "Nahuel Yotich, Fabio Rosenstein, Leandro Sandonato            9.8\n",
       "Will Dalton                                                   9.7\n",
       "Ricky Brava, Patricio Godoy, Angel Zermen                     9.7\n",
       "Tim McGrath, Taylor Van Doorne, Mark E. Fletcher              9.7\n",
       "Avinash Dwivedi                                               9.7\n",
       "Michel Pentón, Daniel Amat, Clifton Collins Jr.               9.7"
      ]
     },
     "execution_count": 14,
     "metadata": {},
     "output_type": "execute_result"
    }
   ],
   "source": [
    "df_US.groupby('Actors')[['averageRating']].mean().sort_values(by='averageRating',ascending=False).head(10)"
   ]
  },
  {
   "cell_type": "markdown",
   "metadata": {
    "id": "dOmL3Nak_Vyu"
   },
   "source": [
    "**Ramya Pasupileti, Kaushik Reddy, Medishetti Abhinav, Ravi Siva Teja** has the highest average rating among all actors combination"
   ]
  },
  {
   "cell_type": "markdown",
   "metadata": {
    "id": "0hJri7a5uGCE"
   },
   "source": [
    "Number of movies year wise from 2011 to see the effect of covid-19 on movie industry"
   ]
  },
  {
   "cell_type": "code",
   "execution_count": null,
   "metadata": {
    "colab": {
     "base_uri": "https://localhost:8080/"
    },
    "executionInfo": {
     "elapsed": 13,
     "status": "ok",
     "timestamp": 1636807830253,
     "user": {
      "displayName": "dm project",
      "photoUrl": "https://lh3.googleusercontent.com/a/default-user=s64",
      "userId": "10716541108022634460"
     },
     "user_tz": -330
    },
    "id": "EU6Voz6qpGex",
    "outputId": "e8ee215c-6edc-4967-d7e9-15cdc2d7141b"
   },
   "outputs": [
    {
     "data": {
      "text/plain": [
       "2019    4171\n",
       "2018    4039\n",
       "2017    3892\n",
       "2016    3629\n",
       "2015    3487\n",
       "2014    3447\n",
       "2013    3304\n",
       "2012    3197\n",
       "2020    3191\n",
       "2011    3021\n",
       "2021    2418\n",
       "Name: Year, dtype: int64"
      ]
     },
     "execution_count": 20,
     "metadata": {},
     "output_type": "execute_result"
    }
   ],
   "source": [
    "df_latest=df_US[df_US['Year']>2010]\n",
    "df_latest['Year'].value_counts()"
   ]
  },
  {
   "cell_type": "code",
   "execution_count": null,
   "metadata": {
    "colab": {
     "base_uri": "https://localhost:8080/",
     "height": 295
    },
    "executionInfo": {
     "elapsed": 13,
     "status": "ok",
     "timestamp": 1636807830254,
     "user": {
      "displayName": "dm project",
      "photoUrl": "https://lh3.googleusercontent.com/a/default-user=s64",
      "userId": "10716541108022634460"
     },
     "user_tz": -330
    },
    "id": "qjnqD2blsKVh",
    "outputId": "07a1903d-992a-41b1-f103-2fdccb8a0327"
   },
   "outputs": [
    {
     "data": {
      "image/png": "[encoded data removed]",
      "text/plain": [
       "<Figure size 432x288 with 1 Axes>"
      ]
     },
     "metadata": {
      "needs_background": "light"
     },
     "output_type": "display_data"
    }
   ],
   "source": [
    "sns.countplot(x='Year',data=df_latest)\n",
    "plt.title('Number of movies per year')\n",
    "plt.show()"
   ]
  },
  {
   "cell_type": "markdown",
   "metadata": {
    "id": "sarYYaez_cGp"
   },
   "source": [
    "From above graph we can say their is decrease in number of movies after 2019 i.e., Covid-19 has effected this industry "
   ]
  },
  {
   "cell_type": "markdown",
   "metadata": {
    "id": "W3LL1TPSQC-g"
   },
   "source": [
    "Top Movies"
   ]
  },
  {
   "cell_type": "code",
   "execution_count": null,
   "metadata": {
    "id": "2wD4KHaPQNUb"
   },
   "outputs": [],
   "source": [
    "Top_50=df_US.sort_values('averageRating',ascending=False).head(50)\n",
    "Top_5=Top_50[['Moviename','averageRating']].head(5)\n",
    "Top_5"
   ]
  },
  {
   "cell_type": "code",
   "execution_count": null,
   "metadata": {
    "colab": {
     "base_uri": "https://localhost:8080/",
     "height": 441
    },
    "executionInfo": {
     "elapsed": 12,
     "status": "ok",
     "timestamp": 1636972072019,
     "user": {
      "displayName": "dm project",
      "photoUrl": "https://lh3.googleusercontent.com/a/default-user=s64",
      "userId": "10716541108022634460"
     },
     "user_tz": -330
    },
    "id": "0gDPg3P2XPaZ",
    "outputId": "c1bf4d64-892a-4af3-868a-aedb6e7b8c90"
   },
   "outputs": [
    {
     "data": {
      "image/png": "[encoded data removed]",
      "text/plain": [
       "<Figure size 432x432 with 1 Axes>"
      ]
     },
     "metadata": {
      "needs_background": "light"
     },
     "output_type": "display_data"
    }
   ],
   "source": [
    "fig,x=plt.subplots(figsize=(6,6))\n",
    "sns.barplot(x = 'Moviename',\n",
    "            y = 'averageRating',\n",
    "            data = Top_5)\n",
    "plt.title('Top Five Movies')\n",
    "plt.setp(x.get_xticklabels(), rotation=90)\n",
    "x.tick_params(labelsize=10)\n",
    "x.tick_params(length=0, axis='x')\n",
    "plt.tight_layout()\n",
    "plt.show()"
   ]
  },
  {
   "cell_type": "markdown",
   "metadata": {
    "id": "mIfMJP_SJtnW"
   },
   "source": [
    "Lowest rated movie"
   ]
  },
  {
   "cell_type": "code",
   "execution_count": null,
   "metadata": {
    "colab": {
     "base_uri": "https://localhost:8080/",
     "height": 111
    },
    "executionInfo": {
     "elapsed": 1302,
     "status": "ok",
     "timestamp": 1636972658665,
     "user": {
      "displayName": "dm project",
      "photoUrl": "https://lh3.googleusercontent.com/a/default-user=s64",
      "userId": "10716541108022634460"
     },
     "user_tz": -330
    },
    "id": "D2gFrEwxJz5h",
    "outputId": "dab6395c-a6d9-4cd4-fc5b-37e8f951bed7"
   },
   "outputs": [
    {
     "data": {
      "text/html": [
       "<div>\n",
       "<style scoped>\n",
       "    .dataframe tbody tr th:only-of-type {\n",
       "        vertical-align: middle;\n",
       "    }\n",
       "\n",
       "    .dataframe tbody tr th {\n",
       "        vertical-align: top;\n",
       "    }\n",
       "\n",
       "    .dataframe thead th {\n",
       "        text-align: right;\n",
       "    }\n",
       "</style>\n",
       "<table border=\"1\" class=\"dataframe\">\n",
       "  <thead>\n",
       "    <tr style=\"text-align: right;\">\n",
       "      <th></th>\n",
       "      <th>averageRating</th>\n",
       "    </tr>\n",
       "    <tr>\n",
       "      <th>Moviename</th>\n",
       "      <th></th>\n",
       "    </tr>\n",
       "  </thead>\n",
       "  <tbody>\n",
       "    <tr>\n",
       "      <th>Gui men shi san zhen</th>\n",
       "      <td>1.0</td>\n",
       "    </tr>\n",
       "  </tbody>\n",
       "</table>\n",
       "</div>"
      ],
      "text/plain": [
       "                      averageRating\n",
       "Moviename                          \n",
       "Gui men shi san zhen            1.0"
      ]
     },
     "execution_count": 27,
     "metadata": {},
     "output_type": "execute_result"
    }
   ],
   "source": [
    "df_US.groupby('Moviename')[['averageRating']].mean().sort_values(by='averageRating').head(1)"
   ]
  },
  {
   "cell_type": "markdown",
   "metadata": {
    "id": "3EXcR5JNYKj2"
   },
   "source": [
    "Different genres and total count of movies genre wise"
   ]
  },
  {
   "cell_type": "code",
   "execution_count": null,
   "metadata": {
    "id": "r7kj2MvkWkfO"
   },
   "outputs": [],
   "source": [
    "l=[]\n",
    "for x in df_US['genres']:\n",
    "   l.append(x.split(','))"
   ]
  },
  {
   "cell_type": "code",
   "execution_count": null,
   "metadata": {
    "id": "7uf-6W42ZnSx"
   },
   "outputs": [],
   "source": [
    "genrelist=[]\n",
    "for x in l:\n",
    "   for y in x:\n",
    "      genrelist.append(y)"
   ]
  },
  {
   "cell_type": "code",
   "execution_count": null,
   "metadata": {
    "colab": {
     "base_uri": "https://localhost:8080/"
    },
    "executionInfo": {
     "elapsed": 370,
     "status": "ok",
     "timestamp": 1636862524524,
     "user": {
      "displayName": "dm project",
      "photoUrl": "https://lh3.googleusercontent.com/a/default-user=s64",
      "userId": "10716541108022634460"
     },
     "user_tz": -330
    },
    "id": "5Y_M6oPQbXh0",
    "outputId": "772c2e7d-9399-49ad-a86e-541073f6bba6"
   },
   "outputs": [
    {
     "name": "stdout",
     "output_type": "stream",
     "text": [
      "The number of unique genres is: 27\n"
     ]
    }
   ],
   "source": [
    "uniquegenre=[]\n",
    "for x in genrelist:\n",
    "  if x not in uniquegenre:\n",
    "     uniquegenre.append(x)\n",
    "print(\"The number of unique genres is: %d\" %len(uniquegenre))    "
   ]
  },
  {
   "cell_type": "code",
   "execution_count": null,
   "metadata": {
    "colab": {
     "base_uri": "https://localhost:8080/"
    },
    "executionInfo": {
     "elapsed": 353,
     "status": "ok",
     "timestamp": 1636862536751,
     "user": {
      "displayName": "dm project",
      "photoUrl": "https://lh3.googleusercontent.com/a/default-user=s64",
      "userId": "10716541108022634460"
     },
     "user_tz": -330
    },
    "id": "e0pzSK_baMv9",
    "outputId": "34db4175-2240-4848-886c-44e7adee0708"
   },
   "outputs": [
    {
     "data": {
      "text/plain": [
       "Counter({'Action': 17862,\n",
       "         'Adult': 3192,\n",
       "         'Adventure': 12433,\n",
       "         'Animation': 2803,\n",
       "         'Biography': 2808,\n",
       "         'Comedy': 35690,\n",
       "         'Crime': 15756,\n",
       "         'Documentary': 1612,\n",
       "         'Drama': 63455,\n",
       "         'Family': 4713,\n",
       "         'Fantasy': 5454,\n",
       "         'Film-Noir': 1276,\n",
       "         'History': 2563,\n",
       "         'Horror': 15262,\n",
       "         'Music': 2806,\n",
       "         'Musical': 2866,\n",
       "         'Mystery': 7881,\n",
       "         'News': 32,\n",
       "         'Reality-TV': 4,\n",
       "         'Romance': 19433,\n",
       "         'Sci-Fi': 5650,\n",
       "         'Short': 3,\n",
       "         'Sport': 1316,\n",
       "         'Talk-Show': 5,\n",
       "         'Thriller': 15466,\n",
       "         'War': 2582,\n",
       "         'Western': 4521})"
      ]
     },
     "execution_count": 11,
     "metadata": {},
     "output_type": "execute_result"
    }
   ],
   "source": [
    "from collections import Counter\n",
    "Counter(genrelist)\n"
   ]
  },
  {
   "cell_type": "code",
   "execution_count": null,
   "metadata": {
    "colab": {
     "base_uri": "https://localhost:8080/",
     "height": 604
    },
    "executionInfo": {
     "elapsed": 1212,
     "status": "ok",
     "timestamp": 1636807832629,
     "user": {
      "displayName": "dm project",
      "photoUrl": "https://lh3.googleusercontent.com/a/default-user=s64",
      "userId": "10716541108022634460"
     },
     "user_tz": -330
    },
    "id": "5nHMjd8wy_Ml",
    "outputId": "9ac6ad7b-5b45-4197-bc26-7c2ca40df4b4"
   },
   "outputs": [
    {
     "data": {
      "image/png": "[encoded data removed]",
      "text/plain": [
       "<Figure size 1800x864 with 1 Axes>"
      ]
     },
     "metadata": {
      "needs_background": "light"
     },
     "output_type": "display_data"
    }
   ],
   "source": [
    "fig,x=plt.subplots(figsize=(25,12))\n",
    "plt.bar(d.keys(), d.values())\n",
    "plt.show()"
   ]
  },
  {
   "cell_type": "markdown",
   "metadata": {
    "id": "oBfz0mi-_zQF"
   },
   "source": [
    "**Drama** Genre has most number of movies among all genres"
   ]
  },
  {
   "cell_type": "markdown",
   "metadata": {
    "id": "1o-J-12cdXCo"
   },
   "source": [
    "Genre wise average rating from 2000 and plotting top 6 genre"
   ]
  },
  {
   "cell_type": "code",
   "execution_count": null,
   "metadata": {
    "id": "4Xpr_2BReJQN"
   },
   "outputs": [],
   "source": [
    "df_US_latest=df_US[df_US['Year']>=2000]\n",
    "avgrating=[]\n",
    "for x in uniquegenre:\n",
    "      avgrating.append(df_US_latest[df_US_latest['genres'].str.contains(x)].averageRating.mean())"
   ]
  },
  {
   "cell_type": "code",
   "execution_count": null,
   "metadata": {
    "id": "M8GIJ7tLgCp3"
   },
   "outputs": [],
   "source": [
    "genre_avgrating = pd.DataFrame(zip(uniquegenre,avgrating), columns =['Genre','AverageRating'])\n",
    "genre_avgrating.sort_values('AverageRating',ascending=False,inplace=True)\n",
    "genre_avgrating=genre_avgrating.head(6)"
   ]
  },
  {
   "cell_type": "code",
   "execution_count": null,
   "metadata": {
    "colab": {
     "base_uri": "https://localhost:8080/",
     "height": 350
    },
    "executionInfo": {
     "elapsed": 13,
     "status": "ok",
     "timestamp": 1636807832634,
     "user": {
      "displayName": "dm project",
      "photoUrl": "https://lh3.googleusercontent.com/a/default-user=s64",
      "userId": "10716541108022634460"
     },
     "user_tz": -330
    },
    "id": "ZCFZmHPwFspX",
    "outputId": "7b3901a5-90b0-4e5a-afdd-c776c0f5cdff"
   },
   "outputs": [
    {
     "data": {
      "image/png": "[encoded data removed]",
      "text/plain": [
       "<Figure size 576x360 with 1 Axes>"
      ]
     },
     "metadata": {
      "needs_background": "light"
     },
     "output_type": "display_data"
    }
   ],
   "source": [
    "fig,x=plt.subplots(figsize=(8,5))\n",
    "sns.barplot(x = 'Genre',\n",
    "            y = 'AverageRating',\n",
    "            data = genre_avgrating)\n",
    "plt.title('Genre vs Rating')\n",
    "plt.show()"
   ]
  },
  {
   "cell_type": "markdown",
   "metadata": {
    "id": "s8TFnKIW_3W2"
   },
   "source": [
    "Movies in **News** Genre has the highest average rating"
   ]
  },
  {
   "cell_type": "markdown",
   "metadata": {
    "id": "ce22BQV_7Z4K"
   },
   "source": [
    "popularity of genre over time"
   ]
  },
  {
   "cell_type": "code",
   "execution_count": null,
   "metadata": {
    "colab": {
     "base_uri": "https://localhost:8080/",
     "height": 867
    },
    "executionInfo": {
     "elapsed": 2684,
     "status": "ok",
     "timestamp": 1636807835306,
     "user": {
      "displayName": "dm project",
      "photoUrl": "https://lh3.googleusercontent.com/a/default-user=s64",
      "userId": "10716541108022634460"
     },
     "user_tz": -330
    },
    "id": "vNa3i3T17Z4K",
    "outputId": "7285f7d7-aab7-4478-d402-e46eaf34b8a5"
   },
   "outputs": [
    {
     "data": {
      "image/png": "[encoded data removed]",
      "text/plain": [
       "<Figure size 1200x1040 with 1 Axes>"
      ]
     },
     "metadata": {},
     "output_type": "display_data"
    }
   ],
   "source": [
    "genre =df_US['genres']\n",
    "most_diff_min_max = 0\n",
    "most_genre=\"\"\n",
    "\n",
    "plt.figure(figsize=(15, 13), dpi= 80, facecolor='w', edgecolor='k')\n",
    "for i in range (len(uniquegenre)):\n",
    "    A = df_US[genre.str.contains(uniquegenre[i])]\n",
    "    a = A[['numVotes','Year']]\n",
    "    p = a.groupby('Year').mean()\n",
    "    p_mean = p['numVotes'].tolist()\n",
    "    year = A['Year'].unique()\n",
    "    year = np.sort(year)\n",
    "    if i < 10:\n",
    "        plt.plot(year, p_mean,'-o')\n",
    "    else: \n",
    "        plt.plot(year, p_mean, '--')\n",
    "    max = p.max()\n",
    "    min = p.min()\n",
    "    diff = float(max - min)\n",
    "    if diff > most_diff_min_max:\n",
    "        most_diff_min_max = diff\n",
    "        most_genre = uniquegenre[i]\n",
    "plt.legend(uniquegenre)\n",
    "plt.title('The Popolarity of Each Genre Over Time')\n",
    "plt.xlabel('Year')\n",
    "plt.ylabel('Popularity')\n",
    "plt.show()"
   ]
  },
  {
   "cell_type": "code",
   "execution_count": null,
   "metadata": {
    "colab": {
     "base_uri": "https://localhost:8080/",
     "height": 35
    },
    "executionInfo": {
     "elapsed": 11,
     "status": "ok",
     "timestamp": 1636807835306,
     "user": {
      "displayName": "dm project",
      "photoUrl": "https://lh3.googleusercontent.com/a/default-user=s64",
      "userId": "10716541108022634460"
     },
     "user_tz": -330
    },
    "id": "oN3InUCz7nAJ",
    "outputId": "d6cd72a2-dd04-4820-be2f-fda4047ef986"
   },
   "outputs": [
    {
     "data": {
      "application/vnd.google.colaboratory.intrinsic+json": {
       "type": "string"
      },
      "text/plain": [
       "'Fantasy'"
      ]
     },
     "execution_count": 33,
     "metadata": {},
     "output_type": "execute_result"
    }
   ],
   "source": [
    "most_genre"
   ]
  },
  {
   "cell_type": "markdown",
   "metadata": {
    "id": "ve9Yk-PoAIUI"
   },
   "source": [
    "The popularity of the **Fantasy** genre has increased most over the years for US"
   ]
  },
  {
   "cell_type": "markdown",
   "metadata": {
    "id": "Z75n9IEj0x0b"
   },
   "source": [
    "Average runtime (in minutes) for each genre from 2000 and plotting top 6"
   ]
  },
  {
   "cell_type": "code",
   "execution_count": null,
   "metadata": {
    "id": "lXYIgpPA1nYL"
   },
   "outputs": [],
   "source": [
    "avgtime=[]\n",
    "for x in uniquegenre:\n",
    "      avgtime.append(df_US_latest[df_US_latest['genres'].str.contains(x)].runtimeMinutes.mean())"
   ]
  },
  {
   "cell_type": "code",
   "execution_count": null,
   "metadata": {
    "id": "rUvno-xW2wxS"
   },
   "outputs": [],
   "source": [
    "genre_avgtime = pd.DataFrame(zip(uniquegenre,avgtime), columns =['Genre','averageTime'])\n",
    "genre_avgtime.sort_values('averageTime',ascending=False,inplace=True)\n",
    "genre_avgtime=genre_avgtime.head(6)"
   ]
  },
  {
   "cell_type": "code",
   "execution_count": null,
   "metadata": {
    "colab": {
     "base_uri": "https://localhost:8080/",
     "height": 295
    },
    "executionInfo": {
     "elapsed": 9,
     "status": "ok",
     "timestamp": 1636807836293,
     "user": {
      "displayName": "dm project",
      "photoUrl": "https://lh3.googleusercontent.com/a/default-user=s64",
      "userId": "10716541108022634460"
     },
     "user_tz": -330
    },
    "id": "bcfgPtHd3H_5",
    "outputId": "d788fb04-d382-44ab-9a3c-4c127cb841c1"
   },
   "outputs": [
    {
     "data": {
      "image/png": "[encoded data removed]",
      "text/plain": [
       "<Figure size 432x288 with 1 Axes>"
      ]
     },
     "metadata": {
      "needs_background": "light"
     },
     "output_type": "display_data"
    }
   ],
   "source": [
    "sns.barplot(x = 'Genre',\n",
    "            y = 'averageTime',\n",
    "            data = genre_avgtime)\n",
    "plt.title('Genre vs Runtime')\n",
    "plt.show()"
   ]
  },
  {
   "cell_type": "markdown",
   "metadata": {
    "id": "1HYhzlYcARPr"
   },
   "source": [
    "Movies of the **Documentary** genre has the highest average runtime"
   ]
  },
  {
   "cell_type": "markdown",
   "metadata": {
    "id": "Eki4nYup4EX5"
   },
   "source": [
    "Actors"
   ]
  },
  {
   "cell_type": "markdown",
   "metadata": {
    "id": "hIJ0GFpV4YEx"
   },
   "source": [
    "actors and total count of movies"
   ]
  },
  {
   "cell_type": "code",
   "execution_count": null,
   "metadata": {
    "id": "a37al5RvFgcb"
   },
   "outputs": [],
   "source": [
    "l=[]\n",
    "for x in df_US['Actors']:\n",
    "   l.append(x.split(', '))"
   ]
  },
  {
   "cell_type": "code",
   "execution_count": null,
   "metadata": {
    "id": "9h8GTWoC4YEz"
   },
   "outputs": [],
   "source": [
    "actorlist=[]\n",
    "for x in l:\n",
    "   for y in x:\n",
    "            actorlist.append(y)           "
   ]
  },
  {
   "cell_type": "code",
   "execution_count": null,
   "metadata": {
    "colab": {
     "base_uri": "https://localhost:8080/"
    },
    "executionInfo": {
     "elapsed": 209767,
     "status": "ok",
     "timestamp": 1636808046576,
     "user": {
      "displayName": "dm project",
      "photoUrl": "https://lh3.googleusercontent.com/a/default-user=s64",
      "userId": "10716541108022634460"
     },
     "user_tz": -330
    },
    "id": "OAKucIGC4YEz",
    "outputId": "fca1afa8-3e3a-4b6b-99f3-5188bda530f7"
   },
   "outputs": [
    {
     "name": "stdout",
     "output_type": "stream",
     "text": [
      "The number of actors is 102214\n"
     ]
    }
   ],
   "source": [
    "uniqueactors=[]\n",
    "for x in actorlist:\n",
    "  if x not in uniqueactors:\n",
    "     uniqueactors.append(x)\n",
    "print(\"The number of actors is %d\" %len(uniqueactors))    "
   ]
  },
  {
   "cell_type": "code",
   "execution_count": null,
   "metadata": {
    "id": "i61X_uWC4YE0"
   },
   "outputs": [],
   "source": [
    "from collections import Counter\n",
    "c=Counter(actorlist)"
   ]
  },
  {
   "cell_type": "markdown",
   "metadata": {
    "id": "hBRiO_WxFgcc"
   },
   "source": [
    "Top 6 actors with most number of movies"
   ]
  },
  {
   "cell_type": "code",
   "execution_count": null,
   "metadata": {
    "colab": {
     "base_uri": "https://localhost:8080/"
    },
    "executionInfo": {
     "elapsed": 12,
     "status": "ok",
     "timestamp": 1636808046579,
     "user": {
      "displayName": "dm project",
      "photoUrl": "https://lh3.googleusercontent.com/a/default-user=s64",
      "userId": "10716541108022634460"
     },
     "user_tz": -330
    },
    "id": "muWR2cNoFgcc",
    "outputId": "98f8abc6-1f07-4c66-8fbf-75c7107b7487"
   },
   "outputs": [
    {
     "data": {
      "text/plain": [
       "{'Eric Edwards': 230,\n",
       " 'Eric Roberts': 170,\n",
       " 'Jamie Gillis': 255,\n",
       " 'John Leslie': 176,\n",
       " 'John Wayne': 194,\n",
       " 'Johnny Mack Brown': 176}"
      ]
     },
     "execution_count": 42,
     "metadata": {},
     "output_type": "execute_result"
    }
   ],
   "source": [
    "c=c.most_common(6)\n",
    "moviecount={}\n",
    "for x in c:\n",
    "    key=x[0]\n",
    "    moviecount[key]=x[1]\n",
    "moviecount\n"
   ]
  },
  {
   "cell_type": "code",
   "execution_count": null,
   "metadata": {
    "colab": {
     "base_uri": "https://localhost:8080/",
     "height": 320
    },
    "executionInfo": {
     "elapsed": 13,
     "status": "ok",
     "timestamp": 1636808046581,
     "user": {
      "displayName": "dm project",
      "photoUrl": "https://lh3.googleusercontent.com/a/default-user=s64",
      "userId": "10716541108022634460"
     },
     "user_tz": -330
    },
    "id": "2ZEf9scEFgcc",
    "outputId": "25f00c65-8f2f-41aa-b889-1e875ece4f4e"
   },
   "outputs": [
    {
     "data": {
      "image/png": "[encoded data removed]",
      "text/plain": [
       "<Figure size 720x360 with 1 Axes>"
      ]
     },
     "metadata": {
      "needs_background": "light"
     },
     "output_type": "display_data"
    }
   ],
   "source": [
    "fig,x=plt.subplots(figsize=(10,5))\n",
    "plt.bar(*zip(*moviecount.items()))\n",
    "plt.show()"
   ]
  },
  {
   "cell_type": "markdown",
   "metadata": {
    "id": "22_iq_rl4YE0"
   },
   "source": [
    "Average rating for each actor"
   ]
  },
  {
   "cell_type": "code",
   "execution_count": null,
   "metadata": {
    "id": "v2lAO-d_4YE0"
   },
   "outputs": [],
   "source": [
    "avgrating=[]\n",
    "for x in uniqueactors:\n",
    "      avgrating.append(df_US[df_US['Actors'].str.contains(x)].averageRating.mean())"
   ]
  },
  {
   "cell_type": "code",
   "execution_count": null,
   "metadata": {
    "id": "2C2nLsAe4YE1"
   },
   "outputs": [],
   "source": [
    "actor_avgrating = pd.DataFrame(zip(uniqueactors,avgrating), columns =['Actors','AverageRating'])\n",
    "actor_avgrating.sort_values('AverageRating',ascending=False,inplace=True)\n"
   ]
  },
  {
   "cell_type": "code",
   "execution_count": null,
   "metadata": {
    "colab": {
     "base_uri": "https://localhost:8080/",
     "height": 1000
    },
    "executionInfo": {
     "elapsed": 570,
     "status": "ok",
     "timestamp": 1636821014903,
     "user": {
      "displayName": "dm project",
      "photoUrl": "https://lh3.googleusercontent.com/a/default-user=s64",
      "userId": "10716541108022634460"
     },
     "user_tz": -330
    },
    "id": "ZiUv0KKs4YE1",
    "outputId": "cf720e7f-552b-451c-9602-80430b0598b6"
   },
   "outputs": [
    {
     "data": {
      "text/html": [
       "<div>\n",
       "<style scoped>\n",
       "    .dataframe tbody tr th:only-of-type {\n",
       "        vertical-align: middle;\n",
       "    }\n",
       "\n",
       "    .dataframe tbody tr th {\n",
       "        vertical-align: top;\n",
       "    }\n",
       "\n",
       "    .dataframe thead th {\n",
       "        text-align: right;\n",
       "    }\n",
       "</style>\n",
       "<table border=\"1\" class=\"dataframe\">\n",
       "  <thead>\n",
       "    <tr style=\"text-align: right;\">\n",
       "      <th></th>\n",
       "      <th>Actors</th>\n",
       "      <th>AverageRating</th>\n",
       "    </tr>\n",
       "  </thead>\n",
       "  <tbody>\n",
       "    <tr>\n",
       "      <th>0</th>\n",
       "      <td>Ramya Pasupileti</td>\n",
       "      <td>10.0</td>\n",
       "    </tr>\n",
       "    <tr>\n",
       "      <th>1</th>\n",
       "      <td>Medishetti Abhinav</td>\n",
       "      <td>10.0</td>\n",
       "    </tr>\n",
       "    <tr>\n",
       "      <th>2</th>\n",
       "      <td>Louie Feher-Peiker</td>\n",
       "      <td>10.0</td>\n",
       "    </tr>\n",
       "    <tr>\n",
       "      <th>3</th>\n",
       "      <td>Ravi Siva Teja</td>\n",
       "      <td>10.0</td>\n",
       "    </tr>\n",
       "    <tr>\n",
       "      <th>4</th>\n",
       "      <td>Nahuel Yotich</td>\n",
       "      <td>9.8</td>\n",
       "    </tr>\n",
       "    <tr>\n",
       "      <th>5</th>\n",
       "      <td>Fabio Rosenstein</td>\n",
       "      <td>9.8</td>\n",
       "    </tr>\n",
       "    <tr>\n",
       "      <th>6</th>\n",
       "      <td>Leandro Sandonato</td>\n",
       "      <td>9.8</td>\n",
       "    </tr>\n",
       "    <tr>\n",
       "      <th>7</th>\n",
       "      <td>Patricio Godoy</td>\n",
       "      <td>9.7</td>\n",
       "    </tr>\n",
       "    <tr>\n",
       "      <th>8</th>\n",
       "      <td>Daniel Amat</td>\n",
       "      <td>9.7</td>\n",
       "    </tr>\n",
       "    <tr>\n",
       "      <th>9</th>\n",
       "      <td>Angel Zermen</td>\n",
       "      <td>9.7</td>\n",
       "    </tr>\n",
       "    <tr>\n",
       "      <th>10</th>\n",
       "      <td>Ricky Brava</td>\n",
       "      <td>9.7</td>\n",
       "    </tr>\n",
       "    <tr>\n",
       "      <th>11</th>\n",
       "      <td>Tim McGrath</td>\n",
       "      <td>9.7</td>\n",
       "    </tr>\n",
       "    <tr>\n",
       "      <th>12</th>\n",
       "      <td>Avinash Dwivedi</td>\n",
       "      <td>9.7</td>\n",
       "    </tr>\n",
       "    <tr>\n",
       "      <th>13</th>\n",
       "      <td>Michel Pentón</td>\n",
       "      <td>9.7</td>\n",
       "    </tr>\n",
       "    <tr>\n",
       "      <th>14</th>\n",
       "      <td>Taylor Van Doorne</td>\n",
       "      <td>9.7</td>\n",
       "    </tr>\n",
       "    <tr>\n",
       "      <th>15</th>\n",
       "      <td>Giorgio Caoduro</td>\n",
       "      <td>9.6</td>\n",
       "    </tr>\n",
       "    <tr>\n",
       "      <th>16</th>\n",
       "      <td>Ken Kecevar</td>\n",
       "      <td>9.6</td>\n",
       "    </tr>\n",
       "    <tr>\n",
       "      <th>17</th>\n",
       "      <td>Michael Micalizzi</td>\n",
       "      <td>9.6</td>\n",
       "    </tr>\n",
       "    <tr>\n",
       "      <th>18</th>\n",
       "      <td>Jimmy Chen</td>\n",
       "      <td>9.6</td>\n",
       "    </tr>\n",
       "    <tr>\n",
       "      <th>19</th>\n",
       "      <td>Marcello Mariani</td>\n",
       "      <td>9.6</td>\n",
       "    </tr>\n",
       "    <tr>\n",
       "      <th>20</th>\n",
       "      <td>Mudibu Bisengeta</td>\n",
       "      <td>9.6</td>\n",
       "    </tr>\n",
       "    <tr>\n",
       "      <th>21</th>\n",
       "      <td>Hercules Nikolopoulos</td>\n",
       "      <td>9.6</td>\n",
       "    </tr>\n",
       "    <tr>\n",
       "      <th>22</th>\n",
       "      <td>Alessandro Corbelli</td>\n",
       "      <td>9.6</td>\n",
       "    </tr>\n",
       "    <tr>\n",
       "      <th>23</th>\n",
       "      <td>Apolina Mbilizi</td>\n",
       "      <td>9.6</td>\n",
       "    </tr>\n",
       "    <tr>\n",
       "      <th>24</th>\n",
       "      <td>Jerry Marsini</td>\n",
       "      <td>9.6</td>\n",
       "    </tr>\n",
       "    <tr>\n",
       "      <th>25</th>\n",
       "      <td>Aarumugam</td>\n",
       "      <td>9.6</td>\n",
       "    </tr>\n",
       "    <tr>\n",
       "      <th>26</th>\n",
       "      <td>Ramón Vargas</td>\n",
       "      <td>9.6</td>\n",
       "    </tr>\n",
       "    <tr>\n",
       "      <th>27</th>\n",
       "      <td>Francis Fenner</td>\n",
       "      <td>9.6</td>\n",
       "    </tr>\n",
       "    <tr>\n",
       "      <th>28</th>\n",
       "      <td>Charlie Dyson</td>\n",
       "      <td>9.6</td>\n",
       "    </tr>\n",
       "    <tr>\n",
       "      <th>29</th>\n",
       "      <td>Walter Eddy</td>\n",
       "      <td>9.6</td>\n",
       "    </tr>\n",
       "    <tr>\n",
       "      <th>30</th>\n",
       "      <td>Lumière Mbilizi</td>\n",
       "      <td>9.6</td>\n",
       "    </tr>\n",
       "    <tr>\n",
       "      <th>31</th>\n",
       "      <td>Amule Amin</td>\n",
       "      <td>9.5</td>\n",
       "    </tr>\n",
       "    <tr>\n",
       "      <th>32</th>\n",
       "      <td>Kurt Freund</td>\n",
       "      <td>9.5</td>\n",
       "    </tr>\n",
       "    <tr>\n",
       "      <th>33</th>\n",
       "      <td>Kutti Mani</td>\n",
       "      <td>9.5</td>\n",
       "    </tr>\n",
       "    <tr>\n",
       "      <th>34</th>\n",
       "      <td>Eshwar Basha</td>\n",
       "      <td>9.5</td>\n",
       "    </tr>\n",
       "    <tr>\n",
       "      <th>35</th>\n",
       "      <td>Biryomumaisho Ignatius</td>\n",
       "      <td>9.5</td>\n",
       "    </tr>\n",
       "    <tr>\n",
       "      <th>36</th>\n",
       "      <td>Jazzmine Evans</td>\n",
       "      <td>9.5</td>\n",
       "    </tr>\n",
       "    <tr>\n",
       "      <th>37</th>\n",
       "      <td>Moses Ocen</td>\n",
       "      <td>9.5</td>\n",
       "    </tr>\n",
       "    <tr>\n",
       "      <th>38</th>\n",
       "      <td>Ivan Byamugisha</td>\n",
       "      <td>9.5</td>\n",
       "    </tr>\n",
       "    <tr>\n",
       "      <th>39</th>\n",
       "      <td>John Baptist Odama</td>\n",
       "      <td>9.5</td>\n",
       "    </tr>\n",
       "    <tr>\n",
       "      <th>40</th>\n",
       "      <td>Kerwin Skinner</td>\n",
       "      <td>9.5</td>\n",
       "    </tr>\n",
       "    <tr>\n",
       "      <th>41</th>\n",
       "      <td>Terance Moore</td>\n",
       "      <td>9.5</td>\n",
       "    </tr>\n",
       "    <tr>\n",
       "      <th>42</th>\n",
       "      <td>George Dawson</td>\n",
       "      <td>9.5</td>\n",
       "    </tr>\n",
       "    <tr>\n",
       "      <th>43</th>\n",
       "      <td>Chandrasekar</td>\n",
       "      <td>9.5</td>\n",
       "    </tr>\n",
       "    <tr>\n",
       "      <th>44</th>\n",
       "      <td>Joe Barrett</td>\n",
       "      <td>9.5</td>\n",
       "    </tr>\n",
       "    <tr>\n",
       "      <th>45</th>\n",
       "      <td>Tom Omoding</td>\n",
       "      <td>9.5</td>\n",
       "    </tr>\n",
       "    <tr>\n",
       "      <th>46</th>\n",
       "      <td>Ken Wayne</td>\n",
       "      <td>9.4</td>\n",
       "    </tr>\n",
       "    <tr>\n",
       "      <th>47</th>\n",
       "      <td>Robin Campos</td>\n",
       "      <td>9.4</td>\n",
       "    </tr>\n",
       "    <tr>\n",
       "      <th>48</th>\n",
       "      <td>Sean Michael Barrett</td>\n",
       "      <td>9.4</td>\n",
       "    </tr>\n",
       "    <tr>\n",
       "      <th>49</th>\n",
       "      <td>Dave Snuggs</td>\n",
       "      <td>9.4</td>\n",
       "    </tr>\n",
       "  </tbody>\n",
       "</table>\n",
       "</div>"
      ],
      "text/plain": [
       "                    Actors  AverageRating\n",
       "0         Ramya Pasupileti           10.0\n",
       "1       Medishetti Abhinav           10.0\n",
       "2       Louie Feher-Peiker           10.0\n",
       "3           Ravi Siva Teja           10.0\n",
       "4            Nahuel Yotich            9.8\n",
       "5         Fabio Rosenstein            9.8\n",
       "6        Leandro Sandonato            9.8\n",
       "7           Patricio Godoy            9.7\n",
       "8              Daniel Amat            9.7\n",
       "9             Angel Zermen            9.7\n",
       "10             Ricky Brava            9.7\n",
       "11             Tim McGrath            9.7\n",
       "12         Avinash Dwivedi            9.7\n",
       "13           Michel Pentón            9.7\n",
       "14       Taylor Van Doorne            9.7\n",
       "15         Giorgio Caoduro            9.6\n",
       "16             Ken Kecevar            9.6\n",
       "17       Michael Micalizzi            9.6\n",
       "18              Jimmy Chen            9.6\n",
       "19        Marcello Mariani            9.6\n",
       "20        Mudibu Bisengeta            9.6\n",
       "21   Hercules Nikolopoulos            9.6\n",
       "22     Alessandro Corbelli            9.6\n",
       "23         Apolina Mbilizi            9.6\n",
       "24           Jerry Marsini            9.6\n",
       "25               Aarumugam            9.6\n",
       "26            Ramón Vargas            9.6\n",
       "27          Francis Fenner            9.6\n",
       "28           Charlie Dyson            9.6\n",
       "29             Walter Eddy            9.6\n",
       "30         Lumière Mbilizi            9.6\n",
       "31              Amule Amin            9.5\n",
       "32             Kurt Freund            9.5\n",
       "33              Kutti Mani            9.5\n",
       "34            Eshwar Basha            9.5\n",
       "35  Biryomumaisho Ignatius            9.5\n",
       "36          Jazzmine Evans            9.5\n",
       "37              Moses Ocen            9.5\n",
       "38         Ivan Byamugisha            9.5\n",
       "39      John Baptist Odama            9.5\n",
       "40          Kerwin Skinner            9.5\n",
       "41           Terance Moore            9.5\n",
       "42           George Dawson            9.5\n",
       "43            Chandrasekar            9.5\n",
       "44             Joe Barrett            9.5\n",
       "45             Tom Omoding            9.5\n",
       "46               Ken Wayne            9.4\n",
       "47            Robin Campos            9.4\n",
       "48    Sean Michael Barrett            9.4\n",
       "49             Dave Snuggs            9.4"
      ]
     },
     "execution_count": 86,
     "metadata": {},
     "output_type": "execute_result"
    }
   ],
   "source": [
    "actor_avgrating.sort_values('AverageRating',ascending=False,inplace=True)\n",
    "actor_avgrating.head(50).reset_index(drop=True)"
   ]
  },
  {
   "cell_type": "markdown",
   "metadata": {
    "id": "Iet92WkeN99Q"
   },
   "source": [
    "Director"
   ]
  },
  {
   "cell_type": "markdown",
   "metadata": {
    "id": "bfjIZdb6ODCs"
   },
   "source": [
    "Different directors and total count of movies"
   ]
  },
  {
   "cell_type": "code",
   "execution_count": null,
   "metadata": {
    "id": "Hbe3cMVOODCs"
   },
   "outputs": [],
   "source": [
    "l=df_US['Director']\n",
    "directorlist=[]\n",
    "for x in l:\n",
    "   for y in (x.split(', ')):\n",
    "            directorlist.append(y)"
   ]
  },
  {
   "cell_type": "code",
   "execution_count": null,
   "metadata": {
    "colab": {
     "base_uri": "https://localhost:8080/"
    },
    "executionInfo": {
     "elapsed": 41913,
     "status": "ok",
     "timestamp": 1636813936865,
     "user": {
      "displayName": "dm project",
      "photoUrl": "https://lh3.googleusercontent.com/a/default-user=s64",
      "userId": "10716541108022634460"
     },
     "user_tz": -330
    },
    "id": "4Grz7SRyODCt",
    "outputId": "9eb54305-11c4-40a4-b8c7-572223e7ce60"
   },
   "outputs": [
    {
     "name": "stdout",
     "output_type": "stream",
     "text": [
      "The number of directors are:47118\n"
     ]
    }
   ],
   "source": [
    "uniquedirectors=[]\n",
    "for x in directorlist:\n",
    "  if x not in uniquedirectors:\n",
    "     uniquedirectors.append(x)\n",
    "print(\"The number of directors is:%d\"%len(uniquedirectors))    "
   ]
  },
  {
   "cell_type": "code",
   "execution_count": null,
   "metadata": {
    "id": "A5JGYNHSODCt"
   },
   "outputs": [],
   "source": [
    "from collections import Counter\n",
    "c=Counter(directorlist)"
   ]
  },
  {
   "cell_type": "markdown",
   "metadata": {
    "id": "5T8QTthoFgce"
   },
   "source": [
    "Top 6 directors with most number of movies"
   ]
  },
  {
   "cell_type": "code",
   "execution_count": null,
   "metadata": {
    "colab": {
     "base_uri": "https://localhost:8080/"
    },
    "executionInfo": {
     "elapsed": 28,
     "status": "ok",
     "timestamp": 1636813936870,
     "user": {
      "displayName": "dm project",
      "photoUrl": "https://lh3.googleusercontent.com/a/default-user=s64",
      "userId": "10716541108022634460"
     },
     "user_tz": -330
    },
    "id": "nXyQ9r6FFgce",
    "outputId": "84a19788-c7a1-4d55-eeea-75c526fd60d2"
   },
   "outputs": [
    {
     "data": {
      "text/plain": [
       "{'John Ford': 162,\n",
       " 'Lew Landers': 160,\n",
       " 'Michael Curtiz': 170,\n",
       " 'Richard Thorpe': 165,\n",
       " 'Sam Newfield': 279,\n",
       " 'William Beaudine': 186}"
      ]
     },
     "execution_count": 51,
     "metadata": {},
     "output_type": "execute_result"
    }
   ],
   "source": [
    "c=c.most_common(6)\n",
    "moviecount={}\n",
    "for x in c:\n",
    "    key=x[0]\n",
    "    moviecount[key]=x[1]\n",
    "moviecount"
   ]
  },
  {
   "cell_type": "code",
   "execution_count": null,
   "metadata": {
    "colab": {
     "base_uri": "https://localhost:8080/",
     "height": 320
    },
    "executionInfo": {
     "elapsed": 22,
     "status": "ok",
     "timestamp": 1636813936872,
     "user": {
      "displayName": "dm project",
      "photoUrl": "https://lh3.googleusercontent.com/a/default-user=s64",
      "userId": "10716541108022634460"
     },
     "user_tz": -330
    },
    "id": "21YCL44AFgcf",
    "outputId": "095c959a-139f-4c62-8c9e-e81259188081"
   },
   "outputs": [
    {
     "data": {
      "image/png": "[encoded data removed]",
      "text/plain": [
       "<Figure size 720x360 with 1 Axes>"
      ]
     },
     "metadata": {
      "needs_background": "light"
     },
     "output_type": "display_data"
    }
   ],
   "source": [
    "fig,x=plt.subplots(figsize=(10,5))\n",
    "plt.bar(*zip(*moviecount.items()))\n",
    "plt.show()"
   ]
  },
  {
   "cell_type": "markdown",
   "metadata": {
    "id": "_Vbo1naNODCt"
   },
   "source": [
    "Average rating for each director"
   ]
  },
  {
   "cell_type": "code",
   "execution_count": null,
   "metadata": {
    "id": "lNL6B7gCODCu"
   },
   "outputs": [],
   "source": [
    "avgrating=[]\n",
    "for x in uniquedirectors:\n",
    "      avgrating.append(df_US[df_US['Director'].str.contains(x)].averageRating.mean())"
   ]
  },
  {
   "cell_type": "code",
   "execution_count": null,
   "metadata": {
    "id": "nN4lYIW4ODCu"
   },
   "outputs": [],
   "source": [
    "director_avgrating = pd.DataFrame(zip(uniquedirectors,avgrating), columns =['Directors','AverageRating'])\n",
    "director_avgrating.sort_values('AverageRating',ascending=False,inplace=True)\n"
   ]
  },
  {
   "cell_type": "code",
   "execution_count": null,
   "metadata": {
    "colab": {
     "base_uri": "https://localhost:8080/",
     "height": 1000
    },
    "executionInfo": {
     "elapsed": 609,
     "status": "ok",
     "timestamp": 1636820999461,
     "user": {
      "displayName": "dm project",
      "photoUrl": "https://lh3.googleusercontent.com/a/default-user=s64",
      "userId": "10716541108022634460"
     },
     "user_tz": -330
    },
    "id": "ZKWqavDCODCu",
    "outputId": "64fd2e8c-a9f2-4101-b253-b30ce83c53a5"
   },
   "outputs": [
    {
     "data": {
      "text/html": [
       "<div>\n",
       "<style scoped>\n",
       "    .dataframe tbody tr th:only-of-type {\n",
       "        vertical-align: middle;\n",
       "    }\n",
       "\n",
       "    .dataframe tbody tr th {\n",
       "        vertical-align: top;\n",
       "    }\n",
       "\n",
       "    .dataframe thead th {\n",
       "        text-align: right;\n",
       "    }\n",
       "</style>\n",
       "<table border=\"1\" class=\"dataframe\">\n",
       "  <thead>\n",
       "    <tr style=\"text-align: right;\">\n",
       "      <th></th>\n",
       "      <th>Directors</th>\n",
       "      <th>AverageRating</th>\n",
       "    </tr>\n",
       "  </thead>\n",
       "  <tbody>\n",
       "    <tr>\n",
       "      <th>0</th>\n",
       "      <td>Kayyam Upendra Kumar Nandhan</td>\n",
       "      <td>10.0</td>\n",
       "    </tr>\n",
       "    <tr>\n",
       "      <th>1</th>\n",
       "      <td>Gabriel Musco</td>\n",
       "      <td>9.8</td>\n",
       "    </tr>\n",
       "    <tr>\n",
       "      <th>2</th>\n",
       "      <td>Randall Gifford</td>\n",
       "      <td>9.7</td>\n",
       "    </tr>\n",
       "    <tr>\n",
       "      <th>3</th>\n",
       "      <td>Dornycya Suggs</td>\n",
       "      <td>9.7</td>\n",
       "    </tr>\n",
       "    <tr>\n",
       "      <th>4</th>\n",
       "      <td>Emilio Vega</td>\n",
       "      <td>9.7</td>\n",
       "    </tr>\n",
       "    <tr>\n",
       "      <th>5</th>\n",
       "      <td>Luke A. Renner</td>\n",
       "      <td>9.7</td>\n",
       "    </tr>\n",
       "    <tr>\n",
       "      <th>6</th>\n",
       "      <td>Edouard Salier</td>\n",
       "      <td>9.7</td>\n",
       "    </tr>\n",
       "    <tr>\n",
       "      <th>7</th>\n",
       "      <td>Wmm Record</td>\n",
       "      <td>9.6</td>\n",
       "    </tr>\n",
       "    <tr>\n",
       "      <th>8</th>\n",
       "      <td>Wendo Musaly</td>\n",
       "      <td>9.6</td>\n",
       "    </tr>\n",
       "    <tr>\n",
       "      <th>9</th>\n",
       "      <td>Carla Ricci</td>\n",
       "      <td>9.6</td>\n",
       "    </tr>\n",
       "    <tr>\n",
       "      <th>10</th>\n",
       "      <td>Wendo Mbilizi</td>\n",
       "      <td>9.6</td>\n",
       "    </tr>\n",
       "    <tr>\n",
       "      <th>11</th>\n",
       "      <td>Sandy Jimenez</td>\n",
       "      <td>9.6</td>\n",
       "    </tr>\n",
       "    <tr>\n",
       "      <th>12</th>\n",
       "      <td>Mary Lance</td>\n",
       "      <td>9.5</td>\n",
       "    </tr>\n",
       "    <tr>\n",
       "      <th>13</th>\n",
       "      <td>Kittu</td>\n",
       "      <td>9.5</td>\n",
       "    </tr>\n",
       "    <tr>\n",
       "      <th>14</th>\n",
       "      <td>Dominique Whittaker</td>\n",
       "      <td>9.5</td>\n",
       "    </tr>\n",
       "    <tr>\n",
       "      <th>15</th>\n",
       "      <td>Revanth Korukonda</td>\n",
       "      <td>9.5</td>\n",
       "    </tr>\n",
       "    <tr>\n",
       "      <th>16</th>\n",
       "      <td>Eva Zelig</td>\n",
       "      <td>9.5</td>\n",
       "    </tr>\n",
       "    <tr>\n",
       "      <th>17</th>\n",
       "      <td>Sam Bhattacharjee</td>\n",
       "      <td>9.5</td>\n",
       "    </tr>\n",
       "    <tr>\n",
       "      <th>18</th>\n",
       "      <td>Ntare Guma Mbaho Mwine</td>\n",
       "      <td>9.5</td>\n",
       "    </tr>\n",
       "    <tr>\n",
       "      <th>19</th>\n",
       "      <td>Ryan Collins</td>\n",
       "      <td>9.4</td>\n",
       "    </tr>\n",
       "    <tr>\n",
       "      <th>20</th>\n",
       "      <td>E. Sathi Babu</td>\n",
       "      <td>9.4</td>\n",
       "    </tr>\n",
       "    <tr>\n",
       "      <th>21</th>\n",
       "      <td>Stephen Dassatti</td>\n",
       "      <td>9.4</td>\n",
       "    </tr>\n",
       "    <tr>\n",
       "      <th>22</th>\n",
       "      <td>Michele Hawkins Jones</td>\n",
       "      <td>9.4</td>\n",
       "    </tr>\n",
       "    <tr>\n",
       "      <th>23</th>\n",
       "      <td>Alan M. Blassberg</td>\n",
       "      <td>9.4</td>\n",
       "    </tr>\n",
       "    <tr>\n",
       "      <th>24</th>\n",
       "      <td>Ranjith Joseph</td>\n",
       "      <td>9.4</td>\n",
       "    </tr>\n",
       "    <tr>\n",
       "      <th>25</th>\n",
       "      <td>C.C. Charlier</td>\n",
       "      <td>9.4</td>\n",
       "    </tr>\n",
       "    <tr>\n",
       "      <th>26</th>\n",
       "      <td>Calvin Simmons</td>\n",
       "      <td>9.4</td>\n",
       "    </tr>\n",
       "    <tr>\n",
       "      <th>27</th>\n",
       "      <td>Luca Ammendola</td>\n",
       "      <td>9.4</td>\n",
       "    </tr>\n",
       "    <tr>\n",
       "      <th>28</th>\n",
       "      <td>Giovanni Iacobucci</td>\n",
       "      <td>9.4</td>\n",
       "    </tr>\n",
       "    <tr>\n",
       "      <th>29</th>\n",
       "      <td>Matt McClelland</td>\n",
       "      <td>9.3</td>\n",
       "    </tr>\n",
       "    <tr>\n",
       "      <th>30</th>\n",
       "      <td>Aby Rao</td>\n",
       "      <td>9.3</td>\n",
       "    </tr>\n",
       "    <tr>\n",
       "      <th>31</th>\n",
       "      <td>Jennifer Kramer</td>\n",
       "      <td>9.3</td>\n",
       "    </tr>\n",
       "    <tr>\n",
       "      <th>32</th>\n",
       "      <td>David DuBos</td>\n",
       "      <td>9.3</td>\n",
       "    </tr>\n",
       "    <tr>\n",
       "      <th>33</th>\n",
       "      <td>Craig Ouellette</td>\n",
       "      <td>9.3</td>\n",
       "    </tr>\n",
       "    <tr>\n",
       "      <th>34</th>\n",
       "      <td>Tracy Robinson</td>\n",
       "      <td>9.3</td>\n",
       "    </tr>\n",
       "    <tr>\n",
       "      <th>35</th>\n",
       "      <td>William Napier</td>\n",
       "      <td>9.3</td>\n",
       "    </tr>\n",
       "    <tr>\n",
       "      <th>36</th>\n",
       "      <td>Mitzi Kapture</td>\n",
       "      <td>9.3</td>\n",
       "    </tr>\n",
       "    <tr>\n",
       "      <th>37</th>\n",
       "      <td>Ramon R.L. Terry</td>\n",
       "      <td>9.3</td>\n",
       "    </tr>\n",
       "    <tr>\n",
       "      <th>38</th>\n",
       "      <td>James A. Sinclair</td>\n",
       "      <td>9.3</td>\n",
       "    </tr>\n",
       "    <tr>\n",
       "      <th>39</th>\n",
       "      <td>Justin Kueber</td>\n",
       "      <td>9.3</td>\n",
       "    </tr>\n",
       "    <tr>\n",
       "      <th>40</th>\n",
       "      <td>Felicia Giouzelis</td>\n",
       "      <td>9.3</td>\n",
       "    </tr>\n",
       "    <tr>\n",
       "      <th>41</th>\n",
       "      <td>Baomin Wang</td>\n",
       "      <td>9.3</td>\n",
       "    </tr>\n",
       "    <tr>\n",
       "      <th>42</th>\n",
       "      <td>Ali Barati</td>\n",
       "      <td>9.3</td>\n",
       "    </tr>\n",
       "    <tr>\n",
       "      <th>43</th>\n",
       "      <td>Kenneth Shapiro</td>\n",
       "      <td>9.3</td>\n",
       "    </tr>\n",
       "    <tr>\n",
       "      <th>44</th>\n",
       "      <td>Brian Douglas</td>\n",
       "      <td>9.3</td>\n",
       "    </tr>\n",
       "    <tr>\n",
       "      <th>45</th>\n",
       "      <td>Chris X</td>\n",
       "      <td>9.2</td>\n",
       "    </tr>\n",
       "    <tr>\n",
       "      <th>46</th>\n",
       "      <td>Niav Conty</td>\n",
       "      <td>9.2</td>\n",
       "    </tr>\n",
       "    <tr>\n",
       "      <th>47</th>\n",
       "      <td>Daniel Di Vincenzo</td>\n",
       "      <td>9.2</td>\n",
       "    </tr>\n",
       "    <tr>\n",
       "      <th>48</th>\n",
       "      <td>Kirk Woodward Nelson</td>\n",
       "      <td>9.2</td>\n",
       "    </tr>\n",
       "    <tr>\n",
       "      <th>49</th>\n",
       "      <td>Jo-sei Ikeda</td>\n",
       "      <td>9.2</td>\n",
       "    </tr>\n",
       "  </tbody>\n",
       "</table>\n",
       "</div>"
      ],
      "text/plain": [
       "                       Directors  AverageRating\n",
       "0   Kayyam Upendra Kumar Nandhan           10.0\n",
       "1                  Gabriel Musco            9.8\n",
       "2                Randall Gifford            9.7\n",
       "3                 Dornycya Suggs            9.7\n",
       "4                    Emilio Vega            9.7\n",
       "5                 Luke A. Renner            9.7\n",
       "6                 Edouard Salier            9.7\n",
       "7                     Wmm Record            9.6\n",
       "8                   Wendo Musaly            9.6\n",
       "9                    Carla Ricci            9.6\n",
       "10                 Wendo Mbilizi            9.6\n",
       "11                 Sandy Jimenez            9.6\n",
       "12                    Mary Lance            9.5\n",
       "13                         Kittu            9.5\n",
       "14           Dominique Whittaker            9.5\n",
       "15             Revanth Korukonda            9.5\n",
       "16                     Eva Zelig            9.5\n",
       "17             Sam Bhattacharjee            9.5\n",
       "18        Ntare Guma Mbaho Mwine            9.5\n",
       "19                  Ryan Collins            9.4\n",
       "20                 E. Sathi Babu            9.4\n",
       "21              Stephen Dassatti            9.4\n",
       "22         Michele Hawkins Jones            9.4\n",
       "23             Alan M. Blassberg            9.4\n",
       "24                Ranjith Joseph            9.4\n",
       "25                 C.C. Charlier            9.4\n",
       "26                Calvin Simmons            9.4\n",
       "27                Luca Ammendola            9.4\n",
       "28            Giovanni Iacobucci            9.4\n",
       "29               Matt McClelland            9.3\n",
       "30                       Aby Rao            9.3\n",
       "31               Jennifer Kramer            9.3\n",
       "32                   David DuBos            9.3\n",
       "33               Craig Ouellette            9.3\n",
       "34                Tracy Robinson            9.3\n",
       "35                William Napier            9.3\n",
       "36                 Mitzi Kapture            9.3\n",
       "37              Ramon R.L. Terry            9.3\n",
       "38             James A. Sinclair            9.3\n",
       "39                 Justin Kueber            9.3\n",
       "40             Felicia Giouzelis            9.3\n",
       "41                   Baomin Wang            9.3\n",
       "42                    Ali Barati            9.3\n",
       "43               Kenneth Shapiro            9.3\n",
       "44                 Brian Douglas            9.3\n",
       "45                       Chris X            9.2\n",
       "46                    Niav Conty            9.2\n",
       "47            Daniel Di Vincenzo            9.2\n",
       "48          Kirk Woodward Nelson            9.2\n",
       "49                  Jo-sei Ikeda            9.2"
      ]
     },
     "execution_count": 85,
     "metadata": {},
     "output_type": "execute_result"
    }
   ],
   "source": [
    "director_avgrating.sort_values('AverageRating',ascending=False,inplace=True)\n",
    "director_avgrating.head(50).reset_index(drop=True)"
   ]
  },
  {
   "cell_type": "markdown",
   "metadata": {
    "id": "Si3JqSg8liXW"
   },
   "source": [
    "Actress"
   ]
  },
  {
   "cell_type": "markdown",
   "metadata": {
    "id": "eTT_np9ClrR1"
   },
   "source": [
    "Different actress and total count of movies"
   ]
  },
  {
   "cell_type": "code",
   "execution_count": null,
   "metadata": {
    "id": "bk_F5zEolrR2"
   },
   "outputs": [],
   "source": [
    "l=df_US['Actress']\n",
    "actresslist=[]\n",
    "for x in l:\n",
    "   for y in (x.split(', ')):\n",
    "           actresslist.append(y)"
   ]
  },
  {
   "cell_type": "code",
   "execution_count": null,
   "metadata": {
    "colab": {
     "base_uri": "https://localhost:8080/"
    },
    "executionInfo": {
     "elapsed": 117618,
     "status": "ok",
     "timestamp": 1636816371945,
     "user": {
      "displayName": "dm project",
      "photoUrl": "https://lh3.googleusercontent.com/a/default-user=s64",
      "userId": "10716541108022634460"
     },
     "user_tz": -330
    },
    "id": "zQsdAmGdlrR3",
    "outputId": "ba5eda18-870e-4316-e14c-d4eb3dcc147f"
   },
   "outputs": [
    {
     "name": "stdout",
     "output_type": "stream",
     "text": [
      "The number of actress is:78699\n"
     ]
    }
   ],
   "source": [
    "uniqueactress=[]\n",
    "for x in actresslist:\n",
    "  if x not in uniqueactress:\n",
    "     uniqueactress.append(x)\n",
    "print(\"The number of actress is:%d\"%len(uniqueactress))    "
   ]
  },
  {
   "cell_type": "code",
   "execution_count": null,
   "metadata": {
    "id": "BajkJPgMlrR3"
   },
   "outputs": [],
   "source": [
    "from collections import Counter\n",
    "c=Counter(actresslist)"
   ]
  },
  {
   "cell_type": "markdown",
   "metadata": {
    "id": "9c2Kj7DJFgcg"
   },
   "source": [
    "Top 6 actress with most number of movies"
   ]
  },
  {
   "cell_type": "code",
   "execution_count": null,
   "metadata": {
    "colab": {
     "base_uri": "https://localhost:8080/"
    },
    "executionInfo": {
     "elapsed": 29,
     "status": "ok",
     "timestamp": 1636816371947,
     "user": {
      "displayName": "dm project",
      "photoUrl": "https://lh3.googleusercontent.com/a/default-user=s64",
      "userId": "10716541108022634460"
     },
     "user_tz": -330
    },
    "id": "Xny8hvBWFgcg",
    "outputId": "fa94cb7b-9877-4131-bbd8-cb75e2969a92"
   },
   "outputs": [
    {
     "data": {
      "text/plain": [
       "{'Barbara Stanwyck': 132,\n",
       " 'Bette Davis': 147,\n",
       " 'Joan Blondell': 114,\n",
       " 'Joan Crawford': 114,\n",
       " 'Loretta Young': 114,\n",
       " 'Zasu Pitts': 125}"
      ]
     },
     "execution_count": 60,
     "metadata": {},
     "output_type": "execute_result"
    }
   ],
   "source": [
    "c=c.most_common(6)\n",
    "moviecount={}\n",
    "for x in c:\n",
    "    key=x[0]\n",
    "    moviecount[key]=x[1]\n",
    "moviecount"
   ]
  },
  {
   "cell_type": "code",
   "execution_count": null,
   "metadata": {
    "colab": {
     "base_uri": "https://localhost:8080/",
     "height": 320
    },
    "executionInfo": {
     "elapsed": 21,
     "status": "ok",
     "timestamp": 1636816371947,
     "user": {
      "displayName": "dm project",
      "photoUrl": "https://lh3.googleusercontent.com/a/default-user=s64",
      "userId": "10716541108022634460"
     },
     "user_tz": -330
    },
    "id": "9-8_2e_iFgch",
    "outputId": "e0849b0d-9e0b-4e3b-f489-0874fdbeb7e5"
   },
   "outputs": [
    {
     "data": {
      "image/png": "[encoded data removed]",
      "text/plain": [
       "<Figure size 720x360 with 1 Axes>"
      ]
     },
     "metadata": {
      "needs_background": "light"
     },
     "output_type": "display_data"
    }
   ],
   "source": [
    "fig,x=plt.subplots(figsize=(10,5))\n",
    "plt.bar(*zip(*moviecount.items()))\n",
    "plt.show()"
   ]
  },
  {
   "cell_type": "markdown",
   "metadata": {
    "id": "qLEdApR9lrR4"
   },
   "source": [
    "Average rating for each actress"
   ]
  },
  {
   "cell_type": "code",
   "execution_count": null,
   "metadata": {
    "id": "meZ-KR9KlrR4"
   },
   "outputs": [],
   "source": [
    "avgrating=[]\n",
    "for x in uniqueactress:\n",
    "      avgrating.append(df_US[df_US['Actress'].str.contains(x)].averageRating.mean())"
   ]
  },
  {
   "cell_type": "code",
   "execution_count": null,
   "metadata": {
    "id": "dIlpYQk4lrR4"
   },
   "outputs": [],
   "source": [
    "actress_avgrating = pd.DataFrame(zip(uniqueactress,avgrating), columns =['Actress','AverageRating'])\n",
    "actress_avgrating.sort_values('AverageRating',ascending=False,inplace=True)"
   ]
  },
  {
   "cell_type": "code",
   "execution_count": null,
   "metadata": {
    "colab": {
     "base_uri": "https://localhost:8080/",
     "height": 1000
    },
    "executionInfo": {
     "elapsed": 7,
     "status": "ok",
     "timestamp": 1636820968222,
     "user": {
      "displayName": "dm project",
      "photoUrl": "https://lh3.googleusercontent.com/a/default-user=s64",
      "userId": "10716541108022634460"
     },
     "user_tz": -330
    },
    "id": "jqxADSAylrR5",
    "outputId": "67048914-7e2a-45cf-9ee3-1958f05ec1a6"
   },
   "outputs": [
    {
     "data": {
      "text/html": [
       "<div>\n",
       "<style scoped>\n",
       "    .dataframe tbody tr th:only-of-type {\n",
       "        vertical-align: middle;\n",
       "    }\n",
       "\n",
       "    .dataframe tbody tr th {\n",
       "        vertical-align: top;\n",
       "    }\n",
       "\n",
       "    .dataframe thead th {\n",
       "        text-align: right;\n",
       "    }\n",
       "</style>\n",
       "<table border=\"1\" class=\"dataframe\">\n",
       "  <thead>\n",
       "    <tr style=\"text-align: right;\">\n",
       "      <th></th>\n",
       "      <th>Actress</th>\n",
       "      <th>AverageRating</th>\n",
       "    </tr>\n",
       "  </thead>\n",
       "  <tbody>\n",
       "    <tr>\n",
       "      <th>0</th>\n",
       "      <td>Vismaya Sri</td>\n",
       "      <td>10.0</td>\n",
       "    </tr>\n",
       "    <tr>\n",
       "      <th>1</th>\n",
       "      <td>Yung Te Wang Angelica</td>\n",
       "      <td>10.0</td>\n",
       "    </tr>\n",
       "    <tr>\n",
       "      <th>2</th>\n",
       "      <td>Rosalba Costillo</td>\n",
       "      <td>10.0</td>\n",
       "    </tr>\n",
       "    <tr>\n",
       "      <th>3</th>\n",
       "      <td>Grace Ulloa</td>\n",
       "      <td>9.8</td>\n",
       "    </tr>\n",
       "    <tr>\n",
       "      <th>4</th>\n",
       "      <td>Kasturi Chakraborty</td>\n",
       "      <td>9.7</td>\n",
       "    </tr>\n",
       "    <tr>\n",
       "      <th>5</th>\n",
       "      <td>Rosebud Baker</td>\n",
       "      <td>9.7</td>\n",
       "    </tr>\n",
       "    <tr>\n",
       "      <th>6</th>\n",
       "      <td>Mabel Heredia</td>\n",
       "      <td>9.7</td>\n",
       "    </tr>\n",
       "    <tr>\n",
       "      <th>7</th>\n",
       "      <td>BernNadette Stanis</td>\n",
       "      <td>9.7</td>\n",
       "    </tr>\n",
       "    <tr>\n",
       "      <th>8</th>\n",
       "      <td>Sangita Sinha</td>\n",
       "      <td>9.7</td>\n",
       "    </tr>\n",
       "    <tr>\n",
       "      <th>9</th>\n",
       "      <td>Rika Harrison</td>\n",
       "      <td>9.7</td>\n",
       "    </tr>\n",
       "    <tr>\n",
       "      <th>10</th>\n",
       "      <td>Mary E. Fry</td>\n",
       "      <td>9.7</td>\n",
       "    </tr>\n",
       "    <tr>\n",
       "      <th>11</th>\n",
       "      <td>Pilar Garcia</td>\n",
       "      <td>9.7</td>\n",
       "    </tr>\n",
       "    <tr>\n",
       "      <th>12</th>\n",
       "      <td>Marina Blumenthal</td>\n",
       "      <td>9.7</td>\n",
       "    </tr>\n",
       "    <tr>\n",
       "      <th>13</th>\n",
       "      <td>Tosha Thompson</td>\n",
       "      <td>9.7</td>\n",
       "    </tr>\n",
       "    <tr>\n",
       "      <th>14</th>\n",
       "      <td>Molly Alvarez</td>\n",
       "      <td>9.7</td>\n",
       "    </tr>\n",
       "    <tr>\n",
       "      <th>15</th>\n",
       "      <td>Ana Blake</td>\n",
       "      <td>9.7</td>\n",
       "    </tr>\n",
       "    <tr>\n",
       "      <th>16</th>\n",
       "      <td>Rachel Sara Keimach</td>\n",
       "      <td>9.6</td>\n",
       "    </tr>\n",
       "    <tr>\n",
       "      <th>17</th>\n",
       "      <td>Esther Grimes</td>\n",
       "      <td>9.6</td>\n",
       "    </tr>\n",
       "    <tr>\n",
       "      <th>18</th>\n",
       "      <td>Salama Mbilizi</td>\n",
       "      <td>9.6</td>\n",
       "    </tr>\n",
       "    <tr>\n",
       "      <th>19</th>\n",
       "      <td>Ydalie Turk</td>\n",
       "      <td>9.6</td>\n",
       "    </tr>\n",
       "    <tr>\n",
       "      <th>20</th>\n",
       "      <td>Inva Mula</td>\n",
       "      <td>9.6</td>\n",
       "    </tr>\n",
       "    <tr>\n",
       "      <th>21</th>\n",
       "      <td>Jessica Ghitis</td>\n",
       "      <td>9.6</td>\n",
       "    </tr>\n",
       "    <tr>\n",
       "      <th>22</th>\n",
       "      <td>Ji Young Yang</td>\n",
       "      <td>9.6</td>\n",
       "    </tr>\n",
       "    <tr>\n",
       "      <th>23</th>\n",
       "      <td>Nikia Briggs Kia B</td>\n",
       "      <td>9.5</td>\n",
       "    </tr>\n",
       "    <tr>\n",
       "      <th>24</th>\n",
       "      <td>Lizzie Antony</td>\n",
       "      <td>9.5</td>\n",
       "    </tr>\n",
       "    <tr>\n",
       "      <th>25</th>\n",
       "      <td>Florence Mahoro</td>\n",
       "      <td>9.5</td>\n",
       "    </tr>\n",
       "    <tr>\n",
       "      <th>26</th>\n",
       "      <td>Anne Anker</td>\n",
       "      <td>9.5</td>\n",
       "    </tr>\n",
       "    <tr>\n",
       "      <th>27</th>\n",
       "      <td>Sandhya Raju</td>\n",
       "      <td>9.5</td>\n",
       "    </tr>\n",
       "    <tr>\n",
       "      <th>28</th>\n",
       "      <td>Romina Hyland</td>\n",
       "      <td>9.4</td>\n",
       "    </tr>\n",
       "    <tr>\n",
       "      <th>29</th>\n",
       "      <td>Katelyn Ann Clark</td>\n",
       "      <td>9.4</td>\n",
       "    </tr>\n",
       "    <tr>\n",
       "      <th>30</th>\n",
       "      <td>Anita Alexander</td>\n",
       "      <td>9.4</td>\n",
       "    </tr>\n",
       "    <tr>\n",
       "      <th>31</th>\n",
       "      <td>Maureen Lanagan</td>\n",
       "      <td>9.4</td>\n",
       "    </tr>\n",
       "    <tr>\n",
       "      <th>32</th>\n",
       "      <td>Jéssica Córes</td>\n",
       "      <td>9.4</td>\n",
       "    </tr>\n",
       "    <tr>\n",
       "      <th>33</th>\n",
       "      <td>Mathumathi</td>\n",
       "      <td>9.4</td>\n",
       "    </tr>\n",
       "    <tr>\n",
       "      <th>34</th>\n",
       "      <td>Valerie Alexander</td>\n",
       "      <td>9.4</td>\n",
       "    </tr>\n",
       "    <tr>\n",
       "      <th>35</th>\n",
       "      <td>Dre Swain</td>\n",
       "      <td>9.4</td>\n",
       "    </tr>\n",
       "    <tr>\n",
       "      <th>36</th>\n",
       "      <td>Leelawathy</td>\n",
       "      <td>9.4</td>\n",
       "    </tr>\n",
       "    <tr>\n",
       "      <th>37</th>\n",
       "      <td>Gabriella Becki</td>\n",
       "      <td>9.4</td>\n",
       "    </tr>\n",
       "    <tr>\n",
       "      <th>38</th>\n",
       "      <td>Emily Whitman</td>\n",
       "      <td>9.4</td>\n",
       "    </tr>\n",
       "    <tr>\n",
       "      <th>39</th>\n",
       "      <td>Sandra Belforte</td>\n",
       "      <td>9.4</td>\n",
       "    </tr>\n",
       "    <tr>\n",
       "      <th>40</th>\n",
       "      <td>Danielle Adisi</td>\n",
       "      <td>9.4</td>\n",
       "    </tr>\n",
       "    <tr>\n",
       "      <th>41</th>\n",
       "      <td>Qian Sun</td>\n",
       "      <td>9.3</td>\n",
       "    </tr>\n",
       "    <tr>\n",
       "      <th>42</th>\n",
       "      <td>Mariana Arôxa</td>\n",
       "      <td>9.3</td>\n",
       "    </tr>\n",
       "    <tr>\n",
       "      <th>43</th>\n",
       "      <td>Logan Johnson</td>\n",
       "      <td>9.3</td>\n",
       "    </tr>\n",
       "    <tr>\n",
       "      <th>44</th>\n",
       "      <td>Karen L. Walker Cohn</td>\n",
       "      <td>9.3</td>\n",
       "    </tr>\n",
       "    <tr>\n",
       "      <th>45</th>\n",
       "      <td>Toni-Lynn Frederick</td>\n",
       "      <td>9.3</td>\n",
       "    </tr>\n",
       "    <tr>\n",
       "      <th>46</th>\n",
       "      <td>Vanessa Morales</td>\n",
       "      <td>9.3</td>\n",
       "    </tr>\n",
       "    <tr>\n",
       "      <th>47</th>\n",
       "      <td>Makenzie Lee-Foster</td>\n",
       "      <td>9.3</td>\n",
       "    </tr>\n",
       "    <tr>\n",
       "      <th>48</th>\n",
       "      <td>Yingying Wu</td>\n",
       "      <td>9.3</td>\n",
       "    </tr>\n",
       "    <tr>\n",
       "      <th>49</th>\n",
       "      <td>Donyale Hale</td>\n",
       "      <td>9.3</td>\n",
       "    </tr>\n",
       "  </tbody>\n",
       "</table>\n",
       "</div>"
      ],
      "text/plain": [
       "                  Actress  AverageRating\n",
       "0             Vismaya Sri           10.0\n",
       "1   Yung Te Wang Angelica           10.0\n",
       "2        Rosalba Costillo           10.0\n",
       "3             Grace Ulloa            9.8\n",
       "4     Kasturi Chakraborty            9.7\n",
       "5           Rosebud Baker            9.7\n",
       "6           Mabel Heredia            9.7\n",
       "7      BernNadette Stanis            9.7\n",
       "8           Sangita Sinha            9.7\n",
       "9           Rika Harrison            9.7\n",
       "10            Mary E. Fry            9.7\n",
       "11           Pilar Garcia            9.7\n",
       "12      Marina Blumenthal            9.7\n",
       "13         Tosha Thompson            9.7\n",
       "14          Molly Alvarez            9.7\n",
       "15              Ana Blake            9.7\n",
       "16    Rachel Sara Keimach            9.6\n",
       "17          Esther Grimes            9.6\n",
       "18         Salama Mbilizi            9.6\n",
       "19            Ydalie Turk            9.6\n",
       "20              Inva Mula            9.6\n",
       "21         Jessica Ghitis            9.6\n",
       "22          Ji Young Yang            9.6\n",
       "23     Nikia Briggs Kia B            9.5\n",
       "24          Lizzie Antony            9.5\n",
       "25        Florence Mahoro            9.5\n",
       "26             Anne Anker            9.5\n",
       "27           Sandhya Raju            9.5\n",
       "28          Romina Hyland            9.4\n",
       "29      Katelyn Ann Clark            9.4\n",
       "30        Anita Alexander            9.4\n",
       "31        Maureen Lanagan            9.4\n",
       "32          Jéssica Córes            9.4\n",
       "33             Mathumathi            9.4\n",
       "34      Valerie Alexander            9.4\n",
       "35              Dre Swain            9.4\n",
       "36             Leelawathy            9.4\n",
       "37        Gabriella Becki            9.4\n",
       "38          Emily Whitman            9.4\n",
       "39        Sandra Belforte            9.4\n",
       "40         Danielle Adisi            9.4\n",
       "41               Qian Sun            9.3\n",
       "42          Mariana Arôxa            9.3\n",
       "43          Logan Johnson            9.3\n",
       "44   Karen L. Walker Cohn            9.3\n",
       "45    Toni-Lynn Frederick            9.3\n",
       "46        Vanessa Morales            9.3\n",
       "47    Makenzie Lee-Foster            9.3\n",
       "48            Yingying Wu            9.3\n",
       "49           Donyale Hale            9.3"
      ]
     },
     "execution_count": 84,
     "metadata": {},
     "output_type": "execute_result"
    }
   ],
   "source": [
    "actress_avgrating.sort_values('AverageRating',ascending=False,inplace=True)\n",
    "actress_avgrating.head(50).reset_index(drop=True)"
   ]
  },
  {
   "cell_type": "markdown",
   "metadata": {
    "id": "2sghcMGZjwAD"
   },
   "source": [
    "Converting ratings into four categories and finding count of each category\n",
    "\n"
   ]
  },
  {
   "cell_type": "code",
   "execution_count": null,
   "metadata": {
    "id": "zZq_jkRbj7H8"
   },
   "outputs": [],
   "source": [
    "def rating(rating):\n",
    "  if rating >=7.5:\n",
    "    return 'Excellent'\n",
    "  elif rating >=6:\n",
    "    return 'Good'  \n",
    "  elif rating >=4:\n",
    "    return 'Average' \n",
    "  else:\n",
    "    return 'Flop'"
   ]
  },
  {
   "cell_type": "code",
   "execution_count": null,
   "metadata": {
    "id": "06h_ThuEFgci"
   },
   "outputs": [],
   "source": [
    "df_US['Rating']=df_US['averageRating'].apply(rating)"
   ]
  },
  {
   "cell_type": "markdown",
   "metadata": {
    "id": "_2FElbcvFgci"
   },
   "source": [
    "Finding the percentage of movie belonging to each rating category"
   ]
  },
  {
   "cell_type": "code",
   "execution_count": null,
   "metadata": {
    "colab": {
     "base_uri": "https://localhost:8080/",
     "height": 357
    },
    "executionInfo": {
     "elapsed": 15,
     "status": "ok",
     "timestamp": 1636820714474,
     "user": {
      "displayName": "dm project",
      "photoUrl": "https://lh3.googleusercontent.com/a/default-user=s64",
      "userId": "10716541108022634460"
     },
     "user_tz": -330
    },
    "id": "3tJeS74VFgci",
    "outputId": "2f92155b-46f4-4355-a894-b87043a9d8e5"
   },
   "outputs": [
    {
     "data": {
      "image/png": "[encoded data removed]",
      "text/plain": [
       "<Figure size 432x432 with 1 Axes>"
      ]
     },
     "metadata": {},
     "output_type": "display_data"
    }
   ],
   "source": [
    "df_US.Rating.value_counts().plot.pie(autopct=\"%.0f%%\",figsize=(6,6),pctdistance=0.8,wedgeprops=dict(width=0.4))\n",
    "plt.show()"
   ]
  },
  {
   "cell_type": "markdown",
   "metadata": {
    "id": "Hbz84VlIoKV6"
   },
   "source": [
    "Converting runtime into three categories"
   ]
  },
  {
   "cell_type": "code",
   "execution_count": null,
   "metadata": {
    "id": "gyUBqKRToKV9"
   },
   "outputs": [],
   "source": [
    "def run_t(rtime):\n",
    "  if rtime >=150:\n",
    "    return 'Long'\n",
    "  elif rtime >=90:\n",
    "    return 'Medium'  \n",
    "  else:\n",
    "    return 'Short'"
   ]
  },
  {
   "cell_type": "code",
   "execution_count": null,
   "metadata": {
    "id": "VhtFKaeFoKV-"
   },
   "outputs": [],
   "source": [
    "df_US['type']=df_US['runtimeMinutes'].apply(run_t)"
   ]
  },
  {
   "cell_type": "markdown",
   "metadata": {
    "id": "xzO9qvetFgcj"
   },
   "source": [
    "Finding the percentage of movie belonging to each runtime type"
   ]
  },
  {
   "cell_type": "code",
   "execution_count": null,
   "metadata": {
    "colab": {
     "base_uri": "https://localhost:8080/",
     "height": 357
    },
    "executionInfo": {
     "elapsed": 15,
     "status": "ok",
     "timestamp": 1636820714475,
     "user": {
      "displayName": "dm project",
      "photoUrl": "https://lh3.googleusercontent.com/a/default-user=s64",
      "userId": "10716541108022634460"
     },
     "user_tz": -330
    },
    "id": "1LGzdOgDFgcj",
    "outputId": "56effe1a-6c0d-47fd-f27d-ed52095d5baa"
   },
   "outputs": [
    {
     "data": {
      "image/png": "[encoded data removed]",
      "text/plain": [
       "<Figure size 432x432 with 1 Axes>"
      ]
     },
     "metadata": {},
     "output_type": "display_data"
    }
   ],
   "source": [
    "df_US.type.value_counts().plot.pie(autopct=\"%.0f%%\",figsize=(6,6),pctdistance=0.8,wedgeprops=dict(width=0.4))\n",
    "plt.show()"
   ]
  },
  {
   "cell_type": "markdown",
   "metadata": {
    "id": "qr6Fc_DqplM_"
   },
   "source": [
    "Analysis of the whether type of movie affect rating or votes"
   ]
  },
  {
   "cell_type": "code",
   "execution_count": null,
   "metadata": {
    "colab": {
     "base_uri": "https://localhost:8080/"
    },
    "executionInfo": {
     "elapsed": 15,
     "status": "ok",
     "timestamp": 1636820714476,
     "user": {
      "displayName": "dm project",
      "photoUrl": "https://lh3.googleusercontent.com/a/default-user=s64",
      "userId": "10716541108022634460"
     },
     "user_tz": -330
    },
    "id": "pvF2y2pnpjiD",
    "outputId": "5783565c-a5d4-4363-abf5-356cda2b67f7"
   },
   "outputs": [
    {
     "data": {
      "text/plain": [
       "type\n",
       "Long      56112.252156\n",
       "Medium    16342.005176\n",
       "Short      2192.947126\n",
       "Name: numVotes, dtype: float64"
      ]
     },
     "execution_count": 71,
     "metadata": {},
     "output_type": "execute_result"
    }
   ],
   "source": [
    "df_US.groupby('type').numVotes.mean()"
   ]
  },
  {
   "cell_type": "code",
   "execution_count": null,
   "metadata": {
    "colab": {
     "base_uri": "https://localhost:8080/",
     "height": 295
    },
    "executionInfo": {
     "elapsed": 1862,
     "status": "ok",
     "timestamp": 1636820716868,
     "user": {
      "displayName": "dm project",
      "photoUrl": "https://lh3.googleusercontent.com/a/default-user=s64",
      "userId": "10716541108022634460"
     },
     "user_tz": -330
    },
    "id": "5atAR51Kqj62",
    "outputId": "c962cc3a-42ad-4894-8b0e-d9143dfaaca9"
   },
   "outputs": [
    {
     "data": {
      "image/png": "[encoded data removed]",
      "text/plain": [
       "<Figure size 432x288 with 1 Axes>"
      ]
     },
     "metadata": {
      "needs_background": "light"
     },
     "output_type": "display_data"
    }
   ],
   "source": [
    "sns.barplot(x = 'type',\n",
    "            y = 'numVotes',\n",
    "            data=df_US)\n",
    "plt.title('Type vs Number of votes')\n",
    "plt.show()"
   ]
  },
  {
   "cell_type": "markdown",
   "metadata": {
    "id": "ykN4B_UQBMNU"
   },
   "source": [
    "The movies with **long** runtime has highest average number of votes"
   ]
  },
  {
   "cell_type": "code",
   "execution_count": null,
   "metadata": {
    "colab": {
     "base_uri": "https://localhost:8080/"
    },
    "executionInfo": {
     "elapsed": 18,
     "status": "ok",
     "timestamp": 1636820716871,
     "user": {
      "displayName": "dm project",
      "photoUrl": "https://lh3.googleusercontent.com/a/default-user=s64",
      "userId": "10716541108022634460"
     },
     "user_tz": -330
    },
    "id": "9TGvxdnSr_GQ",
    "outputId": "27747af7-f281-4df7-f409-826b8b0d4087"
   },
   "outputs": [
    {
     "data": {
      "text/plain": [
       "type\n",
       "Long      6.756222\n",
       "Medium    6.023137\n",
       "Short     5.705508\n",
       "Name: averageRating, dtype: float64"
      ]
     },
     "execution_count": 73,
     "metadata": {},
     "output_type": "execute_result"
    }
   ],
   "source": [
    "df_US.groupby('type').averageRating.mean()"
   ]
  },
  {
   "cell_type": "code",
   "execution_count": null,
   "metadata": {
    "colab": {
     "base_uri": "https://localhost:8080/",
     "height": 295
    },
    "executionInfo": {
     "elapsed": 1207,
     "status": "ok",
     "timestamp": 1636820718075,
     "user": {
      "displayName": "dm project",
      "photoUrl": "https://lh3.googleusercontent.com/a/default-user=s64",
      "userId": "10716541108022634460"
     },
     "user_tz": -330
    },
    "id": "7bFjrP8Hr_GR",
    "outputId": "aa14279f-e6c2-4e13-f809-7b08f4dc7a32"
   },
   "outputs": [
    {
     "data": {
      "image/png": "[encoded data removed]",
      "text/plain": [
       "<Figure size 432x288 with 1 Axes>"
      ]
     },
     "metadata": {
      "needs_background": "light"
     },
     "output_type": "display_data"
    }
   ],
   "source": [
    "sns.barplot(x = 'type',\n",
    "            y = 'averageRating',\n",
    "            data=df_US)\n",
    "plt.title('Type vs Rating')\n",
    "plt.show()"
   ]
  },
  {
   "cell_type": "markdown",
   "metadata": {
    "id": "lRKdL_voBXAQ"
   },
   "source": [
    "movies with **long** runtime has the highest average Rating"
   ]
  },
  {
   "cell_type": "markdown",
   "metadata": {
    "id": "e92d6-MY-6kP"
   },
   "source": [
    "Finding yearwise top100 movies from year 1980"
   ]
  },
  {
   "cell_type": "code",
   "execution_count": null,
   "metadata": {
    "id": "X7uAa6-L-5uj"
   },
   "outputs": [],
   "source": [
    "df_year=df_US[df_US['Year']>=1980]\n",
    "df_year=df_year.groupby('Year').head(100)\n",
    "df_year=df_year.sort_values('Year',ascending=False).reset_index(drop=True)"
   ]
  },
  {
   "cell_type": "markdown",
   "metadata": {
    "id": "v_MWEJnuFBDe"
   },
   "source": [
    "Average rating yearwise from 2009\n",
    "\n"
   ]
  },
  {
   "cell_type": "code",
   "execution_count": null,
   "metadata": {
    "colab": {
     "base_uri": "https://localhost:8080/",
     "height": 452
    },
    "executionInfo": {
     "elapsed": 14,
     "status": "ok",
     "timestamp": 1636820719823,
     "user": {
      "displayName": "dm project",
      "photoUrl": "https://lh3.googleusercontent.com/a/default-user=s64",
      "userId": "10716541108022634460"
     },
     "user_tz": -330
    },
    "id": "2GIcG423FUcq",
    "outputId": "490ab4e0-cb70-4065-e5dc-3b6134fa8bfa"
   },
   "outputs": [
    {
     "data": {
      "text/html": [
       "<div>\n",
       "<style scoped>\n",
       "    .dataframe tbody tr th:only-of-type {\n",
       "        vertical-align: middle;\n",
       "    }\n",
       "\n",
       "    .dataframe tbody tr th {\n",
       "        vertical-align: top;\n",
       "    }\n",
       "\n",
       "    .dataframe thead th {\n",
       "        text-align: right;\n",
       "    }\n",
       "</style>\n",
       "<table border=\"1\" class=\"dataframe\">\n",
       "  <thead>\n",
       "    <tr style=\"text-align: right;\">\n",
       "      <th></th>\n",
       "      <th>Year</th>\n",
       "      <th>averageRating</th>\n",
       "    </tr>\n",
       "  </thead>\n",
       "  <tbody>\n",
       "    <tr>\n",
       "      <th>0</th>\n",
       "      <td>2021</td>\n",
       "      <td>5.934285</td>\n",
       "    </tr>\n",
       "    <tr>\n",
       "      <th>1</th>\n",
       "      <td>2011</td>\n",
       "      <td>5.866170</td>\n",
       "    </tr>\n",
       "    <tr>\n",
       "      <th>2</th>\n",
       "      <td>2013</td>\n",
       "      <td>5.865496</td>\n",
       "    </tr>\n",
       "    <tr>\n",
       "      <th>3</th>\n",
       "      <td>2010</td>\n",
       "      <td>5.860748</td>\n",
       "    </tr>\n",
       "    <tr>\n",
       "      <th>4</th>\n",
       "      <td>2012</td>\n",
       "      <td>5.852018</td>\n",
       "    </tr>\n",
       "    <tr>\n",
       "      <th>5</th>\n",
       "      <td>2014</td>\n",
       "      <td>5.841253</td>\n",
       "    </tr>\n",
       "    <tr>\n",
       "      <th>6</th>\n",
       "      <td>2009</td>\n",
       "      <td>5.827569</td>\n",
       "    </tr>\n",
       "    <tr>\n",
       "      <th>7</th>\n",
       "      <td>2015</td>\n",
       "      <td>5.813134</td>\n",
       "    </tr>\n",
       "    <tr>\n",
       "      <th>8</th>\n",
       "      <td>2016</td>\n",
       "      <td>5.809286</td>\n",
       "    </tr>\n",
       "    <tr>\n",
       "      <th>9</th>\n",
       "      <td>2017</td>\n",
       "      <td>5.796865</td>\n",
       "    </tr>\n",
       "    <tr>\n",
       "      <th>10</th>\n",
       "      <td>2019</td>\n",
       "      <td>5.763510</td>\n",
       "    </tr>\n",
       "    <tr>\n",
       "      <th>11</th>\n",
       "      <td>2018</td>\n",
       "      <td>5.761228</td>\n",
       "    </tr>\n",
       "    <tr>\n",
       "      <th>12</th>\n",
       "      <td>2020</td>\n",
       "      <td>5.636822</td>\n",
       "    </tr>\n",
       "  </tbody>\n",
       "</table>\n",
       "</div>"
      ],
      "text/plain": [
       "    Year  averageRating\n",
       "0   2021       5.934285\n",
       "1   2011       5.866170\n",
       "2   2013       5.865496\n",
       "3   2010       5.860748\n",
       "4   2012       5.852018\n",
       "5   2014       5.841253\n",
       "6   2009       5.827569\n",
       "7   2015       5.813134\n",
       "8   2016       5.809286\n",
       "9   2017       5.796865\n",
       "10  2019       5.763510\n",
       "11  2018       5.761228\n",
       "12  2020       5.636822"
      ]
     },
     "execution_count": 76,
     "metadata": {},
     "output_type": "execute_result"
    }
   ],
   "source": [
    "df_year=df_US[df_US['Year']>=2009]\n",
    "df_year=(df_year.groupby(df_year['Year'],as_index=False).aggregate(np.mean).reindex(columns=df_year.columns))\n",
    "df_year.sort_values('averageRating',ascending=False,inplace=True)\n",
    "df_year=df_year[['Year','averageRating']].reset_index(drop=True)\n",
    "df_year"
   ]
  },
  {
   "cell_type": "code",
   "execution_count": null,
   "metadata": {
    "colab": {
     "base_uri": "https://localhost:8080/",
     "height": 295
    },
    "executionInfo": {
     "elapsed": 13,
     "status": "ok",
     "timestamp": 1636820719824,
     "user": {
      "displayName": "dm project",
      "photoUrl": "https://lh3.googleusercontent.com/a/default-user=s64",
      "userId": "10716541108022634460"
     },
     "user_tz": -330
    },
    "id": "y02XXy6wLn6X",
    "outputId": "87ded070-ceea-4b49-f60f-a5f37efcf479"
   },
   "outputs": [
    {
     "data": {
      "image/png": "[encoded data removed]",
      "text/plain": [
       "<Figure size 432x288 with 1 Axes>"
      ]
     },
     "metadata": {
      "needs_background": "light"
     },
     "output_type": "display_data"
    }
   ],
   "source": [
    "sns.barplot(x = 'Year',\n",
    "            y = 'averageRating',\n",
    "            data = df_year)\n",
    "plt.title('Year vs Ratings')\n",
    "plt.show()"
   ]
  },
  {
   "cell_type": "markdown",
   "metadata": {
    "id": "j301bwTFNQxX"
   },
   "source": [
    "Average votes yearwise from 2009"
   ]
  },
  {
   "cell_type": "code",
   "execution_count": null,
   "metadata": {
    "id": "J6nSsXsgNhrQ"
   },
   "outputs": [],
   "source": [
    "df_year=df_US[df_US['Year']>=2009]\n",
    "df_year=(df_year.groupby(df_year['Year'],as_index=False).aggregate(np.mean).reindex(columns=df_year.columns))\n",
    "df_year.sort_values('numVotes',ascending=False,inplace=True)\n",
    "df_year=df_year[['Year','numVotes']].reset_index(drop=True)"
   ]
  },
  {
   "cell_type": "code",
   "execution_count": null,
   "metadata": {
    "colab": {
     "base_uri": "https://localhost:8080/",
     "height": 295
    },
    "executionInfo": {
     "elapsed": 13,
     "status": "ok",
     "timestamp": 1636820719825,
     "user": {
      "displayName": "dm project",
      "photoUrl": "https://lh3.googleusercontent.com/a/default-user=s64",
      "userId": "10716541108022634460"
     },
     "user_tz": -330
    },
    "id": "CwrpUp7INhrR",
    "outputId": "d9dc2b54-1e9a-4bd3-eac9-2a5bfca8d1c6"
   },
   "outputs": [
    {
     "data": {
      "image/png": "[encoded data removed]",
      "text/plain": [
       "<Figure size 432x288 with 1 Axes>"
      ]
     },
     "metadata": {
      "needs_background": "light"
     },
     "output_type": "display_data"
    }
   ],
   "source": [
    "sns.barplot(x = 'Year',\n",
    "            y = 'numVotes',\n",
    "            data = df_year)\n",
    "plt.title('Year vs Votes')\n",
    "plt.show()"
   ]
  },
  {
   "cell_type": "markdown",
   "metadata": {
    "id": "Lt1WH4c9Bqmm"
   },
   "source": [
    "The number of votes is decreasing over the years with some fluctuation"
   ]
  },
  {
   "cell_type": "markdown",
   "metadata": {
    "id": "9GlBWqSVlrVh"
   },
   "source": [
    "Change in duration of movies over years"
   ]
  },
  {
   "cell_type": "code",
   "execution_count": null,
   "metadata": {
    "id": "AxgZeacul0tp"
   },
   "outputs": [],
   "source": [
    "grouped_year=df_US['runtimeMinutes'].groupby(df_US['Year']).describe()\n",
    "avg_runtime_by_year=grouped_year['mean']\n",
    "avg_runtime_min=grouped_year['mean']-grouped_year['std']\n",
    "avg_runtime_max=grouped_year['mean']+grouped_year['std']"
   ]
  },
  {
   "cell_type": "code",
   "execution_count": null,
   "metadata": {
    "colab": {
     "base_uri": "https://localhost:8080/",
     "height": 374
    },
    "executionInfo": {
     "elapsed": 15,
     "status": "ok",
     "timestamp": 1636820719828,
     "user": {
      "displayName": "dm project",
      "photoUrl": "https://lh3.googleusercontent.com/a/default-user=s64",
      "userId": "10716541108022634460"
     },
     "user_tz": -330
    },
    "id": "XFHUlmSEndnJ",
    "outputId": "c7f41860-813c-47b0-80ac-15452fa73757"
   },
   "outputs": [
    {
     "data": {
      "text/plain": [
       "<function matplotlib.pyplot.show>"
      ]
     },
     "execution_count": 81,
     "metadata": {},
     "output_type": "execute_result"
    },
    {
     "data": {
      "image/png": "[encoded data removed]",
      "text/plain": [
       "<Figure size 432x360 with 1 Axes>"
      ]
     },
     "metadata": {
      "needs_background": "light"
     },
     "output_type": "display_data"
    }
   ],
   "source": [
    "fig,x=plt.subplots(figsize=(6,5))\n",
    "x.plot(avg_runtime_by_year,color='blue')\n",
    "x.plot(avg_runtime_min,color='skyblue')\n",
    "x.plot(avg_runtime_max,color='skyblue')\n",
    "x.fill_between(grouped_year.index,avg_runtime_min,avg_runtime_max,color='skyblue')\n",
    "x.set_title('Average runtime over the years',fontsize=15)\n",
    "x.set_xlabel('ReleaseYear',fontsize=15)\n",
    "x.set_ylabel('Runtime(in minutes)',fontsize=15)\n",
    "x.set_xlim(1980)\n",
    "plt.show"
   ]
  },
  {
   "cell_type": "markdown",
   "metadata": {
    "id": "jsYHIRKnpovJ"
   },
   "source": [
    "Change in duration of movies over decade"
   ]
  },
  {
   "cell_type": "code",
   "execution_count": null,
   "metadata": {
    "id": "z8S_tvxzpovm"
   },
   "outputs": [],
   "source": [
    "decade=df_US.copy()\n",
    "decade['releaseYear']=((decade['Year']//10)*10).astype('int64')"
   ]
  },
  {
   "cell_type": "code",
   "execution_count": null,
   "metadata": {
    "colab": {
     "base_uri": "https://localhost:8080/",
     "height": 296
    },
    "executionInfo": {
     "elapsed": 1045,
     "status": "ok",
     "timestamp": 1636820720865,
     "user": {
      "displayName": "dm project",
      "photoUrl": "https://lh3.googleusercontent.com/a/default-user=s64",
      "userId": "10716541108022634460"
     },
     "user_tz": -330
    },
    "id": "fsgnfxiipovm",
    "outputId": "d2c95dda-5174-41d5-af4b-8641ee294953"
   },
   "outputs": [
    {
     "data": {
      "image/png": "[encoded data removed]",
      "text/plain": [
       "<Figure size 432x288 with 1 Axes>"
      ]
     },
     "metadata": {
      "needs_background": "light"
     },
     "output_type": "display_data"
    }
   ],
   "source": [
    "sns.boxplot(x='releaseYear',y='runtimeMinutes',data=decade,showfliers=False)\n",
    "plt.title('Movies\\'runtime over the decades',fontsize=10)\n",
    "plt.xlabel('Decade',fontsize=12)\n",
    "plt.ylabel('Average Runtime',fontsize=12)\n",
    "plt.show()"
   ]
  },
  {
   "cell_type": "markdown",
   "metadata": {
    "id": "obotHOqEB3sx"
   },
   "source": [
    "Movie runtime has not changed much over the time"
   ]
  }
 ],
 "metadata": {
  "accelerator": "GPU",
  "colab": {
   "collapsed_sections": [],
   "name": "Analysis-US.ipynb",
   "provenance": []
  },
  "kernelspec": {
   "display_name": "Python 3 (ipykernel)",
   "language": "python",
   "name": "python3"
  },
  "language_info": {
   "codemirror_mode": {
    "name": "ipython",
    "version": 3
   },
   "file_extension": ".py",
   "mimetype": "text/x-python",
   "name": "python",
   "nbconvert_exporter": "python",
   "pygments_lexer": "ipython3",
   "version": "3.9.6"
  }
 },
 "nbformat": 4,
 "nbformat_minor": 1
}
