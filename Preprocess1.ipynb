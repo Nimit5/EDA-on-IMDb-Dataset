{
 "cells": [
  {
   "cell_type": "code",
   "execution_count": null,
   "metadata": {
    "id": "Xw3_yh9jW34s"
   },
   "outputs": [],
   "source": [
    "# Importing required libraries\n",
    "\n",
    "import pandas as pd\n",
    "import numpy as np\n",
    "import warnings\n",
    "warnings.filterwarnings(\"ignore\")"
   ]
  },
  {
   "cell_type": "code",
   "execution_count": null,
   "metadata": {
    "id": "m_KL_B9eXGK2"
   },
   "outputs": [],
   "source": [
    "name_basics_data=pd.read_csv(\"Dataset/name_basics_data.tsv\", sep='\\t')"
   ]
  },
  {
   "cell_type": "markdown",
   "metadata": {
    "id": "X6Cy3_iC3THo"
   },
   "source": [
    "**name_basics_data.tsv** - Contains the following information for names:\n",
    "\n",
    "1.   nconst (string) - alphanumeric unique identifier of the name/person\n",
    "2.   primaryName (string) – name by which the person is most often credited\n",
    "3.   birthYear – in YYYY format\t\t\n",
    "4.   deathYear – in YYYY format if applicable, else '\\N'\n",
    "5.   primaryProfession (array of strings) – the top-3 professions of the person\n",
    "6.   knownForTitles (array of tconsts) – titles the person is known for"
   ]
  },
  {
   "cell_type": "code",
   "execution_count": null,
   "metadata": {
    "colab": {
     "base_uri": "https://localhost:8080/",
     "height": 419
    },
    "executionInfo": {
     "elapsed": 35,
     "status": "ok",
     "timestamp": 1636968238986,
     "user": {
      "displayName": "dm project",
      "photoUrl": "https://lh3.googleusercontent.com/a/default-user=s64",
      "userId": "10716541108022634460"
     },
     "user_tz": -330
    },
    "id": "spzNCHAYOOOH",
    "outputId": "542ab0e6-0f79-4944-fd22-c88c8d355ee6"
   },
   "outputs": [
    {
     "data": {
      "text/html": [
       "<div>\n",
       "<style scoped>\n",
       "    .dataframe tbody tr th:only-of-type {\n",
       "        vertical-align: middle;\n",
       "    }\n",
       "\n",
       "    .dataframe tbody tr th {\n",
       "        vertical-align: top;\n",
       "    }\n",
       "\n",
       "    .dataframe thead th {\n",
       "        text-align: right;\n",
       "    }\n",
       "</style>\n",
       "<table border=\"1\" class=\"dataframe\">\n",
       "  <thead>\n",
       "    <tr style=\"text-align: right;\">\n",
       "      <th></th>\n",
       "      <th>nconst</th>\n",
       "      <th>primaryName</th>\n",
       "      <th>birthYear</th>\n",
       "      <th>deathYear</th>\n",
       "      <th>primaryProfession</th>\n",
       "      <th>knownForTitles</th>\n",
       "    </tr>\n",
       "  </thead>\n",
       "  <tbody>\n",
       "    <tr>\n",
       "      <th>0</th>\n",
       "      <td>nm0000001</td>\n",
       "      <td>Fred Astaire</td>\n",
       "      <td>1899</td>\n",
       "      <td>1987</td>\n",
       "      <td>soundtrack,actor,miscellaneous</td>\n",
       "      <td>tt0031983,tt0072308,tt0050419,tt0053137</td>\n",
       "    </tr>\n",
       "    <tr>\n",
       "      <th>1</th>\n",
       "      <td>nm0000002</td>\n",
       "      <td>Lauren Bacall</td>\n",
       "      <td>1924</td>\n",
       "      <td>2014</td>\n",
       "      <td>actress,soundtrack</td>\n",
       "      <td>tt0037382,tt0117057,tt0038355,tt0071877</td>\n",
       "    </tr>\n",
       "    <tr>\n",
       "      <th>2</th>\n",
       "      <td>nm0000003</td>\n",
       "      <td>Brigitte Bardot</td>\n",
       "      <td>1934</td>\n",
       "      <td>\\N</td>\n",
       "      <td>actress,soundtrack,music_department</td>\n",
       "      <td>tt0057345,tt0056404,tt0054452,tt0049189</td>\n",
       "    </tr>\n",
       "    <tr>\n",
       "      <th>3</th>\n",
       "      <td>nm0000004</td>\n",
       "      <td>John Belushi</td>\n",
       "      <td>1949</td>\n",
       "      <td>1982</td>\n",
       "      <td>actor,soundtrack,writer</td>\n",
       "      <td>tt0072562,tt0080455,tt0078723,tt0077975</td>\n",
       "    </tr>\n",
       "    <tr>\n",
       "      <th>4</th>\n",
       "      <td>nm0000005</td>\n",
       "      <td>Ingmar Bergman</td>\n",
       "      <td>1918</td>\n",
       "      <td>2007</td>\n",
       "      <td>writer,director,actor</td>\n",
       "      <td>tt0050976,tt0060827,tt0083922,tt0050986</td>\n",
       "    </tr>\n",
       "    <tr>\n",
       "      <th>...</th>\n",
       "      <td>...</td>\n",
       "      <td>...</td>\n",
       "      <td>...</td>\n",
       "      <td>...</td>\n",
       "      <td>...</td>\n",
       "      <td>...</td>\n",
       "    </tr>\n",
       "    <tr>\n",
       "      <th>11359930</th>\n",
       "      <td>nm9993714</td>\n",
       "      <td>Romeo del Rosario</td>\n",
       "      <td>\\N</td>\n",
       "      <td>\\N</td>\n",
       "      <td>animation_department,art_department</td>\n",
       "      <td>tt2455546,tt11657662</td>\n",
       "    </tr>\n",
       "    <tr>\n",
       "      <th>11359931</th>\n",
       "      <td>nm9993716</td>\n",
       "      <td>Essias Loberg</td>\n",
       "      <td>\\N</td>\n",
       "      <td>\\N</td>\n",
       "      <td>NaN</td>\n",
       "      <td>\\N</td>\n",
       "    </tr>\n",
       "    <tr>\n",
       "      <th>11359932</th>\n",
       "      <td>nm9993717</td>\n",
       "      <td>Harikrishnan Rajan</td>\n",
       "      <td>\\N</td>\n",
       "      <td>\\N</td>\n",
       "      <td>cinematographer</td>\n",
       "      <td>tt8736744</td>\n",
       "    </tr>\n",
       "    <tr>\n",
       "      <th>11359933</th>\n",
       "      <td>nm9993718</td>\n",
       "      <td>Aayush Nair</td>\n",
       "      <td>\\N</td>\n",
       "      <td>\\N</td>\n",
       "      <td>cinematographer</td>\n",
       "      <td>\\N</td>\n",
       "    </tr>\n",
       "    <tr>\n",
       "      <th>11359934</th>\n",
       "      <td>nm9993719</td>\n",
       "      <td>Andre Hill</td>\n",
       "      <td>\\N</td>\n",
       "      <td>\\N</td>\n",
       "      <td>NaN</td>\n",
       "      <td>\\N</td>\n",
       "    </tr>\n",
       "  </tbody>\n",
       "</table>\n",
       "<p>11359935 rows × 6 columns</p>\n",
       "</div>"
      ],
      "text/plain": [
       "             nconst  ...                           knownForTitles\n",
       "0         nm0000001  ...  tt0031983,tt0072308,tt0050419,tt0053137\n",
       "1         nm0000002  ...  tt0037382,tt0117057,tt0038355,tt0071877\n",
       "2         nm0000003  ...  tt0057345,tt0056404,tt0054452,tt0049189\n",
       "3         nm0000004  ...  tt0072562,tt0080455,tt0078723,tt0077975\n",
       "4         nm0000005  ...  tt0050976,tt0060827,tt0083922,tt0050986\n",
       "...             ...  ...                                      ...\n",
       "11359930  nm9993714  ...                     tt2455546,tt11657662\n",
       "11359931  nm9993716  ...                                       \\N\n",
       "11359932  nm9993717  ...                                tt8736744\n",
       "11359933  nm9993718  ...                                       \\N\n",
       "11359934  nm9993719  ...                                       \\N\n",
       "\n",
       "[11359935 rows x 6 columns]"
      ]
     },
     "execution_count": 4,
     "metadata": {},
     "output_type": "execute_result"
    }
   ],
   "source": [
    "name_basics_data"
   ]
  },
  {
   "cell_type": "markdown",
   "metadata": {
    "id": "QeBiSHmn4U42"
   },
   "source": [
    "Storing ncosnt and primaryName in name_mapping.csv for future use in project."
   ]
  },
  {
   "cell_type": "code",
   "execution_count": null,
   "metadata": {
    "id": "CkvzsuK8ACB1"
   },
   "outputs": [],
   "source": [
    "name=name_basics_data[[\"nconst\",\"primaryName\"]]"
   ]
  },
  {
   "cell_type": "code",
   "execution_count": null,
   "metadata": {
    "id": "fVDWxpfcKPnG"
   },
   "outputs": [],
   "source": [
    "name.to_csv('Dataset/name_mapping.csv',index=False)"
   ]
  },
  {
   "cell_type": "code",
   "execution_count": null,
   "metadata": {
    "colab": {
     "base_uri": "https://localhost:8080/"
    },
    "executionInfo": {
     "elapsed": 531,
     "status": "ok",
     "timestamp": 1636968259116,
     "user": {
      "displayName": "dm project",
      "photoUrl": "https://lh3.googleusercontent.com/a/default-user=s64",
      "userId": "10716541108022634460"
     },
     "user_tz": -330
    },
    "id": "wJTS16HHXtlt",
    "outputId": "065adb30-0d85-483d-fda5-a62e5204f63a"
   },
   "outputs": [
    {
     "data": {
      "text/plain": [
       "nconst                     0\n",
       "primaryName                0\n",
       "birthYear                  0\n",
       "deathYear                  0\n",
       "primaryProfession    2459072\n",
       "knownForTitles             0\n",
       "dtype: int64"
      ]
     },
     "execution_count": 7,
     "metadata": {},
     "output_type": "execute_result"
    }
   ],
   "source": [
    "# Checking number of null valuues in name_basics_data\n",
    "\n",
    "name_basics_data.isnull().sum()"
   ]
  },
  {
   "cell_type": "code",
   "execution_count": null,
   "metadata": {
    "id": "d0XIVWiZXKG1"
   },
   "outputs": [],
   "source": [
    "title_principals_data=pd.read_csv(\"Dataset/title_principals_data.tsv\", sep='\\t')"
   ]
  },
  {
   "cell_type": "markdown",
   "metadata": {
    "id": "jZgU_9kX4ySV"
   },
   "source": [
    "**title_principals_data.tsv** - Contains the principal cast/crew for titles:\n",
    "\n",
    "1.   tconst (string) - alphanumeric unique identifier of the title\n",
    "2.   ordering (integer) – a number to uniquely identify rows for a given titleId\n",
    "3.   nconst (string) - alphanumeric unique identifier of the name/person\t\t\n",
    "4.   category (string) - the category of job that person was in\n",
    "5.   job (string) - the specific job title if applicable, else '\\N'\n",
    "6.   characters (string) - the name of the character played if applicable, else '\\N'\n",
    "\n",
    "\n"
   ]
  },
  {
   "cell_type": "code",
   "execution_count": null,
   "metadata": {
    "colab": {
     "base_uri": "https://localhost:8080/",
     "height": 419
    },
    "executionInfo": {
     "elapsed": 2364,
     "status": "ok",
     "timestamp": 1636968326178,
     "user": {
      "displayName": "dm project",
      "photoUrl": "https://lh3.googleusercontent.com/a/default-user=s64",
      "userId": "10716541108022634460"
     },
     "user_tz": -330
    },
    "id": "2v8OMYBTX7lU",
    "outputId": "d1c10e74-211c-4a55-92c6-709b490cdfe2"
   },
   "outputs": [
    {
     "data": {
      "text/html": [
       "<div>\n",
       "<style scoped>\n",
       "    .dataframe tbody tr th:only-of-type {\n",
       "        vertical-align: middle;\n",
       "    }\n",
       "\n",
       "    .dataframe tbody tr th {\n",
       "        vertical-align: top;\n",
       "    }\n",
       "\n",
       "    .dataframe thead th {\n",
       "        text-align: right;\n",
       "    }\n",
       "</style>\n",
       "<table border=\"1\" class=\"dataframe\">\n",
       "  <thead>\n",
       "    <tr style=\"text-align: right;\">\n",
       "      <th></th>\n",
       "      <th>tconst</th>\n",
       "      <th>ordering</th>\n",
       "      <th>nconst</th>\n",
       "      <th>category</th>\n",
       "      <th>job</th>\n",
       "      <th>characters</th>\n",
       "    </tr>\n",
       "  </thead>\n",
       "  <tbody>\n",
       "    <tr>\n",
       "      <th>0</th>\n",
       "      <td>tt0000001</td>\n",
       "      <td>1</td>\n",
       "      <td>nm1588970</td>\n",
       "      <td>self</td>\n",
       "      <td>\\N</td>\n",
       "      <td>[\"Self\"]</td>\n",
       "    </tr>\n",
       "    <tr>\n",
       "      <th>1</th>\n",
       "      <td>tt0000001</td>\n",
       "      <td>2</td>\n",
       "      <td>nm0005690</td>\n",
       "      <td>director</td>\n",
       "      <td>\\N</td>\n",
       "      <td>\\N</td>\n",
       "    </tr>\n",
       "    <tr>\n",
       "      <th>2</th>\n",
       "      <td>tt0000001</td>\n",
       "      <td>3</td>\n",
       "      <td>nm0374658</td>\n",
       "      <td>cinematographer</td>\n",
       "      <td>director of photography</td>\n",
       "      <td>\\N</td>\n",
       "    </tr>\n",
       "    <tr>\n",
       "      <th>3</th>\n",
       "      <td>tt0000002</td>\n",
       "      <td>1</td>\n",
       "      <td>nm0721526</td>\n",
       "      <td>director</td>\n",
       "      <td>\\N</td>\n",
       "      <td>\\N</td>\n",
       "    </tr>\n",
       "    <tr>\n",
       "      <th>4</th>\n",
       "      <td>tt0000002</td>\n",
       "      <td>2</td>\n",
       "      <td>nm1335271</td>\n",
       "      <td>composer</td>\n",
       "      <td>\\N</td>\n",
       "      <td>\\N</td>\n",
       "    </tr>\n",
       "    <tr>\n",
       "      <th>...</th>\n",
       "      <td>...</td>\n",
       "      <td>...</td>\n",
       "      <td>...</td>\n",
       "      <td>...</td>\n",
       "      <td>...</td>\n",
       "      <td>...</td>\n",
       "    </tr>\n",
       "    <tr>\n",
       "      <th>47545537</th>\n",
       "      <td>tt9916880</td>\n",
       "      <td>4</td>\n",
       "      <td>nm10535738</td>\n",
       "      <td>actress</td>\n",
       "      <td>\\N</td>\n",
       "      <td>[\"Horrid Henry\"]</td>\n",
       "    </tr>\n",
       "    <tr>\n",
       "      <th>47545538</th>\n",
       "      <td>tt9916880</td>\n",
       "      <td>5</td>\n",
       "      <td>nm0996406</td>\n",
       "      <td>director</td>\n",
       "      <td>principal director</td>\n",
       "      <td>\\N</td>\n",
       "    </tr>\n",
       "    <tr>\n",
       "      <th>47545539</th>\n",
       "      <td>tt9916880</td>\n",
       "      <td>6</td>\n",
       "      <td>nm1482639</td>\n",
       "      <td>writer</td>\n",
       "      <td>\\N</td>\n",
       "      <td>\\N</td>\n",
       "    </tr>\n",
       "    <tr>\n",
       "      <th>47545540</th>\n",
       "      <td>tt9916880</td>\n",
       "      <td>7</td>\n",
       "      <td>nm2586970</td>\n",
       "      <td>writer</td>\n",
       "      <td>books</td>\n",
       "      <td>\\N</td>\n",
       "    </tr>\n",
       "    <tr>\n",
       "      <th>47545541</th>\n",
       "      <td>tt9916880</td>\n",
       "      <td>8</td>\n",
       "      <td>nm1594058</td>\n",
       "      <td>producer</td>\n",
       "      <td>producer</td>\n",
       "      <td>\\N</td>\n",
       "    </tr>\n",
       "  </tbody>\n",
       "</table>\n",
       "<p>47545542 rows × 6 columns</p>\n",
       "</div>"
      ],
      "text/plain": [
       "             tconst  ordering  ...                      job        characters\n",
       "0         tt0000001         1  ...                       \\N          [\"Self\"]\n",
       "1         tt0000001         2  ...                       \\N                \\N\n",
       "2         tt0000001         3  ...  director of photography                \\N\n",
       "3         tt0000002         1  ...                       \\N                \\N\n",
       "4         tt0000002         2  ...                       \\N                \\N\n",
       "...             ...       ...  ...                      ...               ...\n",
       "47545537  tt9916880         4  ...                       \\N  [\"Horrid Henry\"]\n",
       "47545538  tt9916880         5  ...       principal director                \\N\n",
       "47545539  tt9916880         6  ...                       \\N                \\N\n",
       "47545540  tt9916880         7  ...                    books                \\N\n",
       "47545541  tt9916880         8  ...                 producer                \\N\n",
       "\n",
       "[47545542 rows x 6 columns]"
      ]
     },
     "execution_count": 9,
     "metadata": {},
     "output_type": "execute_result"
    }
   ],
   "source": [
    "title_principals_data"
   ]
  },
  {
   "cell_type": "code",
   "execution_count": null,
   "metadata": {
    "colab": {
     "base_uri": "https://localhost:8080/"
    },
    "executionInfo": {
     "elapsed": 7962,
     "status": "ok",
     "timestamp": 1636968334132,
     "user": {
      "displayName": "dm project",
      "photoUrl": "https://lh3.googleusercontent.com/a/default-user=s64",
      "userId": "10716541108022634460"
     },
     "user_tz": -330
    },
    "id": "MHWtwLClX0xC",
    "outputId": "fd1db887-7da8-4e8a-d3b1-4474cf92c245"
   },
   "outputs": [
    {
     "data": {
      "text/plain": [
       "tconst        0\n",
       "ordering      0\n",
       "nconst        0\n",
       "category      0\n",
       "job           0\n",
       "characters    0\n",
       "dtype: int64"
      ]
     },
     "execution_count": 10,
     "metadata": {},
     "output_type": "execute_result"
    }
   ],
   "source": [
    "# Checking number of null valuues in title_principals_data\n",
    "\n",
    "title_principals_data.isnull().sum()"
   ]
  },
  {
   "cell_type": "code",
   "execution_count": null,
   "metadata": {
    "id": "csMXLVorYEo4"
   },
   "outputs": [],
   "source": [
    "# Merging both files \n",
    "\n",
    "merged_data=pd.merge(title_principals_data,name_basics_data,on=[\"nconst\"])"
   ]
  },
  {
   "cell_type": "code",
   "execution_count": null,
   "metadata": {
    "id": "pkDLoJrXaVJl"
   },
   "outputs": [],
   "source": [
    "# Shape of merged dataframe\n",
    "\n",
    "merged_data.shape"
   ]
  },
  {
   "cell_type": "code",
   "execution_count": null,
   "metadata": {
    "id": "nAoj9mA7Zv-C"
   },
   "outputs": [],
   "source": [
    "merged_data"
   ]
  },
  {
   "cell_type": "code",
   "execution_count": null,
   "metadata": {
    "id": "BL3Vp0VEZ8Dm"
   },
   "outputs": [],
   "source": [
    "merged_data.isnull().sum()"
   ]
  },
  {
   "cell_type": "code",
   "execution_count": null,
   "metadata": {
    "id": "ofYPGS78acuP"
   },
   "outputs": [],
   "source": [
    "# Saving merged data into preprocessed_1.csv file for further use\n",
    "\n",
    "merged_data.to_csv('Dataset/preprocessed_1.csv')"
   ]
  }
 ],
 "metadata": {
  "colab": {
   "collapsed_sections": [],
   "name": "Preprocess1.ipynb",
   "provenance": []
  },
  "kernelspec": {
   "display_name": "Python 3 (ipykernel)",
   "language": "python",
   "name": "python3"
  },
  "language_info": {
   "codemirror_mode": {
    "name": "ipython",
    "version": 3
   },
   "file_extension": ".py",
   "mimetype": "text/x-python",
   "name": "python",
   "nbconvert_exporter": "python",
   "pygments_lexer": "ipython3",
   "version": "3.9.6"
  }
 },
 "nbformat": 4,
 "nbformat_minor": 1
}
