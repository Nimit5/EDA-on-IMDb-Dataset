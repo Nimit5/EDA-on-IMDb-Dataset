{
 "cells": [
  {
   "cell_type": "code",
   "execution_count": null,
   "metadata": {
    "id": "Xw3_yh9jW34s"
   },
   "outputs": [],
   "source": [
    "# Importing required libraries\n",
    "\n",
    "import pandas as pd\n",
    "import numpy as np\n",
    "import warnings\n",
    "warnings.filterwarnings(\"ignore\")"
   ]
  },
  {
   "cell_type": "code",
   "execution_count": null,
   "metadata": {
    "id": "ofYPGS78acuP"
   },
   "outputs": [],
   "source": [
    "merged_data=pd.read_csv('Dataset/preprocessed_1.csv')"
   ]
  },
  {
   "cell_type": "code",
   "execution_count": null,
   "metadata": {
    "colab": {
     "base_uri": "https://localhost:8080/"
    },
    "executionInfo": {
     "elapsed": 26,
     "status": "ok",
     "timestamp": 1636968651415,
     "user": {
      "displayName": "dm project",
      "photoUrl": "https://lh3.googleusercontent.com/a/default-user=s64",
      "userId": "10716541108022634460"
     },
     "user_tz": -330
    },
    "id": "QYcYLx4ThctN",
    "outputId": "f03de866-e483-4487-cbec-d044ac0fbadc"
   },
   "outputs": [
    {
     "data": {
      "text/plain": [
       "Index(['Unnamed: 0', 'tconst', 'ordering', 'nconst', 'category', 'job',\n",
       "       'characters', 'primaryName'],\n",
       "      dtype='object')"
      ]
     },
     "execution_count": 4,
     "metadata": {},
     "output_type": "execute_result"
    }
   ],
   "source": [
    "merged_data.columns"
   ]
  },
  {
   "cell_type": "code",
   "execution_count": null,
   "metadata": {
    "id": "oDxVr4PrdWTS"
   },
   "outputs": [],
   "source": [
    "merged_data=merged_data[[\"tconst\",\"ordering\",\"nconst\",\"category\",\"primaryName\"]]"
   ]
  },
  {
   "cell_type": "code",
   "execution_count": null,
   "metadata": {
    "colab": {
     "base_uri": "https://localhost:8080/",
     "height": 419
    },
    "executionInfo": {
     "elapsed": 142890,
     "status": "ok",
     "timestamp": 1636968795922,
     "user": {
      "displayName": "dm project",
      "photoUrl": "https://lh3.googleusercontent.com/a/default-user=s64",
      "userId": "10716541108022634460"
     },
     "user_tz": -330
    },
    "id": "zMVyzVxwhn13",
    "outputId": "221af943-7968-4560-ebf3-c6e59f173b65"
   },
   "outputs": [
    {
     "data": {
      "text/html": [
       "<div>\n",
       "<style scoped>\n",
       "    .dataframe tbody tr th:only-of-type {\n",
       "        vertical-align: middle;\n",
       "    }\n",
       "\n",
       "    .dataframe tbody tr th {\n",
       "        vertical-align: top;\n",
       "    }\n",
       "\n",
       "    .dataframe thead th {\n",
       "        text-align: right;\n",
       "    }\n",
       "</style>\n",
       "<table border=\"1\" class=\"dataframe\">\n",
       "  <thead>\n",
       "    <tr style=\"text-align: right;\">\n",
       "      <th></th>\n",
       "      <th>tconst</th>\n",
       "      <th>ordering</th>\n",
       "      <th>nconst</th>\n",
       "      <th>category</th>\n",
       "      <th>primaryName</th>\n",
       "    </tr>\n",
       "  </thead>\n",
       "  <tbody>\n",
       "    <tr>\n",
       "      <th>0</th>\n",
       "      <td>tt0000001</td>\n",
       "      <td>1</td>\n",
       "      <td>nm1588970</td>\n",
       "      <td>self</td>\n",
       "      <td>Carmencita</td>\n",
       "    </tr>\n",
       "    <tr>\n",
       "      <th>2</th>\n",
       "      <td>tt0000001</td>\n",
       "      <td>2</td>\n",
       "      <td>nm0005690</td>\n",
       "      <td>director</td>\n",
       "      <td>William K.L. Dickson</td>\n",
       "    </tr>\n",
       "    <tr>\n",
       "      <th>501</th>\n",
       "      <td>tt0000001</td>\n",
       "      <td>3</td>\n",
       "      <td>nm0374658</td>\n",
       "      <td>cinematographer</td>\n",
       "      <td>William Heise</td>\n",
       "    </tr>\n",
       "    <tr>\n",
       "      <th>909</th>\n",
       "      <td>tt0000002</td>\n",
       "      <td>2</td>\n",
       "      <td>nm1335271</td>\n",
       "      <td>composer</td>\n",
       "      <td>Gaston Paulin</td>\n",
       "    </tr>\n",
       "    <tr>\n",
       "      <th>898</th>\n",
       "      <td>tt0000002</td>\n",
       "      <td>1</td>\n",
       "      <td>nm0721526</td>\n",
       "      <td>director</td>\n",
       "      <td>Émile Reynaud</td>\n",
       "    </tr>\n",
       "    <tr>\n",
       "      <th>...</th>\n",
       "      <td>...</td>\n",
       "      <td>...</td>\n",
       "      <td>...</td>\n",
       "      <td>...</td>\n",
       "      <td>...</td>\n",
       "    </tr>\n",
       "    <tr>\n",
       "      <th>15463604</th>\n",
       "      <td>tt9916880</td>\n",
       "      <td>3</td>\n",
       "      <td>nm0286175</td>\n",
       "      <td>actor</td>\n",
       "      <td>Wayne Forester</td>\n",
       "    </tr>\n",
       "    <tr>\n",
       "      <th>27333979</th>\n",
       "      <td>tt9916880</td>\n",
       "      <td>8</td>\n",
       "      <td>nm1594058</td>\n",
       "      <td>producer</td>\n",
       "      <td>Erica Darby</td>\n",
       "    </tr>\n",
       "    <tr>\n",
       "      <th>27271677</th>\n",
       "      <td>tt9916880</td>\n",
       "      <td>6</td>\n",
       "      <td>nm1482639</td>\n",
       "      <td>writer</td>\n",
       "      <td>Lucinda Whiteley</td>\n",
       "    </tr>\n",
       "    <tr>\n",
       "      <th>27216829</th>\n",
       "      <td>tt9916880</td>\n",
       "      <td>7</td>\n",
       "      <td>nm2586970</td>\n",
       "      <td>writer</td>\n",
       "      <td>Francesca Simon</td>\n",
       "    </tr>\n",
       "    <tr>\n",
       "      <th>16941833</th>\n",
       "      <td>tt9916880</td>\n",
       "      <td>5</td>\n",
       "      <td>nm0996406</td>\n",
       "      <td>director</td>\n",
       "      <td>Hilary Audus</td>\n",
       "    </tr>\n",
       "  </tbody>\n",
       "</table>\n",
       "<p>47523915 rows × 5 columns</p>\n",
       "</div>"
      ],
      "text/plain": [
       "             tconst  ordering     nconst         category           primaryName\n",
       "0         tt0000001         1  nm1588970             self            Carmencita\n",
       "2         tt0000001         2  nm0005690         director  William K.L. Dickson\n",
       "501       tt0000001         3  nm0374658  cinematographer         William Heise\n",
       "909       tt0000002         2  nm1335271         composer         Gaston Paulin\n",
       "898       tt0000002         1  nm0721526         director         Émile Reynaud\n",
       "...             ...       ...        ...              ...                   ...\n",
       "15463604  tt9916880         3  nm0286175            actor        Wayne Forester\n",
       "27333979  tt9916880         8  nm1594058         producer           Erica Darby\n",
       "27271677  tt9916880         6  nm1482639           writer      Lucinda Whiteley\n",
       "27216829  tt9916880         7  nm2586970           writer       Francesca Simon\n",
       "16941833  tt9916880         5  nm0996406         director          Hilary Audus\n",
       "\n",
       "[47523915 rows x 5 columns]"
      ]
     },
     "execution_count": 6,
     "metadata": {},
     "output_type": "execute_result"
    }
   ],
   "source": [
    "# Sorting on \"tconst\"\n",
    "\n",
    "merged_data.sort_values(by=\"tconst\")"
   ]
  },
  {
   "cell_type": "code",
   "execution_count": null,
   "metadata": {
    "colab": {
     "base_uri": "https://localhost:8080/"
    },
    "executionInfo": {
     "elapsed": 17,
     "status": "ok",
     "timestamp": 1636968795923,
     "user": {
      "displayName": "dm project",
      "photoUrl": "https://lh3.googleusercontent.com/a/default-user=s64",
      "userId": "10716541108022634460"
     },
     "user_tz": -330
    },
    "id": "K9qJnYMWc5VP",
    "outputId": "71abad1c-8490-43df-dc85-fefe66bc3aa6"
   },
   "outputs": [
    {
     "data": {
      "text/plain": [
       "Index(['tconst', 'ordering', 'nconst', 'category', 'primaryName'], dtype='object')"
      ]
     },
     "execution_count": 7,
     "metadata": {},
     "output_type": "execute_result"
    }
   ],
   "source": [
    "merged_data.columns"
   ]
  },
  {
   "cell_type": "code",
   "execution_count": null,
   "metadata": {
    "id": "7Bo0wJVCi_Nz"
   },
   "outputs": [],
   "source": [
    "# Saving this sorted data into preprocessed_2.csv file for further use\n",
    "\n",
    "merged_data.to_csv('Dataset/preprocessed_2.csv',index=False)"
   ]
  }
 ],
 "metadata": {
  "colab": {
   "collapsed_sections": [],
   "name": "Preprocess2.ipynb",
   "provenance": []
  },
  "kernelspec": {
   "display_name": "Python 3 (ipykernel)",
   "language": "python",
   "name": "python3"
  },
  "language_info": {
   "codemirror_mode": {
    "name": "ipython",
    "version": 3
   },
   "file_extension": ".py",
   "mimetype": "text/x-python",
   "name": "python",
   "nbconvert_exporter": "python",
   "pygments_lexer": "ipython3",
   "version": "3.9.6"
  }
 },
 "nbformat": 4,
 "nbformat_minor": 1
}
