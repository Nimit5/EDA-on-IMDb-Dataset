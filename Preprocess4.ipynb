{
 "cells": [
  {
   "cell_type": "code",
   "execution_count": null,
   "metadata": {
    "id": "Xw3_yh9jW34s"
   },
   "outputs": [],
   "source": [
    "# Importing required libraries\n",
    "\n",
    "import pandas as pd\n",
    "import numpy as np\n",
    "import warnings\n",
    "warnings.filterwarnings(\"ignore\")"
   ]
  },
  {
   "cell_type": "markdown",
   "metadata": {
    "id": "cjhtoKH2gyPn"
   },
   "source": [
    "Actors,actress plays a crucial role in any movie so need to add this attributes in India_Dataset and US_Dataset.For this purpose, we are using our previously processed \"preprocessed_2.csv\" file."
   ]
  },
  {
   "cell_type": "code",
   "execution_count": null,
   "metadata": {
    "id": "gMWiosIJdl_C"
   },
   "outputs": [],
   "source": [
    "Preprocess2=pd.read_csv('Dataset/preprocessed_2.csv')"
   ]
  },
  {
   "cell_type": "code",
   "execution_count": null,
   "metadata": {
    "colab": {
     "base_uri": "https://localhost:8080/",
     "height": 419
    },
    "executionInfo": {
     "elapsed": 2901,
     "status": "ok",
     "timestamp": 1636981363504,
     "user": {
      "displayName": "dm project",
      "photoUrl": "https://lh3.googleusercontent.com/a/default-user=s64",
      "userId": "10716541108022634460"
     },
     "user_tz": -330
    },
    "id": "n6XON83VeCx-",
    "outputId": "efa93267-3b83-4d8b-e985-530a5d610984"
   },
   "outputs": [
    {
     "data": {
      "text/html": [
       "<div>\n",
       "<style scoped>\n",
       "    .dataframe tbody tr th:only-of-type {\n",
       "        vertical-align: middle;\n",
       "    }\n",
       "\n",
       "    .dataframe tbody tr th {\n",
       "        vertical-align: top;\n",
       "    }\n",
       "\n",
       "    .dataframe thead th {\n",
       "        text-align: right;\n",
       "    }\n",
       "</style>\n",
       "<table border=\"1\" class=\"dataframe\">\n",
       "  <thead>\n",
       "    <tr style=\"text-align: right;\">\n",
       "      <th></th>\n",
       "      <th>tconst</th>\n",
       "      <th>ordering</th>\n",
       "      <th>nconst</th>\n",
       "      <th>category</th>\n",
       "      <th>primaryName</th>\n",
       "    </tr>\n",
       "  </thead>\n",
       "  <tbody>\n",
       "    <tr>\n",
       "      <th>0</th>\n",
       "      <td>tt0000001</td>\n",
       "      <td>1</td>\n",
       "      <td>nm1588970</td>\n",
       "      <td>self</td>\n",
       "      <td>Carmencita</td>\n",
       "    </tr>\n",
       "    <tr>\n",
       "      <th>1</th>\n",
       "      <td>tt7513040</td>\n",
       "      <td>2</td>\n",
       "      <td>nm1588970</td>\n",
       "      <td>archive_footage</td>\n",
       "      <td>Carmencita</td>\n",
       "    </tr>\n",
       "    <tr>\n",
       "      <th>2</th>\n",
       "      <td>tt0000001</td>\n",
       "      <td>2</td>\n",
       "      <td>nm0005690</td>\n",
       "      <td>director</td>\n",
       "      <td>William K.L. Dickson</td>\n",
       "    </tr>\n",
       "    <tr>\n",
       "      <th>3</th>\n",
       "      <td>tt0000005</td>\n",
       "      <td>3</td>\n",
       "      <td>nm0005690</td>\n",
       "      <td>director</td>\n",
       "      <td>William K.L. Dickson</td>\n",
       "    </tr>\n",
       "    <tr>\n",
       "      <th>4</th>\n",
       "      <td>tt0000006</td>\n",
       "      <td>1</td>\n",
       "      <td>nm0005690</td>\n",
       "      <td>director</td>\n",
       "      <td>William K.L. Dickson</td>\n",
       "    </tr>\n",
       "    <tr>\n",
       "      <th>...</th>\n",
       "      <td>...</td>\n",
       "      <td>...</td>\n",
       "      <td>...</td>\n",
       "      <td>...</td>\n",
       "      <td>...</td>\n",
       "    </tr>\n",
       "    <tr>\n",
       "      <th>47523910</th>\n",
       "      <td>tt9916856</td>\n",
       "      <td>3</td>\n",
       "      <td>nm10538646</td>\n",
       "      <td>actor</td>\n",
       "      <td>Andreas Demmel</td>\n",
       "    </tr>\n",
       "    <tr>\n",
       "      <th>47523911</th>\n",
       "      <td>tt9916856</td>\n",
       "      <td>4</td>\n",
       "      <td>nm10538647</td>\n",
       "      <td>actress</td>\n",
       "      <td>Kathrin Knöpfle</td>\n",
       "    </tr>\n",
       "    <tr>\n",
       "      <th>47523912</th>\n",
       "      <td>tt9916856</td>\n",
       "      <td>5</td>\n",
       "      <td>nm10538645</td>\n",
       "      <td>director</td>\n",
       "      <td>Johan Planefeldt</td>\n",
       "    </tr>\n",
       "    <tr>\n",
       "      <th>47523913</th>\n",
       "      <td>tt9916856</td>\n",
       "      <td>6</td>\n",
       "      <td>nm6951431</td>\n",
       "      <td>writer</td>\n",
       "      <td>Johan Planefeldt</td>\n",
       "    </tr>\n",
       "    <tr>\n",
       "      <th>47523914</th>\n",
       "      <td>tt9916856</td>\n",
       "      <td>7</td>\n",
       "      <td>nm10538653</td>\n",
       "      <td>composer</td>\n",
       "      <td>Farahnaz Hatam</td>\n",
       "    </tr>\n",
       "  </tbody>\n",
       "</table>\n",
       "<p>47523915 rows × 5 columns</p>\n",
       "</div>"
      ],
      "text/plain": [
       "             tconst  ordering  ...         category           primaryName\n",
       "0         tt0000001         1  ...             self            Carmencita\n",
       "1         tt7513040         2  ...  archive_footage            Carmencita\n",
       "2         tt0000001         2  ...         director  William K.L. Dickson\n",
       "3         tt0000005         3  ...         director  William K.L. Dickson\n",
       "4         tt0000006         1  ...         director  William K.L. Dickson\n",
       "...             ...       ...  ...              ...                   ...\n",
       "47523910  tt9916856         3  ...            actor        Andreas Demmel\n",
       "47523911  tt9916856         4  ...          actress       Kathrin Knöpfle\n",
       "47523912  tt9916856         5  ...         director      Johan Planefeldt\n",
       "47523913  tt9916856         6  ...           writer      Johan Planefeldt\n",
       "47523914  tt9916856         7  ...         composer        Farahnaz Hatam\n",
       "\n",
       "[47523915 rows x 5 columns]"
      ]
     },
     "execution_count": 4,
     "metadata": {},
     "output_type": "execute_result"
    }
   ],
   "source": [
    "Preprocess2"
   ]
  },
  {
   "cell_type": "code",
   "execution_count": null,
   "metadata": {
    "id": "iV0iBp3SjtHo"
   },
   "outputs": [],
   "source": [
    "temp=Preprocess2[['tconst','category','primaryName']]"
   ]
  },
  {
   "cell_type": "code",
   "execution_count": null,
   "metadata": {
    "colab": {
     "base_uri": "https://localhost:8080/",
     "height": 419
    },
    "executionInfo": {
     "elapsed": 12,
     "status": "ok",
     "timestamp": 1636981377190,
     "user": {
      "displayName": "dm project",
      "photoUrl": "https://lh3.googleusercontent.com/a/default-user=s64",
      "userId": "10716541108022634460"
     },
     "user_tz": -330
    },
    "id": "47EaEdDwg-u4",
    "outputId": "681ad6bc-979b-44c8-9dc5-dca524cba9c6"
   },
   "outputs": [
    {
     "data": {
      "text/html": [
       "<div>\n",
       "<style scoped>\n",
       "    .dataframe tbody tr th:only-of-type {\n",
       "        vertical-align: middle;\n",
       "    }\n",
       "\n",
       "    .dataframe tbody tr th {\n",
       "        vertical-align: top;\n",
       "    }\n",
       "\n",
       "    .dataframe thead th {\n",
       "        text-align: right;\n",
       "    }\n",
       "</style>\n",
       "<table border=\"1\" class=\"dataframe\">\n",
       "  <thead>\n",
       "    <tr style=\"text-align: right;\">\n",
       "      <th></th>\n",
       "      <th>tconst</th>\n",
       "      <th>category</th>\n",
       "      <th>primaryName</th>\n",
       "    </tr>\n",
       "  </thead>\n",
       "  <tbody>\n",
       "    <tr>\n",
       "      <th>0</th>\n",
       "      <td>tt0000001</td>\n",
       "      <td>self</td>\n",
       "      <td>Carmencita</td>\n",
       "    </tr>\n",
       "    <tr>\n",
       "      <th>1</th>\n",
       "      <td>tt7513040</td>\n",
       "      <td>archive_footage</td>\n",
       "      <td>Carmencita</td>\n",
       "    </tr>\n",
       "    <tr>\n",
       "      <th>2</th>\n",
       "      <td>tt0000001</td>\n",
       "      <td>director</td>\n",
       "      <td>William K.L. Dickson</td>\n",
       "    </tr>\n",
       "    <tr>\n",
       "      <th>3</th>\n",
       "      <td>tt0000005</td>\n",
       "      <td>director</td>\n",
       "      <td>William K.L. Dickson</td>\n",
       "    </tr>\n",
       "    <tr>\n",
       "      <th>4</th>\n",
       "      <td>tt0000006</td>\n",
       "      <td>director</td>\n",
       "      <td>William K.L. Dickson</td>\n",
       "    </tr>\n",
       "    <tr>\n",
       "      <th>...</th>\n",
       "      <td>...</td>\n",
       "      <td>...</td>\n",
       "      <td>...</td>\n",
       "    </tr>\n",
       "    <tr>\n",
       "      <th>47523910</th>\n",
       "      <td>tt9916856</td>\n",
       "      <td>actor</td>\n",
       "      <td>Andreas Demmel</td>\n",
       "    </tr>\n",
       "    <tr>\n",
       "      <th>47523911</th>\n",
       "      <td>tt9916856</td>\n",
       "      <td>actress</td>\n",
       "      <td>Kathrin Knöpfle</td>\n",
       "    </tr>\n",
       "    <tr>\n",
       "      <th>47523912</th>\n",
       "      <td>tt9916856</td>\n",
       "      <td>director</td>\n",
       "      <td>Johan Planefeldt</td>\n",
       "    </tr>\n",
       "    <tr>\n",
       "      <th>47523913</th>\n",
       "      <td>tt9916856</td>\n",
       "      <td>writer</td>\n",
       "      <td>Johan Planefeldt</td>\n",
       "    </tr>\n",
       "    <tr>\n",
       "      <th>47523914</th>\n",
       "      <td>tt9916856</td>\n",
       "      <td>composer</td>\n",
       "      <td>Farahnaz Hatam</td>\n",
       "    </tr>\n",
       "  </tbody>\n",
       "</table>\n",
       "<p>47523915 rows × 3 columns</p>\n",
       "</div>"
      ],
      "text/plain": [
       "             tconst         category           primaryName\n",
       "0         tt0000001             self            Carmencita\n",
       "1         tt7513040  archive_footage            Carmencita\n",
       "2         tt0000001         director  William K.L. Dickson\n",
       "3         tt0000005         director  William K.L. Dickson\n",
       "4         tt0000006         director  William K.L. Dickson\n",
       "...             ...              ...                   ...\n",
       "47523910  tt9916856            actor        Andreas Demmel\n",
       "47523911  tt9916856          actress       Kathrin Knöpfle\n",
       "47523912  tt9916856         director      Johan Planefeldt\n",
       "47523913  tt9916856           writer      Johan Planefeldt\n",
       "47523914  tt9916856         composer        Farahnaz Hatam\n",
       "\n",
       "[47523915 rows x 3 columns]"
      ]
     },
     "execution_count": 6,
     "metadata": {},
     "output_type": "execute_result"
    }
   ],
   "source": [
    "temp"
   ]
  },
  {
   "cell_type": "code",
   "execution_count": null,
   "metadata": {
    "colab": {
     "base_uri": "https://localhost:8080/"
    },
    "executionInfo": {
     "elapsed": 2083,
     "status": "ok",
     "timestamp": 1636981383526,
     "user": {
      "displayName": "dm project",
      "photoUrl": "https://lh3.googleusercontent.com/a/default-user=s64",
      "userId": "10716541108022634460"
     },
     "user_tz": -330
    },
    "id": "os4LfGT5Gau8",
    "outputId": "120fc336-25d0-4b9a-f161-690e3d74a77e"
   },
   "outputs": [
    {
     "data": {
      "text/plain": [
       "actor                  10698264\n",
       "self                    8270934\n",
       "actress                 8125831\n",
       "writer                  6349738\n",
       "director                5505085\n",
       "producer                3013187\n",
       "composer                1672690\n",
       "cinematographer         1671922\n",
       "editor                  1583450\n",
       "production_designer      333207\n",
       "archive_footage          296795\n",
       "archive_sound              2812\n",
       "Name: category, dtype: int64"
      ]
     },
     "execution_count": 7,
     "metadata": {},
     "output_type": "execute_result"
    }
   ],
   "source": [
    "temp['category'].value_counts()"
   ]
  },
  {
   "cell_type": "code",
   "execution_count": null,
   "metadata": {
    "colab": {
     "base_uri": "https://localhost:8080/"
    },
    "executionInfo": {
     "elapsed": 2014,
     "status": "ok",
     "timestamp": 1636981385532,
     "user": {
      "displayName": "dm project",
      "photoUrl": "https://lh3.googleusercontent.com/a/default-user=s64",
      "userId": "10716541108022634460"
     },
     "user_tz": -330
    },
    "id": "pJVT1kvfF1JF",
    "outputId": "6aa5de66-200c-4fd4-924b-1cc32f857ac4"
   },
   "outputs": [
    {
     "data": {
      "text/plain": [
       "array(['self', 'archive_footage', 'director', 'cinematographer', 'actor',\n",
       "       'producer', 'composer', 'editor', 'writer', 'actress',\n",
       "       'production_designer', 'archive_sound'], dtype=object)"
      ]
     },
     "execution_count": 8,
     "metadata": {},
     "output_type": "execute_result"
    }
   ],
   "source": [
    "temp.category.unique()"
   ]
  },
  {
   "cell_type": "code",
   "execution_count": null,
   "metadata": {
    "id": "h3HBOOZpj4Mz"
   },
   "outputs": [],
   "source": [
    "# Filtering data for different categories \n",
    "\n",
    "temp_actor=temp[(temp['category']=='actor')] \n",
    "temp_actress=temp[(temp['category']=='actress')]\n",
    "temp_director=temp[(temp['category']=='director')]\n",
    "temp_writer=temp[(temp['category']=='writer')]\n",
    "temp_composer=temp[(temp['category']=='composer')]\n",
    "temp_producer=temp[(temp['category']=='producer')] "
   ]
  },
  {
   "cell_type": "code",
   "execution_count": null,
   "metadata": {
    "id": "lRIG5_dAkNWY"
   },
   "outputs": [],
   "source": [
    "actor=temp_actor.groupby('tconst')['primaryName'].apply(list)\n",
    "actress=temp_actress.groupby('tconst')['primaryName'].apply(list)\n",
    "director=temp_director.groupby('tconst')['primaryName'].apply(list)\n",
    "writer=temp_writer.groupby('tconst')['primaryName'].apply(list)\n",
    "composer=temp_composer.groupby('tconst')['primaryName'].apply(list)\n",
    "producer=temp_producer.groupby('tconst')['primaryName'].apply(list)"
   ]
  },
  {
   "cell_type": "code",
   "execution_count": null,
   "metadata": {
    "colab": {
     "base_uri": "https://localhost:8080/"
    },
    "executionInfo": {
     "elapsed": 14,
     "status": "ok",
     "timestamp": 1636981968109,
     "user": {
      "displayName": "dm project",
      "photoUrl": "https://lh3.googleusercontent.com/a/default-user=s64",
      "userId": "10716541108022634460"
     },
     "user_tz": -330
    },
    "id": "ZHvy3JgIjuAp",
    "outputId": "b5ac64bc-4438-47ec-ae17-6851595322da"
   },
   "outputs": [
    {
     "data": {
      "text/plain": [
       "tconst\n",
       "tt0000005             [Charles Kayser, John Ott]\n",
       "tt0000007     [James J. Corbett, Peter Courtney]\n",
       "tt0000008                             [Fred Ott]\n",
       "tt0000009    [William Courtenay, Chauncey Depew]\n",
       "tt0000011                              [Grunato]\n",
       "                            ...                 \n",
       "tt9916848            [Onur Adiguzel, Anil Altan]\n",
       "tt9916850            [Onur Adiguzel, Anil Altan]\n",
       "tt9916852            [Onur Adiguzel, Anil Altan]\n",
       "tt9916856                       [Andreas Demmel]\n",
       "tt9916880           [Wayne Forester, Aidan Cook]\n",
       "Name: primaryName, Length: 4255946, dtype: object"
      ]
     },
     "execution_count": 11,
     "metadata": {},
     "output_type": "execute_result"
    }
   ],
   "source": [
    "actor"
   ]
  },
  {
   "cell_type": "code",
   "execution_count": null,
   "metadata": {
    "id": "oElsNVSDl0Ld"
   },
   "outputs": [],
   "source": [
    "for i in range(len(actor)):\n",
    "    actor[i]=list(set(actor[i]))\n",
    "\n",
    "for i in range(len(actress)):\n",
    "    actress[i]=list(set(actress[i]))\n",
    "\n",
    "for i in range(len(director)):\n",
    "    director[i]=list(set(director[i]))\n",
    "\n",
    "for i in range(len(writer)):\n",
    "    writer[i]=list(set(writer[i]))\n",
    "  \n",
    "for i in range(len(composer)):\n",
    "    composer[i]=list(set(composer[i]))\n",
    "\n",
    "for i in range(len(producer)):\n",
    "    producer[i]=list(set(producer[i]))"
   ]
  },
  {
   "cell_type": "code",
   "execution_count": null,
   "metadata": {
    "id": "Ki5kbDqonal7"
   },
   "outputs": [],
   "source": [
    "actor=pd.DataFrame(actor)\n",
    "actress=pd.DataFrame(actress)\n",
    "director=pd.DataFrame(director)\n",
    "writer=pd.DataFrame(writer)\n",
    "composer=pd.DataFrame(composer)\n",
    "producer=pd.DataFrame(producer)"
   ]
  },
  {
   "cell_type": "code",
   "execution_count": null,
   "metadata": {
    "id": "DhiA8WFzng2X"
   },
   "outputs": [],
   "source": [
    "actor.rename(columns={'primaryName':'Actors'},inplace=True)\n",
    "actress.rename(columns={'primaryName':'Actress'},inplace=True)\n",
    "director.rename(columns={'primaryName':'Director'},inplace=True)\n",
    "writer.rename(columns={'primaryName':'Writer'},inplace=True)\n",
    "composer.rename(columns={'primaryName':'Composer'},inplace=True)\n",
    "producer.rename(columns={'primaryName':'Producer'},inplace=True)"
   ]
  },
  {
   "cell_type": "markdown",
   "metadata": {
    "id": "89QAR_F7iHog"
   },
   "source": [
    "Saving this data for future use."
   ]
  },
  {
   "cell_type": "code",
   "execution_count": null,
   "metadata": {
    "id": "TTuYSHBM7IXV"
   },
   "outputs": [],
   "source": [
    "actor.to_csv('Dataset/Actors.csv')"
   ]
  },
  {
   "cell_type": "code",
   "execution_count": null,
   "metadata": {
    "id": "kBuvcl737lL1"
   },
   "outputs": [],
   "source": [
    "actress.to_csv('Dataset/Actress.csv')"
   ]
  },
  {
   "cell_type": "code",
   "execution_count": null,
   "metadata": {
    "id": "On2eR2hN7tJV"
   },
   "outputs": [],
   "source": [
    "director.to_csv('Dataset/Directors.csv')"
   ]
  },
  {
   "cell_type": "code",
   "execution_count": null,
   "metadata": {
    "id": "Z6XzxE0l72vc"
   },
   "outputs": [],
   "source": [
    "writer.to_csv('Dataset/Writers.csv')"
   ]
  },
  {
   "cell_type": "code",
   "execution_count": null,
   "metadata": {
    "id": "5-g-mNkb76ea"
   },
   "outputs": [],
   "source": [
    "composer.to_csv('Dataset/Composers.csv')"
   ]
  },
  {
   "cell_type": "code",
   "execution_count": null,
   "metadata": {
    "id": "IMIzcqGg7_wJ"
   },
   "outputs": [],
   "source": [
    "producer.to_csv('Dataset/Producers.csv')"
   ]
  }
 ],
 "metadata": {
  "colab": {
   "authorship_tag": "ABX9TyONRFw7mlF1ou1PfNLejkyR",
   "collapsed_sections": [],
   "name": "Preprocess4.ipynb",
   "provenance": []
  },
  "kernelspec": {
   "display_name": "Python 3 (ipykernel)",
   "language": "python",
   "name": "python3"
  },
  "language_info": {
   "codemirror_mode": {
    "name": "ipython",
    "version": 3
   },
   "file_extension": ".py",
   "mimetype": "text/x-python",
   "name": "python",
   "nbconvert_exporter": "python",
   "pygments_lexer": "ipython3",
   "version": "3.9.6"
  }
 },
 "nbformat": 4,
 "nbformat_minor": 1
}
